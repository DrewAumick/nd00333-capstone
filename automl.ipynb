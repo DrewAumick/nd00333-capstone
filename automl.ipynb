{
  "cells": [
    {
      "cell_type": "markdown",
      "source": [
        "# Automated ML"
      ],
      "metadata": {}
    },
    {
      "cell_type": "markdown",
      "source": [
        "Import dependencies"
      ],
      "metadata": {
        "nteract": {
          "transient": {
            "deleting": false
          }
        }
      }
    },
    {
      "cell_type": "code",
      "source": [
        "from azureml.core.workspace import Workspace\n",
        "from azureml.core import Experiment, Model, Webservice\n",
        "from azureml.widgets import RunDetails\n",
        "from azureml.train.automl import AutoMLConfig\n",
        "from azureml.core.compute import ComputeTarget, AmlCompute\n",
        "from azureml.core.compute_target import ComputeTargetException\n",
        "\n",
        "import data_prep"
      ],
      "outputs": [],
      "execution_count": 1,
      "metadata": {
        "collapsed": false,
        "gather": {
          "logged": 1605195670312
        },
        "jupyter": {
          "outputs_hidden": false,
          "source_hidden": false
        },
        "nteract": {
          "transient": {
            "deleting": false
          }
        }
      }
    },
    {
      "cell_type": "markdown",
      "source": [
        "## Dataset\n",
        "\n",
        "### Overview\n",
        "TODO: In this markdown cell, give an overview of the dataset you are using. Also mention the task you will be performing.\n",
        "\n",
        "\n",
        "TODO: Get data. In the cell below, write code to access the data you will be using in this project. Remember that the dataset needs to be external."
      ],
      "metadata": {}
    },
    {
      "cell_type": "code",
      "source": [
        "ws = Workspace.from_config()\n",
        "experiment_name = 'ddos_automl_experiment'\n",
        "\n",
        "experiment=Experiment(ws, experiment_name)\n",
        "\n",
        "dataset = data_prep.get_DDoS_dataset(ws, key=\"DDoS Dataset\")"
      ],
      "outputs": [],
      "execution_count": 2,
      "metadata": {
        "collapsed": false,
        "gather": {
          "logged": 1605195670986
        },
        "jupyter": {
          "outputs_hidden": false,
          "source_hidden": false
        },
        "nteract": {
          "transient": {
            "deleting": false
          }
        }
      }
    },
    {
      "cell_type": "markdown",
      "source": [
        "## Find or Create Compute Cluster"
      ],
      "metadata": {}
    },
    {
      "cell_type": "code",
      "source": [
        "cpu_cluster_name = \"cpu-cluster\"\n",
        "\n",
        "# Check if the cluster exists. If there is an error, create the cluster\n",
        "try:\n",
        "    cpu_cluster = ComputeTarget(workspace=ws, name=cpu_cluster_name)\n",
        "    print('Found existing cluster, use it.')\n",
        "except ComputeTargetException:\n",
        "    compute_config = AmlCompute.provisioning_configuration(vm_size='STANDARD_D2_V2',\n",
        "                                                            max_nodes=10)\n",
        "    cpu_cluster = ComputeTarget.create(ws, cpu_cluster_name, compute_config)\n",
        "    \n",
        "\n",
        "cpu_cluster.wait_for_completion(show_output=True)"
      ],
      "outputs": [
        {
          "output_type": "stream",
          "name": "stdout",
          "text": [
            "Found existing cluster, use it.\n",
            "Succeeded\n",
            "AmlCompute wait for completion finished\n",
            "\n",
            "Minimum number of nodes requested have been provisioned\n"
          ]
        }
      ],
      "execution_count": 3,
      "metadata": {
        "collapsed": false,
        "gather": {
          "logged": 1605195676717
        },
        "jupyter": {
          "outputs_hidden": false,
          "source_hidden": false
        },
        "nteract": {
          "transient": {
            "deleting": false
          }
        }
      }
    },
    {
      "cell_type": "markdown",
      "source": [
        "## AutoML Configuration\n",
        "\n",
        "TODO: Explain why you chose the automl settings and cofiguration you used below."
      ],
      "metadata": {}
    },
    {
      "cell_type": "code",
      "source": [
        "automl_settings =  {\n",
        "    \"experiment_timeout_minutes\": 30,\n",
        "    \"max_concurrent_iterations\": 5,\n",
        "    \"primary_metric\" : 'accuracy',\n",
        "    \"n_cross_validations\": 3,\n",
        "    \"enable_early_stopping\": True,\n",
        "    \"featurization\": 'auto'\n",
        "}\n",
        "\n",
        "automl_config = AutoMLConfig(\n",
        "                    task=\"classification\",\n",
        "                    training_data=dataset,\n",
        "                    label_column_name=\"Label\",\n",
        "                    compute_target=cpu_cluster,\n",
        "                    **automl_settings)"
      ],
      "outputs": [],
      "execution_count": 4,
      "metadata": {
        "collapsed": false,
        "gather": {
          "logged": 1605195680893
        },
        "jupyter": {
          "outputs_hidden": false,
          "source_hidden": false
        },
        "nteract": {
          "transient": {
            "deleting": false
          }
        }
      }
    },
    {
      "cell_type": "code",
      "source": [
        "automl_run = experiment.submit(automl_config)"
      ],
      "outputs": [
        {
          "output_type": "stream",
          "name": "stdout",
          "text": [
            "Running on remote.\n"
          ]
        }
      ],
      "execution_count": 5,
      "metadata": {
        "collapsed": false,
        "gather": {
          "logged": 1605195692782
        },
        "jupyter": {
          "outputs_hidden": false,
          "source_hidden": false
        },
        "nteract": {
          "transient": {
            "deleting": false
          }
        }
      }
    },
    {
      "cell_type": "markdown",
      "source": [
        "## Run Details\n",
        "\n",
        "OPTIONAL: Write about the different models trained and their performance. Why do you think some models did better than others?\n",
        "\n",
        "TODO: In the cell below, use the `RunDetails` widget to show the different experiments."
      ],
      "metadata": {}
    },
    {
      "cell_type": "code",
      "source": [
        "RunDetails(automl_run).show()"
      ],
      "outputs": [
        {
          "output_type": "display_data",
          "data": {
            "text/plain": "_AutoMLWidget(widget_settings={'childWidgetDisplay': 'popup', 'send_telemetry': False, 'log_level': 'INFO', 's…",
            "application/vnd.jupyter.widget-view+json": {
              "version_major": 2,
              "version_minor": 0,
              "model_id": "096d206a42694479a6db4e682043995d"
            }
          },
          "metadata": {}
        },
        {
          "output_type": "display_data",
          "data": {
            "application/aml.mini.widget.v1": "{\"status\": \"Completed\", \"workbench_run_details_uri\": \"https://ml.azure.com/experiments/ddos_automl_experiment/runs/AutoML_d5dc6914-09aa-4233-a9ad-8766c76c3119?wsid=/subscriptions/55e71b9d-a209-42c0-8818-ca9cc885909c/resourcegroups/aml-quickstarts-125802/workspaces/quick-starts-ws-125802\", \"run_id\": \"AutoML_d5dc6914-09aa-4233-a9ad-8766c76c3119\", \"run_properties\": {\"run_id\": \"AutoML_d5dc6914-09aa-4233-a9ad-8766c76c3119\", \"created_utc\": \"2020-11-12T15:41:31.472326Z\", \"properties\": {\"num_iterations\": \"1000\", \"training_type\": \"TrainFull\", \"acquisition_function\": \"EI\", \"primary_metric\": \"accuracy\", \"train_split\": \"0\", \"acquisition_parameter\": \"0\", \"num_cross_validation\": \"3\", \"target\": \"cpu-cluster\", \"AMLSettingsJsonString\": \"{\\\"path\\\":null,\\\"name\\\":\\\"ddos_automl_experiment\\\",\\\"subscription_id\\\":\\\"55e71b9d-a209-42c0-8818-ca9cc885909c\\\",\\\"resource_group\\\":\\\"aml-quickstarts-125802\\\",\\\"workspace_name\\\":\\\"quick-starts-ws-125802\\\",\\\"region\\\":\\\"southcentralus\\\",\\\"compute_target\\\":\\\"cpu-cluster\\\",\\\"spark_service\\\":null,\\\"azure_service\\\":\\\"remote\\\",\\\"_local_managed_run_id\\\":null,\\\"many_models\\\":false,\\\"pipeline_fetch_max_batch_size\\\":1,\\\"iterations\\\":1000,\\\"primary_metric\\\":\\\"accuracy\\\",\\\"task_type\\\":\\\"classification\\\",\\\"data_script\\\":null,\\\"validation_size\\\":0.0,\\\"n_cross_validations\\\":3,\\\"y_min\\\":null,\\\"y_max\\\":null,\\\"num_classes\\\":null,\\\"featurization\\\":\\\"auto\\\",\\\"_ignore_package_version_incompatibilities\\\":false,\\\"is_timeseries\\\":false,\\\"max_cores_per_iteration\\\":1,\\\"max_concurrent_iterations\\\":5,\\\"iteration_timeout_minutes\\\":null,\\\"mem_in_mb\\\":null,\\\"enforce_time_on_windows\\\":false,\\\"experiment_timeout_minutes\\\":30,\\\"experiment_exit_score\\\":null,\\\"whitelist_models\\\":null,\\\"blacklist_algos\\\":[\\\"TensorFlowLinearClassifier\\\",\\\"TensorFlowDNN\\\"],\\\"supported_models\\\":[\\\"LogisticRegression\\\",\\\"LightGBM\\\",\\\"ExtremeRandomTrees\\\",\\\"GradientBoosting\\\",\\\"XGBoostClassifier\\\",\\\"KNN\\\",\\\"MultinomialNaiveBayes\\\",\\\"BernoulliNaiveBayes\\\",\\\"AveragedPerceptronClassifier\\\",\\\"RandomForest\\\",\\\"DecisionTree\\\",\\\"TensorFlowDNN\\\",\\\"LinearSVM\\\",\\\"SVM\\\",\\\"SGD\\\",\\\"TensorFlowLinearClassifier\\\"],\\\"auto_blacklist\\\":true,\\\"blacklist_samples_reached\\\":false,\\\"exclude_nan_labels\\\":true,\\\"verbosity\\\":20,\\\"_debug_log\\\":\\\"azureml_automl.log\\\",\\\"show_warnings\\\":false,\\\"model_explainability\\\":true,\\\"service_url\\\":null,\\\"sdk_url\\\":null,\\\"sdk_packages\\\":null,\\\"enable_onnx_compatible_models\\\":false,\\\"enable_split_onnx_featurizer_estimator_models\\\":false,\\\"vm_type\\\":\\\"STANDARD_D4S_V3\\\",\\\"telemetry_verbosity\\\":20,\\\"send_telemetry\\\":true,\\\"enable_dnn\\\":false,\\\"force_text_dnn\\\":false,\\\"enable_feature_sweeping\\\":true,\\\"enable_early_stopping\\\":true,\\\"early_stopping_n_iters\\\":10,\\\"metrics\\\":null,\\\"enable_ensembling\\\":true,\\\"enable_stack_ensembling\\\":true,\\\"ensemble_iterations\\\":15,\\\"enable_tf\\\":false,\\\"enable_subsampling\\\":null,\\\"subsample_seed\\\":null,\\\"enable_nimbusml\\\":false,\\\"enable_streaming\\\":false,\\\"force_streaming\\\":false,\\\"track_child_runs\\\":true,\\\"allowed_private_models\\\":[],\\\"label_column_name\\\":\\\"Label\\\",\\\"weight_column_name\\\":null,\\\"cv_split_column_names\\\":null,\\\"enable_local_managed\\\":false,\\\"cost_mode\\\":1,\\\"lag_length\\\":0,\\\"metric_operation\\\":\\\"maximize\\\",\\\"preprocess\\\":true,\\\"scenario\\\":\\\"SDK-1.13.0\\\"}\", \"DataPrepJsonString\": \"{\\\\\\\"training_data\\\\\\\": \\\\\\\"{\\\\\\\\\\\\\\\"blocks\\\\\\\\\\\\\\\": [{\\\\\\\\\\\\\\\"id\\\\\\\\\\\\\\\": \\\\\\\\\\\\\\\"b845a460-d8b5-422e-a14e-2fe9e7d18c3b\\\\\\\\\\\\\\\", \\\\\\\\\\\\\\\"type\\\\\\\\\\\\\\\": \\\\\\\\\\\\\\\"Microsoft.DPrep.GetDatastoreFilesBlock\\\\\\\\\\\\\\\", \\\\\\\\\\\\\\\"arguments\\\\\\\\\\\\\\\": {\\\\\\\\\\\\\\\"datastores\\\\\\\\\\\\\\\": [{\\\\\\\\\\\\\\\"datastoreName\\\\\\\\\\\\\\\": \\\\\\\\\\\\\\\"workspaceblobstore\\\\\\\\\\\\\\\", \\\\\\\\\\\\\\\"path\\\\\\\\\\\\\\\": \\\\\\\\\\\\\\\"managed-dataset/3df97253-f972-477d-821f-0f4da8c2ab36/\\\\\\\\\\\\\\\", \\\\\\\\\\\\\\\"resourceGroup\\\\\\\\\\\\\\\": \\\\\\\\\\\\\\\"aml-quickstarts-125802\\\\\\\\\\\\\\\", \\\\\\\\\\\\\\\"subscription\\\\\\\\\\\\\\\": \\\\\\\\\\\\\\\"55e71b9d-a209-42c0-8818-ca9cc885909c\\\\\\\\\\\\\\\", \\\\\\\\\\\\\\\"workspaceName\\\\\\\\\\\\\\\": \\\\\\\\\\\\\\\"quick-starts-ws-125802\\\\\\\\\\\\\\\"}]}, \\\\\\\\\\\\\\\"localData\\\\\\\\\\\\\\\": {}, \\\\\\\\\\\\\\\"isEnabled\\\\\\\\\\\\\\\": true, \\\\\\\\\\\\\\\"name\\\\\\\\\\\\\\\": null, \\\\\\\\\\\\\\\"annotation\\\\\\\\\\\\\\\": null}, {\\\\\\\\\\\\\\\"id\\\\\\\\\\\\\\\": \\\\\\\\\\\\\\\"9c2bd420-51ab-4a98-8087-4789e44b0dfe\\\\\\\\\\\\\\\", \\\\\\\\\\\\\\\"type\\\\\\\\\\\\\\\": \\\\\\\\\\\\\\\"Microsoft.DPrep.ReadParquetFileBlock\\\\\\\\\\\\\\\", \\\\\\\\\\\\\\\"arguments\\\\\\\\\\\\\\\": {\\\\\\\\\\\\\\\"preview\\\\\\\\\\\\\\\": false}, \\\\\\\\\\\\\\\"localData\\\\\\\\\\\\\\\": {}, \\\\\\\\\\\\\\\"isEnabled\\\\\\\\\\\\\\\": true, \\\\\\\\\\\\\\\"name\\\\\\\\\\\\\\\": null, \\\\\\\\\\\\\\\"annotation\\\\\\\\\\\\\\\": null}, {\\\\\\\\\\\\\\\"id\\\\\\\\\\\\\\\": \\\\\\\\\\\\\\\"2a14719f-032c-4ddf-beb1-5783b409ef5c\\\\\\\\\\\\\\\", \\\\\\\\\\\\\\\"type\\\\\\\\\\\\\\\": \\\\\\\\\\\\\\\"Microsoft.DPrep.DropColumnsBlock\\\\\\\\\\\\\\\", \\\\\\\\\\\\\\\"arguments\\\\\\\\\\\\\\\": {\\\\\\\\\\\\\\\"columns\\\\\\\\\\\\\\\": {\\\\\\\\\\\\\\\"type\\\\\\\\\\\\\\\": 0, \\\\\\\\\\\\\\\"details\\\\\\\\\\\\\\\": {\\\\\\\\\\\\\\\"selectedColumns\\\\\\\\\\\\\\\": [\\\\\\\\\\\\\\\"Path\\\\\\\\\\\\\\\"]}}}, \\\\\\\\\\\\\\\"localData\\\\\\\\\\\\\\\": {}, \\\\\\\\\\\\\\\"isEnabled\\\\\\\\\\\\\\\": true, \\\\\\\\\\\\\\\"name\\\\\\\\\\\\\\\": null, \\\\\\\\\\\\\\\"annotation\\\\\\\\\\\\\\\": null}], \\\\\\\\\\\\\\\"inspectors\\\\\\\\\\\\\\\": [], \\\\\\\\\\\\\\\"meta\\\\\\\\\\\\\\\": {\\\\\\\\\\\\\\\"savedDatasetId\\\\\\\\\\\\\\\": \\\\\\\\\\\\\\\"1a2ae717-cccc-49dc-b9f1-e66fd219ef11\\\\\\\\\\\\\\\", \\\\\\\\\\\\\\\"datasetType\\\\\\\\\\\\\\\": \\\\\\\\\\\\\\\"tabular\\\\\\\\\\\\\\\", \\\\\\\\\\\\\\\"subscriptionId\\\\\\\\\\\\\\\": \\\\\\\\\\\\\\\"55e71b9d-a209-42c0-8818-ca9cc885909c\\\\\\\\\\\\\\\", \\\\\\\\\\\\\\\"workspaceId\\\\\\\\\\\\\\\": \\\\\\\\\\\\\\\"484582b4-9f34-4a16-ad96-5088ecc945c5\\\\\\\\\\\\\\\", \\\\\\\\\\\\\\\"workspaceLocation\\\\\\\\\\\\\\\": \\\\\\\\\\\\\\\"southcentralus\\\\\\\\\\\\\\\"}}\\\\\\\", \\\\\\\"activities\\\\\\\": 0}\", \"EnableSubsampling\": null, \"runTemplate\": \"AutoML\", \"azureml.runsource\": \"automl\", \"display_task_type\": \"classification\", \"dependencies_versions\": \"{\\\"azureml-widgets\\\": \\\"1.17.0\\\", \\\"azureml-train\\\": \\\"1.17.0\\\", \\\"azureml-train-restclients-hyperdrive\\\": \\\"1.17.0\\\", \\\"azureml-train-core\\\": \\\"1.17.0\\\", \\\"azureml-train-automl\\\": \\\"1.17.0\\\", \\\"azureml-train-automl-runtime\\\": \\\"1.17.0\\\", \\\"azureml-train-automl-client\\\": \\\"1.17.0\\\", \\\"azureml-tensorboard\\\": \\\"1.17.0\\\", \\\"azureml-telemetry\\\": \\\"1.17.0\\\", \\\"azureml-sdk\\\": \\\"1.17.0\\\", \\\"azureml-samples\\\": \\\"0+unknown\\\", \\\"azureml-pipeline\\\": \\\"1.17.0\\\", \\\"azureml-pipeline-steps\\\": \\\"1.17.0\\\", \\\"azureml-pipeline-core\\\": \\\"1.17.0\\\", \\\"azureml-opendatasets\\\": \\\"1.17.0\\\", \\\"azureml-model-management-sdk\\\": \\\"1.0.1b6.post1\\\", \\\"azureml-mlflow\\\": \\\"1.17.0.post1\\\", \\\"azureml-interpret\\\": \\\"1.17.0\\\", \\\"azureml-explain-model\\\": \\\"1.17.0\\\", \\\"azureml-defaults\\\": \\\"1.17.0\\\", \\\"azureml-dataset-runtime\\\": \\\"1.17.0\\\", \\\"azureml-dataprep\\\": \\\"2.4.2\\\", \\\"azureml-dataprep-rslex\\\": \\\"1.2.2\\\", \\\"azureml-dataprep-native\\\": \\\"24.0.0\\\", \\\"azureml-datadrift\\\": \\\"1.17.0\\\", \\\"azureml-core\\\": \\\"1.17.0\\\", \\\"azureml-contrib-services\\\": \\\"1.17.0\\\", \\\"azureml-contrib-server\\\": \\\"1.17.0\\\", \\\"azureml-contrib-reinforcementlearning\\\": \\\"1.17.0\\\", \\\"azureml-contrib-pipeline-steps\\\": \\\"1.17.0\\\", \\\"azureml-contrib-notebook\\\": \\\"1.17.0\\\", \\\"azureml-contrib-interpret\\\": \\\"1.17.0\\\", \\\"azureml-contrib-gbdt\\\": \\\"1.17.0\\\", \\\"azureml-contrib-fairness\\\": \\\"1.17.0\\\", \\\"azureml-contrib-dataset\\\": \\\"1.17.0\\\", \\\"azureml-cli-common\\\": \\\"1.17.0\\\", \\\"azureml-automl-runtime\\\": \\\"1.17.0\\\", \\\"azureml-automl-core\\\": \\\"1.17.0\\\", \\\"azureml-accel-models\\\": \\\"1.17.0\\\"}\", \"_aml_system_scenario_identification\": \"Remote.Parent\", \"ClientType\": \"SDK\", \"environment_cpu_name\": \"AzureML-AutoML\", \"environment_cpu_version\": \"44\", \"environment_gpu_name\": \"AzureML-AutoML-GPU\", \"environment_gpu_version\": \"32\", \"root_attribution\": \"automl\", \"attribution\": \"AutoML\", \"Orchestrator\": \"AutoML\", \"CancelUri\": \"https://southcentralus.experiments.azureml.net/jasmine/v1.0/subscriptions/55e71b9d-a209-42c0-8818-ca9cc885909c/resourceGroups/aml-quickstarts-125802/providers/Microsoft.MachineLearningServices/workspaces/quick-starts-ws-125802/experimentids/482d909c-5c92-4c0d-ae1a-c774366fc115/cancel/AutoML_d5dc6914-09aa-4233-a9ad-8766c76c3119\", \"ClientSdkVersion\": \"1.17.0\", \"snapshotId\": \"00000000-0000-0000-0000-000000000000\", \"SetupRunId\": \"AutoML_d5dc6914-09aa-4233-a9ad-8766c76c3119_setup\", \"SetupRunContainerId\": \"dcid.AutoML_d5dc6914-09aa-4233-a9ad-8766c76c3119_setup\", \"FeaturizationRunJsonPath\": \"featurizer_container.json\", \"FeaturizationRunId\": \"AutoML_d5dc6914-09aa-4233-a9ad-8766c76c3119_featurize\", \"ProblemInfoJsonString\": \"{\\\"dataset_num_categorical\\\": 0, \\\"is_sparse\\\": true, \\\"subsampling\\\": false, \\\"dataset_classes\\\": 2, \\\"dataset_features\\\": 4193, \\\"dataset_samples\\\": 63973, \\\"single_frequency_class_detected\\\": false}\", \"ModelExplainRunId\": \"AutoML_d5dc6914-09aa-4233-a9ad-8766c76c3119_ModelExplain\"}, \"tags\": {\"model_explain_run\": \"best_run\", \"_aml_system_azureml.automlComponent\": \"AutoML\", \"pipeline_id\": \"<cf1dc9b7ea4a50d759bce352343ec6737501695a>;<5dfac790c5c209f98a1da2dc1c7fb76f0397324f>;<c7af0367625be6ac5c2fecbfc72ed444cb7a2111>;<b19eeb61727e9c4fbb5aa45fb6e9fe3fab5b1f04>;<a2983da01504b121cc4056d933a1191b51be87bc>;<a91f8b94ae9bf0dfc66e93d29d1ef41b7e2687f2>;<8de8c085d2a4b23d3f4cc392a2f2660d23d38c14>;<4d4be808b8b6dd0f67e8354c79eddd3d712440a5>;<d8d1a28b70a271fc16185d8e06b7faeee4bdd817>;<9845a0ba1345a7474c237d10111bcf5bccbb1f0e>;<a46f07e9cf1dae9ec3b2fdcf78cb704449fd20f0>;<88020d40ee6411fc9ee70b4e0a06e3d99c9d81fb>;<ce2643edf3d450b10c86c7d034a9bc952dc282d3>;<121c9f60849e027dd2ce3aec439c7d7cc3b62e91>;<01bc9a5355dd06c39d90cdc54976e897495a3534>;<7e6d29ac12f87df549568aa4d87b909e180e45bc>;<22ff711585f7d612cb5545b13e4f726a7baea08b>;<51ae05309834b29f71340af1008fc94fbd8213f4>;<19ffa0b5813a11fb58f0307c4b67f7c2427d4abe>;<ac4103f4d2e0e57400347bfffbf68939e1e8d524>;<5685b6318cbe00791c8058af72af6c015a77ff19>;<bc9206626b500d75953081471497ef8df99a5b5f>;<bc0989d1356b218fe39847ffebc1d90a7288aa90>;<__AutoML_Stack_Ensemble__>;<__AutoML_Ensemble__>;\", \"score\": \"<0.9369112490524687>;<0.9999531052162401>;<0.9999687370551698>;<0.9209987487931598>;<0.9994997906836293>;<0.9995935795181201>;<0.9895268782964762>;<0.9944976528051654>;<0.9947164970841214>;<0.9314866674158221>;<0.9995623165732899>;<0.9995154210565013>;<0.7868613151313489>;<0.9133853197350629>;<0.8513283859754294>;<0.9997498935092427>;<0.9752392682935948>;<0.989261026347327>;<NaN>;<NaN>;<NaN>;<NaN>;<NaN>;<0.9999531044832114>;<0.9999843681610705>;\", \"predicted_cost\": \"<0.5>;<0>;<0>;<0.5>;<0.5>;<0.377485>;<0.377485>;<0.377485>;<0.4101288334994077>;<0.37775155010685196>;<0.32441462694260653>;<0.3267348780251295>;<0.7834684575325739>;<1.0225573787309727>;<1.2173190658812587>;<0.27417044825661235>;<1.1522424034992145>;<0.849786515945211>;<0.9011114742343912>;<0.7903626550862538>;<1.2335955935054104>;<0.30699581221345884>;<1.058552123466934>;<0>;<0>;\", \"fit_time\": \"<0.377485>;<2.7448176666666666>;<14.382624333333332>;<0.4495923333333333>;<0.2749786666666667>;<0.4217516666666666>;<1.7802383333333334>;<3.1672143333333334>;<2.838748333333333>;<3.345879666666667>;<0.24860866666666667>;<0.21470166666666665>;<0.27417033333333335>;<2.2240153333333335>;<0.44440100000000005>;<0.366576>;<1.6328533333333333>;<2.4710846666666666>;<NaN>;<NaN>;<NaN>;<NaN>;<NaN>;<52>;<36>;\", \"training_percent\": \"<100>;<100>;<100>;<100>;<100>;<100>;<100>;<100>;<100>;<100>;<100>;<100>;<100>;<100>;<100>;<100>;<100>;<100>;<100>;<100>;<100>;<100>;<100>;<100>;<100>;\", \"iteration\": \"<2>;<0>;<1>;<3>;<4>;<5>;<6>;<7>;<8>;<9>;<10>;<11>;<12>;<13>;<14>;<15>;<16>;<17>;<20>;<21>;<22>;<19>;<18>;<24>;<23>;\", \"run_preprocessor\": \"<MaxAbsScaler>;<MaxAbsScaler>;<MaxAbsScaler>;<MaxAbsScaler>;<MaxAbsScaler>;<MaxAbsScaler>;<MaxAbsScaler>;<MaxAbsScaler>;<MaxAbsScaler>;<MaxAbsScaler>;<MaxAbsScaler>;<MaxAbsScaler>;<MaxAbsScaler>;<StandardScalerWrapper>;<MaxAbsScaler>;<MaxAbsScaler>;<MaxAbsScaler>;<MaxAbsScaler>;<>;<>;<>;<>;<SparseNormalizer>;<>;<>;\", \"run_algorithm\": \"<RandomForest>;<LightGBM>;<XGBoostClassifier>;<RandomForest>;<SGD>;<SGD>;<ExtremeRandomTrees>;<ExtremeRandomTrees>;<ExtremeRandomTrees>;<ExtremeRandomTrees>;<SGD>;<SGD>;<RandomForest>;<ExtremeRandomTrees>;<RandomForest>;<SGD>;<RandomForest>;<ExtremeRandomTrees>;<>;<>;<>;<>;<ExtremeRandomTrees>;<StackEnsemble>;<VotingEnsemble>;\", \"automl_best_child_run_id\": \"AutoML_d5dc6914-09aa-4233-a9ad-8766c76c3119_23\"}, \"end_time_utc\": \"2020-11-12T16:29:12.423873Z\", \"status\": \"Completed\", \"log_files\": {}, \"log_groups\": [], \"run_duration\": \"0:47:40\"}, \"child_runs\": [{\"run_id\": \"AutoML_d5dc6914-09aa-4233-a9ad-8766c76c3119_0\", \"run_number\": 7, \"metric\": null, \"status\": \"Completed\", \"run_type\": \"azureml.scriptrun\", \"training_percent\": \"100\", \"start_time\": \"2020-11-12T15:52:45.084731Z\", \"end_time\": \"2020-11-12T15:53:48.014113Z\", \"created_time\": \"2020-11-12T15:51:04.773423Z\", \"created_time_dt\": \"2020-11-12T15:51:04.773423Z\", \"duration\": \"0:02:43\", \"iteration\": \"0\", \"goal\": \"accuracy_max\", \"run_name\": \"MaxAbsScaler, LightGBM\", \"run_properties\": \"copy=True\", \"primary_metric\": 0.99995311, \"best_metric\": 0.99995311}, {\"run_id\": \"AutoML_d5dc6914-09aa-4233-a9ad-8766c76c3119_1\", \"run_number\": 8, \"metric\": null, \"status\": \"Completed\", \"run_type\": \"azureml.scriptrun\", \"training_percent\": \"100\", \"start_time\": \"2020-11-12T15:54:14.613872Z\", \"end_time\": \"2020-11-12T15:56:00.16294Z\", \"created_time\": \"2020-11-12T15:51:04.790564Z\", \"created_time_dt\": \"2020-11-12T15:51:04.790564Z\", \"duration\": \"0:04:55\", \"iteration\": \"1\", \"goal\": \"accuracy_max\", \"run_name\": \"MaxAbsScaler, XGBoostClassifier\", \"run_properties\": \"copy=True\", \"primary_metric\": 0.99996874, \"best_metric\": 0.99996874}, {\"run_id\": \"AutoML_d5dc6914-09aa-4233-a9ad-8766c76c3119_3\", \"run_number\": 9, \"metric\": null, \"status\": \"Completed\", \"run_type\": \"azureml.scriptrun\", \"training_percent\": \"100\", \"start_time\": \"2020-11-12T15:56:25.606685Z\", \"end_time\": \"2020-11-12T15:57:10.240681Z\", \"created_time\": \"2020-11-12T15:51:04.800539Z\", \"created_time_dt\": \"2020-11-12T15:51:04.800539Z\", \"duration\": \"0:06:05\", \"iteration\": \"3\", \"goal\": \"accuracy_max\", \"run_name\": \"MaxAbsScaler, RandomForest\", \"run_properties\": \"copy=True\", \"primary_metric\": 0.92099875, \"best_metric\": 0.99996874}, {\"run_id\": \"AutoML_d5dc6914-09aa-4233-a9ad-8766c76c3119_4\", \"run_number\": 10, \"metric\": null, \"status\": \"Completed\", \"run_type\": \"azureml.scriptrun\", \"training_percent\": \"100\", \"start_time\": \"2020-11-12T15:57:40.218447Z\", \"end_time\": \"2020-11-12T15:58:22.156815Z\", \"created_time\": \"2020-11-12T15:51:04.810604Z\", \"created_time_dt\": \"2020-11-12T15:51:04.810604Z\", \"duration\": \"0:07:17\", \"iteration\": \"4\", \"goal\": \"accuracy_max\", \"run_name\": \"MaxAbsScaler, SGD\", \"run_properties\": \"copy=True\", \"primary_metric\": 0.99949979, \"best_metric\": 0.99996874}, {\"run_id\": \"AutoML_d5dc6914-09aa-4233-a9ad-8766c76c3119_2\", \"run_number\": 11, \"metric\": null, \"status\": \"Completed\", \"run_type\": \"azureml.scriptrun\", \"training_percent\": \"100\", \"start_time\": \"2020-11-12T15:51:28.975782Z\", \"end_time\": \"2020-11-12T15:52:23.227354Z\", \"created_time\": \"2020-11-12T15:51:04.807885Z\", \"created_time_dt\": \"2020-11-12T15:51:04.807885Z\", \"duration\": \"0:01:18\", \"iteration\": \"2\", \"goal\": \"accuracy_max\", \"run_name\": \"MaxAbsScaler, RandomForest\", \"run_properties\": \"copy=True\", \"primary_metric\": 0.93691125, \"best_metric\": 0.99996874}, {\"run_id\": \"AutoML_d5dc6914-09aa-4233-a9ad-8766c76c3119_5\", \"run_number\": 12, \"metric\": null, \"status\": \"Completed\", \"run_type\": \"azureml.scriptrun\", \"training_percent\": \"100\", \"start_time\": \"2020-11-12T15:58:48.450178Z\", \"end_time\": \"2020-11-12T15:59:37.197759Z\", \"created_time\": \"2020-11-12T15:52:35.183003Z\", \"created_time_dt\": \"2020-11-12T15:52:35.183003Z\", \"duration\": \"0:07:02\", \"iteration\": \"5\", \"goal\": \"accuracy_max\", \"run_name\": \"MaxAbsScaler, SGD\", \"run_properties\": \"copy=True\", \"primary_metric\": 0.99959358, \"best_metric\": 0.99996874}, {\"run_id\": \"AutoML_d5dc6914-09aa-4233-a9ad-8766c76c3119_6\", \"run_number\": 13, \"metric\": null, \"status\": \"Completed\", \"run_type\": \"azureml.scriptrun\", \"training_percent\": \"100\", \"start_time\": \"2020-11-12T16:00:06.710888Z\", \"end_time\": \"2020-11-12T16:00:54.375905Z\", \"created_time\": \"2020-11-12T15:53:54.699114Z\", \"created_time_dt\": \"2020-11-12T15:53:54.699114Z\", \"duration\": \"0:06:59\", \"iteration\": \"6\", \"goal\": \"accuracy_max\", \"run_name\": \"MaxAbsScaler, ExtremeRandomTrees\", \"run_properties\": \"copy=True\", \"primary_metric\": 0.98952688, \"best_metric\": 0.99996874}, {\"run_id\": \"AutoML_d5dc6914-09aa-4233-a9ad-8766c76c3119_7\", \"run_number\": 14, \"metric\": null, \"status\": \"Completed\", \"run_type\": \"azureml.scriptrun\", \"training_percent\": \"100\", \"start_time\": \"2020-11-12T16:01:13.68466Z\", \"end_time\": \"2020-11-12T16:02:16.172385Z\", \"created_time\": \"2020-11-12T15:56:09.224797Z\", \"created_time_dt\": \"2020-11-12T15:56:09.224797Z\", \"duration\": \"0:06:06\", \"iteration\": \"7\", \"goal\": \"accuracy_max\", \"run_name\": \"MaxAbsScaler, ExtremeRandomTrees\", \"run_properties\": \"copy=True\", \"primary_metric\": 0.99449765, \"best_metric\": 0.99996874}, {\"run_id\": \"AutoML_d5dc6914-09aa-4233-a9ad-8766c76c3119_8\", \"run_number\": 15, \"metric\": null, \"status\": \"Completed\", \"run_type\": \"azureml.scriptrun\", \"training_percent\": \"100\", \"start_time\": \"2020-11-12T16:02:41.11347Z\", \"end_time\": \"2020-11-12T16:03:33.535321Z\", \"created_time\": \"2020-11-12T15:57:19.318157Z\", \"created_time_dt\": \"2020-11-12T15:57:19.318157Z\", \"duration\": \"0:06:14\", \"iteration\": \"8\", \"goal\": \"accuracy_max\", \"run_name\": \"MaxAbsScaler, ExtremeRandomTrees\", \"run_properties\": \"copy=True\", \"primary_metric\": 0.9947165, \"best_metric\": 0.99996874}, {\"run_id\": \"AutoML_d5dc6914-09aa-4233-a9ad-8766c76c3119_9\", \"run_number\": 16, \"metric\": null, \"status\": \"Completed\", \"run_type\": \"azureml.scriptrun\", \"training_percent\": \"100\", \"start_time\": \"2020-11-12T16:03:55.335002Z\", \"end_time\": \"2020-11-12T16:04:57.584409Z\", \"created_time\": \"2020-11-12T15:58:35.489531Z\", \"created_time_dt\": \"2020-11-12T15:58:35.489531Z\", \"duration\": \"0:06:22\", \"iteration\": \"9\", \"goal\": \"accuracy_max\", \"run_name\": \"MaxAbsScaler, ExtremeRandomTrees\", \"run_properties\": \"copy=True\", \"primary_metric\": 0.93148667, \"best_metric\": 0.99996874}, {\"run_id\": \"AutoML_d5dc6914-09aa-4233-a9ad-8766c76c3119_10\", \"run_number\": 17, \"metric\": null, \"status\": \"Completed\", \"run_type\": \"azureml.scriptrun\", \"training_percent\": \"100\", \"start_time\": \"2020-11-12T16:05:19.239741Z\", \"end_time\": \"2020-11-12T16:06:07.855212Z\", \"created_time\": \"2020-11-12T15:59:45.639027Z\", \"created_time_dt\": \"2020-11-12T15:59:45.639027Z\", \"duration\": \"0:06:22\", \"iteration\": \"10\", \"goal\": \"accuracy_max\", \"run_name\": \"MaxAbsScaler, SGD\", \"run_properties\": \"copy=True\", \"primary_metric\": 0.99956232, \"best_metric\": 0.99996874}, {\"run_id\": \"AutoML_d5dc6914-09aa-4233-a9ad-8766c76c3119_11\", \"run_number\": 18, \"metric\": null, \"status\": \"Completed\", \"run_type\": \"azureml.scriptrun\", \"training_percent\": \"100\", \"start_time\": \"2020-11-12T16:06:31.876967Z\", \"end_time\": \"2020-11-12T16:07:18.696154Z\", \"created_time\": \"2020-11-12T16:01:07.085765Z\", \"created_time_dt\": \"2020-11-12T16:01:07.085765Z\", \"duration\": \"0:06:11\", \"iteration\": \"11\", \"goal\": \"accuracy_max\", \"run_name\": \"MaxAbsScaler, SGD\", \"run_properties\": \"copy=True\", \"primary_metric\": 0.99951542, \"best_metric\": 0.99996874}, {\"run_id\": \"AutoML_d5dc6914-09aa-4233-a9ad-8766c76c3119_12\", \"run_number\": 19, \"metric\": null, \"status\": \"Completed\", \"run_type\": \"azureml.scriptrun\", \"training_percent\": \"100\", \"start_time\": \"2020-11-12T16:07:44.691491Z\", \"end_time\": \"2020-11-12T16:08:33.505331Z\", \"created_time\": \"2020-11-12T16:02:26.332183Z\", \"created_time_dt\": \"2020-11-12T16:02:26.332183Z\", \"duration\": \"0:06:07\", \"iteration\": \"12\", \"goal\": \"accuracy_max\", \"run_name\": \"MaxAbsScaler, RandomForest\", \"run_properties\": \"copy=True\", \"primary_metric\": 0.78686132, \"best_metric\": 0.99996874}, {\"run_id\": \"AutoML_d5dc6914-09aa-4233-a9ad-8766c76c3119_13\", \"run_number\": 20, \"metric\": null, \"status\": \"Completed\", \"run_type\": \"azureml.scriptrun\", \"training_percent\": \"100\", \"start_time\": \"2020-11-12T16:13:10.941087Z\", \"end_time\": \"2020-11-12T16:14:13.019794Z\", \"created_time\": \"2020-11-12T16:03:46.903548Z\", \"created_time_dt\": \"2020-11-12T16:03:46.903548Z\", \"duration\": \"0:10:26\", \"iteration\": \"13\", \"goal\": \"accuracy_max\", \"run_name\": \"StandardScalerWrapper, ExtremeRandomTrees\", \"run_properties\": \"<azureml.automl.runtime.shared.model_wrappers.StandardScalerWrapper object at 0x7f33bf204400\", \"primary_metric\": 0.91338532, \"best_metric\": 0.99996874}, {\"run_id\": \"AutoML_d5dc6914-09aa-4233-a9ad-8766c76c3119_14\", \"run_number\": 21, \"metric\": null, \"status\": \"Completed\", \"run_type\": \"azureml.scriptrun\", \"training_percent\": \"100\", \"start_time\": \"2020-11-12T16:15:21.406424Z\", \"end_time\": \"2020-11-12T16:16:10.362207Z\", \"created_time\": \"2020-11-12T16:05:12.305114Z\", \"created_time_dt\": \"2020-11-12T16:05:12.305114Z\", \"duration\": \"0:10:58\", \"iteration\": \"14\", \"goal\": \"accuracy_max\", \"run_name\": \"MaxAbsScaler, RandomForest\", \"run_properties\": \"copy=True\", \"primary_metric\": 0.85132839, \"best_metric\": 0.99996874}, {\"run_id\": \"AutoML_d5dc6914-09aa-4233-a9ad-8766c76c3119_15\", \"run_number\": 22, \"metric\": null, \"status\": \"Completed\", \"run_type\": \"azureml.scriptrun\", \"training_percent\": \"100\", \"start_time\": \"2020-11-12T16:16:31.496686Z\", \"end_time\": \"2020-11-12T16:17:21.18702Z\", \"created_time\": \"2020-11-12T16:06:20.938583Z\", \"created_time_dt\": \"2020-11-12T16:06:20.938583Z\", \"duration\": \"0:11:00\", \"iteration\": \"15\", \"goal\": \"accuracy_max\", \"run_name\": \"MaxAbsScaler, SGD\", \"run_properties\": \"copy=True\", \"primary_metric\": 0.99974989, \"best_metric\": 0.99996874}, {\"run_id\": \"AutoML_d5dc6914-09aa-4233-a9ad-8766c76c3119_16\", \"run_number\": 23, \"metric\": null, \"status\": \"Completed\", \"run_type\": \"azureml.scriptrun\", \"training_percent\": \"100\", \"start_time\": \"2020-11-12T16:17:44.426368Z\", \"end_time\": \"2020-11-12T16:18:44.303345Z\", \"created_time\": \"2020-11-12T16:07:30.080349Z\", \"created_time_dt\": \"2020-11-12T16:07:30.080349Z\", \"duration\": \"0:11:14\", \"iteration\": \"16\", \"goal\": \"accuracy_max\", \"run_name\": \"MaxAbsScaler, RandomForest\", \"run_properties\": \"copy=True\", \"primary_metric\": 0.97523927, \"best_metric\": 0.99996874}, {\"run_id\": \"AutoML_d5dc6914-09aa-4233-a9ad-8766c76c3119_17\", \"run_number\": 24, \"metric\": null, \"status\": \"Completed\", \"run_type\": \"azureml.scriptrun\", \"training_percent\": \"100\", \"start_time\": \"2020-11-12T16:19:12.43883Z\", \"end_time\": \"2020-11-12T16:20:03.396866Z\", \"created_time\": \"2020-11-12T16:08:42.237911Z\", \"created_time_dt\": \"2020-11-12T16:08:42.237911Z\", \"duration\": \"0:11:21\", \"iteration\": \"17\", \"goal\": \"accuracy_max\", \"run_name\": \"MaxAbsScaler, ExtremeRandomTrees\", \"run_properties\": \"copy=True\", \"primary_metric\": 0.98926103, \"best_metric\": 0.99996874}, {\"run_id\": \"AutoML_d5dc6914-09aa-4233-a9ad-8766c76c3119_18\", \"run_number\": 25, \"metric\": null, \"status\": \"Canceled\", \"run_type\": \"azureml.scriptrun\", \"training_percent\": \"100\", \"start_time\": \"2020-11-12T16:20:31.314861Z\", \"end_time\": \"2020-11-12T16:21:16.68099Z\", \"created_time\": \"2020-11-12T16:14:21.841011Z\", \"created_time_dt\": \"2020-11-12T16:14:21.841011Z\", \"duration\": \"0:06:54\", \"iteration\": \"18\", \"goal\": null, \"run_name\": \"SparseNormalizer, ExtremeRandomTrees\", \"run_properties\": null}, {\"run_id\": \"AutoML_d5dc6914-09aa-4233-a9ad-8766c76c3119_19\", \"run_number\": 26, \"metric\": null, \"status\": \"Canceled\", \"run_type\": \"azureml.scriptrun\", \"training_percent\": \"100\", \"start_time\": \"2020-11-12T16:16:16.414409Z\", \"end_time\": \"2020-11-12T16:21:18.860115Z\", \"created_time\": \"2020-11-12T16:16:16.414409Z\", \"created_time_dt\": \"2020-11-12T16:16:16.414409Z\", \"duration\": \"0:05:02\", \"iteration\": \"19\", \"goal\": null, \"run_name\": \"Canceled\", \"run_properties\": null}, {\"run_id\": \"AutoML_d5dc6914-09aa-4233-a9ad-8766c76c3119_20\", \"run_number\": 27, \"metric\": null, \"status\": \"Canceled\", \"run_type\": \"azureml.scriptrun\", \"training_percent\": \"100\", \"start_time\": \"2020-11-12T16:17:28.256131Z\", \"end_time\": \"2020-11-12T16:21:16.586421Z\", \"created_time\": \"2020-11-12T16:17:28.256131Z\", \"created_time_dt\": \"2020-11-12T16:17:28.256131Z\", \"duration\": \"0:03:48\", \"iteration\": \"20\", \"goal\": null, \"run_name\": \"Canceled\", \"run_properties\": null}, {\"run_id\": \"AutoML_d5dc6914-09aa-4233-a9ad-8766c76c3119_21\", \"run_number\": 28, \"metric\": null, \"status\": \"Canceled\", \"run_type\": \"azureml.scriptrun\", \"training_percent\": \"100\", \"start_time\": \"2020-11-12T16:18:49.591268Z\", \"end_time\": \"2020-11-12T16:21:13.34179Z\", \"created_time\": \"2020-11-12T16:18:49.591268Z\", \"created_time_dt\": \"2020-11-12T16:18:49.591268Z\", \"duration\": \"0:02:23\", \"iteration\": \"21\", \"goal\": null, \"run_name\": \"Canceled\", \"run_properties\": null}, {\"run_id\": \"AutoML_d5dc6914-09aa-4233-a9ad-8766c76c3119_22\", \"run_number\": 29, \"metric\": null, \"status\": \"Canceled\", \"run_type\": \"azureml.scriptrun\", \"training_percent\": \"100\", \"start_time\": \"2020-11-12T16:20:10.143224Z\", \"end_time\": \"2020-11-12T16:21:12.746073Z\", \"created_time\": \"2020-11-12T16:20:10.143224Z\", \"created_time_dt\": \"2020-11-12T16:20:10.143224Z\", \"duration\": \"0:01:02\", \"iteration\": \"22\", \"goal\": null, \"run_name\": \"Canceled\", \"run_properties\": null}, {\"run_id\": \"AutoML_d5dc6914-09aa-4233-a9ad-8766c76c3119_24\", \"run_number\": 30, \"metric\": null, \"status\": \"Completed\", \"run_type\": \"azureml.scriptrun\", \"training_percent\": \"100\", \"start_time\": \"2020-11-12T16:25:28.022779Z\", \"end_time\": \"2020-11-12T16:27:09.987264Z\", \"created_time\": \"2020-11-12T16:21:21.394704Z\", \"created_time_dt\": \"2020-11-12T16:21:21.394704Z\", \"duration\": \"0:05:48\", \"iteration\": \"24\", \"goal\": \"accuracy_max\", \"run_name\": \"StackEnsemble\", \"run_properties\": \"base_learners=[('1',\\n                                        Pipeline(memory=None,\\n                                                 steps=[('maxabsscaler',\\n                                                         MaxAbsScaler(copy=True\", \"primary_metric\": 0.9999531, \"best_metric\": 0.99998437}, {\"run_id\": \"AutoML_d5dc6914-09aa-4233-a9ad-8766c76c3119_23\", \"run_number\": 31, \"metric\": null, \"status\": \"Completed\", \"run_type\": \"azureml.scriptrun\", \"training_percent\": \"100\", \"start_time\": \"2020-11-12T16:27:34.348349Z\", \"end_time\": \"2020-11-12T16:28:59.305028Z\", \"created_time\": \"2020-11-12T16:21:21.594018Z\", \"created_time_dt\": \"2020-11-12T16:21:21.594018Z\", \"duration\": \"0:07:37\", \"iteration\": \"23\", \"goal\": \"accuracy_max\", \"run_name\": \"VotingEnsemble\", \"run_properties\": \"classification_labels=None,\\n                              estimators=[('1',\\n                                           Pipeline(memory=None,\\n                                                    steps=[('maxabsscaler',\\n                                                            MaxAbsScaler(copy=True\", \"primary_metric\": 0.99998437, \"best_metric\": 0.99998437}], \"children_metrics\": {\"categories\": [0], \"series\": {\"precision_score_macro\": [{\"categories\": [\"0\", \"1\", \"2\", \"3\", \"4\", \"5\", \"6\", \"7\", \"8\", \"9\", \"10\", \"11\", \"12\", \"13\", \"14\", \"15\", \"16\", \"17\", \"23\", \"24\"], \"mode\": \"markers\", \"name\": \"precision_score_macro\", \"stepped\": false, \"type\": \"scatter\", \"data\": [0.9999540210356418, 0.9999692751692564, 0.9382238178150972, 0.9234895513700531, 0.9995004762413192, 0.9995953565662501, 0.9896257709525567, 0.9944819575888845, 0.99469249956952, 0.9321109382286531, 0.9995637237903132, 0.9995167950354101, 0.7036186704393645, 0.9133434057547606, 0.8602657714023453, 0.9997523080031515, 0.9761961874564422, 0.9894427208254267, 0.9999847430733553, 0.9999542375983892]}, {\"categories\": [\"0\", \"1\", \"2\", \"3\", \"4\", \"5\", \"6\", \"7\", \"8\", \"9\", \"10\", \"11\", \"12\", \"13\", \"14\", \"15\", \"16\", \"17\", \"23\", \"24\"], \"mode\": \"lines\", \"name\": \"precision_score_macro_max\", \"stepped\": true, \"type\": \"scatter\", \"data\": [0.9999540210356418, 0.9999692751692564, 0.9999692751692564, 0.9999692751692564, 0.9999692751692564, 0.9999692751692564, 0.9999692751692564, 0.9999692751692564, 0.9999692751692564, 0.9999692751692564, 0.9999692751692564, 0.9999692751692564, 0.9999692751692564, 0.9999692751692564, 0.9999692751692564, 0.9999692751692564, 0.9999692751692564, 0.9999692751692564, 0.9999847430733553, 0.9999847430733553]}], \"average_precision_score_weighted\": [{\"categories\": [\"0\", \"1\", \"2\", \"3\", \"4\", \"5\", \"6\", \"7\", \"8\", \"9\", \"10\", \"11\", \"12\", \"13\", \"14\", \"15\", \"16\", \"17\", \"23\", \"24\"], \"mode\": \"markers\", \"name\": \"average_precision_score_weighted\", \"stepped\": false, \"type\": \"scatter\", \"data\": [0.9999998857035032, 1.0, 0.9821326958866701, 0.9838013984585231, 0.9999928345775605, 0.9999990179116406, 0.9990491057246828, 0.9997779854041654, 0.9997695781141885, 0.994083915473207, 0.9999984787431186, 0.9999984182785719, 0.7837743945453535, 0.9901904161795613, 0.9245413362900224, 0.9999996952238496, 0.9992473667441706, 0.9995624063664735, 0.9999970434756055, 0.9999970660704885]}, {\"categories\": [\"0\", \"1\", \"2\", \"3\", \"4\", \"5\", \"6\", \"7\", \"8\", \"9\", \"10\", \"11\", \"12\", \"13\", \"14\", \"15\", \"16\", \"17\", \"23\", \"24\"], \"mode\": \"lines\", \"name\": \"average_precision_score_weighted_max\", \"stepped\": true, \"type\": \"scatter\", \"data\": [0.9999998857035032, 1.0, 1.0, 1.0, 1.0, 1.0, 1.0, 1.0, 1.0, 1.0, 1.0, 1.0, 1.0, 1.0, 1.0, 1.0, 1.0, 1.0, 1.0, 1.0]}], \"f1_score_micro\": [{\"categories\": [\"0\", \"1\", \"2\", \"3\", \"4\", \"5\", \"6\", \"7\", \"8\", \"9\", \"10\", \"11\", \"12\", \"13\", \"14\", \"15\", \"16\", \"17\", \"23\", \"24\"], \"mode\": \"markers\", \"name\": \"f1_score_micro\", \"stepped\": false, \"type\": \"scatter\", \"data\": [0.9999531052162401, 0.9999687370551698, 0.9369112490524687, 0.9209987487931598, 0.9994997906836293, 0.9995935795181201, 0.9895268782964762, 0.9944976528051654, 0.9947164970841214, 0.9314866674158221, 0.9995623165732899, 0.9995154210565013, 0.7868613151313489, 0.9133853197350629, 0.8513283859754294, 0.9997498935092427, 0.9752392682935948, 0.989261026347327, 0.9999843681610705, 0.9999531044832114]}, {\"categories\": [\"0\", \"1\", \"2\", \"3\", \"4\", \"5\", \"6\", \"7\", \"8\", \"9\", \"10\", \"11\", \"12\", \"13\", \"14\", \"15\", \"16\", \"17\", \"23\", \"24\"], \"mode\": \"lines\", \"name\": \"f1_score_micro_max\", \"stepped\": true, \"type\": \"scatter\", \"data\": [0.9999531052162401, 0.9999687370551698, 0.9999687370551698, 0.9999687370551698, 0.9999687370551698, 0.9999687370551698, 0.9999687370551698, 0.9999687370551698, 0.9999687370551698, 0.9999687370551698, 0.9999687370551698, 0.9999687370551698, 0.9999687370551698, 0.9999687370551698, 0.9999687370551698, 0.9999687370551698, 0.9999687370551698, 0.9999687370551698, 0.9999843681610705, 0.9999843681610705]}], \"balanced_accuracy\": [{\"categories\": [\"0\", \"1\", \"2\", \"3\", \"4\", \"5\", \"6\", \"7\", \"8\", \"9\", \"10\", \"11\", \"12\", \"13\", \"14\", \"15\", \"16\", \"17\", \"23\", \"24\"], \"mode\": \"markers\", \"name\": \"balanced_accuracy\", \"stepped\": false, \"type\": \"scatter\", \"data\": [0.9999521555084755, 0.9999681796087224, 0.9374283250716887, 0.920983282001079, 0.9994989971187174, 0.9995916500510827, 0.9894912998443385, 0.994516717242675, 0.9947462470967862, 0.931822214468721, 0.9995607657402942, 0.9995139116980077, 0.7847823038500262, 0.9134433828091599, 0.8501203597335621, 0.9997473442322274, 0.9755199291741857, 0.9891744906799399, 0.9999839758997533, 0.9999519276992596]}, {\"categories\": [\"0\", \"1\", \"2\", \"3\", \"4\", \"5\", \"6\", \"7\", \"8\", \"9\", \"10\", \"11\", \"12\", \"13\", \"14\", \"15\", \"16\", \"17\", \"23\", \"24\"], \"mode\": \"lines\", \"name\": \"balanced_accuracy_max\", \"stepped\": true, \"type\": \"scatter\", \"data\": [0.9999521555084755, 0.9999681796087224, 0.9999681796087224, 0.9999681796087224, 0.9999681796087224, 0.9999681796087224, 0.9999681796087224, 0.9999681796087224, 0.9999681796087224, 0.9999681796087224, 0.9999681796087224, 0.9999681796087224, 0.9999681796087224, 0.9999681796087224, 0.9999681796087224, 0.9999681796087224, 0.9999681796087224, 0.9999681796087224, 0.9999839758997533, 0.9999839758997533]}], \"recall_score_weighted\": [{\"categories\": [\"0\", \"1\", \"2\", \"3\", \"4\", \"5\", \"6\", \"7\", \"8\", \"9\", \"10\", \"11\", \"12\", \"13\", \"14\", \"15\", \"16\", \"17\", \"23\", \"24\"], \"mode\": \"markers\", \"name\": \"recall_score_weighted\", \"stepped\": false, \"type\": \"scatter\", \"data\": [0.9999531052162401, 0.9999687370551698, 0.9369112490524687, 0.9209987487931598, 0.9994997906836293, 0.9995935795181201, 0.9895268782964762, 0.9944976528051654, 0.9947164970841214, 0.9314866674158221, 0.9995623165732899, 0.9995154210565013, 0.7868613151313489, 0.9133853197350629, 0.8513283859754294, 0.9997498935092427, 0.9752392682935948, 0.989261026347327, 0.9999843681610705, 0.9999531044832114]}, {\"categories\": [\"0\", \"1\", \"2\", \"3\", \"4\", \"5\", \"6\", \"7\", \"8\", \"9\", \"10\", \"11\", \"12\", \"13\", \"14\", \"15\", \"16\", \"17\", \"23\", \"24\"], \"mode\": \"lines\", \"name\": \"recall_score_weighted_max\", \"stepped\": true, \"type\": \"scatter\", \"data\": [0.9999531052162401, 0.9999687370551698, 0.9999687370551698, 0.9999687370551698, 0.9999687370551698, 0.9999687370551698, 0.9999687370551698, 0.9999687370551698, 0.9999687370551698, 0.9999687370551698, 0.9999687370551698, 0.9999687370551698, 0.9999687370551698, 0.9999687370551698, 0.9999687370551698, 0.9999687370551698, 0.9999687370551698, 0.9999687370551698, 0.9999843681610705, 0.9999843681610705]}], \"f1_score_weighted\": [{\"categories\": [\"0\", \"1\", \"2\", \"3\", \"4\", \"5\", \"6\", \"7\", \"8\", \"9\", \"10\", \"11\", \"12\", \"13\", \"14\", \"15\", \"16\", \"17\", \"23\", \"24\"], \"mode\": \"markers\", \"name\": \"f1_score_weighted\", \"stepped\": false, \"type\": \"scatter\", \"data\": [0.9999531051364414, 0.9999687370294792, 0.9368880795327753, 0.920789662133541, 0.9994997906200314, 0.999593578744821, 0.9895257367002978, 0.9944977461685901, 0.9947166415057117, 0.9314759245896788, 0.9995623160030026, 0.9995154204172758, 0.7315338427234407, 0.9133905016068598, 0.8501765713921076, 0.9997498927611387, 0.9752171934371892, 0.9892589857600987, 0.9999843681430803, 0.9999531043206797]}, {\"categories\": [\"0\", \"1\", \"2\", \"3\", \"4\", \"5\", \"6\", \"7\", \"8\", \"9\", \"10\", \"11\", \"12\", \"13\", \"14\", \"15\", \"16\", \"17\", \"23\", \"24\"], \"mode\": \"lines\", \"name\": \"f1_score_weighted_max\", \"stepped\": true, \"type\": \"scatter\", \"data\": [0.9999531051364414, 0.9999687370294792, 0.9999687370294792, 0.9999687370294792, 0.9999687370294792, 0.9999687370294792, 0.9999687370294792, 0.9999687370294792, 0.9999687370294792, 0.9999687370294792, 0.9999687370294792, 0.9999687370294792, 0.9999687370294792, 0.9999687370294792, 0.9999687370294792, 0.9999687370294792, 0.9999687370294792, 0.9999687370294792, 0.9999843681430803, 0.9999843681430803]}], \"accuracy\": [{\"categories\": [\"0\", \"1\", \"2\", \"3\", \"4\", \"5\", \"6\", \"7\", \"8\", \"9\", \"10\", \"11\", \"12\", \"13\", \"14\", \"15\", \"16\", \"17\", \"23\", \"24\"], \"mode\": \"markers\", \"name\": \"accuracy\", \"stepped\": false, \"type\": \"scatter\", \"data\": [0.9999531052162401, 0.9999687370551698, 0.9369112490524687, 0.9209987487931598, 0.9994997906836293, 0.9995935795181201, 0.9895268782964762, 0.9944976528051654, 0.9947164970841214, 0.9314866674158221, 0.9995623165732899, 0.9995154210565013, 0.7868613151313489, 0.9133853197350629, 0.8513283859754294, 0.9997498935092427, 0.9752392682935948, 0.989261026347327, 0.9999843681610705, 0.9999531044832114]}, {\"categories\": [\"0\", \"1\", \"2\", \"3\", \"4\", \"5\", \"6\", \"7\", \"8\", \"9\", \"10\", \"11\", \"12\", \"13\", \"14\", \"15\", \"16\", \"17\", \"23\", \"24\"], \"mode\": \"lines\", \"name\": \"accuracy_max\", \"stepped\": true, \"type\": \"scatter\", \"data\": [0.9999531052162401, 0.9999687370551698, 0.9999687370551698, 0.9999687370551698, 0.9999687370551698, 0.9999687370551698, 0.9999687370551698, 0.9999687370551698, 0.9999687370551698, 0.9999687370551698, 0.9999687370551698, 0.9999687370551698, 0.9999687370551698, 0.9999687370551698, 0.9999687370551698, 0.9999687370551698, 0.9999687370551698, 0.9999687370551698, 0.9999843681610705, 0.9999843681610705]}], \"precision_score_micro\": [{\"categories\": [\"0\", \"1\", \"2\", \"3\", \"4\", \"5\", \"6\", \"7\", \"8\", \"9\", \"10\", \"11\", \"12\", \"13\", \"14\", \"15\", \"16\", \"17\", \"23\", \"24\"], \"mode\": \"markers\", \"name\": \"precision_score_micro\", \"stepped\": false, \"type\": \"scatter\", \"data\": [0.9999531052162401, 0.9999687370551698, 0.9369112490524687, 0.9209987487931598, 0.9994997906836293, 0.9995935795181201, 0.9895268782964762, 0.9944976528051654, 0.9947164970841214, 0.9314866674158221, 0.9995623165732899, 0.9995154210565013, 0.7868613151313489, 0.9133853197350629, 0.8513283859754294, 0.9997498935092427, 0.9752392682935948, 0.989261026347327, 0.9999843681610705, 0.9999531044832114]}, {\"categories\": [\"0\", \"1\", \"2\", \"3\", \"4\", \"5\", \"6\", \"7\", \"8\", \"9\", \"10\", \"11\", \"12\", \"13\", \"14\", \"15\", \"16\", \"17\", \"23\", \"24\"], \"mode\": \"lines\", \"name\": \"precision_score_micro_max\", \"stepped\": true, \"type\": \"scatter\", \"data\": [0.9999531052162401, 0.9999687370551698, 0.9999687370551698, 0.9999687370551698, 0.9999687370551698, 0.9999687370551698, 0.9999687370551698, 0.9999687370551698, 0.9999687370551698, 0.9999687370551698, 0.9999687370551698, 0.9999687370551698, 0.9999687370551698, 0.9999687370551698, 0.9999687370551698, 0.9999687370551698, 0.9999687370551698, 0.9999687370551698, 0.9999843681610705, 0.9999843681610705]}], \"average_precision_score_macro\": [{\"categories\": [\"0\", \"1\", \"2\", \"3\", \"4\", \"5\", \"6\", \"7\", \"8\", \"9\", \"10\", \"11\", \"12\", \"13\", \"14\", \"15\", \"16\", \"17\", \"23\", \"24\"], \"mode\": \"markers\", \"name\": \"average_precision_score_macro\", \"stepped\": false, \"type\": \"scatter\", \"data\": [0.9999998855739042, 1.0, 0.9820645848166726, 0.9837703584377772, 0.9999928398080119, 0.9999990172146133, 0.9990513814172686, 0.9997777691890386, 0.9997693659706974, 0.9940819449554171, 0.9999984778354927, 0.9999984173741358, 0.7835133298879008, 0.9901924818108019, 0.9244625254397244, 0.9999996949749904, 0.9992472987575729, 0.9995620977021993, 0.9999970451194052, 0.9999970676623752]}, {\"categories\": [\"0\", \"1\", \"2\", \"3\", \"4\", \"5\", \"6\", \"7\", \"8\", \"9\", \"10\", \"11\", \"12\", \"13\", \"14\", \"15\", \"16\", \"17\", \"23\", \"24\"], \"mode\": \"lines\", \"name\": \"average_precision_score_macro_max\", \"stepped\": true, \"type\": \"scatter\", \"data\": [0.9999998855739042, 1.0, 1.0, 1.0, 1.0, 1.0, 1.0, 1.0, 1.0, 1.0, 1.0, 1.0, 1.0, 1.0, 1.0, 1.0, 1.0, 1.0, 1.0, 1.0]}], \"AUC_weighted\": [{\"categories\": [\"0\", \"1\", \"2\", \"3\", \"4\", \"5\", \"6\", \"7\", \"8\", \"9\", \"10\", \"11\", \"12\", \"13\", \"14\", \"15\", \"16\", \"17\", \"23\", \"24\"], \"mode\": \"markers\", \"name\": \"AUC_weighted\", \"stepped\": false, \"type\": \"scatter\", \"data\": [0.999999885573577, 1.0, 0.9820716608139666, 0.9835047852467236, 0.9999926982772888, 0.9999990143140791, 0.9991646477402575, 0.9997766070734774, 0.9997672551271396, 0.9938340441213259, 0.9999984716388539, 0.999998410021201, 0.7912640609833982, 0.9901140533543099, 0.937083921147992, 0.9999996949198175, 0.9992304358904357, 0.9995681113481084, 0.9999969779688266, 0.9999970014409133]}, {\"categories\": [\"0\", \"1\", \"2\", \"3\", \"4\", \"5\", \"6\", \"7\", \"8\", \"9\", \"10\", \"11\", \"12\", \"13\", \"14\", \"15\", \"16\", \"17\", \"23\", \"24\"], \"mode\": \"lines\", \"name\": \"AUC_weighted_max\", \"stepped\": true, \"type\": \"scatter\", \"data\": [0.999999885573577, 1.0, 1.0, 1.0, 1.0, 1.0, 1.0, 1.0, 1.0, 1.0, 1.0, 1.0, 1.0, 1.0, 1.0, 1.0, 1.0, 1.0, 1.0, 1.0]}], \"log_loss\": [{\"categories\": [\"0\", \"1\", \"2\", \"3\", \"4\", \"5\", \"6\", \"7\", \"8\", \"9\", \"10\", \"11\", \"12\", \"13\", \"14\", \"15\", \"16\", \"17\", \"23\", \"24\"], \"mode\": \"markers\", \"name\": \"log_loss\", \"stepped\": false, \"type\": \"scatter\", \"data\": [0.00021039285479873483, 0.0002135532073658335, 0.45122849857788266, 0.3945243082639836, 0.005349457309306359, 0.0014059621311097931, 0.03492647973845827, 0.044815488327466534, 0.042836457128610166, 0.12828314885570927, 0.003248217974976158, 0.002933177128082181, 0.625473307052236, 0.1610288548440633, 0.64288735417896, 0.0016822196763372366, 0.12558755117584305, 0.04753630183755003, 0.018257709157975015, 0.08147540640360022]}, {\"categories\": [\"0\", \"1\", \"2\", \"3\", \"4\", \"5\", \"6\", \"7\", \"8\", \"9\", \"10\", \"11\", \"12\", \"13\", \"14\", \"15\", \"16\", \"17\", \"23\", \"24\"], \"mode\": \"lines\", \"name\": \"log_loss_min\", \"stepped\": true, \"type\": \"scatter\", \"data\": [0.00021039285479873483, 0.00021039285479873483, 0.00021039285479873483, 0.00021039285479873483, 0.00021039285479873483, 0.00021039285479873483, 0.00021039285479873483, 0.00021039285479873483, 0.00021039285479873483, 0.00021039285479873483, 0.00021039285479873483, 0.00021039285479873483, 0.00021039285479873483, 0.00021039285479873483, 0.00021039285479873483, 0.00021039285479873483, 0.00021039285479873483, 0.00021039285479873483, 0.00021039285479873483, 0.00021039285479873483]}], \"AUC_macro\": [{\"categories\": [\"0\", \"1\", \"2\", \"3\", \"4\", \"5\", \"6\", \"7\", \"8\", \"9\", \"10\", \"11\", \"12\", \"13\", \"14\", \"15\", \"16\", \"17\", \"23\", \"24\"], \"mode\": \"markers\", \"name\": \"AUC_macro\", \"stepped\": false, \"type\": \"scatter\", \"data\": [0.999999885573577, 1.0, 0.9820716608139666, 0.9835047852467236, 0.9999926982772888, 0.9999990143140792, 0.9991646477402575, 0.9997766070734774, 0.9997672551271396, 0.9938340441213261, 0.9999984716388539, 0.999998410021201, 0.7912640609833983, 0.9901140533543099, 0.937083921147992, 0.9999996949198175, 0.9992304358904359, 0.9995681113481082, 0.9999969779688266, 0.9999970014409133]}, {\"categories\": [\"0\", \"1\", \"2\", \"3\", \"4\", \"5\", \"6\", \"7\", \"8\", \"9\", \"10\", \"11\", \"12\", \"13\", \"14\", \"15\", \"16\", \"17\", \"23\", \"24\"], \"mode\": \"lines\", \"name\": \"AUC_macro_max\", \"stepped\": true, \"type\": \"scatter\", \"data\": [0.999999885573577, 1.0, 1.0, 1.0, 1.0, 1.0, 1.0, 1.0, 1.0, 1.0, 1.0, 1.0, 1.0, 1.0, 1.0, 1.0, 1.0, 1.0, 1.0, 1.0]}], \"f1_score_macro\": [{\"categories\": [\"0\", \"1\", \"2\", \"3\", \"4\", \"5\", \"6\", \"7\", \"8\", \"9\", \"10\", \"11\", \"12\", \"13\", \"14\", \"15\", \"16\", \"17\", \"23\", \"24\"], \"mode\": \"markers\", \"name\": \"f1_score_macro\", \"stepped\": false, \"type\": \"scatter\", \"data\": [0.999953084601562, 0.9999687259214337, 0.9369001605475221, 0.9207561818055994, 0.9994996530725849, 0.9995934548780235, 0.989522811295585, 0.9944959803331134, 0.994715111106962, 0.9314792757435297, 0.999562187540016, 0.9995152763342704, 0.7299538727362108, 0.9133717321033684, 0.8499790576894882, 0.9997498040977968, 0.9752224280989182, 0.9892545556435975, 0.9999843587522014, 0.9999530760401779]}, {\"categories\": [\"0\", \"1\", \"2\", \"3\", \"4\", \"5\", \"6\", \"7\", \"8\", \"9\", \"10\", \"11\", \"12\", \"13\", \"14\", \"15\", \"16\", \"17\", \"23\", \"24\"], \"mode\": \"lines\", \"name\": \"f1_score_macro_max\", \"stepped\": true, \"type\": \"scatter\", \"data\": [0.999953084601562, 0.9999687259214337, 0.9999687259214337, 0.9999687259214337, 0.9999687259214337, 0.9999687259214337, 0.9999687259214337, 0.9999687259214337, 0.9999687259214337, 0.9999687259214337, 0.9999687259214337, 0.9999687259214337, 0.9999687259214337, 0.9999687259214337, 0.9999687259214337, 0.9999687259214337, 0.9999687259214337, 0.9999687259214337, 0.9999843587522014, 0.9999843587522014]}], \"weighted_accuracy\": [{\"categories\": [\"0\", \"1\", \"2\", \"3\", \"4\", \"5\", \"6\", \"7\", \"8\", \"9\", \"10\", \"11\", \"12\", \"13\", \"14\", \"15\", \"16\", \"17\", \"23\", \"24\"], \"mode\": \"markers\", \"name\": \"weighted_accuracy\", \"stepped\": false, \"type\": \"scatter\", \"data\": [0.9999540539482039, 0.9999692939956552, 0.9363946697077848, 0.9210142938184417, 0.9995005815185763, 0.9995955058915733, 0.9895624659033632, 0.9944785976739793, 0.9946867694855243, 0.9311513522660327, 0.9995638644339078, 0.9995169271444402, 0.7889398027670694, 0.9133273094914655, 0.8525355825291235, 0.9997524402484368, 0.974958772405591, 0.989347507006228, 0.9999847599525488, 0.9999542798576465]}, {\"categories\": [\"0\", \"1\", \"2\", \"3\", \"4\", \"5\", \"6\", \"7\", \"8\", \"9\", \"10\", \"11\", \"12\", \"13\", \"14\", \"15\", \"16\", \"17\", \"23\", \"24\"], \"mode\": \"lines\", \"name\": \"weighted_accuracy_max\", \"stepped\": true, \"type\": \"scatter\", \"data\": [0.9999540539482039, 0.9999692939956552, 0.9999692939956552, 0.9999692939956552, 0.9999692939956552, 0.9999692939956552, 0.9999692939956552, 0.9999692939956552, 0.9999692939956552, 0.9999692939956552, 0.9999692939956552, 0.9999692939956552, 0.9999692939956552, 0.9999692939956552, 0.9999692939956552, 0.9999692939956552, 0.9999692939956552, 0.9999692939956552, 0.9999847599525488, 0.9999847599525488]}], \"recall_score_macro\": [{\"categories\": [\"0\", \"1\", \"2\", \"3\", \"4\", \"5\", \"6\", \"7\", \"8\", \"9\", \"10\", \"11\", \"12\", \"13\", \"14\", \"15\", \"16\", \"17\", \"23\", \"24\"], \"mode\": \"markers\", \"name\": \"recall_score_macro\", \"stepped\": false, \"type\": \"scatter\", \"data\": [0.9999521555084755, 0.9999681796087224, 0.9374283250716887, 0.920983282001079, 0.9994989971187174, 0.9995916500510827, 0.9894912998443385, 0.994516717242675, 0.9947462470967862, 0.931822214468721, 0.9995607657402942, 0.9995139116980077, 0.7847823038500262, 0.9134433828091599, 0.8501203597335621, 0.9997473442322274, 0.9755199291741857, 0.9891744906799399, 0.9999839758997533, 0.9999519276992596]}, {\"categories\": [\"0\", \"1\", \"2\", \"3\", \"4\", \"5\", \"6\", \"7\", \"8\", \"9\", \"10\", \"11\", \"12\", \"13\", \"14\", \"15\", \"16\", \"17\", \"23\", \"24\"], \"mode\": \"lines\", \"name\": \"recall_score_macro_max\", \"stepped\": true, \"type\": \"scatter\", \"data\": [0.9999521555084755, 0.9999681796087224, 0.9999681796087224, 0.9999681796087224, 0.9999681796087224, 0.9999681796087224, 0.9999681796087224, 0.9999681796087224, 0.9999681796087224, 0.9999681796087224, 0.9999681796087224, 0.9999681796087224, 0.9999681796087224, 0.9999681796087224, 0.9999681796087224, 0.9999681796087224, 0.9999681796087224, 0.9999681796087224, 0.9999839758997533, 0.9999839758997533]}], \"average_precision_score_micro\": [{\"categories\": [\"0\", \"1\", \"2\", \"3\", \"4\", \"5\", \"6\", \"7\", \"8\", \"9\", \"10\", \"11\", \"12\", \"13\", \"14\", \"15\", \"16\", \"17\", \"23\", \"24\"], \"mode\": \"markers\", \"name\": \"average_precision_score_micro\", \"stepped\": false, \"type\": \"scatter\", \"data\": [0.9999999201480577, 0.9999999941361134, 0.98493347123489, 0.9835735373415977, 0.9999929472166272, 0.999998320596054, 0.9993675901404568, 0.9998426019887541, 0.9998355407800302, 0.9938085911557937, 0.9999985754123933, 0.99999832694572, 0.7984250022866014, 0.9903627766488046, 0.927219813969518, 0.9999995067519817, 0.9985741925251198, 0.9995409993315111, 0.9999977148051079, 0.9999976390350035]}, {\"categories\": [\"0\", \"1\", \"2\", \"3\", \"4\", \"5\", \"6\", \"7\", \"8\", \"9\", \"10\", \"11\", \"12\", \"13\", \"14\", \"15\", \"16\", \"17\", \"23\", \"24\"], \"mode\": \"lines\", \"name\": \"average_precision_score_micro_max\", \"stepped\": true, \"type\": \"scatter\", \"data\": [0.9999999201480577, 0.9999999941361134, 0.9999999941361134, 0.9999999941361134, 0.9999999941361134, 0.9999999941361134, 0.9999999941361134, 0.9999999941361134, 0.9999999941361134, 0.9999999941361134, 0.9999999941361134, 0.9999999941361134, 0.9999999941361134, 0.9999999941361134, 0.9999999941361134, 0.9999999941361134, 0.9999999941361134, 0.9999999941361134, 0.9999999941361134, 0.9999999941361134]}], \"recall_score_micro\": [{\"categories\": [\"0\", \"1\", \"2\", \"3\", \"4\", \"5\", \"6\", \"7\", \"8\", \"9\", \"10\", \"11\", \"12\", \"13\", \"14\", \"15\", \"16\", \"17\", \"23\", \"24\"], \"mode\": \"markers\", \"name\": \"recall_score_micro\", \"stepped\": false, \"type\": \"scatter\", \"data\": [0.9999531052162401, 0.9999687370551698, 0.9369112490524687, 0.9209987487931598, 0.9994997906836293, 0.9995935795181201, 0.9895268782964762, 0.9944976528051654, 0.9947164970841214, 0.9314866674158221, 0.9995623165732899, 0.9995154210565013, 0.7868613151313489, 0.9133853197350629, 0.8513283859754294, 0.9997498935092427, 0.9752392682935948, 0.989261026347327, 0.9999843681610705, 0.9999531044832114]}, {\"categories\": [\"0\", \"1\", \"2\", \"3\", \"4\", \"5\", \"6\", \"7\", \"8\", \"9\", \"10\", \"11\", \"12\", \"13\", \"14\", \"15\", \"16\", \"17\", \"23\", \"24\"], \"mode\": \"lines\", \"name\": \"recall_score_micro_max\", \"stepped\": true, \"type\": \"scatter\", \"data\": [0.9999531052162401, 0.9999687370551698, 0.9999687370551698, 0.9999687370551698, 0.9999687370551698, 0.9999687370551698, 0.9999687370551698, 0.9999687370551698, 0.9999687370551698, 0.9999687370551698, 0.9999687370551698, 0.9999687370551698, 0.9999687370551698, 0.9999687370551698, 0.9999687370551698, 0.9999687370551698, 0.9999687370551698, 0.9999687370551698, 0.9999843681610705, 0.9999843681610705]}], \"AUC_micro\": [{\"categories\": [\"0\", \"1\", \"2\", \"3\", \"4\", \"5\", \"6\", \"7\", \"8\", \"9\", \"10\", \"11\", \"12\", \"13\", \"14\", \"15\", \"16\", \"17\", \"23\", \"24\"], \"mode\": \"markers\", \"name\": \"AUC_micro\", \"stepped\": false, \"type\": \"scatter\", \"data\": [0.9999999200963213, 0.9999999941357008, 0.9846202901358646, 0.9829753777708117, 0.9999928410094245, 0.9999983110400678, 0.9994207147952899, 0.999841829573635, 0.9998341653046937, 0.9935631517311413, 0.9999985705546721, 0.9999983191133189, 0.8038506233546747, 0.9901797257886407, 0.9339661877998409, 0.9999995059228518, 0.9985373830518043, 0.999541074904046, 0.9999976798550829, 0.9999976021503875]}, {\"categories\": [\"0\", \"1\", \"2\", \"3\", \"4\", \"5\", \"6\", \"7\", \"8\", \"9\", \"10\", \"11\", \"12\", \"13\", \"14\", \"15\", \"16\", \"17\", \"23\", \"24\"], \"mode\": \"lines\", \"name\": \"AUC_micro_max\", \"stepped\": true, \"type\": \"scatter\", \"data\": [0.9999999200963213, 0.9999999941357008, 0.9999999941357008, 0.9999999941357008, 0.9999999941357008, 0.9999999941357008, 0.9999999941357008, 0.9999999941357008, 0.9999999941357008, 0.9999999941357008, 0.9999999941357008, 0.9999999941357008, 0.9999999941357008, 0.9999999941357008, 0.9999999941357008, 0.9999999941357008, 0.9999999941357008, 0.9999999941357008, 0.9999999941357008, 0.9999999941357008]}], \"precision_score_weighted\": [{\"categories\": [\"0\", \"1\", \"2\", \"3\", \"4\", \"5\", \"6\", \"7\", \"8\", \"9\", \"10\", \"11\", \"12\", \"13\", \"14\", \"15\", \"16\", \"17\", \"23\", \"24\"], \"mode\": \"markers\", \"name\": \"precision_score_weighted\", \"stepped\": false, \"type\": \"scatter\", \"data\": [0.9999531123902505, 0.9999687399368152, 0.9387183263275327, 0.9235381949507445, 0.9994999576596281, 0.9995936747398874, 0.9895960063769729, 0.9945045521509543, 0.9947253062976879, 0.9324399389467567, 0.9995624297858475, 0.9995155737116964, 0.7050786680334492, 0.9134389810898754, 0.8594268437197808, 0.9997499360065626, 0.9764673262752467, 0.9893649619330218, 0.9999843695920334, 0.9999531173595203]}, {\"categories\": [\"0\", \"1\", \"2\", \"3\", \"4\", \"5\", \"6\", \"7\", \"8\", \"9\", \"10\", \"11\", \"12\", \"13\", \"14\", \"15\", \"16\", \"17\", \"23\", \"24\"], \"mode\": \"lines\", \"name\": \"precision_score_weighted_max\", \"stepped\": true, \"type\": \"scatter\", \"data\": [0.9999531123902505, 0.9999687399368152, 0.9999687399368152, 0.9999687399368152, 0.9999687399368152, 0.9999687399368152, 0.9999687399368152, 0.9999687399368152, 0.9999687399368152, 0.9999687399368152, 0.9999687399368152, 0.9999687399368152, 0.9999687399368152, 0.9999687399368152, 0.9999687399368152, 0.9999687399368152, 0.9999687399368152, 0.9999687399368152, 0.9999843695920334, 0.9999843695920334]}], \"matthews_correlation\": [{\"categories\": [\"0\", \"1\", \"2\", \"3\", \"4\", \"5\", \"6\", \"7\", \"8\", \"9\", \"10\", \"11\", \"12\", \"13\", \"14\", \"15\", \"16\", \"17\", \"23\", \"24\"], \"mode\": \"markers\", \"name\": \"matthews_correlation\", \"stepped\": false, \"type\": \"scatter\", \"data\": [0.9999061765404106, 0.9999374547769341, 0.8756514417941377, 0.8444625116253328, 0.9989994733039275, 0.9991870065703433, 0.9791170440330187, 0.9889986741992297, 0.9894387448690288, 0.8639330414287812, 0.9991244894814065, 0.9990307066670914, 0.5705610470658519, 0.8267867794133776, 0.7103076199328622, 0.9994996522120346, 0.9517150881011688, 0.9786171363188384, 0.9999687189722257, 0.9999061652896432]}, {\"categories\": [\"0\", \"1\", \"2\", \"3\", \"4\", \"5\", \"6\", \"7\", \"8\", \"9\", \"10\", \"11\", \"12\", \"13\", \"14\", \"15\", \"16\", \"17\", \"23\", \"24\"], \"mode\": \"lines\", \"name\": \"matthews_correlation_max\", \"stepped\": true, \"type\": \"scatter\", \"data\": [0.9999061765404106, 0.9999374547769341, 0.9999374547769341, 0.9999374547769341, 0.9999374547769341, 0.9999374547769341, 0.9999374547769341, 0.9999374547769341, 0.9999374547769341, 0.9999374547769341, 0.9999374547769341, 0.9999374547769341, 0.9999374547769341, 0.9999374547769341, 0.9999374547769341, 0.9999374547769341, 0.9999374547769341, 0.9999374547769341, 0.9999687189722257, 0.9999687189722257]}], \"norm_macro_recall\": [{\"categories\": [\"0\", \"1\", \"2\", \"3\", \"4\", \"5\", \"6\", \"7\", \"8\", \"9\", \"10\", \"11\", \"12\", \"13\", \"14\", \"15\", \"16\", \"17\", \"23\", \"24\"], \"mode\": \"markers\", \"name\": \"norm_macro_recall\", \"stepped\": false, \"type\": \"scatter\", \"data\": [0.9999043110169512, 0.9999363592174447, 0.8748566501433775, 0.8419665640021582, 0.9989979942374348, 0.9991833001021654, 0.9789825996886771, 0.98903343448535, 0.9894924941935722, 0.8636444289374422, 0.9991215314805886, 0.9990278233960156, 0.5695646077000523, 0.8268867656183199, 0.7002407194671245, 0.999494688464455, 0.9510398583483713, 0.9783489813598796, 0.9999679517995065, 0.9999038553985193]}, {\"categories\": [\"0\", \"1\", \"2\", \"3\", \"4\", \"5\", \"6\", \"7\", \"8\", \"9\", \"10\", \"11\", \"12\", \"13\", \"14\", \"15\", \"16\", \"17\", \"23\", \"24\"], \"mode\": \"lines\", \"name\": \"norm_macro_recall_max\", \"stepped\": true, \"type\": \"scatter\", \"data\": [0.9999043110169512, 0.9999363592174447, 0.9999363592174447, 0.9999363592174447, 0.9999363592174447, 0.9999363592174447, 0.9999363592174447, 0.9999363592174447, 0.9999363592174447, 0.9999363592174447, 0.9999363592174447, 0.9999363592174447, 0.9999363592174447, 0.9999363592174447, 0.9999363592174447, 0.9999363592174447, 0.9999363592174447, 0.9999363592174447, 0.9999679517995065, 0.9999679517995065]}]}, \"metricName\": null, \"primaryMetricName\": \"accuracy\", \"showLegend\": false}, \"run_metrics\": [{\"name\": \"experiment_status\", \"run_id\": \"AutoML_d5dc6914-09aa-4233-a9ad-8766c76c3119\", \"categories\": [0, 1, 2, 3, 4, 5, 6, 7, 8], \"series\": [{\"data\": [\"DatasetEvaluation\", \"FeaturesGeneration\", \"DatasetFeaturization\", \"DatasetFeaturizationCompleted\", \"DatasetCrossValidationSplit\", \"ModelSelection\", \"BestRunExplainModel\", \"ModelExplanationDataSetSetup\", \"PickSurrogateModel\"]}]}, {\"name\": \"experiment_status_description\", \"run_id\": \"AutoML_d5dc6914-09aa-4233-a9ad-8766c76c3119\", \"categories\": [0, 1, 2, 3, 4, 5, 6, 7, 8], \"series\": [{\"data\": [\"Gathering dataset statistics.\", \"Generating features for the dataset.\", \"Beginning to fit featurizers and featurize the dataset.\", \"Completed fit featurizers and featurizing the dataset.\", \"Generating individually featurized CV splits.\", \"Beginning model selection.\", \"Best run model explanations started\", \"Model explanations data setup completed\", \"Choosing LinearModel as the surrogate model for explanations\"]}]}, {\"name\": \"average_precision_score_micro\", \"run_id\": \"AutoML_d5dc6914-09aa-4233-a9ad-8766c76c3119\", \"categories\": [0], \"series\": [{\"data\": [0.9999977148051079]}]}, {\"name\": \"average_precision_score_macro\", \"run_id\": \"AutoML_d5dc6914-09aa-4233-a9ad-8766c76c3119\", \"categories\": [0], \"series\": [{\"data\": [0.9999970451194052]}]}, {\"name\": \"precision_score_weighted\", \"run_id\": \"AutoML_d5dc6914-09aa-4233-a9ad-8766c76c3119\", \"categories\": [0], \"series\": [{\"data\": [0.9999843695920334]}]}, {\"name\": \"matthews_correlation\", \"run_id\": \"AutoML_d5dc6914-09aa-4233-a9ad-8766c76c3119\", \"categories\": [0], \"series\": [{\"data\": [0.9999687189722257]}]}, {\"name\": \"AUC_macro\", \"run_id\": \"AutoML_d5dc6914-09aa-4233-a9ad-8766c76c3119\", \"categories\": [0], \"series\": [{\"data\": [0.9999969779688266]}]}, {\"name\": \"recall_score_weighted\", \"run_id\": \"AutoML_d5dc6914-09aa-4233-a9ad-8766c76c3119\", \"categories\": [0], \"series\": [{\"data\": [0.9999843681610705]}]}, {\"name\": \"balanced_accuracy\", \"run_id\": \"AutoML_d5dc6914-09aa-4233-a9ad-8766c76c3119\", \"categories\": [0], \"series\": [{\"data\": [0.9999839758997533]}]}, {\"name\": \"AUC_weighted\", \"run_id\": \"AutoML_d5dc6914-09aa-4233-a9ad-8766c76c3119\", \"categories\": [0], \"series\": [{\"data\": [0.9999969779688266]}]}, {\"name\": \"f1_score_macro\", \"run_id\": \"AutoML_d5dc6914-09aa-4233-a9ad-8766c76c3119\", \"categories\": [0], \"series\": [{\"data\": [0.9999843587522014]}]}, {\"name\": \"recall_score_micro\", \"run_id\": \"AutoML_d5dc6914-09aa-4233-a9ad-8766c76c3119\", \"categories\": [0], \"series\": [{\"data\": [0.9999843681610705]}]}, {\"name\": \"AUC_micro\", \"run_id\": \"AutoML_d5dc6914-09aa-4233-a9ad-8766c76c3119\", \"categories\": [0], \"series\": [{\"data\": [0.9999976798550829]}]}, {\"name\": \"recall_score_macro\", \"run_id\": \"AutoML_d5dc6914-09aa-4233-a9ad-8766c76c3119\", \"categories\": [0], \"series\": [{\"data\": [0.9999839758997533]}]}, {\"name\": \"norm_macro_recall\", \"run_id\": \"AutoML_d5dc6914-09aa-4233-a9ad-8766c76c3119\", \"categories\": [0], \"series\": [{\"data\": [0.9999679517995065]}]}, {\"name\": \"f1_score_micro\", \"run_id\": \"AutoML_d5dc6914-09aa-4233-a9ad-8766c76c3119\", \"categories\": [0], \"series\": [{\"data\": [0.9999843681610705]}]}, {\"name\": \"precision_score_macro\", \"run_id\": \"AutoML_d5dc6914-09aa-4233-a9ad-8766c76c3119\", \"categories\": [0], \"series\": [{\"data\": [0.9999847430733553]}]}, {\"name\": \"f1_score_weighted\", \"run_id\": \"AutoML_d5dc6914-09aa-4233-a9ad-8766c76c3119\", \"categories\": [0], \"series\": [{\"data\": [0.9999843681430803]}]}, {\"name\": \"accuracy\", \"run_id\": \"AutoML_d5dc6914-09aa-4233-a9ad-8766c76c3119\", \"categories\": [0], \"series\": [{\"data\": [0.9999843681610705]}]}, {\"name\": \"log_loss\", \"run_id\": \"AutoML_d5dc6914-09aa-4233-a9ad-8766c76c3119\", \"categories\": [0], \"series\": [{\"data\": [0.018257709157975015]}]}, {\"name\": \"precision_score_micro\", \"run_id\": \"AutoML_d5dc6914-09aa-4233-a9ad-8766c76c3119\", \"categories\": [0], \"series\": [{\"data\": [0.9999843681610705]}]}, {\"name\": \"weighted_accuracy\", \"run_id\": \"AutoML_d5dc6914-09aa-4233-a9ad-8766c76c3119\", \"categories\": [0], \"series\": [{\"data\": [0.9999847599525488]}]}, {\"name\": \"average_precision_score_weighted\", \"run_id\": \"AutoML_d5dc6914-09aa-4233-a9ad-8766c76c3119\", \"categories\": [0], \"series\": [{\"data\": [0.9999970434756055]}]}], \"run_logs\": \"\\nRun is completed.\", \"graph\": {}, \"widget_settings\": {\"childWidgetDisplay\": \"popup\", \"send_telemetry\": false, \"log_level\": \"INFO\", \"sdk_version\": \"1.17.0\"}, \"loading\": false}"
          },
          "metadata": {}
        }
      ],
      "execution_count": 8,
      "metadata": {
        "collapsed": false,
        "gather": {
          "logged": 1605199336076
        },
        "jupyter": {
          "outputs_hidden": false,
          "source_hidden": false
        },
        "nteract": {
          "transient": {
            "deleting": false
          }
        }
      }
    },
    {
      "cell_type": "markdown",
      "source": [
        "## Best Model\n",
        "\n",
        "TODO: In the cell below, get the best model from the automl experiments and display all the properties of the model.\n",
        "\n"
      ],
      "metadata": {}
    },
    {
      "cell_type": "code",
      "source": [
        "best_automl_run, best_automl_model = automl_run.get_output()\n",
        "best_run_metrics = best_automl_run.get_metrics()\n",
        "\n",
        "print('Best Run Id: ', best_automl_run.id)\n",
        "print('\\n Accuracy:', best_run_metrics['accuracy'])\n",
        "print(best_automl_model._final_estimator)\n",
        "print(best_automl_run.get_tags())"
      ],
      "outputs": [
        {
          "output_type": "stream",
          "name": "stdout",
          "text": [
            "Best Run Id:  AutoML_d5dc6914-09aa-4233-a9ad-8766c76c3119_23\n",
            "\n",
            " Accuracy: 0.9999843681610705\n",
            "PreFittedSoftVotingClassifier(classification_labels=None,\n",
            "                              estimators=[('1',\n",
            "                                           Pipeline(memory=None,\n",
            "                                                    steps=[('maxabsscaler',\n",
            "                                                            MaxAbsScaler(copy=True)),\n",
            "                                                           ('xgboostclassifier',\n",
            "                                                            XGBoostClassifier(base_score=0.5,\n",
            "                                                                              booster='gbtree',\n",
            "                                                                              colsample_bylevel=1,\n",
            "                                                                              colsample_bynode=1,\n",
            "                                                                              colsample_bytree=1,\n",
            "                                                                              gamma=0,\n",
            "                                                                              learning_rate=0.1,\n",
            "                                                                              max_delta_step=0,\n",
            "                                                                              max_depth=3,\n",
            "                                                                              min_child_weight=1,\n",
            "                                                                              miss...\n",
            "                                                                                 min_impurity_split=None,\n",
            "                                                                                 min_samples_leaf=0.035789473684210524,\n",
            "                                                                                 min_samples_split=0.01,\n",
            "                                                                                 min_weight_fraction_leaf=0.0,\n",
            "                                                                                 n_estimators=25,\n",
            "                                                                                 n_jobs=1,\n",
            "                                                                                 oob_score=True,\n",
            "                                                                                 random_state=None,\n",
            "                                                                                 verbose=0,\n",
            "                                                                                 warm_start=False))],\n",
            "                                                    verbose=False))],\n",
            "                              flatten_transform=None,\n",
            "                              weights=[0.16666666666666666, 0.16666666666666666,\n",
            "                                       0.16666666666666666, 0.16666666666666666,\n",
            "                                       0.16666666666666666,\n",
            "                                       0.16666666666666666])\n",
            "{'_aml_system_azureml.automlComponent': 'AutoML', '_aml_system_ComputeTargetStatus': '{\"AllocationState\":\"steady\",\"PreparingNodeCount\":0,\"RunningNodeCount\":1,\"CurrentNodeCount\":1}', 'ensembled_iterations': '[1, 0, 15, 5, 10, 9]', 'ensembled_algorithms': \"['XGBoostClassifier', 'LightGBM', 'SGD', 'SGD', 'SGD', 'ExtremeRandomTrees']\", 'ensemble_weights': '[0.16666666666666666, 0.16666666666666666, 0.16666666666666666, 0.16666666666666666, 0.16666666666666666, 0.16666666666666666]', 'best_individual_pipeline_score': '0.9999687370551698', 'best_individual_iteration': '1', '_aml_system_automl_is_child_run_end_telemetry_event_logged': 'True', 'model_explain_run_id': 'AutoML_d5dc6914-09aa-4233-a9ad-8766c76c3119_ModelExplain'}\n"
          ]
        }
      ],
      "execution_count": 9,
      "metadata": {
        "collapsed": false,
        "gather": {
          "logged": 1605199406210
        },
        "jupyter": {
          "outputs_hidden": false,
          "source_hidden": false
        },
        "nteract": {
          "transient": {
            "deleting": false
          }
        }
      }
    },
    {
      "cell_type": "code",
      "source": [
        "model = best_automl_run.register_model(model_name = 'best_automl_model', model_path = 'outputs/model.joblib')"
      ],
      "outputs": [],
      "execution_count": null,
      "metadata": {
        "collapsed": false,
        "gather": {
          "logged": 1598431426111
        },
        "jupyter": {
          "outputs_hidden": false,
          "source_hidden": false
        },
        "nteract": {
          "transient": {
            "deleting": false
          }
        }
      }
    },
    {
      "cell_type": "markdown",
      "source": [
        "## Model Deployment\n",
        "\n",
        "Remember you have to deploy only one of the two models you trained.. Perform the steps in the rest of this notebook only if you wish to deploy this model."
      ],
      "metadata": {}
    },
    {
      "cell_type": "code",
      "source": [
        "rest_service = Model.deploy(ws, \"best-model-service\", [model])\n",
        "\n",
        "rest_service.wait_for_deployment(show_output=True)\n",
        "rest_service.update(enable_app_insights=True)"
      ],
      "outputs": [],
      "execution_count": null,
      "metadata": {
        "collapsed": false,
        "gather": {
          "logged": 1598431435189
        },
        "jupyter": {
          "outputs_hidden": false,
          "source_hidden": false
        },
        "nteract": {
          "transient": {
            "deleting": false
          }
        }
      }
    },
    {
      "cell_type": "markdown",
      "source": [
        "TODO: In the cell below, send a request to the web service you deployed to test it."
      ],
      "metadata": {
        "gather": {
          "logged": 1598431657736
        },
        "jupyter": {
          "outputs_hidden": false,
          "source_hidden": false
        },
        "nteract": {
          "transient": {
            "deleting": false
          }
        }
      }
    },
    {
      "cell_type": "code",
      "source": [
        "from azureml.core.authentication import InteractiveLoginAuthentication\n",
        "\n",
        "interactive_auth = InteractiveLoginAuthentication()\n",
        "auth_header = interactive_auth.get_authentication_header()"
      ],
      "outputs": [],
      "execution_count": null,
      "metadata": {}
    },
    {
      "cell_type": "code",
      "source": [
        "data = {\"data\":\n",
        "        [\n",
        "          {\n",
        "            \n",
        "          },\n",
        "          {\n",
        "            \n",
        "          },\n",
        "      ]\n",
        "    }\n",
        "\n",
        "# Convert to JSON string\n",
        "input_data = json.dumps(data)"
      ],
      "outputs": [],
      "execution_count": null,
      "metadata": {}
    },
    {
      "cell_type": "code",
      "source": [
        "import requests\n",
        "\n",
        "\n",
        "response = requests.post(rest_service, \n",
        "                         headers=auth_header, \n",
        "                         json=input_data\n",
        "                        )\n",
        "\n",
        "print(response.json())"
      ],
      "outputs": [],
      "execution_count": null,
      "metadata": {
        "collapsed": false,
        "gather": {
          "logged": 1598432707604
        },
        "jupyter": {
          "outputs_hidden": false,
          "source_hidden": false
        },
        "nteract": {
          "transient": {
            "deleting": false
          }
        }
      }
    },
    {
      "cell_type": "markdown",
      "source": [
        "TODO: In the cell below, print the logs of the web service and delete the service"
      ],
      "metadata": {
        "gather": {
          "logged": 1598432765711
        },
        "jupyter": {
          "outputs_hidden": false,
          "source_hidden": false
        },
        "nteract": {
          "transient": {
            "deleting": false
          }
        }
      }
    },
    {
      "cell_type": "code",
      "source": [
        "logs = rest_service.get_logs()\n",
        "\n",
        "for line in logs.split('\\n'):\n",
        "    print(line)"
      ],
      "outputs": [],
      "execution_count": null,
      "metadata": {
        "collapsed": false,
        "jupyter": {
          "outputs_hidden": false,
          "source_hidden": false
        },
        "nteract": {
          "transient": {
            "deleting": false
          }
        }
      }
    }
  ],
  "metadata": {
    "kernel_info": {
      "name": "python3-azureml"
    },
    "kernelspec": {
      "name": "python3-azureml",
      "language": "python",
      "display_name": "Python 3.6 - AzureML"
    },
    "language_info": {
      "name": "python",
      "version": "3.6.9",
      "mimetype": "text/x-python",
      "codemirror_mode": {
        "name": "ipython",
        "version": 3
      },
      "pygments_lexer": "ipython3",
      "nbconvert_exporter": "python",
      "file_extension": ".py"
    },
    "nteract": {
      "version": "nteract-front-end@1.0.0"
    }
  },
  "nbformat": 4,
  "nbformat_minor": 4
}
{
  "cells": [
    {
      "cell_type": "markdown",
      "source": [
        "# Automated ML"
      ],
      "metadata": {}
    },
    {
      "cell_type": "markdown",
      "source": [
        "Install and import dependencies"
      ],
      "metadata": {
        "nteract": {
          "transient": {
            "deleting": false
          }
        }
      }
    },
    {
      "cell_type": "code",
      "source": [
        "!pip install kaggle"
      ],
      "outputs": [
        {
          "output_type": "stream",
          "name": "stdout",
          "text": [
            "Requirement already satisfied: kaggle in /anaconda/envs/azureml_py36/lib/python3.6/site-packages (1.5.9)\r\n",
            "Requirement already satisfied: certifi in /anaconda/envs/azureml_py36/lib/python3.6/site-packages (from kaggle) (2020.6.20)\r\n",
            "Requirement already satisfied: requests in /anaconda/envs/azureml_py36/lib/python3.6/site-packages (from kaggle) (2.24.0)\r\n",
            "Requirement already satisfied: python-dateutil in /anaconda/envs/azureml_py36/lib/python3.6/site-packages (from kaggle) (2.8.1)\r\n",
            "Requirement already satisfied: tqdm in /anaconda/envs/azureml_py36/lib/python3.6/site-packages (from kaggle) (4.51.0)\r\n",
            "Requirement already satisfied: python-slugify in /anaconda/envs/azureml_py36/lib/python3.6/site-packages (from kaggle) (4.0.1)\r\n",
            "Requirement already satisfied: slugify in /anaconda/envs/azureml_py36/lib/python3.6/site-packages (from kaggle) (0.0.1)\r\n",
            "Requirement already satisfied: six>=1.10 in /anaconda/envs/azureml_py36/lib/python3.6/site-packages (from kaggle) (1.15.0)\r\n",
            "Requirement already satisfied: urllib3 in /anaconda/envs/azureml_py36/lib/python3.6/site-packages (from kaggle) (1.25.11)\r\n",
            "Requirement already satisfied: idna<3,>=2.5 in /anaconda/envs/azureml_py36/lib/python3.6/site-packages (from requests->kaggle) (2.10)\r\n",
            "Requirement already satisfied: chardet<4,>=3.0.2 in /anaconda/envs/azureml_py36/lib/python3.6/site-packages (from requests->kaggle) (3.0.4)\r\n",
            "Requirement already satisfied: text-unidecode>=1.3 in /anaconda/envs/azureml_py36/lib/python3.6/site-packages (from python-slugify->kaggle) (1.3)\r\n"
          ]
        }
      ],
      "execution_count": 1,
      "metadata": {
        "collapsed": true,
        "jupyter": {
          "source_hidden": false,
          "outputs_hidden": false
        },
        "nteract": {
          "transient": {
            "deleting": false
          }
        }
      }
    },
    {
      "cell_type": "markdown",
      "source": [
        "If the import of data_prep fails, see the README on how to download and copy the kaggle.json"
      ],
      "metadata": {
        "nteract": {
          "transient": {
            "deleting": false
          }
        }
      }
    },
    {
      "cell_type": "code",
      "source": [
        "from azureml.core.workspace import Workspace\n",
        "from azureml.core import Experiment, Model, Webservice\n",
        "from azureml.widgets import RunDetails\n",
        "from azureml.train.automl import AutoMLConfig\n",
        "from azureml.core.compute import ComputeTarget, AmlCompute\n",
        "from azureml.core.compute_target import ComputeTargetException\n",
        "\n",
        "import data_prep"
      ],
      "outputs": [
        {
          "output_type": "stream",
          "name": "stdout",
          "text": [
            "Warning: Your Kaggle API key is readable by other users on this system! To fix this, you can run 'chmod 600 /home/azureuser/.kaggle/kaggle.json'\n",
            "Warning: Your Kaggle API key is readable by other users on this system! To fix this, you can run 'chmod 600 /home/azureuser/.kaggle/kaggle.json'\n"
          ]
        }
      ],
      "execution_count": 3,
      "metadata": {
        "collapsed": false,
        "gather": {
          "logged": 1605619820299
        },
        "jupyter": {
          "outputs_hidden": false,
          "source_hidden": false
        },
        "nteract": {
          "transient": {
            "deleting": false
          }
        }
      }
    },
    {
      "cell_type": "markdown",
      "source": [
        "## Dataset\n",
        "\n",
        "### Overview\n",
        "TODO: In this markdown cell, give an overview of the dataset you are using. Also mention the task you will be performing.\n",
        "\n",
        "\n",
        "TODO: Get data. In the cell below, write code to access the data you will be using in this project. Remember that the dataset needs to be external."
      ],
      "metadata": {}
    },
    {
      "cell_type": "code",
      "source": [
        "ws = Workspace.from_config()\n",
        "experiment_name = 'automl_experiment'\n",
        "\n",
        "experiment=Experiment(ws, experiment_name)\n",
        "\n",
        "dataset = data_prep.get_dataset(ws)"
      ],
      "outputs": [],
      "execution_count": 6,
      "metadata": {
        "collapsed": false,
        "gather": {
          "logged": 1605619860321
        },
        "jupyter": {
          "outputs_hidden": false,
          "source_hidden": false
        },
        "nteract": {
          "transient": {
            "deleting": false
          }
        }
      }
    },
    {
      "cell_type": "code",
      "source": [
        "dataset = data_prep_malware.create_dataset(ws)"
      ],
      "outputs": [
        {
          "output_type": "stream",
          "name": "stderr",
          "text": [
            "WARNING - Method register_pandas_dataframe: This is an experimental method, and may change at any time.<br/>For more information, see https://aka.ms/azuremlexperimental.\n"
          ]
        },
        {
          "output_type": "stream",
          "name": "stdout",
          "text": [
            "Validating arguments.\n",
            "Arguments validated.\n",
            "Successfully obtained datastore reference and path.\n",
            "Uploading file to managed-dataset/4d18c7ab-3cf5-4b6a-844e-e9d3a4086127/\n",
            "Successfully uploaded file to datastore.\n",
            "Creating and registering a new dataset.\n",
            "Successfully created and registered a new dataset.\n"
          ]
        }
      ],
      "execution_count": 10,
      "metadata": {
        "collapsed": true,
        "jupyter": {
          "source_hidden": false,
          "outputs_hidden": false
        },
        "nteract": {
          "transient": {
            "deleting": false
          }
        },
        "gather": {
          "logged": 1605551806987
        }
      }
    },
    {
      "cell_type": "markdown",
      "source": [
        "## Find or Create Compute Cluster"
      ],
      "metadata": {}
    },
    {
      "cell_type": "code",
      "source": [
        "cpu_cluster_name = \"cpu-cluster\"\n",
        "\n",
        "# Check if the cluster exists. If there is an error, create the cluster\n",
        "try:\n",
        "    cpu_cluster = ComputeTarget(workspace=ws, name=cpu_cluster_name)\n",
        "    print('Found existing cluster, use it.')\n",
        "except ComputeTargetException:\n",
        "    compute_config = AmlCompute.provisioning_configuration(vm_size='STANDARD_DS11_V2',\n",
        "                                                            max_nodes=10)\n",
        "    cpu_cluster = ComputeTarget.create(ws, cpu_cluster_name, compute_config)\n",
        "    \n",
        "\n",
        "cpu_cluster.wait_for_completion(show_output=True)"
      ],
      "outputs": [
        {
          "output_type": "stream",
          "name": "stdout",
          "text": [
            "Found existing cluster, use it.\n",
            "Succeeded\n",
            "AmlCompute wait for completion finished\n",
            "\n",
            "Minimum number of nodes requested have been provisioned\n"
          ]
        }
      ],
      "execution_count": 7,
      "metadata": {
        "collapsed": false,
        "gather": {
          "logged": 1605619868692
        },
        "jupyter": {
          "outputs_hidden": false,
          "source_hidden": false
        },
        "nteract": {
          "transient": {
            "deleting": false
          }
        }
      }
    },
    {
      "cell_type": "markdown",
      "source": [
        "## AutoML Configuration\n",
        "\n",
        "TODO: Explain why you chose the automl settings and cofiguration you used below."
      ],
      "metadata": {}
    },
    {
      "cell_type": "code",
      "source": [
        "automl_settings =  {\n",
        "    \"experiment_timeout_minutes\": 30,\n",
        "    \"max_concurrent_iterations\": 5,\n",
        "    \"primary_metric\" : 'accuracy',\n",
        "    \"n_cross_validations\": 3,\n",
        "    \"enable_early_stopping\": True,\n",
        "    \"featurization\": 'auto'\n",
        "}\n",
        "\n",
        "automl_config = AutoMLConfig(\n",
        "                    task=\"classification\",\n",
        "                    training_data=dataset,\n",
        "                    label_column_name=\"legitimate\",\n",
        "                    compute_target=cpu_cluster,\n",
        "                    **automl_settings)"
      ],
      "outputs": [],
      "execution_count": 8,
      "metadata": {
        "collapsed": false,
        "gather": {
          "logged": 1605619877729
        },
        "jupyter": {
          "outputs_hidden": false,
          "source_hidden": false
        },
        "nteract": {
          "transient": {
            "deleting": false
          }
        }
      }
    },
    {
      "cell_type": "code",
      "source": [
        "automl_run = experiment.submit(automl_config)"
      ],
      "outputs": [
        {
          "output_type": "stream",
          "name": "stdout",
          "text": [
            "Running on remote.\n"
          ]
        }
      ],
      "execution_count": 9,
      "metadata": {
        "collapsed": false,
        "gather": {
          "logged": 1605619887466
        },
        "jupyter": {
          "outputs_hidden": false,
          "source_hidden": false
        },
        "nteract": {
          "transient": {
            "deleting": false
          }
        }
      }
    },
    {
      "cell_type": "markdown",
      "source": [
        "## Run Details\n",
        "\n",
        "OPTIONAL: Write about the different models trained and their performance. Why do you think some models did better than others?\n",
        "\n",
        "TODO: In the cell below, use the `RunDetails` widget to show the different experiments."
      ],
      "metadata": {}
    },
    {
      "cell_type": "code",
      "source": [
        "RunDetails(automl_run).show()"
      ],
      "outputs": [
        {
          "output_type": "display_data",
          "data": {
            "text/plain": "_AutoMLWidget(widget_settings={'childWidgetDisplay': 'popup', 'send_telemetry': False, 'log_level': 'INFO', 's…",
            "application/vnd.jupyter.widget-view+json": {
              "version_major": 2,
              "version_minor": 0,
              "model_id": "7c0540592deb4aee9a8bead0bf1651f5"
            }
          },
          "metadata": {}
        },
        {
          "output_type": "display_data",
          "data": {
            "application/aml.mini.widget.v1": "{\"status\": \"Completed\", \"workbench_run_details_uri\": \"https://ml.azure.com/experiments/automl_experiment/runs/AutoML_4f993bc8-389e-4fc5-a624-546a6dece85c?wsid=/subscriptions/ac15aef5-0abe-4be6-a0bd-40abc1594138/resourcegroups/aml-quickstarts-126625/workspaces/quick-starts-ws-126625\", \"run_id\": \"AutoML_4f993bc8-389e-4fc5-a624-546a6dece85c\", \"run_properties\": {\"run_id\": \"AutoML_4f993bc8-389e-4fc5-a624-546a6dece85c\", \"created_utc\": \"2020-11-17T13:31:26.749694Z\", \"properties\": {\"num_iterations\": \"1000\", \"training_type\": \"TrainFull\", \"acquisition_function\": \"EI\", \"primary_metric\": \"accuracy\", \"train_split\": \"0\", \"acquisition_parameter\": \"0\", \"num_cross_validation\": \"3\", \"target\": \"cpu-cluster\", \"AMLSettingsJsonString\": \"{\\\"path\\\":null,\\\"name\\\":\\\"automl_experiment\\\",\\\"subscription_id\\\":\\\"ac15aef5-0abe-4be6-a0bd-40abc1594138\\\",\\\"resource_group\\\":\\\"aml-quickstarts-126625\\\",\\\"workspace_name\\\":\\\"quick-starts-ws-126625\\\",\\\"region\\\":\\\"southcentralus\\\",\\\"compute_target\\\":\\\"cpu-cluster\\\",\\\"spark_service\\\":null,\\\"azure_service\\\":\\\"remote\\\",\\\"_local_managed_run_id\\\":null,\\\"many_models\\\":false,\\\"pipeline_fetch_max_batch_size\\\":1,\\\"iterations\\\":1000,\\\"primary_metric\\\":\\\"accuracy\\\",\\\"task_type\\\":\\\"classification\\\",\\\"data_script\\\":null,\\\"validation_size\\\":0.0,\\\"n_cross_validations\\\":3,\\\"y_min\\\":null,\\\"y_max\\\":null,\\\"num_classes\\\":null,\\\"featurization\\\":\\\"auto\\\",\\\"_ignore_package_version_incompatibilities\\\":false,\\\"is_timeseries\\\":false,\\\"max_cores_per_iteration\\\":1,\\\"max_concurrent_iterations\\\":5,\\\"iteration_timeout_minutes\\\":null,\\\"mem_in_mb\\\":null,\\\"enforce_time_on_windows\\\":false,\\\"experiment_timeout_minutes\\\":30,\\\"experiment_exit_score\\\":null,\\\"whitelist_models\\\":null,\\\"blacklist_algos\\\":[\\\"TensorFlowLinearClassifier\\\",\\\"TensorFlowDNN\\\"],\\\"supported_models\\\":[\\\"XGBoostClassifier\\\",\\\"KNN\\\",\\\"AveragedPerceptronClassifier\\\",\\\"BernoulliNaiveBayes\\\",\\\"ExtremeRandomTrees\\\",\\\"SGD\\\",\\\"LightGBM\\\",\\\"RandomForest\\\",\\\"MultinomialNaiveBayes\\\",\\\"SVM\\\",\\\"DecisionTree\\\",\\\"GradientBoosting\\\",\\\"TensorFlowDNN\\\",\\\"LinearSVM\\\",\\\"LogisticRegression\\\",\\\"TensorFlowLinearClassifier\\\"],\\\"auto_blacklist\\\":true,\\\"blacklist_samples_reached\\\":false,\\\"exclude_nan_labels\\\":true,\\\"verbosity\\\":20,\\\"_debug_log\\\":\\\"azureml_automl.log\\\",\\\"show_warnings\\\":false,\\\"model_explainability\\\":true,\\\"service_url\\\":null,\\\"sdk_url\\\":null,\\\"sdk_packages\\\":null,\\\"enable_onnx_compatible_models\\\":false,\\\"enable_split_onnx_featurizer_estimator_models\\\":false,\\\"vm_type\\\":\\\"STANDARD_DS11_V2\\\",\\\"telemetry_verbosity\\\":20,\\\"send_telemetry\\\":true,\\\"enable_dnn\\\":false,\\\"scenario\\\":\\\"SDK-1.13.0\\\",\\\"environment_label\\\":null,\\\"force_text_dnn\\\":false,\\\"enable_feature_sweeping\\\":true,\\\"enable_early_stopping\\\":true,\\\"early_stopping_n_iters\\\":10,\\\"metrics\\\":null,\\\"enable_ensembling\\\":true,\\\"enable_stack_ensembling\\\":true,\\\"ensemble_iterations\\\":15,\\\"enable_tf\\\":false,\\\"enable_subsampling\\\":null,\\\"subsample_seed\\\":null,\\\"enable_nimbusml\\\":false,\\\"enable_streaming\\\":false,\\\"force_streaming\\\":false,\\\"track_child_runs\\\":true,\\\"allowed_private_models\\\":[],\\\"label_column_name\\\":\\\"legitimate\\\",\\\"weight_column_name\\\":null,\\\"cv_split_column_names\\\":null,\\\"enable_local_managed\\\":false,\\\"cost_mode\\\":1,\\\"lag_length\\\":0,\\\"metric_operation\\\":\\\"maximize\\\",\\\"preprocess\\\":true}\", \"DataPrepJsonString\": \"{\\\\\\\"training_data\\\\\\\": \\\\\\\"{\\\\\\\\\\\\\\\"blocks\\\\\\\\\\\\\\\": [{\\\\\\\\\\\\\\\"id\\\\\\\\\\\\\\\": \\\\\\\\\\\\\\\"a3808daf-774c-48e7-957f-34114f5503ca\\\\\\\\\\\\\\\", \\\\\\\\\\\\\\\"type\\\\\\\\\\\\\\\": \\\\\\\\\\\\\\\"Microsoft.DPrep.GetDatastoreFilesBlock\\\\\\\\\\\\\\\", \\\\\\\\\\\\\\\"arguments\\\\\\\\\\\\\\\": {\\\\\\\\\\\\\\\"datastores\\\\\\\\\\\\\\\": [{\\\\\\\\\\\\\\\"datastoreName\\\\\\\\\\\\\\\": \\\\\\\\\\\\\\\"workspaceblobstore\\\\\\\\\\\\\\\", \\\\\\\\\\\\\\\"path\\\\\\\\\\\\\\\": \\\\\\\\\\\\\\\"managed-dataset/35e1f6d4-6a27-4b46-8e5d-322e3ef3dbda/\\\\\\\\\\\\\\\", \\\\\\\\\\\\\\\"resourceGroup\\\\\\\\\\\\\\\": \\\\\\\\\\\\\\\"aml-quickstarts-126625\\\\\\\\\\\\\\\", \\\\\\\\\\\\\\\"subscription\\\\\\\\\\\\\\\": \\\\\\\\\\\\\\\"ac15aef5-0abe-4be6-a0bd-40abc1594138\\\\\\\\\\\\\\\", \\\\\\\\\\\\\\\"workspaceName\\\\\\\\\\\\\\\": \\\\\\\\\\\\\\\"quick-starts-ws-126625\\\\\\\\\\\\\\\"}]}, \\\\\\\\\\\\\\\"localData\\\\\\\\\\\\\\\": {}, \\\\\\\\\\\\\\\"isEnabled\\\\\\\\\\\\\\\": true, \\\\\\\\\\\\\\\"name\\\\\\\\\\\\\\\": null, \\\\\\\\\\\\\\\"annotation\\\\\\\\\\\\\\\": null}, {\\\\\\\\\\\\\\\"id\\\\\\\\\\\\\\\": \\\\\\\\\\\\\\\"705c6f06-f889-4ad5-9c92-65cda67af69d\\\\\\\\\\\\\\\", \\\\\\\\\\\\\\\"type\\\\\\\\\\\\\\\": \\\\\\\\\\\\\\\"Microsoft.DPrep.ReadParquetFileBlock\\\\\\\\\\\\\\\", \\\\\\\\\\\\\\\"arguments\\\\\\\\\\\\\\\": {\\\\\\\\\\\\\\\"preview\\\\\\\\\\\\\\\": false}, \\\\\\\\\\\\\\\"localData\\\\\\\\\\\\\\\": {}, \\\\\\\\\\\\\\\"isEnabled\\\\\\\\\\\\\\\": true, \\\\\\\\\\\\\\\"name\\\\\\\\\\\\\\\": null, \\\\\\\\\\\\\\\"annotation\\\\\\\\\\\\\\\": null}, {\\\\\\\\\\\\\\\"id\\\\\\\\\\\\\\\": \\\\\\\\\\\\\\\"28d78b0a-207d-4f3f-9127-1d0325d150be\\\\\\\\\\\\\\\", \\\\\\\\\\\\\\\"type\\\\\\\\\\\\\\\": \\\\\\\\\\\\\\\"Microsoft.DPrep.DropColumnsBlock\\\\\\\\\\\\\\\", \\\\\\\\\\\\\\\"arguments\\\\\\\\\\\\\\\": {\\\\\\\\\\\\\\\"columns\\\\\\\\\\\\\\\": {\\\\\\\\\\\\\\\"type\\\\\\\\\\\\\\\": 0, \\\\\\\\\\\\\\\"details\\\\\\\\\\\\\\\": {\\\\\\\\\\\\\\\"selectedColumns\\\\\\\\\\\\\\\": [\\\\\\\\\\\\\\\"Path\\\\\\\\\\\\\\\"]}}}, \\\\\\\\\\\\\\\"localData\\\\\\\\\\\\\\\": {}, \\\\\\\\\\\\\\\"isEnabled\\\\\\\\\\\\\\\": true, \\\\\\\\\\\\\\\"name\\\\\\\\\\\\\\\": null, \\\\\\\\\\\\\\\"annotation\\\\\\\\\\\\\\\": null}], \\\\\\\\\\\\\\\"inspectors\\\\\\\\\\\\\\\": [], \\\\\\\\\\\\\\\"meta\\\\\\\\\\\\\\\": {\\\\\\\\\\\\\\\"savedDatasetId\\\\\\\\\\\\\\\": \\\\\\\\\\\\\\\"297a940d-3d5e-480f-8404-eb564c7664a1\\\\\\\\\\\\\\\", \\\\\\\\\\\\\\\"datasetType\\\\\\\\\\\\\\\": \\\\\\\\\\\\\\\"tabular\\\\\\\\\\\\\\\", \\\\\\\\\\\\\\\"subscriptionId\\\\\\\\\\\\\\\": \\\\\\\\\\\\\\\"ac15aef5-0abe-4be6-a0bd-40abc1594138\\\\\\\\\\\\\\\", \\\\\\\\\\\\\\\"workspaceId\\\\\\\\\\\\\\\": \\\\\\\\\\\\\\\"cc8f942d-63e9-4020-bbc9-d2b49d596d1b\\\\\\\\\\\\\\\", \\\\\\\\\\\\\\\"workspaceLocation\\\\\\\\\\\\\\\": \\\\\\\\\\\\\\\"southcentralus\\\\\\\\\\\\\\\"}}\\\\\\\", \\\\\\\"activities\\\\\\\": 0}\", \"EnableSubsampling\": null, \"runTemplate\": \"AutoML\", \"azureml.runsource\": \"automl\", \"display_task_type\": \"classification\", \"dependencies_versions\": \"{\\\"azureml-widgets\\\": \\\"1.18.0\\\", \\\"azureml-train\\\": \\\"1.18.0\\\", \\\"azureml-train-restclients-hyperdrive\\\": \\\"1.18.0\\\", \\\"azureml-train-core\\\": \\\"1.18.0\\\", \\\"azureml-train-automl\\\": \\\"1.18.0\\\", \\\"azureml-train-automl-runtime\\\": \\\"1.18.0\\\", \\\"azureml-train-automl-client\\\": \\\"1.18.0\\\", \\\"azureml-tensorboard\\\": \\\"1.18.0\\\", \\\"azureml-telemetry\\\": \\\"1.18.0\\\", \\\"azureml-sdk\\\": \\\"1.18.0\\\", \\\"azureml-samples\\\": \\\"0+unknown\\\", \\\"azureml-pipeline\\\": \\\"1.18.0\\\", \\\"azureml-pipeline-steps\\\": \\\"1.18.0\\\", \\\"azureml-pipeline-core\\\": \\\"1.18.0\\\", \\\"azureml-opendatasets\\\": \\\"1.18.0\\\", \\\"azureml-model-management-sdk\\\": \\\"1.0.1b6.post1\\\", \\\"azureml-mlflow\\\": \\\"1.18.0\\\", \\\"azureml-interpret\\\": \\\"1.18.0\\\", \\\"azureml-explain-model\\\": \\\"1.18.0\\\", \\\"azureml-defaults\\\": \\\"1.18.0\\\", \\\"azureml-dataset-runtime\\\": \\\"1.18.0\\\", \\\"azureml-dataprep\\\": \\\"2.4.2\\\", \\\"azureml-dataprep-rslex\\\": \\\"1.2.2\\\", \\\"azureml-dataprep-native\\\": \\\"24.0.0\\\", \\\"azureml-datadrift\\\": \\\"1.18.0\\\", \\\"azureml-core\\\": \\\"1.18.0\\\", \\\"azureml-contrib-services\\\": \\\"1.18.0\\\", \\\"azureml-contrib-server\\\": \\\"1.18.0\\\", \\\"azureml-contrib-reinforcementlearning\\\": \\\"1.18.0\\\", \\\"azureml-contrib-pipeline-steps\\\": \\\"1.18.0\\\", \\\"azureml-contrib-notebook\\\": \\\"1.18.0\\\", \\\"azureml-contrib-interpret\\\": \\\"1.18.0\\\", \\\"azureml-contrib-gbdt\\\": \\\"1.18.0\\\", \\\"azureml-contrib-fairness\\\": \\\"1.18.0\\\", \\\"azureml-contrib-dataset\\\": \\\"1.18.0\\\", \\\"azureml-cli-common\\\": \\\"1.18.0\\\", \\\"azureml-automl-runtime\\\": \\\"1.18.0\\\", \\\"azureml-automl-core\\\": \\\"1.18.0\\\", \\\"azureml-accel-models\\\": \\\"1.18.0\\\"}\", \"_aml_system_scenario_identification\": \"Remote.Parent\", \"ClientType\": \"SDK\", \"environment_cpu_name\": \"AzureML-AutoML\", \"environment_cpu_version\": \"44\", \"environment_gpu_name\": \"AzureML-AutoML-GPU\", \"environment_gpu_version\": \"32\", \"root_attribution\": \"automl\", \"attribution\": \"AutoML\", \"Orchestrator\": \"AutoML\", \"CancelUri\": \"https://southcentralus.experiments.azureml.net/jasmine/v1.0/subscriptions/ac15aef5-0abe-4be6-a0bd-40abc1594138/resourceGroups/aml-quickstarts-126625/providers/Microsoft.MachineLearningServices/workspaces/quick-starts-ws-126625/experimentids/3ec8e204-71c8-45d9-9bb4-609a176ad25f/cancel/AutoML_4f993bc8-389e-4fc5-a624-546a6dece85c\", \"ClientSdkVersion\": \"1.17.0\", \"snapshotId\": \"00000000-0000-0000-0000-000000000000\", \"SetupRunId\": \"AutoML_4f993bc8-389e-4fc5-a624-546a6dece85c_setup\", \"SetupRunContainerId\": \"dcid.AutoML_4f993bc8-389e-4fc5-a624-546a6dece85c_setup\", \"FeaturizationRunJsonPath\": \"featurizer_container.json\", \"FeaturizationRunId\": \"AutoML_4f993bc8-389e-4fc5-a624-546a6dece85c_featurize\", \"ProblemInfoJsonString\": \"{\\\"dataset_num_categorical\\\": 0, \\\"is_sparse\\\": false, \\\"subsampling\\\": false, \\\"dataset_classes\\\": 2, \\\"dataset_features\\\": 56, \\\"dataset_samples\\\": 138047, \\\"single_frequency_class_detected\\\": false}\", \"ModelExplainRunId\": \"AutoML_4f993bc8-389e-4fc5-a624-546a6dece85c_ModelExplain\"}, \"tags\": {\"model_explain_run\": \"best_run\", \"_aml_system_azureml.automlComponent\": \"AutoML\", \"pipeline_id\": \"<cf1dc9b7ea4a50d759bce352343ec6737501695a>;<b19eeb61727e9c4fbb5aa45fb6e9fe3fab5b1f04>;<c7af0367625be6ac5c2fecbfc72ed444cb7a2111>;<f873311e8cfb2bcdbeb6c20367cf912f4ee6733e>;<713f188a27b176644f73e8664c667c674a2d3d62>;<47dd667bb7c34b68c9fffa6fd580565b1f85400f>;<62c0e30b2e9113b3ecd95bcf5b31423c72074070>;<5dfac790c5c209f98a1da2dc1c7fb76f0397324f>;<9e3f4780268658ad403e896559a8d3406152018c>;<e81d621ed176e5fac9def492d4ac54f304146b7c>;<59e4a1b86a57dfaeac5f3a051de6155ffc74f55b>;<52ac74da744a165756acc49238b34b81115532fd>;<a2983da01504b121cc4056d933a1191b51be87bc>;<a91f8b94ae9bf0dfc66e93d29d1ef41b7e2687f2>;<8de8c085d2a4b23d3f4cc392a2f2660d23d38c14>;<80d7fafc6227885ab86e843212a0c5ea47a69004>;<d8d1a28b70a271fc16185d8e06b7faeee4bdd817>;<4d4be808b8b6dd0f67e8354c79eddd3d712440a5>;<19bb9b610818186383462e6b1f9b568bc04b93e9>;<9fd7f177a78effac65f3f97ae40ca91e296c3f10>;<f86e0c37319548491774cfe027df9161ae6eecd2>;<9845a0ba1345a7474c237d10111bcf5bccbb1f0e>;<ce2643edf3d450b10c86c7d034a9bc952dc282d3>;<7e6d29ac12f87df549568aa4d87b909e180e45bc>;<51ae05309834b29f71340af1008fc94fbd8213f4>;<159bc77eee25e2b315ed79d180b93364945bdb2e>;<2ef180061d59b2a4307dca922d836ff60c3ad7a0>;<084738ab69489649dd6612341e4eff30f5076626>;<b4a0428cf617d278b7c36eb08f59ce18de99dc45>;<a072e5a60b811d67a8bb1bea4b562d0dad1b336e>;<e3212a7716ff2c5c66a7d794a69a0a43af3b7761>;<5a89bc07beabb48937a3f259ca33b3a7344d4310>;<92c44476531517d5307d2abfd063a23d2cb431c4>;<19b410d637aa38044977aa433520bdb728bbe74b>;<f794dfe4d1fbf83e31b1ac40533ae320aab9c234>;<7e405177ecfe9df360f9f639b36ced7ae6df0775>;<2793ac0bb3f940c012f2c6db9f638a6e1e3d9521>;<aa6ef3260d3642b5ce5187d399a90cfedb8f24b1>;<__AutoML_Ensemble__>;<__AutoML_Stack_Ensemble__>;\", \"score\": \"<0.9840561772453209>;<0.9838750254019081>;<0.9999637807139545>;<0.979724298212154>;<0.9889748077678808>;<0.9799343733771178>;<0.8594754280555247>;<0.9999420488274797>;<0.9787174236271546>;<0.9799126405461>;<0.9164409435737103>;<0.9542185244352753>;<0.9713430907200497>;<0.9727556518489792>;<0.9787970421423826>;<0.9789636968259479>;<0.9698798839859469>;<0.9802965827670737>;<0.9762979361207877>;<0.9841430931418577>;<0.9733134335767937>;<0.9622157969479023>;<0.9884676910083693>;<0.975559049304436>;<0.9794127994434098>;<0.9955377571971527>;<0.9994494648055997>;<0.9930241174933835>;<0.7006599442790193>;<0.9648090984584505>;<0.9813034721499122>;<0.9993987568605931>;<0.8631920620447838>;<NaN>;<NaN>;<NaN>;<NaN>;<0.9772034030018127>;<0.9999782684283728>;<0.9999710245711637>;\", \"predicted_cost\": \"<0.5>;<0.5>;<0>;<0.5>;<1.292647888880858>;<1.652375>;<1.261913409452522>;<0>;<1.105362915186077>;<0.8101671906218699>;<0.940487076071089>;<1.3288868117341857>;<0.8415043671872868>;<0.6965788818463637>;<1.1705281506078469>;<1.1306537850558127>;<1.1925025649885614>;<1.181796565933128>;<0.6796766196669789>;<1.1610621326831456>;<1.183562435321221>;<1.2049300056449703>;<1.2574935494040447>;<0.6802485335464538>;<1.3523470057487283>;<1.4520719815843628>;<1.3409661126016925>;<1.2061798596567577>;<1.1387855052849976>;<1.4726311000850734>;<1.557937486584191>;<2.298096359275122>;<2.958601326223814>;<4.43112967528837>;<2.524646356118247>;<3.6296745292146375>;<3.800606711792868>;<3.356691771951031>;<0>;<0>;\", \"fit_time\": \"<1.652375>;<0.9729576666666667>;<18.785670333333332>;<0.5784159999999999>;<1.5966509999999998>;<1.0532816666666667>;<1.1137096666666666>;<4.8932530000000005>;<1.9495803333333335>;<0.399362>;<1.9451566666666666>;<1.1890383333333332>;<0.4999686666666667>;<0.9166423333333333>;<1.1291546666666668>;<1.9966540000000002>;<1.150819>;<3.384386333333333>;<0.5598939999999999>;<2.032764333333333>;<0.718622>;<2.371593>;<1.428827>;<2.106342>;<1.232754>;<3.1689143333333334>;<8.817091333333332>;<14.805895>;<1.382653666666667>;<1.5322916666666668>;<29.771205666666663>;<16.320856000000003>;<1.909031>;<NaN>;<NaN>;<NaN>;<NaN>;<20.653175333333333>;<68>;<196>;\", \"training_percent\": \"<100>;<100>;<100>;<100>;<100>;<100>;<100>;<100>;<100>;<100>;<100>;<100>;<100>;<100>;<100>;<100>;<100>;<100>;<100>;<100>;<100>;<100>;<100>;<100>;<100>;<100>;<100>;<100>;<100>;<100>;<100>;<100>;<100>;<100>;<100>;<100>;<100>;<100>;<100>;<100>;\", \"iteration\": \"<2>;<4>;<1>;<3>;<6>;<5>;<7>;<0>;<8>;<9>;<10>;<12>;<11>;<13>;<14>;<17>;<16>;<15>;<18>;<19>;<20>;<21>;<22>;<23>;<24>;<26>;<27>;<29>;<25>;<30>;<28>;<33>;<35>;<32>;<31>;<36>;<37>;<34>;<38>;<39>;\", \"run_preprocessor\": \"<MinMaxScaler>;<MinMaxScaler>;<MaxAbsScaler>;<StandardScalerWrapper>;<StandardScalerWrapper>;<StandardScalerWrapper>;<RobustScaler>;<MaxAbsScaler>;<StandardScalerWrapper>;<StandardScalerWrapper>;<StandardScalerWrapper>;<RobustScaler>;<MinMaxScaler>;<MinMaxScaler>;<MinMaxScaler>;<StandardScalerWrapper>;<MinMaxScaler>;<MinMaxScaler>;<StandardScalerWrapper>;<RobustScaler>;<StandardScalerWrapper>;<MinMaxScaler>;<MaxAbsScaler>;<MinMaxScaler>;<MaxAbsScaler>;<StandardScalerWrapper>;<StandardScalerWrapper>;<SparseNormalizer>;<SparseNormalizer>;<TruncatedSVDWrapper>;<RobustScaler>;<StandardScalerWrapper>;<PCA>;<SparseNormalizer>;<StandardScalerWrapper>;<RobustScaler>;<>;<MinMaxScaler>;<>;<>;\", \"run_algorithm\": \"<RandomForest>;<RandomForest>;<XGBoostClassifier>;<SGD>;<RandomForest>;<SGD>;<ExtremeRandomTrees>;<LightGBM>;<ExtremeRandomTrees>;<SGD>;<SGD>;<ExtremeRandomTrees>;<SGD>;<SGD>;<ExtremeRandomTrees>;<RandomForest>;<ExtremeRandomTrees>;<ExtremeRandomTrees>;<SGD>;<ExtremeRandomTrees>;<RandomForest>;<ExtremeRandomTrees>;<RandomForest>;<SGD>;<ExtremeRandomTrees>;<XGBoostClassifier>;<XGBoostClassifier>;<XGBoostClassifier>;<XGBoostClassifier>;<XGBoostClassifier>;<ExtremeRandomTrees>;<GradientBoosting>;<XGBoostClassifier>;<XGBoostClassifier>;<RandomForest>;<LightGBM>;<>;<RandomForest>;<VotingEnsemble>;<StackEnsemble>;\", \"dynamic_whitelisting_iterations\": \"<25>;<30>;<35>;\", \"automl_best_child_run_id\": \"AutoML_4f993bc8-389e-4fc5-a624-546a6dece85c_38\", \"model_explain_best_run_child_id\": \"AutoML_4f993bc8-389e-4fc5-a624-546a6dece85c_38\"}, \"end_time_utc\": \"2020-11-17T14:07:27.128714Z\", \"status\": \"Completed\", \"log_files\": {}, \"log_groups\": [], \"run_duration\": \"0:36:00\"}, \"child_runs\": [{\"run_id\": \"AutoML_4f993bc8-389e-4fc5-a624-546a6dece85c_0\", \"run_number\": 5, \"metric\": null, \"status\": \"Completed\", \"run_type\": \"azureml.scriptrun\", \"training_percent\": \"100\", \"start_time\": \"2020-11-17T13:49:43.251212Z\", \"end_time\": \"2020-11-17T13:52:49.719057Z\", \"created_time\": \"2020-11-17T13:46:49.114066Z\", \"created_time_dt\": \"2020-11-17T13:46:49.114066Z\", \"duration\": \"0:06:00\", \"iteration\": \"0\", \"goal\": \"accuracy_max\", \"run_name\": \"MaxAbsScaler, LightGBM\", \"run_properties\": \"copy=True\", \"primary_metric\": 0.99994205, \"best_metric\": 0.99994205}, {\"run_id\": \"AutoML_4f993bc8-389e-4fc5-a624-546a6dece85c_1\", \"run_number\": 6, \"metric\": null, \"status\": \"Completed\", \"run_type\": \"azureml.scriptrun\", \"training_percent\": \"100\", \"start_time\": \"2020-11-17T13:49:29.592208Z\", \"end_time\": \"2020-11-17T13:51:35.934006Z\", \"created_time\": \"2020-11-17T13:46:49.255991Z\", \"created_time_dt\": \"2020-11-17T13:46:49.255991Z\", \"duration\": \"0:04:46\", \"iteration\": \"1\", \"goal\": \"accuracy_max\", \"run_name\": \"MaxAbsScaler, XGBoostClassifier\", \"run_properties\": \"copy=True\", \"primary_metric\": 0.99996378, \"best_metric\": 0.99996378}, {\"run_id\": \"AutoML_4f993bc8-389e-4fc5-a624-546a6dece85c_2\", \"run_number\": 7, \"metric\": null, \"status\": \"Completed\", \"run_type\": \"azureml.scriptrun\", \"training_percent\": \"100\", \"start_time\": \"2020-11-17T13:47:01.643646Z\", \"end_time\": \"2020-11-17T13:47:54.372363Z\", \"created_time\": \"2020-11-17T13:46:49.265739Z\", \"created_time_dt\": \"2020-11-17T13:46:49.265739Z\", \"duration\": \"0:01:05\", \"iteration\": \"2\", \"goal\": \"accuracy_max\", \"run_name\": \"MinMaxScaler, RandomForest\", \"run_properties\": \"copy=True, feature_range=(0, 1\", \"primary_metric\": 0.98405618, \"best_metric\": 0.99996378}, {\"run_id\": \"AutoML_4f993bc8-389e-4fc5-a624-546a6dece85c_3\", \"run_number\": 8, \"metric\": null, \"status\": \"Completed\", \"run_type\": \"azureml.scriptrun\", \"training_percent\": \"100\", \"start_time\": \"2020-11-17T13:49:39.458078Z\", \"end_time\": \"2020-11-17T13:52:15.348602Z\", \"created_time\": \"2020-11-17T13:46:49.372084Z\", \"created_time_dt\": \"2020-11-17T13:46:49.372084Z\", \"duration\": \"0:05:25\", \"iteration\": \"3\", \"goal\": \"accuracy_max\", \"run_name\": \"StandardScalerWrapper, SGD\", \"run_properties\": \"<azureml.automl.runtime.shared.model_wrappers.StandardScalerWrapper object at 0x7ff2e2a98c50\", \"primary_metric\": 0.9797243, \"best_metric\": 0.99996378}, {\"run_id\": \"AutoML_4f993bc8-389e-4fc5-a624-546a6dece85c_4\", \"run_number\": 9, \"metric\": null, \"status\": \"Completed\", \"run_type\": \"azureml.scriptrun\", \"training_percent\": \"100\", \"start_time\": \"2020-11-17T13:48:14.852176Z\", \"end_time\": \"2020-11-17T13:49:06.308515Z\", \"created_time\": \"2020-11-17T13:46:49.272062Z\", \"created_time_dt\": \"2020-11-17T13:46:49.272062Z\", \"duration\": \"0:02:17\", \"iteration\": \"4\", \"goal\": \"accuracy_max\", \"run_name\": \"MinMaxScaler, RandomForest\", \"run_properties\": \"copy=True, feature_range=(0, 1\", \"primary_metric\": 0.98387503, \"best_metric\": 0.99996378}, {\"run_id\": \"AutoML_4f993bc8-389e-4fc5-a624-546a6dece85c_5\", \"run_number\": 10, \"metric\": null, \"status\": \"Completed\", \"run_type\": \"azureml.scriptrun\", \"training_percent\": \"100\", \"start_time\": \"2020-11-17T13:49:43.045871Z\", \"end_time\": \"2020-11-17T13:52:35.18549Z\", \"created_time\": \"2020-11-17T13:48:00.036698Z\", \"created_time_dt\": \"2020-11-17T13:48:00.036698Z\", \"duration\": \"0:04:35\", \"iteration\": \"5\", \"goal\": \"accuracy_max\", \"run_name\": \"StandardScalerWrapper, SGD\", \"run_properties\": \"<azureml.automl.runtime.shared.model_wrappers.StandardScalerWrapper object at 0x7f7ca1644390\", \"primary_metric\": 0.97993437, \"best_metric\": 0.99996378}, {\"run_id\": \"AutoML_4f993bc8-389e-4fc5-a624-546a6dece85c_6\", \"run_number\": 11, \"metric\": null, \"status\": \"Completed\", \"run_type\": \"azureml.scriptrun\", \"training_percent\": \"100\", \"start_time\": \"2020-11-17T13:49:40.77098Z\", \"end_time\": \"2020-11-17T13:52:29.752956Z\", \"created_time\": \"2020-11-17T13:49:08.738798Z\", \"created_time_dt\": \"2020-11-17T13:49:08.738798Z\", \"duration\": \"0:03:21\", \"iteration\": \"6\", \"goal\": \"accuracy_max\", \"run_name\": \"StandardScalerWrapper, RandomForest\", \"run_properties\": \"<azureml.automl.runtime.shared.model_wrappers.StandardScalerWrapper object at 0x7f70a11ce9e8\", \"primary_metric\": 0.98897481, \"best_metric\": 0.99996378}, {\"run_id\": \"AutoML_4f993bc8-389e-4fc5-a624-546a6dece85c_7\", \"run_number\": 12, \"metric\": null, \"status\": \"Completed\", \"run_type\": \"azureml.scriptrun\", \"training_percent\": \"100\", \"start_time\": \"2020-11-17T13:52:02.488277Z\", \"end_time\": \"2020-11-17T13:52:53.85272Z\", \"created_time\": \"2020-11-17T13:51:48.339464Z\", \"created_time_dt\": \"2020-11-17T13:51:48.339464Z\", \"duration\": \"0:01:05\", \"iteration\": \"7\", \"goal\": \"accuracy_max\", \"run_name\": \"RobustScaler, ExtremeRandomTrees\", \"run_properties\": \"copy=True, quantile_range=[10, 90], with_centering=False,\\n             with_scaling=False\", \"primary_metric\": 0.85947543, \"best_metric\": 0.99996378}, {\"run_id\": \"AutoML_4f993bc8-389e-4fc5-a624-546a6dece85c_8\", \"run_number\": 13, \"metric\": null, \"status\": \"Completed\", \"run_type\": \"azureml.scriptrun\", \"training_percent\": \"100\", \"start_time\": \"2020-11-17T13:52:40.697995Z\", \"end_time\": \"2020-11-17T13:53:32.655435Z\", \"created_time\": \"2020-11-17T13:52:20.322147Z\", \"created_time_dt\": \"2020-11-17T13:52:20.322147Z\", \"duration\": \"0:01:12\", \"iteration\": \"8\", \"goal\": \"accuracy_max\", \"run_name\": \"StandardScalerWrapper, ExtremeRandomTrees\", \"run_properties\": \"<azureml.automl.runtime.shared.model_wrappers.StandardScalerWrapper object at 0x7f3eb1f2b828\", \"primary_metric\": 0.97871742, \"best_metric\": 0.99996378}, {\"run_id\": \"AutoML_4f993bc8-389e-4fc5-a624-546a6dece85c_9\", \"run_number\": 14, \"metric\": null, \"status\": \"Completed\", \"run_type\": \"azureml.scriptrun\", \"training_percent\": \"100\", \"start_time\": \"2020-11-17T13:52:56.25875Z\", \"end_time\": \"2020-11-17T13:53:39.350801Z\", \"created_time\": \"2020-11-17T13:52:36.561514Z\", \"created_time_dt\": \"2020-11-17T13:52:36.561514Z\", \"duration\": \"0:01:02\", \"iteration\": \"9\", \"goal\": \"accuracy_max\", \"run_name\": \"StandardScalerWrapper, SGD\", \"run_properties\": \"<azureml.automl.runtime.shared.model_wrappers.StandardScalerWrapper object at 0x7fd23808d828\", \"primary_metric\": 0.97991264, \"best_metric\": 0.99996378}, {\"run_id\": \"AutoML_4f993bc8-389e-4fc5-a624-546a6dece85c_10\", \"run_number\": 15, \"metric\": null, \"status\": \"Completed\", \"run_type\": \"azureml.scriptrun\", \"training_percent\": \"100\", \"start_time\": \"2020-11-17T13:53:06.008322Z\", \"end_time\": \"2020-11-17T13:54:02.12045Z\", \"created_time\": \"2020-11-17T13:52:54.311623Z\", \"created_time_dt\": \"2020-11-17T13:52:54.311623Z\", \"duration\": \"0:01:07\", \"iteration\": \"10\", \"goal\": \"accuracy_max\", \"run_name\": \"StandardScalerWrapper, SGD\", \"run_properties\": \"<azureml.automl.runtime.shared.model_wrappers.StandardScalerWrapper object at 0x7f9e62152ef0\", \"primary_metric\": 0.91644094, \"best_metric\": 0.99996378}, {\"run_id\": \"AutoML_4f993bc8-389e-4fc5-a624-546a6dece85c_11\", \"run_number\": 16, \"metric\": null, \"status\": \"Completed\", \"run_type\": \"azureml.scriptrun\", \"training_percent\": \"100\", \"start_time\": \"2020-11-17T13:53:20.083906Z\", \"end_time\": \"2020-11-17T13:54:08.584754Z\", \"created_time\": \"2020-11-17T13:53:09.387688Z\", \"created_time_dt\": \"2020-11-17T13:53:09.387688Z\", \"duration\": \"0:00:59\", \"iteration\": \"11\", \"goal\": \"accuracy_max\", \"run_name\": \"MinMaxScaler, SGD\", \"run_properties\": \"copy=True, feature_range=(0, 1\", \"primary_metric\": 0.97134309, \"best_metric\": 0.99996378}, {\"run_id\": \"AutoML_4f993bc8-389e-4fc5-a624-546a6dece85c_12\", \"run_number\": 17, \"metric\": null, \"status\": \"Completed\", \"run_type\": \"azureml.scriptrun\", \"training_percent\": \"100\", \"start_time\": \"2020-11-17T13:53:21.588191Z\", \"end_time\": \"2020-11-17T13:54:04.180518Z\", \"created_time\": \"2020-11-17T13:53:09.461677Z\", \"created_time_dt\": \"2020-11-17T13:53:09.461677Z\", \"duration\": \"0:00:54\", \"iteration\": \"12\", \"goal\": \"accuracy_max\", \"run_name\": \"RobustScaler, ExtremeRandomTrees\", \"run_properties\": \"copy=True, quantile_range=[10, 90], with_centering=False,\\n             with_scaling=False\", \"primary_metric\": 0.95421852, \"best_metric\": 0.99996378}, {\"run_id\": \"AutoML_4f993bc8-389e-4fc5-a624-546a6dece85c_13\", \"run_number\": 18, \"metric\": null, \"status\": \"Completed\", \"run_type\": \"azureml.scriptrun\", \"training_percent\": \"100\", \"start_time\": \"2020-11-17T13:53:57.637481Z\", \"end_time\": \"2020-11-17T13:54:41.817904Z\", \"created_time\": \"2020-11-17T13:53:46.951563Z\", \"created_time_dt\": \"2020-11-17T13:53:46.951563Z\", \"duration\": \"0:00:54\", \"iteration\": \"13\", \"goal\": \"accuracy_max\", \"run_name\": \"MinMaxScaler, SGD\", \"run_properties\": \"copy=True, feature_range=(0, 1\", \"primary_metric\": 0.97275565, \"best_metric\": 0.99996378}, {\"run_id\": \"AutoML_4f993bc8-389e-4fc5-a624-546a6dece85c_14\", \"run_number\": 19, \"metric\": null, \"status\": \"Completed\", \"run_type\": \"azureml.scriptrun\", \"training_percent\": \"100\", \"start_time\": \"2020-11-17T13:54:03.816003Z\", \"end_time\": \"2020-11-17T13:54:48.418894Z\", \"created_time\": \"2020-11-17T13:53:47.174258Z\", \"created_time_dt\": \"2020-11-17T13:53:47.174258Z\", \"duration\": \"0:01:01\", \"iteration\": \"14\", \"goal\": \"accuracy_max\", \"run_name\": \"MinMaxScaler, ExtremeRandomTrees\", \"run_properties\": \"copy=True, feature_range=(0, 1\", \"primary_metric\": 0.97879704, \"best_metric\": 0.99996378}, {\"run_id\": \"AutoML_4f993bc8-389e-4fc5-a624-546a6dece85c_15\", \"run_number\": 20, \"metric\": null, \"status\": \"Completed\", \"run_type\": \"azureml.scriptrun\", \"training_percent\": \"100\", \"start_time\": \"2020-11-17T13:54:25.10085Z\", \"end_time\": \"2020-11-17T13:55:31.619411Z\", \"created_time\": \"2020-11-17T13:54:13.884428Z\", \"created_time_dt\": \"2020-11-17T13:54:13.884428Z\", \"duration\": \"0:01:17\", \"iteration\": \"15\", \"goal\": \"accuracy_max\", \"run_name\": \"MinMaxScaler, ExtremeRandomTrees\", \"run_properties\": \"copy=True, feature_range=(0, 1\", \"primary_metric\": 0.98029658, \"best_metric\": 0.99996378}, {\"run_id\": \"AutoML_4f993bc8-389e-4fc5-a624-546a6dece85c_16\", \"run_number\": 21, \"metric\": null, \"status\": \"Completed\", \"run_type\": \"azureml.scriptrun\", \"training_percent\": \"100\", \"start_time\": \"2020-11-17T13:54:27.73166Z\", \"end_time\": \"2020-11-17T13:55:16.624816Z\", \"created_time\": \"2020-11-17T13:54:13.904384Z\", \"created_time_dt\": \"2020-11-17T13:54:13.904384Z\", \"duration\": \"0:01:02\", \"iteration\": \"16\", \"goal\": \"accuracy_max\", \"run_name\": \"MinMaxScaler, ExtremeRandomTrees\", \"run_properties\": \"copy=True, feature_range=(0, 1\", \"primary_metric\": 0.96987988, \"best_metric\": 0.99996378}, {\"run_id\": \"AutoML_4f993bc8-389e-4fc5-a624-546a6dece85c_17\", \"run_number\": 22, \"metric\": null, \"status\": \"Completed\", \"run_type\": \"azureml.scriptrun\", \"training_percent\": \"100\", \"start_time\": \"2020-11-17T13:54:31.122964Z\", \"end_time\": \"2020-11-17T13:55:22.087566Z\", \"created_time\": \"2020-11-17T13:54:13.987366Z\", \"created_time_dt\": \"2020-11-17T13:54:13.987366Z\", \"duration\": \"0:01:08\", \"iteration\": \"17\", \"goal\": \"accuracy_max\", \"run_name\": \"StandardScalerWrapper, RandomForest\", \"run_properties\": \"<azureml.automl.runtime.shared.model_wrappers.StandardScalerWrapper object at 0x7f1fdc915b38\", \"primary_metric\": 0.9789637, \"best_metric\": 0.99996378}, {\"run_id\": \"AutoML_4f993bc8-389e-4fc5-a624-546a6dece85c_18\", \"run_number\": 23, \"metric\": null, \"status\": \"Completed\", \"run_type\": \"azureml.scriptrun\", \"training_percent\": \"100\", \"start_time\": \"2020-11-17T13:55:05.438458Z\", \"end_time\": \"2020-11-17T13:55:50.219943Z\", \"created_time\": \"2020-11-17T13:54:51.21874Z\", \"created_time_dt\": \"2020-11-17T13:54:51.21874Z\", \"duration\": \"0:00:59\", \"iteration\": \"18\", \"goal\": \"accuracy_max\", \"run_name\": \"StandardScalerWrapper, SGD\", \"run_properties\": \"<azureml.automl.runtime.shared.model_wrappers.StandardScalerWrapper object at 0x7fa7c4326e80\", \"primary_metric\": 0.97629794, \"best_metric\": 0.99996378}, {\"run_id\": \"AutoML_4f993bc8-389e-4fc5-a624-546a6dece85c_19\", \"run_number\": 24, \"metric\": null, \"status\": \"Completed\", \"run_type\": \"azureml.scriptrun\", \"training_percent\": \"100\", \"start_time\": \"2020-11-17T13:55:13.78384Z\", \"end_time\": \"2020-11-17T13:56:07.10066Z\", \"created_time\": \"2020-11-17T13:54:51.237593Z\", \"created_time_dt\": \"2020-11-17T13:54:51.237593Z\", \"duration\": \"0:01:15\", \"iteration\": \"19\", \"goal\": \"accuracy_max\", \"run_name\": \"RobustScaler, ExtremeRandomTrees\", \"run_properties\": \"copy=True, quantile_range=[25, 75], with_centering=True,\\n             with_scaling=False\", \"primary_metric\": 0.98414309, \"best_metric\": 0.99996378}, {\"run_id\": \"AutoML_4f993bc8-389e-4fc5-a624-546a6dece85c_20\", \"run_number\": 25, \"metric\": null, \"status\": \"Completed\", \"run_type\": \"azureml.scriptrun\", \"training_percent\": \"100\", \"start_time\": \"2020-11-17T13:55:40.340508Z\", \"end_time\": \"2020-11-17T13:56:26.625536Z\", \"created_time\": \"2020-11-17T13:55:27.275819Z\", \"created_time_dt\": \"2020-11-17T13:55:27.275819Z\", \"duration\": \"0:00:59\", \"iteration\": \"20\", \"goal\": \"accuracy_max\", \"run_name\": \"StandardScalerWrapper, RandomForest\", \"run_properties\": \"<azureml.automl.runtime.shared.model_wrappers.StandardScalerWrapper object at 0x7f56eb4c87f0\", \"primary_metric\": 0.97331343, \"best_metric\": 0.99996378}, {\"run_id\": \"AutoML_4f993bc8-389e-4fc5-a624-546a6dece85c_21\", \"run_number\": 26, \"metric\": null, \"status\": \"Completed\", \"run_type\": \"azureml.scriptrun\", \"training_percent\": \"100\", \"start_time\": \"2020-11-17T13:55:45.589931Z\", \"end_time\": \"2020-11-17T13:56:40.565478Z\", \"created_time\": \"2020-11-17T13:55:27.502549Z\", \"created_time_dt\": \"2020-11-17T13:55:27.502549Z\", \"duration\": \"0:01:13\", \"iteration\": \"21\", \"goal\": \"accuracy_max\", \"run_name\": \"MinMaxScaler, ExtremeRandomTrees\", \"run_properties\": \"copy=True, feature_range=(0, 1\", \"primary_metric\": 0.9622158, \"best_metric\": 0.99996378}, {\"run_id\": \"AutoML_4f993bc8-389e-4fc5-a624-546a6dece85c_22\", \"run_number\": 27, \"metric\": null, \"status\": \"Completed\", \"run_type\": \"azureml.scriptrun\", \"training_percent\": \"100\", \"start_time\": \"2020-11-17T13:56:02.41925Z\", \"end_time\": \"2020-11-17T13:56:48.310238Z\", \"created_time\": \"2020-11-17T13:55:50.235278Z\", \"created_time_dt\": \"2020-11-17T13:55:50.235278Z\", \"duration\": \"0:00:58\", \"iteration\": \"22\", \"goal\": \"accuracy_max\", \"run_name\": \"MaxAbsScaler, RandomForest\", \"run_properties\": \"copy=True\", \"primary_metric\": 0.98846769, \"best_metric\": 0.99996378}, {\"run_id\": \"AutoML_4f993bc8-389e-4fc5-a624-546a6dece85c_23\", \"run_number\": 28, \"metric\": null, \"status\": \"Completed\", \"run_type\": \"azureml.scriptrun\", \"training_percent\": \"100\", \"start_time\": \"2020-11-17T13:56:23.447449Z\", \"end_time\": \"2020-11-17T13:57:13.991165Z\", \"created_time\": \"2020-11-17T13:56:10.344185Z\", \"created_time_dt\": \"2020-11-17T13:56:10.344185Z\", \"duration\": \"0:01:03\", \"iteration\": \"23\", \"goal\": \"accuracy_max\", \"run_name\": \"MinMaxScaler, SGD\", \"run_properties\": \"copy=True, feature_range=(0, 1\", \"primary_metric\": 0.97555905, \"best_metric\": 0.99996378}, {\"run_id\": \"AutoML_4f993bc8-389e-4fc5-a624-546a6dece85c_24\", \"run_number\": 29, \"metric\": null, \"status\": \"Completed\", \"run_type\": \"azureml.scriptrun\", \"training_percent\": \"100\", \"start_time\": \"2020-11-17T13:56:36.287058Z\", \"end_time\": \"2020-11-17T13:57:18.990807Z\", \"created_time\": \"2020-11-17T13:56:25.992787Z\", \"created_time_dt\": \"2020-11-17T13:56:25.992787Z\", \"duration\": \"0:00:52\", \"iteration\": \"24\", \"goal\": \"accuracy_max\", \"run_name\": \"MaxAbsScaler, ExtremeRandomTrees\", \"run_properties\": \"copy=True\", \"primary_metric\": 0.9794128, \"best_metric\": 0.99996378}, {\"run_id\": \"AutoML_4f993bc8-389e-4fc5-a624-546a6dece85c_25\", \"run_number\": 30, \"metric\": null, \"status\": \"Completed\", \"run_type\": \"azureml.scriptrun\", \"training_percent\": \"100\", \"start_time\": \"2020-11-17T13:56:53.551348Z\", \"end_time\": \"2020-11-17T13:59:36.038424Z\", \"created_time\": \"2020-11-17T13:56:42.581549Z\", \"created_time_dt\": \"2020-11-17T13:56:42.581549Z\", \"duration\": \"0:02:53\", \"iteration\": \"25\", \"goal\": \"accuracy_max\", \"run_name\": \"SparseNormalizer, XGBoostClassifier\", \"run_properties\": \"<azureml.automl.runtime.shared.model_wrappers.SparseNormalizer object at 0x7f38d8405748\", \"primary_metric\": 0.70065994, \"best_metric\": 0.99996378}, {\"run_id\": \"AutoML_4f993bc8-389e-4fc5-a624-546a6dece85c_26\", \"run_number\": 31, \"metric\": null, \"status\": \"Completed\", \"run_type\": \"azureml.scriptrun\", \"training_percent\": \"100\", \"start_time\": \"2020-11-17T13:57:08.828656Z\", \"end_time\": \"2020-11-17T13:58:04.025259Z\", \"created_time\": \"2020-11-17T13:56:56.782127Z\", \"created_time_dt\": \"2020-11-17T13:56:56.782127Z\", \"duration\": \"0:01:07\", \"iteration\": \"26\", \"goal\": \"accuracy_max\", \"run_name\": \"StandardScalerWrapper, XGBoostClassifier\", \"run_properties\": \"<azureml.automl.runtime.shared.model_wrappers.StandardScalerWrapper object at 0x7f0d263c8390\", \"primary_metric\": 0.99553776, \"best_metric\": 0.99996378}, {\"run_id\": \"AutoML_4f993bc8-389e-4fc5-a624-546a6dece85c_27\", \"run_number\": 32, \"metric\": null, \"status\": \"Completed\", \"run_type\": \"azureml.scriptrun\", \"training_percent\": \"100\", \"start_time\": \"2020-11-17T13:57:08.640302Z\", \"end_time\": \"2020-11-17T13:58:26.479903Z\", \"created_time\": \"2020-11-17T13:56:56.95663Z\", \"created_time_dt\": \"2020-11-17T13:56:56.95663Z\", \"duration\": \"0:01:29\", \"iteration\": \"27\", \"goal\": \"accuracy_max\", \"run_name\": \"StandardScalerWrapper, XGBoostClassifier\", \"run_properties\": \"<azureml.automl.runtime.shared.model_wrappers.StandardScalerWrapper object at 0x7febe649aef0\", \"primary_metric\": 0.99944946, \"best_metric\": 0.99996378}, {\"run_id\": \"AutoML_4f993bc8-389e-4fc5-a624-546a6dece85c_29\", \"run_number\": 33, \"metric\": null, \"status\": \"Completed\", \"run_type\": \"azureml.scriptrun\", \"training_percent\": \"100\", \"start_time\": \"2020-11-17T13:57:37.17474Z\", \"end_time\": \"2020-11-17T13:59:20.163985Z\", \"created_time\": \"2020-11-17T13:57:22.434685Z\", \"created_time_dt\": \"2020-11-17T13:57:22.434685Z\", \"duration\": \"0:01:57\", \"iteration\": \"29\", \"goal\": \"accuracy_max\", \"run_name\": \"SparseNormalizer, XGBoostClassifier\", \"run_properties\": \"<azureml.automl.runtime.shared.model_wrappers.SparseNormalizer object at 0x7f87252aa4a8\", \"primary_metric\": 0.99302412, \"best_metric\": 0.99996378}, {\"run_id\": \"AutoML_4f993bc8-389e-4fc5-a624-546a6dece85c_28\", \"run_number\": 34, \"metric\": null, \"status\": \"Completed\", \"run_type\": \"azureml.scriptrun\", \"training_percent\": \"100\", \"start_time\": \"2020-11-17T13:57:34.200983Z\", \"end_time\": \"2020-11-17T14:00:44.831815Z\", \"created_time\": \"2020-11-17T13:57:22.436696Z\", \"created_time_dt\": \"2020-11-17T13:57:22.436696Z\", \"duration\": \"0:03:22\", \"iteration\": \"28\", \"goal\": \"accuracy_max\", \"run_name\": \"RobustScaler, ExtremeRandomTrees\", \"run_properties\": \"copy=True, quantile_range=[25, 75], with_centering=True,\\n             with_scaling=False\", \"primary_metric\": 0.98130347, \"best_metric\": 0.99996378}, {\"run_id\": \"AutoML_4f993bc8-389e-4fc5-a624-546a6dece85c_30\", \"run_number\": 35, \"metric\": null, \"status\": \"Completed\", \"run_type\": \"azureml.scriptrun\", \"training_percent\": \"100\", \"start_time\": \"2020-11-17T13:58:54.522516Z\", \"end_time\": \"2020-11-17T13:59:40.873987Z\", \"created_time\": \"2020-11-17T13:58:10.73518Z\", \"created_time_dt\": \"2020-11-17T13:58:10.73518Z\", \"duration\": \"0:01:30\", \"iteration\": \"30\", \"goal\": \"accuracy_max\", \"run_name\": \"TruncatedSVDWrapper, XGBoostClassifier\", \"run_properties\": \"n_components=0.5542105263157895, random_state=None\", \"primary_metric\": 0.9648091, \"best_metric\": 0.99996378}, {\"run_id\": \"AutoML_4f993bc8-389e-4fc5-a624-546a6dece85c_31\", \"run_number\": 36, \"metric\": null, \"status\": \"Canceled\", \"run_type\": \"azureml.scriptrun\", \"training_percent\": \"100\", \"start_time\": \"2020-11-17T13:58:50.824031Z\", \"end_time\": \"2020-11-17T14:02:56.048048Z\", \"created_time\": \"2020-11-17T13:58:37.181738Z\", \"created_time_dt\": \"2020-11-17T13:58:37.181738Z\", \"duration\": \"0:04:18\", \"iteration\": \"31\", \"goal\": null, \"run_name\": \"StandardScalerWrapper, RandomForest\", \"run_properties\": null}, {\"run_id\": \"AutoML_4f993bc8-389e-4fc5-a624-546a6dece85c_32\", \"run_number\": 37, \"metric\": null, \"status\": \"Canceled\", \"run_type\": \"azureml.scriptrun\", \"training_percent\": \"100\", \"start_time\": \"2020-11-17T13:59:36.997219Z\", \"end_time\": \"2020-11-17T14:02:57.09259Z\", \"created_time\": \"2020-11-17T13:59:25.264518Z\", \"created_time_dt\": \"2020-11-17T13:59:25.264518Z\", \"duration\": \"0:03:31\", \"iteration\": \"32\", \"goal\": null, \"run_name\": \"SparseNormalizer, XGBoostClassifier\", \"run_properties\": null}, {\"run_id\": \"AutoML_4f993bc8-389e-4fc5-a624-546a6dece85c_33\", \"run_number\": 38, \"metric\": null, \"status\": \"Completed\", \"run_type\": \"azureml.scriptrun\", \"training_percent\": \"100\", \"start_time\": \"2020-11-17T13:59:53.423048Z\", \"end_time\": \"2020-11-17T14:01:50.939673Z\", \"created_time\": \"2020-11-17T13:59:40.778701Z\", \"created_time_dt\": \"2020-11-17T13:59:40.778701Z\", \"duration\": \"0:02:10\", \"iteration\": \"33\", \"goal\": \"accuracy_max\", \"run_name\": \"StandardScalerWrapper, GradientBoosting\", \"run_properties\": \"<azureml.automl.runtime.shared.model_wrappers.StandardScalerWrapper object at 0x7f5455976550\", \"primary_metric\": 0.99939876, \"best_metric\": 0.99996378}, {\"run_id\": \"AutoML_4f993bc8-389e-4fc5-a624-546a6dece85c_34\", \"run_number\": 39, \"metric\": null, \"status\": \"Completed\", \"run_type\": \"azureml.scriptrun\", \"training_percent\": \"100\", \"start_time\": \"2020-11-17T14:00:09.610626Z\", \"end_time\": \"2020-11-17T14:02:28.057814Z\", \"created_time\": \"2020-11-17T13:59:55.478497Z\", \"created_time_dt\": \"2020-11-17T13:59:55.478497Z\", \"duration\": \"0:02:32\", \"iteration\": \"34\", \"goal\": \"accuracy_max\", \"run_name\": \"MinMaxScaler, RandomForest\", \"run_properties\": \"copy=True, feature_range=(0, 1\", \"primary_metric\": 0.9772034, \"best_metric\": 0.99996378}, {\"run_id\": \"AutoML_4f993bc8-389e-4fc5-a624-546a6dece85c_35\", \"run_number\": 40, \"metric\": null, \"status\": \"Completed\", \"run_type\": \"azureml.scriptrun\", \"training_percent\": \"100\", \"start_time\": \"2020-11-17T14:01:09.220412Z\", \"end_time\": \"2020-11-17T14:01:57.91888Z\", \"created_time\": \"2020-11-17T14:00:55.279517Z\", \"created_time_dt\": \"2020-11-17T14:00:55.279517Z\", \"duration\": \"0:01:02\", \"iteration\": \"35\", \"goal\": \"accuracy_max\", \"run_name\": \"PCA, XGBoostClassifier\", \"run_properties\": \"copy=True, iterated_power='auto', n_components=0.6036842105263158,\\n    random_state=None, svd_solver='auto', tol=0.0, whiten=False\", \"primary_metric\": 0.86319206, \"best_metric\": 0.99996378}, {\"run_id\": \"AutoML_4f993bc8-389e-4fc5-a624-546a6dece85c_36\", \"run_number\": 41, \"metric\": null, \"status\": \"Canceled\", \"run_type\": \"azureml.scriptrun\", \"training_percent\": \"100\", \"start_time\": \"2020-11-17T14:02:03.977441Z\", \"end_time\": \"2020-11-17T14:02:55.360537Z\", \"created_time\": \"2020-11-17T14:01:53.507837Z\", \"created_time_dt\": \"2020-11-17T14:01:53.507837Z\", \"duration\": \"0:01:01\", \"iteration\": \"36\", \"goal\": null, \"run_name\": \"RobustScaler, LightGBM\", \"run_properties\": null}, {\"run_id\": \"AutoML_4f993bc8-389e-4fc5-a624-546a6dece85c_37\", \"run_number\": 42, \"metric\": null, \"status\": \"Canceled\", \"run_type\": \"azureml.scriptrun\", \"training_percent\": \"100\", \"start_time\": \"2020-11-17T14:02:20.419543Z\", \"end_time\": \"2020-11-17T14:02:40.161379Z\", \"created_time\": \"2020-11-17T14:02:08.537074Z\", \"created_time_dt\": \"2020-11-17T14:02:08.537074Z\", \"duration\": \"0:00:31\", \"iteration\": \"37\", \"goal\": null, \"run_name\": \"Canceled\", \"run_properties\": null}, {\"run_id\": \"AutoML_4f993bc8-389e-4fc5-a624-546a6dece85c_38\", \"run_number\": 43, \"metric\": null, \"status\": \"Completed\", \"run_type\": \"azureml.scriptrun\", \"training_percent\": \"100\", \"start_time\": \"2020-11-17T14:03:21.028273Z\", \"end_time\": \"2020-11-17T14:05:09.696279Z\", \"created_time\": \"2020-11-17T14:03:08.266405Z\", \"created_time_dt\": \"2020-11-17T14:03:08.266405Z\", \"duration\": \"0:02:01\", \"iteration\": \"38\", \"goal\": \"accuracy_max\", \"run_name\": \"VotingEnsemble\", \"run_properties\": \"classification_labels=None,\\n                              estimators=[('1',\\n                                           Pipeline(memory=None,\\n                                                    steps=[('maxabsscaler',\\n                                                            MaxAbsScaler(copy=True\", \"primary_metric\": 0.99997827, \"best_metric\": 0.99997827}, {\"run_id\": \"AutoML_4f993bc8-389e-4fc5-a624-546a6dece85c_39\", \"run_number\": 44, \"metric\": null, \"status\": \"Completed\", \"run_type\": \"azureml.scriptrun\", \"training_percent\": \"100\", \"start_time\": \"2020-11-17T14:03:20.659045Z\", \"end_time\": \"2020-11-17T14:07:14.019695Z\", \"created_time\": \"2020-11-17T14:03:08.309775Z\", \"created_time_dt\": \"2020-11-17T14:03:08.309775Z\", \"duration\": \"0:04:05\", \"iteration\": \"39\", \"goal\": \"accuracy_max\", \"run_name\": \"StackEnsemble\", \"run_properties\": \"base_learners=[('1',\\n                                        Pipeline(memory=None,\\n                                                 steps=[('maxabsscaler',\\n                                                         MaxAbsScaler(copy=True\", \"primary_metric\": 0.99997102, \"best_metric\": 0.99997827}], \"children_metrics\": {\"categories\": [0], \"series\": {\"log_loss\": [{\"categories\": [\"0\", \"1\", \"2\", \"3\", \"4\", \"5\", \"6\", \"7\", \"8\", \"9\", \"10\", \"11\", \"12\", \"13\", \"14\", \"15\", \"16\", \"17\", \"18\", \"19\", \"20\", \"21\", \"22\", \"23\", \"24\", \"25\", \"26\", \"27\", \"28\", \"29\", \"30\", \"33\", \"34\", \"35\", \"38\", \"39\"], \"mode\": \"markers\", \"name\": \"log_loss\", \"stepped\": false, \"type\": \"scatter\", \"data\": [0.00041227356095178887, 0.00030402111539484046, 0.07627867024846398, 0.07245525950488695, 0.09684484149354855, 0.1623667530069055, 0.050360695858857996, 0.3643926273653433, 0.161348755477531, 0.1808972851253856, 0.2135084576132017, 0.10013692848732021, 0.44727288660900033, 0.08340685473813769, 0.09971322586885155, 0.12691205739977784, 0.2032925662829244, 0.11100955894369557, 0.09213149372016628, 0.10799637071311946, 0.13398587984076288, 0.21971581193200493, 0.06562266624600697, 0.18026961106623593, 0.106469794156696, 0.6103288824135066, 0.2069455392701739, 0.04760690921709162, 0.1207862259934561, 0.062036935561488, 0.2743767817839331, 0.009206369180369075, 0.1925177690657077, 0.3391717017941709, 0.11744392265071718, 0.013250892705429361]}, {\"categories\": [\"0\", \"1\", \"2\", \"3\", \"4\", \"5\", \"6\", \"7\", \"8\", \"9\", \"10\", \"11\", \"12\", \"13\", \"14\", \"15\", \"16\", \"17\", \"18\", \"19\", \"20\", \"21\", \"22\", \"23\", \"24\", \"25\", \"26\", \"27\", \"28\", \"29\", \"30\", \"33\", \"34\", \"35\", \"38\", \"39\"], \"mode\": \"lines\", \"name\": \"log_loss_min\", \"stepped\": true, \"type\": \"scatter\", \"data\": [0.00041227356095178887, 0.00030402111539484046, 0.00030402111539484046, 0.00030402111539484046, 0.00030402111539484046, 0.00030402111539484046, 0.00030402111539484046, 0.00030402111539484046, 0.00030402111539484046, 0.00030402111539484046, 0.00030402111539484046, 0.00030402111539484046, 0.00030402111539484046, 0.00030402111539484046, 0.00030402111539484046, 0.00030402111539484046, 0.00030402111539484046, 0.00030402111539484046, 0.00030402111539484046, 0.00030402111539484046, 0.00030402111539484046, 0.00030402111539484046, 0.00030402111539484046, 0.00030402111539484046, 0.00030402111539484046, 0.00030402111539484046, 0.00030402111539484046, 0.00030402111539484046, 0.00030402111539484046, 0.00030402111539484046, 0.00030402111539484046, 0.00030402111539484046, 0.00030402111539484046, 0.00030402111539484046, 0.00030402111539484046, 0.00030402111539484046]}], \"precision_score_micro\": [{\"categories\": [\"0\", \"1\", \"2\", \"3\", \"4\", \"5\", \"6\", \"7\", \"8\", \"9\", \"10\", \"11\", \"12\", \"13\", \"14\", \"15\", \"16\", \"17\", \"18\", \"19\", \"20\", \"21\", \"22\", \"23\", \"24\", \"25\", \"26\", \"27\", \"28\", \"29\", \"30\", \"33\", \"34\", \"35\", \"38\", \"39\"], \"mode\": \"markers\", \"name\": \"precision_score_micro\", \"stepped\": false, \"type\": \"scatter\", \"data\": [0.9999420488274797, 0.9999637807139545, 0.9840561772453209, 0.979724298212154, 0.9838750254019081, 0.9799343733771178, 0.9889748077678808, 0.8594754280555247, 0.9787174236271546, 0.9799126405461, 0.9164409435737103, 0.9713430907200497, 0.9542185244352753, 0.9727556518489792, 0.9787970421423826, 0.9802965827670737, 0.9698798839859469, 0.9789636968259479, 0.9762979361207877, 0.9841430931418577, 0.9733134335767937, 0.9622157969479023, 0.9884676910083693, 0.975559049304436, 0.9794127994434098, 0.7006599442790193, 0.9955377571971527, 0.9994494648055997, 0.9813034721499122, 0.9930241174933835, 0.9648090984584505, 0.9993987568605931, 0.9772034030018127, 0.8631920620447838, 0.9999782684283728, 0.9999710245711637]}, {\"categories\": [\"0\", \"1\", \"2\", \"3\", \"4\", \"5\", \"6\", \"7\", \"8\", \"9\", \"10\", \"11\", \"12\", \"13\", \"14\", \"15\", \"16\", \"17\", \"18\", \"19\", \"20\", \"21\", \"22\", \"23\", \"24\", \"25\", \"26\", \"27\", \"28\", \"29\", \"30\", \"33\", \"34\", \"35\", \"38\", \"39\"], \"mode\": \"lines\", \"name\": \"precision_score_micro_max\", \"stepped\": true, \"type\": \"scatter\", \"data\": [0.9999420488274797, 0.9999637807139545, 0.9999637807139545, 0.9999637807139545, 0.9999637807139545, 0.9999637807139545, 0.9999637807139545, 0.9999637807139545, 0.9999637807139545, 0.9999637807139545, 0.9999637807139545, 0.9999637807139545, 0.9999637807139545, 0.9999637807139545, 0.9999637807139545, 0.9999637807139545, 0.9999637807139545, 0.9999637807139545, 0.9999637807139545, 0.9999637807139545, 0.9999637807139545, 0.9999637807139545, 0.9999637807139545, 0.9999637807139545, 0.9999637807139545, 0.9999637807139545, 0.9999637807139545, 0.9999637807139545, 0.9999637807139545, 0.9999637807139545, 0.9999637807139545, 0.9999637807139545, 0.9999637807139545, 0.9999637807139545, 0.9999782684283728, 0.9999782684283728]}], \"balanced_accuracy\": [{\"categories\": [\"0\", \"1\", \"2\", \"3\", \"4\", \"5\", \"6\", \"7\", \"8\", \"9\", \"10\", \"11\", \"12\", \"13\", \"14\", \"15\", \"16\", \"17\", \"18\", \"19\", \"20\", \"21\", \"22\", \"23\", \"24\", \"25\", \"26\", \"27\", \"28\", \"29\", \"30\", \"33\", \"34\", \"35\", \"38\", \"39\"], \"mode\": \"markers\", \"name\": \"balanced_accuracy\", \"stepped\": false, \"type\": \"scatter\", \"data\": [0.9999515036717278, 0.9999740281327266, 0.9839205059474154, 0.9736588997601047, 0.980068198288496, 0.9786580724365869, 0.9875708798350583, 0.7655266012519625, 0.9775449194757515, 0.9747335446634745, 0.8616008254198553, 0.9696111837548679, 0.946661354699259, 0.9653650116945581, 0.9721425661681778, 0.9735187986859811, 0.9522951371361511, 0.9797345622051997, 0.9741396701049765, 0.984009570949859, 0.9771459163427009, 0.9618421820303854, 0.9866654135933012, 0.9739925805936708, 0.9726103420315185, 0.5, 0.9944428433426852, 0.9993318424678774, 0.976378027450708, 0.991695074303629, 0.9522764827135225, 0.9991549117490314, 0.966289192648324, 0.7784441377983539, 0.999984416879636, 0.9999723150304733]}, {\"categories\": [\"0\", \"1\", \"2\", \"3\", \"4\", \"5\", \"6\", \"7\", \"8\", \"9\", \"10\", \"11\", \"12\", \"13\", \"14\", \"15\", \"16\", \"17\", \"18\", \"19\", \"20\", \"21\", \"22\", \"23\", \"24\", \"25\", \"26\", \"27\", \"28\", \"29\", \"30\", \"33\", \"34\", \"35\", \"38\", \"39\"], \"mode\": \"lines\", \"name\": \"balanced_accuracy_max\", \"stepped\": true, \"type\": \"scatter\", \"data\": [0.9999515036717278, 0.9999740281327266, 0.9999740281327266, 0.9999740281327266, 0.9999740281327266, 0.9999740281327266, 0.9999740281327266, 0.9999740281327266, 0.9999740281327266, 0.9999740281327266, 0.9999740281327266, 0.9999740281327266, 0.9999740281327266, 0.9999740281327266, 0.9999740281327266, 0.9999740281327266, 0.9999740281327266, 0.9999740281327266, 0.9999740281327266, 0.9999740281327266, 0.9999740281327266, 0.9999740281327266, 0.9999740281327266, 0.9999740281327266, 0.9999740281327266, 0.9999740281327266, 0.9999740281327266, 0.9999740281327266, 0.9999740281327266, 0.9999740281327266, 0.9999740281327266, 0.9999740281327266, 0.9999740281327266, 0.9999740281327266, 0.999984416879636, 0.999984416879636]}], \"AUC_macro\": [{\"categories\": [\"0\", \"1\", \"2\", \"3\", \"4\", \"5\", \"6\", \"7\", \"8\", \"9\", \"10\", \"11\", \"12\", \"13\", \"14\", \"15\", \"16\", \"17\", \"18\", \"19\", \"20\", \"21\", \"22\", \"23\", \"24\", \"25\", \"26\", \"27\", \"28\", \"29\", \"30\", \"33\", \"34\", \"35\", \"38\", \"39\"], \"mode\": \"markers\", \"name\": \"AUC_macro\", \"stepped\": false, \"type\": \"scatter\", \"data\": [0.9999933993723276, 0.9999999246759916, 0.9987848333979862, 0.9951693722603215, 0.9984554430876873, 0.9950720820360623, 0.9992898765353843, 0.9954170150837823, 0.997868694646936, 0.9935641421634019, 0.9946051816381193, 0.99263564660891, 0.991443018096649, 0.9932286472728181, 0.9975804940598135, 0.9979463571223337, 0.9977513360068508, 0.997802681720735, 0.995322608589912, 0.9985933700433135, 0.9975433505116342, 0.9951375098218795, 0.9992485941564554, 0.9936086289421064, 0.9975939114546725, 0.5, 0.9999559683038802, 0.9999979624790871, 0.9973466320000858, 0.9991805131506794, 0.9797805316390518, 0.9999986228011775, 0.9979953268379408, 0.7806115497498114, 0.9999997262979098, 0.9999998262327329]}, {\"categories\": [\"0\", \"1\", \"2\", \"3\", \"4\", \"5\", \"6\", \"7\", \"8\", \"9\", \"10\", \"11\", \"12\", \"13\", \"14\", \"15\", \"16\", \"17\", \"18\", \"19\", \"20\", \"21\", \"22\", \"23\", \"24\", \"25\", \"26\", \"27\", \"28\", \"29\", \"30\", \"33\", \"34\", \"35\", \"38\", \"39\"], \"mode\": \"lines\", \"name\": \"AUC_macro_max\", \"stepped\": true, \"type\": \"scatter\", \"data\": [0.9999933993723276, 0.9999999246759916, 0.9999999246759916, 0.9999999246759916, 0.9999999246759916, 0.9999999246759916, 0.9999999246759916, 0.9999999246759916, 0.9999999246759916, 0.9999999246759916, 0.9999999246759916, 0.9999999246759916, 0.9999999246759916, 0.9999999246759916, 0.9999999246759916, 0.9999999246759916, 0.9999999246759916, 0.9999999246759916, 0.9999999246759916, 0.9999999246759916, 0.9999999246759916, 0.9999999246759916, 0.9999999246759916, 0.9999999246759916, 0.9999999246759916, 0.9999999246759916, 0.9999999246759916, 0.9999999246759916, 0.9999999246759916, 0.9999999246759916, 0.9999999246759916, 0.9999999246759916, 0.9999999246759916, 0.9999999246759916, 0.9999999246759916, 0.9999999246759916]}], \"precision_score_macro\": [{\"categories\": [\"0\", \"1\", \"2\", \"3\", \"4\", \"5\", \"6\", \"7\", \"8\", \"9\", \"10\", \"11\", \"12\", \"13\", \"14\", \"15\", \"16\", \"17\", \"18\", \"19\", \"20\", \"21\", \"22\", \"23\", \"24\", \"25\", \"26\", \"27\", \"28\", \"29\", \"30\", \"33\", \"34\", \"35\", \"38\", \"39\"], \"mode\": \"markers\", \"name\": \"precision_score_macro\", \"stepped\": false, \"type\": \"scatter\", \"data\": [0.9999105742215201, 0.9999401985408444, 0.9784364961229409, 0.9778611967143872, 0.9814239002363706, 0.9738426362198421, 0.9862394760198511, 0.915671556797402, 0.9721745000424636, 0.9772792102133213, 0.9457528863498643, 0.9628024860128774, 0.9450054768320205, 0.9694660163110571, 0.9771441421715084, 0.9793980145340702, 0.976352092428456, 0.9709207520484785, 0.9697060000380119, 0.9785297643924559, 0.9614036563057482, 0.9500841387331008, 0.985871749990586, 0.968240570213739, 0.9781520594069709, 0.35032997213950967, 0.9949184635902256, 0.9993574881421637, 0.9789572934880432, 0.9916754548352419, 0.9633413312819882, 0.9994114052084576, 0.9792332864926009, 0.7517178345121985, 0.9999641139740185, 0.999958945214004]}, {\"categories\": [\"0\", \"1\", \"2\", \"3\", \"4\", \"5\", \"6\", \"7\", \"8\", \"9\", \"10\", \"11\", \"12\", \"13\", \"14\", \"15\", \"16\", \"17\", \"18\", \"19\", \"20\", \"21\", \"22\", \"23\", \"24\", \"25\", \"26\", \"27\", \"28\", \"29\", \"30\", \"33\", \"34\", \"35\", \"38\", \"39\"], \"mode\": \"lines\", \"name\": \"precision_score_macro_max\", \"stepped\": true, \"type\": \"scatter\", \"data\": [0.9999105742215201, 0.9999401985408444, 0.9999401985408444, 0.9999401985408444, 0.9999401985408444, 0.9999401985408444, 0.9999401985408444, 0.9999401985408444, 0.9999401985408444, 0.9999401985408444, 0.9999401985408444, 0.9999401985408444, 0.9999401985408444, 0.9999401985408444, 0.9999401985408444, 0.9999401985408444, 0.9999401985408444, 0.9999401985408444, 0.9999401985408444, 0.9999401985408444, 0.9999401985408444, 0.9999401985408444, 0.9999401985408444, 0.9999401985408444, 0.9999401985408444, 0.9999401985408444, 0.9999401985408444, 0.9999401985408444, 0.9999401985408444, 0.9999401985408444, 0.9999401985408444, 0.9999401985408444, 0.9999401985408444, 0.9999401985408444, 0.9999641139740185, 0.9999641139740185]}], \"weighted_accuracy\": [{\"categories\": [\"0\", \"1\", \"2\", \"3\", \"4\", \"5\", \"6\", \"7\", \"8\", \"9\", \"10\", \"11\", \"12\", \"13\", \"14\", \"15\", \"16\", \"17\", \"18\", \"19\", \"20\", \"21\", \"22\", \"23\", \"24\", \"25\", \"26\", \"27\", \"28\", \"29\", \"30\", \"33\", \"34\", \"35\", \"38\", \"39\"], \"mode\": \"markers\", \"name\": \"weighted_accuracy\", \"stepped\": false, \"type\": \"scatter\", \"data\": [0.9999351288202326, 0.9999562940693113, 0.984153675869222, 0.9841085072588346, 0.9866262361384656, 0.9808554929326988, 0.9899906804575442, 0.9273383965811318, 0.9795685440788865, 0.9836555952581771, 0.9558390366929941, 0.9726037177896093, 0.9597060502752374, 0.9780925864398603, 0.9835998905133106, 0.9852006703652143, 0.9826166832887342, 0.9784056030242857, 0.9778594588982829, 0.9842407582238292, 0.9705478920165155, 0.9625032479363007, 0.9897734476983691, 0.9766954784155608, 0.9843116704058256, 0.845628424226673, 0.9963300053855081, 0.9995349794039008, 0.9848609672402606, 0.9939841427628666, 0.9738584736161312, 0.9995748714814767, 0.9850875588424067, 0.9248589220602144, 0.9999737764415868, 0.9999700421992112]}, {\"categories\": [\"0\", \"1\", \"2\", \"3\", \"4\", \"5\", \"6\", \"7\", \"8\", \"9\", \"10\", \"11\", \"12\", \"13\", \"14\", \"15\", \"16\", \"17\", \"18\", \"19\", \"20\", \"21\", \"22\", \"23\", \"24\", \"25\", \"26\", \"27\", \"28\", \"29\", \"30\", \"33\", \"34\", \"35\", \"38\", \"39\"], \"mode\": \"lines\", \"name\": \"weighted_accuracy_max\", \"stepped\": true, \"type\": \"scatter\", \"data\": [0.9999351288202326, 0.9999562940693113, 0.9999562940693113, 0.9999562940693113, 0.9999562940693113, 0.9999562940693113, 0.9999562940693113, 0.9999562940693113, 0.9999562940693113, 0.9999562940693113, 0.9999562940693113, 0.9999562940693113, 0.9999562940693113, 0.9999562940693113, 0.9999562940693113, 0.9999562940693113, 0.9999562940693113, 0.9999562940693113, 0.9999562940693113, 0.9999562940693113, 0.9999562940693113, 0.9999562940693113, 0.9999562940693113, 0.9999562940693113, 0.9999562940693113, 0.9999562940693113, 0.9999562940693113, 0.9999562940693113, 0.9999562940693113, 0.9999562940693113, 0.9999562940693113, 0.9999562940693113, 0.9999562940693113, 0.9999562940693113, 0.9999737764415868, 0.9999737764415868]}], \"recall_score_weighted\": [{\"categories\": [\"0\", \"1\", \"2\", \"3\", \"4\", \"5\", \"6\", \"7\", \"8\", \"9\", \"10\", \"11\", \"12\", \"13\", \"14\", \"15\", \"16\", \"17\", \"18\", \"19\", \"20\", \"21\", \"22\", \"23\", \"24\", \"25\", \"26\", \"27\", \"28\", \"29\", \"30\", \"33\", \"34\", \"35\", \"38\", \"39\"], \"mode\": \"markers\", \"name\": \"recall_score_weighted\", \"stepped\": false, \"type\": \"scatter\", \"data\": [0.9999420488274797, 0.9999637807139545, 0.9840561772453209, 0.979724298212154, 0.9838750254019081, 0.9799343733771178, 0.9889748077678808, 0.8594754280555247, 0.9787174236271546, 0.9799126405461, 0.9164409435737103, 0.9713430907200497, 0.9542185244352753, 0.9727556518489792, 0.9787970421423826, 0.9802965827670737, 0.9698798839859469, 0.9789636968259479, 0.9762979361207877, 0.9841430931418577, 0.9733134335767937, 0.9622157969479023, 0.9884676910083693, 0.975559049304436, 0.9794127994434098, 0.7006599442790193, 0.9955377571971527, 0.9994494648055997, 0.9813034721499122, 0.9930241174933835, 0.9648090984584505, 0.9993987568605931, 0.9772034030018127, 0.8631920620447838, 0.9999782684283728, 0.9999710245711637]}, {\"categories\": [\"0\", \"1\", \"2\", \"3\", \"4\", \"5\", \"6\", \"7\", \"8\", \"9\", \"10\", \"11\", \"12\", \"13\", \"14\", \"15\", \"16\", \"17\", \"18\", \"19\", \"20\", \"21\", \"22\", \"23\", \"24\", \"25\", \"26\", \"27\", \"28\", \"29\", \"30\", \"33\", \"34\", \"35\", \"38\", \"39\"], \"mode\": \"lines\", \"name\": \"recall_score_weighted_max\", \"stepped\": true, \"type\": \"scatter\", \"data\": [0.9999420488274797, 0.9999637807139545, 0.9999637807139545, 0.9999637807139545, 0.9999637807139545, 0.9999637807139545, 0.9999637807139545, 0.9999637807139545, 0.9999637807139545, 0.9999637807139545, 0.9999637807139545, 0.9999637807139545, 0.9999637807139545, 0.9999637807139545, 0.9999637807139545, 0.9999637807139545, 0.9999637807139545, 0.9999637807139545, 0.9999637807139545, 0.9999637807139545, 0.9999637807139545, 0.9999637807139545, 0.9999637807139545, 0.9999637807139545, 0.9999637807139545, 0.9999637807139545, 0.9999637807139545, 0.9999637807139545, 0.9999637807139545, 0.9999637807139545, 0.9999637807139545, 0.9999637807139545, 0.9999637807139545, 0.9999637807139545, 0.9999782684283728, 0.9999782684283728]}], \"matthews_correlation\": [{\"categories\": [\"0\", \"1\", \"2\", \"3\", \"4\", \"5\", \"6\", \"7\", \"8\", \"9\", \"10\", \"11\", \"12\", \"13\", \"14\", \"15\", \"16\", \"17\", \"18\", \"19\", \"20\", \"21\", \"22\", \"23\", \"24\", \"25\", \"26\", \"27\", \"28\", \"29\", \"30\", \"33\", \"34\", \"35\", \"38\", \"39\"], \"mode\": \"markers\", \"name\": \"matthews_correlation\", \"stepped\": false, \"type\": \"scatter\", \"data\": [0.9998620765058025, 0.9999142249564672, 0.9623411088802056, 0.9515104856888357, 0.9614900126523898, 0.9524883631175012, 0.9738088396887594, 0.6642719198309542, 0.9497040470781123, 0.9520090230510941, 0.7985359691817161, 0.9323834363020636, 0.8916107360716983, 0.9348210840414231, 0.9492622160893801, 0.9528942067780538, 0.9283000679816938, 0.9506135927081609, 0.9438349747651095, 0.9625231197829858, 0.9384145189445903, 0.911830533444565, 0.9725354029472406, 0.9422141481860647, 0.9507378285482933, 0.0, 0.9893611449410294, 0.9986893175761681, 0.955331790380599, 0.983370510314419, 0.9155483335686813, 0.9985662839134681, 0.9454337958157687, 0.58006657818689, 0.9999485302352471, 0.9999312595539648]}, {\"categories\": [\"0\", \"1\", \"2\", \"3\", \"4\", \"5\", \"6\", \"7\", \"8\", \"9\", \"10\", \"11\", \"12\", \"13\", \"14\", \"15\", \"16\", \"17\", \"18\", \"19\", \"20\", \"21\", \"22\", \"23\", \"24\", \"25\", \"26\", \"27\", \"28\", \"29\", \"30\", \"33\", \"34\", \"35\", \"38\", \"39\"], \"mode\": \"lines\", \"name\": \"matthews_correlation_max\", \"stepped\": true, \"type\": \"scatter\", \"data\": [0.9998620765058025, 0.9999142249564672, 0.9999142249564672, 0.9999142249564672, 0.9999142249564672, 0.9999142249564672, 0.9999142249564672, 0.9999142249564672, 0.9999142249564672, 0.9999142249564672, 0.9999142249564672, 0.9999142249564672, 0.9999142249564672, 0.9999142249564672, 0.9999142249564672, 0.9999142249564672, 0.9999142249564672, 0.9999142249564672, 0.9999142249564672, 0.9999142249564672, 0.9999142249564672, 0.9999142249564672, 0.9999142249564672, 0.9999142249564672, 0.9999142249564672, 0.9999142249564672, 0.9999142249564672, 0.9999142249564672, 0.9999142249564672, 0.9999142249564672, 0.9999142249564672, 0.9999142249564672, 0.9999142249564672, 0.9999142249564672, 0.9999485302352471, 0.9999485302352471]}], \"norm_macro_recall\": [{\"categories\": [\"0\", \"1\", \"2\", \"3\", \"4\", \"5\", \"6\", \"7\", \"8\", \"9\", \"10\", \"11\", \"12\", \"13\", \"14\", \"15\", \"16\", \"17\", \"18\", \"19\", \"20\", \"21\", \"22\", \"23\", \"24\", \"25\", \"26\", \"27\", \"28\", \"29\", \"30\", \"33\", \"34\", \"35\", \"38\", \"39\"], \"mode\": \"markers\", \"name\": \"norm_macro_recall\", \"stepped\": false, \"type\": \"scatter\", \"data\": [0.9999030073434557, 0.9999480562654531, 0.9678410118948307, 0.9473177995202094, 0.9601363965769919, 0.9573161448731738, 0.9751417596701165, 0.5310532025039251, 0.955089838951503, 0.9494670893269491, 0.7232016508397106, 0.9392223675097359, 0.8933227093985181, 0.9307300233891164, 0.9442851323363556, 0.9470375973719621, 0.9045902742723019, 0.9594691244103993, 0.948279340209953, 0.968019141899718, 0.9542918326854019, 0.9236843640607709, 0.9733308271866022, 0.9479851611873414, 0.9452206840630369, 0.0, 0.9888856866853701, 0.9986636849357549, 0.9527560549014161, 0.983390148607258, 0.9045529654270451, 0.998309823498063, 0.9325783852966478, 0.5568882755967075, 0.9999688337592719, 0.9999446300609468]}, {\"categories\": [\"0\", \"1\", \"2\", \"3\", \"4\", \"5\", \"6\", \"7\", \"8\", \"9\", \"10\", \"11\", \"12\", \"13\", \"14\", \"15\", \"16\", \"17\", \"18\", \"19\", \"20\", \"21\", \"22\", \"23\", \"24\", \"25\", \"26\", \"27\", \"28\", \"29\", \"30\", \"33\", \"34\", \"35\", \"38\", \"39\"], \"mode\": \"lines\", \"name\": \"norm_macro_recall_max\", \"stepped\": true, \"type\": \"scatter\", \"data\": [0.9999030073434557, 0.9999480562654531, 0.9999480562654531, 0.9999480562654531, 0.9999480562654531, 0.9999480562654531, 0.9999480562654531, 0.9999480562654531, 0.9999480562654531, 0.9999480562654531, 0.9999480562654531, 0.9999480562654531, 0.9999480562654531, 0.9999480562654531, 0.9999480562654531, 0.9999480562654531, 0.9999480562654531, 0.9999480562654531, 0.9999480562654531, 0.9999480562654531, 0.9999480562654531, 0.9999480562654531, 0.9999480562654531, 0.9999480562654531, 0.9999480562654531, 0.9999480562654531, 0.9999480562654531, 0.9999480562654531, 0.9999480562654531, 0.9999480562654531, 0.9999480562654531, 0.9999480562654531, 0.9999480562654531, 0.9999480562654531, 0.9999688337592719, 0.9999688337592719]}], \"recall_score_macro\": [{\"categories\": [\"0\", \"1\", \"2\", \"3\", \"4\", \"5\", \"6\", \"7\", \"8\", \"9\", \"10\", \"11\", \"12\", \"13\", \"14\", \"15\", \"16\", \"17\", \"18\", \"19\", \"20\", \"21\", \"22\", \"23\", \"24\", \"25\", \"26\", \"27\", \"28\", \"29\", \"30\", \"33\", \"34\", \"35\", \"38\", \"39\"], \"mode\": \"markers\", \"name\": \"recall_score_macro\", \"stepped\": false, \"type\": \"scatter\", \"data\": [0.9999515036717278, 0.9999740281327266, 0.9839205059474154, 0.9736588997601047, 0.980068198288496, 0.9786580724365869, 0.9875708798350583, 0.7655266012519625, 0.9775449194757515, 0.9747335446634745, 0.8616008254198553, 0.9696111837548679, 0.946661354699259, 0.9653650116945581, 0.9721425661681778, 0.9735187986859811, 0.9522951371361511, 0.9797345622051997, 0.9741396701049765, 0.984009570949859, 0.9771459163427009, 0.9618421820303854, 0.9866654135933012, 0.9739925805936708, 0.9726103420315185, 0.5, 0.9944428433426852, 0.9993318424678774, 0.976378027450708, 0.991695074303629, 0.9522764827135225, 0.9991549117490314, 0.966289192648324, 0.7784441377983539, 0.999984416879636, 0.9999723150304733]}, {\"categories\": [\"0\", \"1\", \"2\", \"3\", \"4\", \"5\", \"6\", \"7\", \"8\", \"9\", \"10\", \"11\", \"12\", \"13\", \"14\", \"15\", \"16\", \"17\", \"18\", \"19\", \"20\", \"21\", \"22\", \"23\", \"24\", \"25\", \"26\", \"27\", \"28\", \"29\", \"30\", \"33\", \"34\", \"35\", \"38\", \"39\"], \"mode\": \"lines\", \"name\": \"recall_score_macro_max\", \"stepped\": true, \"type\": \"scatter\", \"data\": [0.9999515036717278, 0.9999740281327266, 0.9999740281327266, 0.9999740281327266, 0.9999740281327266, 0.9999740281327266, 0.9999740281327266, 0.9999740281327266, 0.9999740281327266, 0.9999740281327266, 0.9999740281327266, 0.9999740281327266, 0.9999740281327266, 0.9999740281327266, 0.9999740281327266, 0.9999740281327266, 0.9999740281327266, 0.9999740281327266, 0.9999740281327266, 0.9999740281327266, 0.9999740281327266, 0.9999740281327266, 0.9999740281327266, 0.9999740281327266, 0.9999740281327266, 0.9999740281327266, 0.9999740281327266, 0.9999740281327266, 0.9999740281327266, 0.9999740281327266, 0.9999740281327266, 0.9999740281327266, 0.9999740281327266, 0.9999740281327266, 0.999984416879636, 0.999984416879636]}], \"accuracy\": [{\"categories\": [\"0\", \"1\", \"2\", \"3\", \"4\", \"5\", \"6\", \"7\", \"8\", \"9\", \"10\", \"11\", \"12\", \"13\", \"14\", \"15\", \"16\", \"17\", \"18\", \"19\", \"20\", \"21\", \"22\", \"23\", \"24\", \"25\", \"26\", \"27\", \"28\", \"29\", \"30\", \"33\", \"34\", \"35\", \"38\", \"39\"], \"mode\": \"markers\", \"name\": \"accuracy\", \"stepped\": false, \"type\": \"scatter\", \"data\": [0.9999420488274797, 0.9999637807139545, 0.9840561772453209, 0.979724298212154, 0.9838750254019081, 0.9799343733771178, 0.9889748077678808, 0.8594754280555247, 0.9787174236271546, 0.9799126405461, 0.9164409435737103, 0.9713430907200497, 0.9542185244352753, 0.9727556518489792, 0.9787970421423826, 0.9802965827670737, 0.9698798839859469, 0.9789636968259479, 0.9762979361207877, 0.9841430931418577, 0.9733134335767937, 0.9622157969479023, 0.9884676910083693, 0.975559049304436, 0.9794127994434098, 0.7006599442790193, 0.9955377571971527, 0.9994494648055997, 0.9813034721499122, 0.9930241174933835, 0.9648090984584505, 0.9993987568605931, 0.9772034030018127, 0.8631920620447838, 0.9999782684283728, 0.9999710245711637]}, {\"categories\": [\"0\", \"1\", \"2\", \"3\", \"4\", \"5\", \"6\", \"7\", \"8\", \"9\", \"10\", \"11\", \"12\", \"13\", \"14\", \"15\", \"16\", \"17\", \"18\", \"19\", \"20\", \"21\", \"22\", \"23\", \"24\", \"25\", \"26\", \"27\", \"28\", \"29\", \"30\", \"33\", \"34\", \"35\", \"38\", \"39\"], \"mode\": \"lines\", \"name\": \"accuracy_max\", \"stepped\": true, \"type\": \"scatter\", \"data\": [0.9999420488274797, 0.9999637807139545, 0.9999637807139545, 0.9999637807139545, 0.9999637807139545, 0.9999637807139545, 0.9999637807139545, 0.9999637807139545, 0.9999637807139545, 0.9999637807139545, 0.9999637807139545, 0.9999637807139545, 0.9999637807139545, 0.9999637807139545, 0.9999637807139545, 0.9999637807139545, 0.9999637807139545, 0.9999637807139545, 0.9999637807139545, 0.9999637807139545, 0.9999637807139545, 0.9999637807139545, 0.9999637807139545, 0.9999637807139545, 0.9999637807139545, 0.9999637807139545, 0.9999637807139545, 0.9999637807139545, 0.9999637807139545, 0.9999637807139545, 0.9999637807139545, 0.9999637807139545, 0.9999637807139545, 0.9999637807139545, 0.9999782684283728, 0.9999782684283728]}], \"AUC_weighted\": [{\"categories\": [\"0\", \"1\", \"2\", \"3\", \"4\", \"5\", \"6\", \"7\", \"8\", \"9\", \"10\", \"11\", \"12\", \"13\", \"14\", \"15\", \"16\", \"17\", \"18\", \"19\", \"20\", \"21\", \"22\", \"23\", \"24\", \"25\", \"26\", \"27\", \"28\", \"29\", \"30\", \"33\", \"34\", \"35\", \"38\", \"39\"], \"mode\": \"markers\", \"name\": \"AUC_weighted\", \"stepped\": false, \"type\": \"scatter\", \"data\": [0.9999933993723276, 0.9999999246759916, 0.9987848333979862, 0.9951693714334408, 0.9984554430876873, 0.9950720820360623, 0.9992898765353843, 0.9954170150837823, 0.997868694646936, 0.9935641421634019, 0.9946051816381195, 0.9926356466089102, 0.9914430180966493, 0.9932286472728181, 0.9975804940598135, 0.9979463571223336, 0.9977513360068507, 0.997802681720735, 0.995322608589912, 0.9985933700433134, 0.9975433505116343, 0.9951375098218794, 0.9992485941564556, 0.9936086289421061, 0.9975939114546725, 0.5, 0.9999559683038802, 0.9999979624790871, 0.9973466320000859, 0.9991805131506794, 0.9797805316390518, 0.9999986228011775, 0.9979953268379408, 0.7806115497498114, 0.99999972629791, 0.9999998262327329]}, {\"categories\": [\"0\", \"1\", \"2\", \"3\", \"4\", \"5\", \"6\", \"7\", \"8\", \"9\", \"10\", \"11\", \"12\", \"13\", \"14\", \"15\", \"16\", \"17\", \"18\", \"19\", \"20\", \"21\", \"22\", \"23\", \"24\", \"25\", \"26\", \"27\", \"28\", \"29\", \"30\", \"33\", \"34\", \"35\", \"38\", \"39\"], \"mode\": \"lines\", \"name\": \"AUC_weighted_max\", \"stepped\": true, \"type\": \"scatter\", \"data\": [0.9999933993723276, 0.9999999246759916, 0.9999999246759916, 0.9999999246759916, 0.9999999246759916, 0.9999999246759916, 0.9999999246759916, 0.9999999246759916, 0.9999999246759916, 0.9999999246759916, 0.9999999246759916, 0.9999999246759916, 0.9999999246759916, 0.9999999246759916, 0.9999999246759916, 0.9999999246759916, 0.9999999246759916, 0.9999999246759916, 0.9999999246759916, 0.9999999246759916, 0.9999999246759916, 0.9999999246759916, 0.9999999246759916, 0.9999999246759916, 0.9999999246759916, 0.9999999246759916, 0.9999999246759916, 0.9999999246759916, 0.9999999246759916, 0.9999999246759916, 0.9999999246759916, 0.9999999246759916, 0.9999999246759916, 0.9999999246759916, 0.9999999246759916, 0.9999999246759916]}], \"average_precision_score_weighted\": [{\"categories\": [\"0\", \"1\", \"2\", \"3\", \"4\", \"5\", \"6\", \"7\", \"8\", \"9\", \"10\", \"11\", \"12\", \"13\", \"14\", \"15\", \"16\", \"17\", \"18\", \"19\", \"20\", \"21\", \"22\", \"23\", \"24\", \"25\", \"26\", \"27\", \"28\", \"29\", \"30\", \"33\", \"34\", \"35\", \"38\", \"39\"], \"mode\": \"markers\", \"name\": \"average_precision_score_weighted\", \"stepped\": false, \"type\": \"scatter\", \"data\": [0.9999891904022901, 0.9999999246646603, 0.9987561178802817, 0.9943215026046403, 0.9985177487739727, 0.9936295905894085, 0.9992911471163528, 0.9956399332079874, 0.9979121567979395, 0.9922971639607118, 0.9939849638474514, 0.9928578153147045, 0.9920437121205387, 0.9936270485373973, 0.9975979685010928, 0.9980019650656281, 0.997742375340379, 0.9978568468736796, 0.9949812321520609, 0.9985715737141662, 0.9975230883078967, 0.9954611935924428, 0.9992435650788777, 0.9923199852791326, 0.99768060368464, 0.5805438311427695, 0.9999561439185577, 0.999997945082825, 0.99748365965737, 0.9990798497214848, 0.9768216685581738, 0.9999986248746618, 0.9980091690817859, 0.8074096339542022, 0.999999725198435, 0.9999998257492432]}, {\"categories\": [\"0\", \"1\", \"2\", \"3\", \"4\", \"5\", \"6\", \"7\", \"8\", \"9\", \"10\", \"11\", \"12\", \"13\", \"14\", \"15\", \"16\", \"17\", \"18\", \"19\", \"20\", \"21\", \"22\", \"23\", \"24\", \"25\", \"26\", \"27\", \"28\", \"29\", \"30\", \"33\", \"34\", \"35\", \"38\", \"39\"], \"mode\": \"lines\", \"name\": \"average_precision_score_weighted_max\", \"stepped\": true, \"type\": \"scatter\", \"data\": [0.9999891904022901, 0.9999999246646603, 0.9999999246646603, 0.9999999246646603, 0.9999999246646603, 0.9999999246646603, 0.9999999246646603, 0.9999999246646603, 0.9999999246646603, 0.9999999246646603, 0.9999999246646603, 0.9999999246646603, 0.9999999246646603, 0.9999999246646603, 0.9999999246646603, 0.9999999246646603, 0.9999999246646603, 0.9999999246646603, 0.9999999246646603, 0.9999999246646603, 0.9999999246646603, 0.9999999246646603, 0.9999999246646603, 0.9999999246646603, 0.9999999246646603, 0.9999999246646603, 0.9999999246646603, 0.9999999246646603, 0.9999999246646603, 0.9999999246646603, 0.9999999246646603, 0.9999999246646603, 0.9999999246646603, 0.9999999246646603, 0.9999999246646603, 0.9999999246646603]}], \"f1_score_weighted\": [{\"categories\": [\"0\", \"1\", \"2\", \"3\", \"4\", \"5\", \"6\", \"7\", \"8\", \"9\", \"10\", \"11\", \"12\", \"13\", \"14\", \"15\", \"16\", \"17\", \"18\", \"19\", \"20\", \"21\", \"22\", \"23\", \"24\", \"25\", \"26\", \"27\", \"28\", \"29\", \"30\", \"33\", \"34\", \"35\", \"38\", \"39\"], \"mode\": \"markers\", \"name\": \"f1_score_weighted\", \"stepped\": false, \"type\": \"scatter\", \"data\": [0.9999420503054252, 0.9999637825523532, 0.9841024229021192, 0.9796794546925863, 0.9838652442616912, 0.979985199701118, 0.9889843278986142, 0.8442981982266465, 0.978777522810951, 0.9798856731281559, 0.9086573512473927, 0.9714475797920245, 0.9543022199305304, 0.9726959448058391, 0.9787289311796566, 0.980234185942693, 0.9694591996289595, 0.9790615755606916, 0.9763535366738875, 0.9841894281221588, 0.9735374098025756, 0.9624661659936448, 0.9884725489917557, 0.9756335978694729, 0.9793487856126634, 0.5773369958506632, 0.9955366010075384, 0.9994494425956285, 0.9812782871173628, 0.9930241610789453, 0.9645986014199348, 0.9993986802858502, 0.9770476274304198, 0.8209582090870269, 0.999978269090296, 0.9999710251577495]}, {\"categories\": [\"0\", \"1\", \"2\", \"3\", \"4\", \"5\", \"6\", \"7\", \"8\", \"9\", \"10\", \"11\", \"12\", \"13\", \"14\", \"15\", \"16\", \"17\", \"18\", \"19\", \"20\", \"21\", \"22\", \"23\", \"24\", \"25\", \"26\", \"27\", \"28\", \"29\", \"30\", \"33\", \"34\", \"35\", \"38\", \"39\"], \"mode\": \"lines\", \"name\": \"f1_score_weighted_max\", \"stepped\": true, \"type\": \"scatter\", \"data\": [0.9999420503054252, 0.9999637825523532, 0.9999637825523532, 0.9999637825523532, 0.9999637825523532, 0.9999637825523532, 0.9999637825523532, 0.9999637825523532, 0.9999637825523532, 0.9999637825523532, 0.9999637825523532, 0.9999637825523532, 0.9999637825523532, 0.9999637825523532, 0.9999637825523532, 0.9999637825523532, 0.9999637825523532, 0.9999637825523532, 0.9999637825523532, 0.9999637825523532, 0.9999637825523532, 0.9999637825523532, 0.9999637825523532, 0.9999637825523532, 0.9999637825523532, 0.9999637825523532, 0.9999637825523532, 0.9999637825523532, 0.9999637825523532, 0.9999637825523532, 0.9999637825523532, 0.9999637825523532, 0.9999637825523532, 0.9999637825523532, 0.999978269090296, 0.999978269090296]}], \"f1_score_micro\": [{\"categories\": [\"0\", \"1\", \"2\", \"3\", \"4\", \"5\", \"6\", \"7\", \"8\", \"9\", \"10\", \"11\", \"12\", \"13\", \"14\", \"15\", \"16\", \"17\", \"18\", \"19\", \"20\", \"21\", \"22\", \"23\", \"24\", \"25\", \"26\", \"27\", \"28\", \"29\", \"30\", \"33\", \"34\", \"35\", \"38\", \"39\"], \"mode\": \"markers\", \"name\": \"f1_score_micro\", \"stepped\": false, \"type\": \"scatter\", \"data\": [0.9999420488274797, 0.9999637807139545, 0.9840561772453209, 0.979724298212154, 0.9838750254019081, 0.9799343733771178, 0.9889748077678808, 0.8594754280555247, 0.9787174236271546, 0.9799126405461, 0.9164409435737103, 0.9713430907200497, 0.9542185244352753, 0.9727556518489792, 0.9787970421423826, 0.9802965827670737, 0.9698798839859469, 0.9789636968259479, 0.9762979361207877, 0.9841430931418577, 0.9733134335767937, 0.9622157969479023, 0.9884676910083693, 0.975559049304436, 0.9794127994434098, 0.7006599442790193, 0.9955377571971527, 0.9994494648055997, 0.9813034721499122, 0.9930241174933835, 0.9648090984584505, 0.9993987568605931, 0.9772034030018127, 0.8631920620447838, 0.9999782684283728, 0.9999710245711637]}, {\"categories\": [\"0\", \"1\", \"2\", \"3\", \"4\", \"5\", \"6\", \"7\", \"8\", \"9\", \"10\", \"11\", \"12\", \"13\", \"14\", \"15\", \"16\", \"17\", \"18\", \"19\", \"20\", \"21\", \"22\", \"23\", \"24\", \"25\", \"26\", \"27\", \"28\", \"29\", \"30\", \"33\", \"34\", \"35\", \"38\", \"39\"], \"mode\": \"lines\", \"name\": \"f1_score_micro_max\", \"stepped\": true, \"type\": \"scatter\", \"data\": [0.9999420488274797, 0.9999637807139545, 0.9999637807139545, 0.9999637807139545, 0.9999637807139545, 0.9999637807139545, 0.9999637807139545, 0.9999637807139545, 0.9999637807139545, 0.9999637807139545, 0.9999637807139545, 0.9999637807139545, 0.9999637807139545, 0.9999637807139545, 0.9999637807139545, 0.9999637807139545, 0.9999637807139545, 0.9999637807139545, 0.9999637807139545, 0.9999637807139545, 0.9999637807139545, 0.9999637807139545, 0.9999637807139545, 0.9999637807139545, 0.9999637807139545, 0.9999637807139545, 0.9999637807139545, 0.9999637807139545, 0.9999637807139545, 0.9999637807139545, 0.9999637807139545, 0.9999637807139545, 0.9999637807139545, 0.9999637807139545, 0.9999782684283728, 0.9999782684283728]}], \"average_precision_score_micro\": [{\"categories\": [\"0\", \"1\", \"2\", \"3\", \"4\", \"5\", \"6\", \"7\", \"8\", \"9\", \"10\", \"11\", \"12\", \"13\", \"14\", \"15\", \"16\", \"17\", \"18\", \"19\", \"20\", \"21\", \"22\", \"23\", \"24\", \"25\", \"26\", \"27\", \"28\", \"29\", \"30\", \"33\", \"34\", \"35\", \"38\", \"39\"], \"mode\": \"markers\", \"name\": \"average_precision_score_micro\", \"stepped\": false, \"type\": \"scatter\", \"data\": [0.9999955178076129, 0.9999998922511656, 0.998964278393904, 0.9940102583893101, 0.9987229253978015, 0.9929666358259062, 0.9994091108284295, 0.964480754259406, 0.997854498429318, 0.9923948435851355, 0.9798664852597619, 0.9915894194713815, 0.9928009077212518, 0.9940002299562574, 0.9978621751902712, 0.9980759256700082, 0.9958174469927797, 0.9976191639217219, 0.9937564208008501, 0.9985135150328542, 0.9968612791310809, 0.9952971716914524, 0.9993802710481772, 0.9918548849268701, 0.9979225931716313, 0.6406018877108944, 0.9999636521448424, 0.9999982348897746, 0.9978116174208354, 0.9990703730052305, 0.9815546090578136, 0.9999988763867546, 0.9975458070173011, 0.8386732657183297, 0.9999998499456768, 0.9999999150884599]}, {\"categories\": [\"0\", \"1\", \"2\", \"3\", \"4\", \"5\", \"6\", \"7\", \"8\", \"9\", \"10\", \"11\", \"12\", \"13\", \"14\", \"15\", \"16\", \"17\", \"18\", \"19\", \"20\", \"21\", \"22\", \"23\", \"24\", \"25\", \"26\", \"27\", \"28\", \"29\", \"30\", \"33\", \"34\", \"35\", \"38\", \"39\"], \"mode\": \"lines\", \"name\": \"average_precision_score_micro_max\", \"stepped\": true, \"type\": \"scatter\", \"data\": [0.9999955178076129, 0.9999998922511656, 0.9999998922511656, 0.9999998922511656, 0.9999998922511656, 0.9999998922511656, 0.9999998922511656, 0.9999998922511656, 0.9999998922511656, 0.9999998922511656, 0.9999998922511656, 0.9999998922511656, 0.9999998922511656, 0.9999998922511656, 0.9999998922511656, 0.9999998922511656, 0.9999998922511656, 0.9999998922511656, 0.9999998922511656, 0.9999998922511656, 0.9999998922511656, 0.9999998922511656, 0.9999998922511656, 0.9999998922511656, 0.9999998922511656, 0.9999998922511656, 0.9999998922511656, 0.9999998922511656, 0.9999998922511656, 0.9999998922511656, 0.9999998922511656, 0.9999998922511656, 0.9999998922511656, 0.9999998922511656, 0.9999998922511656, 0.9999999150884599]}], \"AUC_micro\": [{\"categories\": [\"0\", \"1\", \"2\", \"3\", \"4\", \"5\", \"6\", \"7\", \"8\", \"9\", \"10\", \"11\", \"12\", \"13\", \"14\", \"15\", \"16\", \"17\", \"18\", \"19\", \"20\", \"21\", \"22\", \"23\", \"24\", \"25\", \"26\", \"27\", \"28\", \"29\", \"30\", \"33\", \"34\", \"35\", \"38\", \"39\"], \"mode\": \"markers\", \"name\": \"AUC_micro\", \"stepped\": false, \"type\": \"scatter\", \"data\": [0.999997067571989, 0.9999998921670247, 0.998947365432108, 0.9955156104714741, 0.998700392916778, 0.9947058375416776, 0.999400102196876, 0.9620066452119236, 0.9978410884897552, 0.9944123112353819, 0.9799799539680029, 0.9923752738003437, 0.9926865471797672, 0.99447178202424, 0.9978341558630138, 0.9980383638673596, 0.9957061350961508, 0.9975792460498346, 0.9946287937168775, 0.9985490767122726, 0.9968144191444067, 0.9951915187448858, 0.9993711171034749, 0.9936252911931525, 0.9978848598195208, 0.7006599442790193, 0.9999635432370276, 0.9999982271253521, 0.9977674456270886, 0.9992585442302158, 0.9856650383514708, 0.9999988755419441, 0.9974939918457418, 0.8701610710507143, 0.9999998496635163, 0.999999914992983]}, {\"categories\": [\"0\", \"1\", \"2\", \"3\", \"4\", \"5\", \"6\", \"7\", \"8\", \"9\", \"10\", \"11\", \"12\", \"13\", \"14\", \"15\", \"16\", \"17\", \"18\", \"19\", \"20\", \"21\", \"22\", \"23\", \"24\", \"25\", \"26\", \"27\", \"28\", \"29\", \"30\", \"33\", \"34\", \"35\", \"38\", \"39\"], \"mode\": \"lines\", \"name\": \"AUC_micro_max\", \"stepped\": true, \"type\": \"scatter\", \"data\": [0.999997067571989, 0.9999998921670247, 0.9999998921670247, 0.9999998921670247, 0.9999998921670247, 0.9999998921670247, 0.9999998921670247, 0.9999998921670247, 0.9999998921670247, 0.9999998921670247, 0.9999998921670247, 0.9999998921670247, 0.9999998921670247, 0.9999998921670247, 0.9999998921670247, 0.9999998921670247, 0.9999998921670247, 0.9999998921670247, 0.9999998921670247, 0.9999998921670247, 0.9999998921670247, 0.9999998921670247, 0.9999998921670247, 0.9999998921670247, 0.9999998921670247, 0.9999998921670247, 0.9999998921670247, 0.9999998921670247, 0.9999998921670247, 0.9999998921670247, 0.9999998921670247, 0.9999998921670247, 0.9999998921670247, 0.9999998921670247, 0.9999998921670247, 0.999999914992983]}], \"f1_score_macro\": [{\"categories\": [\"0\", \"1\", \"2\", \"3\", \"4\", \"5\", \"6\", \"7\", \"8\", \"9\", \"10\", \"11\", \"12\", \"13\", \"14\", \"15\", \"16\", \"17\", \"18\", \"19\", \"20\", \"21\", \"22\", \"23\", \"24\", \"25\", \"26\", \"27\", \"28\", \"29\", \"30\", \"33\", \"34\", \"35\", \"38\", \"39\"], \"mode\": \"markers\", \"name\": \"f1_score_macro\", \"stepped\": false, \"type\": \"scatter\", \"data\": [0.999931033826027, 0.9999571069596156, 0.981118344559094, 0.9757252198850468, 0.9807383419380568, 0.9762038663796021, 0.9868995471966159, 0.8009932770189363, 0.9748015956232612, 0.9759927633935063, 0.883901210812048, 0.9660915997348393, 0.9456227492003219, 0.9673797435542023, 0.9745570211493343, 0.9763774267141866, 0.9631703589170959, 0.9751668103806219, 0.9718828046567412, 0.9812088635250221, 0.968733677979623, 0.9555776710682693, 0.98626214413735, 0.9710450465349485, 0.975296288948614, 0.41199144635368773, 0.9946800601466351, 0.99934461881, 0.9776549412434571, 0.9916851957815149, 0.9575657623479463, 0.9992830396840787, 0.9724531733152171, 0.7588740671867384, 0.9999742631306415, 0.9999656275662882]}, {\"categories\": [\"0\", \"1\", \"2\", \"3\", \"4\", \"5\", \"6\", \"7\", \"8\", \"9\", \"10\", \"11\", \"12\", \"13\", \"14\", \"15\", \"16\", \"17\", \"18\", \"19\", \"20\", \"21\", \"22\", \"23\", \"24\", \"25\", \"26\", \"27\", \"28\", \"29\", \"30\", \"33\", \"34\", \"35\", \"38\", \"39\"], \"mode\": \"lines\", \"name\": \"f1_score_macro_max\", \"stepped\": true, \"type\": \"scatter\", \"data\": [0.999931033826027, 0.9999571069596156, 0.9999571069596156, 0.9999571069596156, 0.9999571069596156, 0.9999571069596156, 0.9999571069596156, 0.9999571069596156, 0.9999571069596156, 0.9999571069596156, 0.9999571069596156, 0.9999571069596156, 0.9999571069596156, 0.9999571069596156, 0.9999571069596156, 0.9999571069596156, 0.9999571069596156, 0.9999571069596156, 0.9999571069596156, 0.9999571069596156, 0.9999571069596156, 0.9999571069596156, 0.9999571069596156, 0.9999571069596156, 0.9999571069596156, 0.9999571069596156, 0.9999571069596156, 0.9999571069596156, 0.9999571069596156, 0.9999571069596156, 0.9999571069596156, 0.9999571069596156, 0.9999571069596156, 0.9999571069596156, 0.9999742631306415, 0.9999742631306415]}], \"average_precision_score_macro\": [{\"categories\": [\"0\", \"1\", \"2\", \"3\", \"4\", \"5\", \"6\", \"7\", \"8\", \"9\", \"10\", \"11\", \"12\", \"13\", \"14\", \"15\", \"16\", \"17\", \"18\", \"19\", \"20\", \"21\", \"22\", \"23\", \"24\", \"25\", \"26\", \"27\", \"28\", \"29\", \"30\", \"33\", \"34\", \"35\", \"38\", \"39\"], \"mode\": \"markers\", \"name\": \"average_precision_score_macro\", \"stepped\": false, \"type\": \"scatter\", \"data\": [0.999984774926148, 0.999999896863649, 0.9982594392154072, 0.9929771127813671, 0.997964792334892, 0.9914207161713072, 0.9990183581419533, 0.9940782597034087, 0.9971249771055558, 0.9900831057076855, 0.992439871305046, 0.9906481219135124, 0.9891961790949809, 0.9918367374720262, 0.996680643702517, 0.9972508967447061, 0.9968591775560834, 0.9970532778343385, 0.9935173615800555, 0.9980123433587517, 0.9965519125935455, 0.9938412087491875, 0.998945108496122, 0.9897747800170543, 0.9968140052578396, 0.5, 0.9999393582086462, 0.9999971608577031, 0.9965607527029444, 0.998782268692555, 0.9715094482405439, 0.9999980975600735, 0.9972377277814705, 0.7742776834772824, 0.9999996229370804, 0.9999997610807444]}, {\"categories\": [\"0\", \"1\", \"2\", \"3\", \"4\", \"5\", \"6\", \"7\", \"8\", \"9\", \"10\", \"11\", \"12\", \"13\", \"14\", \"15\", \"16\", \"17\", \"18\", \"19\", \"20\", \"21\", \"22\", \"23\", \"24\", \"25\", \"26\", \"27\", \"28\", \"29\", \"30\", \"33\", \"34\", \"35\", \"38\", \"39\"], \"mode\": \"lines\", \"name\": \"average_precision_score_macro_max\", \"stepped\": true, \"type\": \"scatter\", \"data\": [0.999984774926148, 0.999999896863649, 0.999999896863649, 0.999999896863649, 0.999999896863649, 0.999999896863649, 0.999999896863649, 0.999999896863649, 0.999999896863649, 0.999999896863649, 0.999999896863649, 0.999999896863649, 0.999999896863649, 0.999999896863649, 0.999999896863649, 0.999999896863649, 0.999999896863649, 0.999999896863649, 0.999999896863649, 0.999999896863649, 0.999999896863649, 0.999999896863649, 0.999999896863649, 0.999999896863649, 0.999999896863649, 0.999999896863649, 0.999999896863649, 0.999999896863649, 0.999999896863649, 0.999999896863649, 0.999999896863649, 0.999999896863649, 0.999999896863649, 0.999999896863649, 0.999999896863649, 0.999999896863649]}], \"recall_score_micro\": [{\"categories\": [\"0\", \"1\", \"2\", \"3\", \"4\", \"5\", \"6\", \"7\", \"8\", \"9\", \"10\", \"11\", \"12\", \"13\", \"14\", \"15\", \"16\", \"17\", \"18\", \"19\", \"20\", \"21\", \"22\", \"23\", \"24\", \"25\", \"26\", \"27\", \"28\", \"29\", \"30\", \"33\", \"34\", \"35\", \"38\", \"39\"], \"mode\": \"markers\", \"name\": \"recall_score_micro\", \"stepped\": false, \"type\": \"scatter\", \"data\": [0.9999420488274797, 0.9999637807139545, 0.9840561772453209, 0.979724298212154, 0.9838750254019081, 0.9799343733771178, 0.9889748077678808, 0.8594754280555247, 0.9787174236271546, 0.9799126405461, 0.9164409435737103, 0.9713430907200497, 0.9542185244352753, 0.9727556518489792, 0.9787970421423826, 0.9802965827670737, 0.9698798839859469, 0.9789636968259479, 0.9762979361207877, 0.9841430931418577, 0.9733134335767937, 0.9622157969479023, 0.9884676910083693, 0.975559049304436, 0.9794127994434098, 0.7006599442790193, 0.9955377571971527, 0.9994494648055997, 0.9813034721499122, 0.9930241174933835, 0.9648090984584505, 0.9993987568605931, 0.9772034030018127, 0.8631920620447838, 0.9999782684283728, 0.9999710245711637]}, {\"categories\": [\"0\", \"1\", \"2\", \"3\", \"4\", \"5\", \"6\", \"7\", \"8\", \"9\", \"10\", \"11\", \"12\", \"13\", \"14\", \"15\", \"16\", \"17\", \"18\", \"19\", \"20\", \"21\", \"22\", \"23\", \"24\", \"25\", \"26\", \"27\", \"28\", \"29\", \"30\", \"33\", \"34\", \"35\", \"38\", \"39\"], \"mode\": \"lines\", \"name\": \"recall_score_micro_max\", \"stepped\": true, \"type\": \"scatter\", \"data\": [0.9999420488274797, 0.9999637807139545, 0.9999637807139545, 0.9999637807139545, 0.9999637807139545, 0.9999637807139545, 0.9999637807139545, 0.9999637807139545, 0.9999637807139545, 0.9999637807139545, 0.9999637807139545, 0.9999637807139545, 0.9999637807139545, 0.9999637807139545, 0.9999637807139545, 0.9999637807139545, 0.9999637807139545, 0.9999637807139545, 0.9999637807139545, 0.9999637807139545, 0.9999637807139545, 0.9999637807139545, 0.9999637807139545, 0.9999637807139545, 0.9999637807139545, 0.9999637807139545, 0.9999637807139545, 0.9999637807139545, 0.9999637807139545, 0.9999637807139545, 0.9999637807139545, 0.9999637807139545, 0.9999637807139545, 0.9999637807139545, 0.9999782684283728, 0.9999782684283728]}], \"precision_score_weighted\": [{\"categories\": [\"0\", \"1\", \"2\", \"3\", \"4\", \"5\", \"6\", \"7\", \"8\", \"9\", \"10\", \"11\", \"12\", \"13\", \"14\", \"15\", \"16\", \"17\", \"18\", \"19\", \"20\", \"21\", \"22\", \"23\", \"24\", \"25\", \"26\", \"27\", \"28\", \"29\", \"30\", \"33\", \"34\", \"35\", \"38\", \"39\"], \"mode\": \"markers\", \"name\": \"precision_score_weighted\", \"stepped\": false, \"type\": \"scatter\", \"data\": [0.9999420592490188, 0.9999637937097514, 0.9842364081167485, 0.9796850788341213, 0.9838667145508558, 0.9801037011738005, 0.9890020360886673, 0.8826007774221457, 0.9789222768174365, 0.9798784523886885, 0.9272634947886483, 0.9717195829136677, 0.9546927543683569, 0.9726878695437658, 0.9787849414448117, 0.9802890551080247, 0.9706887203852262, 0.9793945261397953, 0.9764672572752761, 0.9843241223386201, 0.9745559550923865, 0.9632821059175444, 0.9884867290219597, 0.9758119970288345, 0.9794060419320335, 0.490931859850404, 0.9955363072842521, 0.999449487301642, 0.9812714608820573, 0.9930243044595267, 0.9647372284590431, 0.9993987752370925, 0.9773344963141152, 0.793669670698585, 0.9999782731075313, 0.9999710294749727]}, {\"categories\": [\"0\", \"1\", \"2\", \"3\", \"4\", \"5\", \"6\", \"7\", \"8\", \"9\", \"10\", \"11\", \"12\", \"13\", \"14\", \"15\", \"16\", \"17\", \"18\", \"19\", \"20\", \"21\", \"22\", \"23\", \"24\", \"25\", \"26\", \"27\", \"28\", \"29\", \"30\", \"33\", \"34\", \"35\", \"38\", \"39\"], \"mode\": \"lines\", \"name\": \"precision_score_weighted_max\", \"stepped\": true, \"type\": \"scatter\", \"data\": [0.9999420592490188, 0.9999637937097514, 0.9999637937097514, 0.9999637937097514, 0.9999637937097514, 0.9999637937097514, 0.9999637937097514, 0.9999637937097514, 0.9999637937097514, 0.9999637937097514, 0.9999637937097514, 0.9999637937097514, 0.9999637937097514, 0.9999637937097514, 0.9999637937097514, 0.9999637937097514, 0.9999637937097514, 0.9999637937097514, 0.9999637937097514, 0.9999637937097514, 0.9999637937097514, 0.9999637937097514, 0.9999637937097514, 0.9999637937097514, 0.9999637937097514, 0.9999637937097514, 0.9999637937097514, 0.9999637937097514, 0.9999637937097514, 0.9999637937097514, 0.9999637937097514, 0.9999637937097514, 0.9999637937097514, 0.9999637937097514, 0.9999782731075313, 0.9999782731075313]}]}, \"metricName\": null, \"primaryMetricName\": \"accuracy\", \"showLegend\": false}, \"run_metrics\": [{\"name\": \"experiment_status\", \"run_id\": \"AutoML_4f993bc8-389e-4fc5-a624-546a6dece85c\", \"categories\": [0, 1, 2, 3, 4, 5, 6, 7, 8, 9, 10, 11, 12, 13], \"series\": [{\"data\": [\"DatasetEvaluation\", \"FeaturesGeneration\", \"DatasetFeaturization\", \"DatasetFeaturizationCompleted\", \"DatasetCrossValidationSplit\", \"ModelSelection\", \"BestRunExplainModel\", \"ModelExplanationDataSetSetup\", \"PickSurrogateModel\", \"EngineeredFeatureExplanations\", \"EngineeredFeatureExplanations\", \"RawFeaturesExplanations\", \"RawFeaturesExplanations\", \"BestRunExplainModel\"]}]}, {\"name\": \"experiment_status_description\", \"run_id\": \"AutoML_4f993bc8-389e-4fc5-a624-546a6dece85c\", \"categories\": [0, 1, 2, 3, 4, 5, 6, 7, 8, 9, 10, 11, 12, 13], \"series\": [{\"data\": [\"Gathering dataset statistics.\", \"Generating features for the dataset.\", \"Beginning to fit featurizers and featurize the dataset.\", \"Completed fit featurizers and featurizing the dataset.\", \"Generating individually featurized CV splits.\", \"Beginning model selection.\", \"Best run model explanations started\", \"Model explanations data setup completed\", \"Choosing LightGBM as the surrogate model for explanations\", \"Computation of engineered features started\", \"Computation of engineered features completed\", \"Computation of raw features started\", \"Computation of raw features completed\", \"Best run model explanations completed\"]}]}, {\"name\": \"recall_score_weighted\", \"run_id\": \"AutoML_4f993bc8-389e-4fc5-a624-546a6dece85c\", \"categories\": [0], \"series\": [{\"data\": [0.9999782684283728]}]}, {\"name\": \"AUC_micro\", \"run_id\": \"AutoML_4f993bc8-389e-4fc5-a624-546a6dece85c\", \"categories\": [0], \"series\": [{\"data\": [0.9999998496635163]}]}, {\"name\": \"matthews_correlation\", \"run_id\": \"AutoML_4f993bc8-389e-4fc5-a624-546a6dece85c\", \"categories\": [0], \"series\": [{\"data\": [0.9999485302352471]}]}, {\"name\": \"balanced_accuracy\", \"run_id\": \"AutoML_4f993bc8-389e-4fc5-a624-546a6dece85c\", \"categories\": [0], \"series\": [{\"data\": [0.999984416879636]}]}, {\"name\": \"average_precision_score_macro\", \"run_id\": \"AutoML_4f993bc8-389e-4fc5-a624-546a6dece85c\", \"categories\": [0], \"series\": [{\"data\": [0.9999996229370804]}]}, {\"name\": \"weighted_accuracy\", \"run_id\": \"AutoML_4f993bc8-389e-4fc5-a624-546a6dece85c\", \"categories\": [0], \"series\": [{\"data\": [0.9999737764415868]}]}, {\"name\": \"recall_score_micro\", \"run_id\": \"AutoML_4f993bc8-389e-4fc5-a624-546a6dece85c\", \"categories\": [0], \"series\": [{\"data\": [0.9999782684283728]}]}, {\"name\": \"f1_score_macro\", \"run_id\": \"AutoML_4f993bc8-389e-4fc5-a624-546a6dece85c\", \"categories\": [0], \"series\": [{\"data\": [0.9999742631306415]}]}, {\"name\": \"average_precision_score_weighted\", \"run_id\": \"AutoML_4f993bc8-389e-4fc5-a624-546a6dece85c\", \"categories\": [0], \"series\": [{\"data\": [0.999999725198435]}]}, {\"name\": \"AUC_macro\", \"run_id\": \"AutoML_4f993bc8-389e-4fc5-a624-546a6dece85c\", \"categories\": [0], \"series\": [{\"data\": [0.9999997262979098]}]}, {\"name\": \"precision_score_micro\", \"run_id\": \"AutoML_4f993bc8-389e-4fc5-a624-546a6dece85c\", \"categories\": [0], \"series\": [{\"data\": [0.9999782684283728]}]}, {\"name\": \"accuracy\", \"run_id\": \"AutoML_4f993bc8-389e-4fc5-a624-546a6dece85c\", \"categories\": [0], \"series\": [{\"data\": [0.9999782684283728]}]}, {\"name\": \"f1_score_micro\", \"run_id\": \"AutoML_4f993bc8-389e-4fc5-a624-546a6dece85c\", \"categories\": [0], \"series\": [{\"data\": [0.9999782684283728]}]}, {\"name\": \"log_loss\", \"run_id\": \"AutoML_4f993bc8-389e-4fc5-a624-546a6dece85c\", \"categories\": [0], \"series\": [{\"data\": [0.11744392265071718]}]}, {\"name\": \"AUC_weighted\", \"run_id\": \"AutoML_4f993bc8-389e-4fc5-a624-546a6dece85c\", \"categories\": [0], \"series\": [{\"data\": [0.99999972629791]}]}, {\"name\": \"precision_score_macro\", \"run_id\": \"AutoML_4f993bc8-389e-4fc5-a624-546a6dece85c\", \"categories\": [0], \"series\": [{\"data\": [0.9999641139740185]}]}, {\"name\": \"norm_macro_recall\", \"run_id\": \"AutoML_4f993bc8-389e-4fc5-a624-546a6dece85c\", \"categories\": [0], \"series\": [{\"data\": [0.9999688337592719]}]}, {\"name\": \"average_precision_score_micro\", \"run_id\": \"AutoML_4f993bc8-389e-4fc5-a624-546a6dece85c\", \"categories\": [0], \"series\": [{\"data\": [0.9999998499456768]}]}, {\"name\": \"f1_score_weighted\", \"run_id\": \"AutoML_4f993bc8-389e-4fc5-a624-546a6dece85c\", \"categories\": [0], \"series\": [{\"data\": [0.999978269090296]}]}, {\"name\": \"precision_score_weighted\", \"run_id\": \"AutoML_4f993bc8-389e-4fc5-a624-546a6dece85c\", \"categories\": [0], \"series\": [{\"data\": [0.9999782731075313]}]}, {\"name\": \"recall_score_macro\", \"run_id\": \"AutoML_4f993bc8-389e-4fc5-a624-546a6dece85c\", \"categories\": [0], \"series\": [{\"data\": [0.999984416879636]}]}], \"run_logs\": \"\\nRun is completed.\", \"graph\": {}, \"widget_settings\": {\"childWidgetDisplay\": \"popup\", \"send_telemetry\": false, \"log_level\": \"INFO\", \"sdk_version\": \"1.18.0\"}, \"loading\": false}"
          },
          "metadata": {}
        }
      ],
      "execution_count": 11,
      "metadata": {
        "collapsed": false,
        "gather": {
          "logged": 1605622241761
        },
        "jupyter": {
          "outputs_hidden": false,
          "source_hidden": false
        },
        "nteract": {
          "transient": {
            "deleting": false
          }
        }
      }
    },
    {
      "cell_type": "markdown",
      "source": [
        "## Best Model\n",
        "\n",
        "TODO: In the cell below, get the best model from the automl experiments and display all the properties of the model.\n",
        "\n"
      ],
      "metadata": {}
    },
    {
      "cell_type": "code",
      "source": [
        "best_automl_run, best_automl_model = automl_run.get_output()\n",
        "best_run_metrics = best_automl_run.get_metrics()\n",
        "\n",
        "print('Best Run Id: ', best_automl_run.id)\n",
        "print('\\n Accuracy:', best_run_metrics['accuracy'])\n",
        "print(best_automl_model._final_estimator)\n",
        "print(best_automl_run.get_tags())"
      ],
      "outputs": [
        {
          "output_type": "stream",
          "name": "stdout",
          "text": [
            "Best Run Id:  AutoML_4f993bc8-389e-4fc5-a624-546a6dece85c_38\n",
            "\n",
            " Accuracy: 0.9999782684283728\n",
            "PreFittedSoftVotingClassifier(classification_labels=None,\n",
            "                              estimators=[('1',\n",
            "                                           Pipeline(memory=None,\n",
            "                                                    steps=[('maxabsscaler',\n",
            "                                                            MaxAbsScaler(copy=True)),\n",
            "                                                           ('xgboostclassifier',\n",
            "                                                            XGBoostClassifier(base_score=0.5,\n",
            "                                                                              booster='gbtree',\n",
            "                                                                              colsample_bylevel=1,\n",
            "                                                                              colsample_bynode=1,\n",
            "                                                                              colsample_bytree=1,\n",
            "                                                                              gamma=0,\n",
            "                                                                              learning_rate=0.1,\n",
            "                                                                              max_delta_step=0,\n",
            "                                                                              max_depth=3,\n",
            "                                                                              min_child_weight=1,\n",
            "                                                                              miss...\n",
            "                                                                                 min_samples_leaf=0.01,\n",
            "                                                                                 min_samples_split=0.056842105263157895,\n",
            "                                                                                 min_weight_fraction_leaf=0.0,\n",
            "                                                                                 n_estimators=25,\n",
            "                                                                                 n_jobs=1,\n",
            "                                                                                 oob_score=True,\n",
            "                                                                                 random_state=None,\n",
            "                                                                                 verbose=0,\n",
            "                                                                                 warm_start=False))],\n",
            "                                                    verbose=False))],\n",
            "                              flatten_transform=None,\n",
            "                              weights=[0.14285714285714285, 0.14285714285714285,\n",
            "                                       0.14285714285714285, 0.14285714285714285,\n",
            "                                       0.14285714285714285, 0.14285714285714285,\n",
            "                                       0.14285714285714285])\n",
            "{'_aml_system_azureml.automlComponent': 'AutoML', '_aml_system_ComputeTargetStatus': '{\"AllocationState\":\"steady\",\"PreparingNodeCount\":0,\"RunningNodeCount\":0,\"CurrentNodeCount\":6}', 'ensembled_iterations': '[1, 0, 27, 33, 26, 25, 15]', 'ensembled_algorithms': \"['XGBoostClassifier', 'LightGBM', 'XGBoostClassifier', 'GradientBoosting', 'XGBoostClassifier', 'XGBoostClassifier', 'ExtremeRandomTrees']\", 'ensemble_weights': '[0.14285714285714285, 0.14285714285714285, 0.14285714285714285, 0.14285714285714285, 0.14285714285714285, 0.14285714285714285, 0.14285714285714285]', 'best_individual_pipeline_score': '0.9999637807139545', 'best_individual_iteration': '1', '_aml_system_automl_is_child_run_end_telemetry_event_logged': 'True', 'model_explain_run_id': 'AutoML_4f993bc8-389e-4fc5-a624-546a6dece85c_ModelExplain', 'model_explanation': 'True'}\n"
          ]
        }
      ],
      "execution_count": 13,
      "metadata": {
        "collapsed": false,
        "gather": {
          "logged": 1605622347539
        },
        "jupyter": {
          "outputs_hidden": false,
          "source_hidden": false
        },
        "nteract": {
          "transient": {
            "deleting": false
          }
        }
      }
    },
    {
      "cell_type": "code",
      "source": [
        "model = best_automl_run.register_model(model_name = 'best_automl_model', model_path = 'outputs/model.pkl', model_framework=Model.Framework.SCIKITLEARN)"
      ],
      "outputs": [],
      "execution_count": 31,
      "metadata": {
        "collapsed": false,
        "gather": {
          "logged": 1605626104595
        },
        "jupyter": {
          "outputs_hidden": false,
          "source_hidden": false
        },
        "nteract": {
          "transient": {
            "deleting": false
          }
        }
      }
    },
    {
      "cell_type": "markdown",
      "source": [
        "## Model Deployment\n",
        "\n",
        "Remember you have to deploy only one of the two models you trained.. Perform the steps in the rest of this notebook only if you wish to deploy this model."
      ],
      "metadata": {}
    },
    {
      "cell_type": "code",
      "source": [
        "from azureml.core import Environment\r\n",
        "from azureml.core.model import InferenceConfig\r\n",
        "\r\n",
        "env = Environment.get(ws, \"AzureML-Minimal\").clone(\"my_env\")\r\n",
        "\r\n",
        "for pip_package in [\"scikit-learn\", \"numpy\"]:\r\n",
        "    env.python.conda_dependencies.add_pip_package(pip_package)\r\n",
        "\r\n",
        "inference_config = InferenceConfig(entry_script='score_automl.py',\r\n",
        "                                    environment=env)"
      ],
      "outputs": [],
      "execution_count": 59,
      "metadata": {
        "collapsed": true,
        "jupyter": {
          "source_hidden": false,
          "outputs_hidden": false
        },
        "nteract": {
          "transient": {
            "deleting": false
          }
        },
        "gather": {
          "logged": 1605630800832
        }
      }
    },
    {
      "cell_type": "code",
      "source": [
        "rest_service = Model.deploy(ws, \"best-model-service\", [model], inference_config=inference_config)\n",
        "\n",
        "rest_service.wait_for_deployment(show_output=True)\n",
        "rest_service.update(enable_app_insights=True)"
      ],
      "outputs": [
        {
          "output_type": "stream",
          "name": "stdout",
          "text": [
            "Tips: You can try get_logs(): https://aka.ms/debugimage#dockerlog or local deployment: https://aka.ms/debugimage#debug-locally to debug if deployment takes longer than 10 minutes.\n",
            "Running..................................................................................................................................\n",
            "Failed\n"
          ]
        },
        {
          "output_type": "stream",
          "name": "stderr",
          "text": [
            "ERROR - Service deployment polling reached non-successful terminal state, current service state: Failed\n",
            "Operation ID: cfeb3213-b2f9-4485-aef9-b259b9e8a824\n",
            "More information can be found using '.get_logs()'\n",
            "Error:\n",
            "{\n",
            "  \"code\": \"AciDeploymentFailed\",\n",
            "  \"message\": \"Aci Deployment failed with exception: Your container application crashed. This may be caused by errors in your scoring file's init() function.\\nPlease check the logs for your container instance: best-model-service. From the AML SDK, you can run print(service.get_logs()) if you have service object to fetch the logs. \\nYou can also try to run image cc8f942d63e94020bbc9d2b49d596d1b.azurecr.io/azureml/azureml_ab7c7ad2e987034a58e11c3005c6abd9 locally. Please refer to https://aka.ms/debugimage#service-launch-fails for more information.\",\n",
            "  \"details\": [\n",
            "    {\n",
            "      \"code\": \"CrashLoopBackOff\",\n",
            "      \"message\": \"Your container application crashed. This may be caused by errors in your scoring file's init() function.\\nPlease check the logs for your container instance: best-model-service. From the AML SDK, you can run print(service.get_logs()) if you have service object to fetch the logs. \\nYou can also try to run image cc8f942d63e94020bbc9d2b49d596d1b.azurecr.io/azureml/azureml_ab7c7ad2e987034a58e11c3005c6abd9 locally. Please refer to https://aka.ms/debugimage#service-launch-fails for more information.\"\n",
            "    },\n",
            "    {\n",
            "      \"code\": \"AciDeploymentFailed\",\n",
            "      \"message\": \"Your container application crashed. Please follow the steps to debug:\\n1. From the AML SDK, you can run print(service.get_logs()) if you have service object to fetch the logs. Please refer to https://aka.ms/debugimage#dockerlog for more information.\\n2. If your container application crashed. This may be caused by errors in your scoring file's init() function. You can try debugging locally first. Please refer to https://aka.ms/debugimage#debug-locally for more information.\\n3. View the diagnostic events to check status of container, it may help you to debug the issue. {\\\"restartCount\\\":4,\\\"currentState\\\":{\\\"state\\\":\\\"Waiting\\\",\\\"startTime\\\":null,\\\"exitCode\\\":null,\\\"finishTime\\\":null,\\\"detailStatus\\\":\\\"CrashLoopBackOff: Back-off restarting failed\\\"},\\\"previousState\\\":{\\\"state\\\":\\\"Terminated\\\",\\\"startTime\\\":\\\"2020-11-17T16:43:38.274Z\\\",\\\"exitCode\\\":111,\\\"finishTime\\\":\\\"2020-11-17T16:43:51.615Z\\\",\\\"detailStatus\\\":\\\"Error\\\"},\\\"events\\\":[{\\\"count\\\":1,\\\"firstTimestamp\\\":\\\"2020-11-17T16:37:46Z\\\",\\\"lastTimestamp\\\":\\\"2020-11-17T16:37:46Z\\\",\\\"name\\\":\\\"Pulling\\\",\\\"message\\\":\\\"pulling image \\\\\\\"cc8f942d63e94020bbc9d2b49d596d1b.azurecr.io/azureml/azureml_ab7c7ad2e987034a58e11c3005c6abd9:latest\\\\\\\"\\\",\\\"type\\\":\\\"Normal\\\"},{\\\"count\\\":1,\\\"firstTimestamp\\\":\\\"2020-11-17T16:39:56Z\\\",\\\"lastTimestamp\\\":\\\"2020-11-17T16:39:56Z\\\",\\\"name\\\":\\\"Pulled\\\",\\\"message\\\":\\\"Successfully pulled image \\\\\\\"cc8f942d63e94020bbc9d2b49d596d1b.azurecr.io/azureml/azureml_ab7c7ad2e987034a58e11c3005c6abd9:latest\\\\\\\"\\\",\\\"type\\\":\\\"Normal\\\"},{\\\"count\\\":5,\\\"firstTimestamp\\\":\\\"2020-11-17T16:40:21Z\\\",\\\"lastTimestamp\\\":\\\"2020-11-17T16:43:38Z\\\",\\\"name\\\":\\\"Started\\\",\\\"message\\\":\\\"Started container\\\",\\\"type\\\":\\\"Normal\\\"},{\\\"count\\\":5,\\\"firstTimestamp\\\":\\\"2020-11-17T16:40:47Z\\\",\\\"lastTimestamp\\\":\\\"2020-11-17T16:43:51Z\\\",\\\"name\\\":\\\"Killing\\\",\\\"message\\\":\\\"Killing container with id ef771daa1f988c5b9c2970ef8ceef700a0cc88bfd08cd67292012b053d772a0b.\\\",\\\"type\\\":\\\"Normal\\\"}]}\"\n",
            "    }\n",
            "  ]\n",
            "}\n",
            "\n"
          ]
        },
        {
          "output_type": "error",
          "ename": "WebserviceException",
          "evalue": "WebserviceException:\n\tMessage: Service deployment polling reached non-successful terminal state, current service state: Failed\nOperation ID: cfeb3213-b2f9-4485-aef9-b259b9e8a824\nMore information can be found using '.get_logs()'\nError:\n{\n  \"code\": \"AciDeploymentFailed\",\n  \"message\": \"Aci Deployment failed with exception: Your container application crashed. This may be caused by errors in your scoring file's init() function.\\nPlease check the logs for your container instance: best-model-service. From the AML SDK, you can run print(service.get_logs()) if you have service object to fetch the logs. \\nYou can also try to run image cc8f942d63e94020bbc9d2b49d596d1b.azurecr.io/azureml/azureml_ab7c7ad2e987034a58e11c3005c6abd9 locally. Please refer to https://aka.ms/debugimage#service-launch-fails for more information.\",\n  \"details\": [\n    {\n      \"code\": \"CrashLoopBackOff\",\n      \"message\": \"Your container application crashed. This may be caused by errors in your scoring file's init() function.\\nPlease check the logs for your container instance: best-model-service. From the AML SDK, you can run print(service.get_logs()) if you have service object to fetch the logs. \\nYou can also try to run image cc8f942d63e94020bbc9d2b49d596d1b.azurecr.io/azureml/azureml_ab7c7ad2e987034a58e11c3005c6abd9 locally. Please refer to https://aka.ms/debugimage#service-launch-fails for more information.\"\n    },\n    {\n      \"code\": \"AciDeploymentFailed\",\n      \"message\": \"Your container application crashed. Please follow the steps to debug:\\n1. From the AML SDK, you can run print(service.get_logs()) if you have service object to fetch the logs. Please refer to https://aka.ms/debugimage#dockerlog for more information.\\n2. If your container application crashed. This may be caused by errors in your scoring file's init() function. You can try debugging locally first. Please refer to https://aka.ms/debugimage#debug-locally for more information.\\n3. View the diagnostic events to check status of container, it may help you to debug the issue. {\\\"restartCount\\\":4,\\\"currentState\\\":{\\\"state\\\":\\\"Waiting\\\",\\\"startTime\\\":null,\\\"exitCode\\\":null,\\\"finishTime\\\":null,\\\"detailStatus\\\":\\\"CrashLoopBackOff: Back-off restarting failed\\\"},\\\"previousState\\\":{\\\"state\\\":\\\"Terminated\\\",\\\"startTime\\\":\\\"2020-11-17T16:43:38.274Z\\\",\\\"exitCode\\\":111,\\\"finishTime\\\":\\\"2020-11-17T16:43:51.615Z\\\",\\\"detailStatus\\\":\\\"Error\\\"},\\\"events\\\":[{\\\"count\\\":1,\\\"firstTimestamp\\\":\\\"2020-11-17T16:37:46Z\\\",\\\"lastTimestamp\\\":\\\"2020-11-17T16:37:46Z\\\",\\\"name\\\":\\\"Pulling\\\",\\\"message\\\":\\\"pulling image \\\\\\\"cc8f942d63e94020bbc9d2b49d596d1b.azurecr.io/azureml/azureml_ab7c7ad2e987034a58e11c3005c6abd9:latest\\\\\\\"\\\",\\\"type\\\":\\\"Normal\\\"},{\\\"count\\\":1,\\\"firstTimestamp\\\":\\\"2020-11-17T16:39:56Z\\\",\\\"lastTimestamp\\\":\\\"2020-11-17T16:39:56Z\\\",\\\"name\\\":\\\"Pulled\\\",\\\"message\\\":\\\"Successfully pulled image \\\\\\\"cc8f942d63e94020bbc9d2b49d596d1b.azurecr.io/azureml/azureml_ab7c7ad2e987034a58e11c3005c6abd9:latest\\\\\\\"\\\",\\\"type\\\":\\\"Normal\\\"},{\\\"count\\\":5,\\\"firstTimestamp\\\":\\\"2020-11-17T16:40:21Z\\\",\\\"lastTimestamp\\\":\\\"2020-11-17T16:43:38Z\\\",\\\"name\\\":\\\"Started\\\",\\\"message\\\":\\\"Started container\\\",\\\"type\\\":\\\"Normal\\\"},{\\\"count\\\":5,\\\"firstTimestamp\\\":\\\"2020-11-17T16:40:47Z\\\",\\\"lastTimestamp\\\":\\\"2020-11-17T16:43:51Z\\\",\\\"name\\\":\\\"Killing\\\",\\\"message\\\":\\\"Killing container with id ef771daa1f988c5b9c2970ef8ceef700a0cc88bfd08cd67292012b053d772a0b.\\\",\\\"type\\\":\\\"Normal\\\"}]}\"\n    }\n  ]\n}\n\tInnerException None\n\tErrorResponse \n{\n    \"error\": {\n        \"message\": \"Service deployment polling reached non-successful terminal state, current service state: Failed\\nOperation ID: cfeb3213-b2f9-4485-aef9-b259b9e8a824\\nMore information can be found using '.get_logs()'\\nError:\\n{\\n  \\\"code\\\": \\\"AciDeploymentFailed\\\",\\n  \\\"message\\\": \\\"Aci Deployment failed with exception: Your container application crashed. This may be caused by errors in your scoring file's init() function.\\\\nPlease check the logs for your container instance: best-model-service. From the AML SDK, you can run print(service.get_logs()) if you have service object to fetch the logs. \\\\nYou can also try to run image cc8f942d63e94020bbc9d2b49d596d1b.azurecr.io/azureml/azureml_ab7c7ad2e987034a58e11c3005c6abd9 locally. Please refer to https://aka.ms/debugimage#service-launch-fails for more information.\\\",\\n  \\\"details\\\": [\\n    {\\n      \\\"code\\\": \\\"CrashLoopBackOff\\\",\\n      \\\"message\\\": \\\"Your container application crashed. This may be caused by errors in your scoring file's init() function.\\\\nPlease check the logs for your container instance: best-model-service. From the AML SDK, you can run print(service.get_logs()) if you have service object to fetch the logs. \\\\nYou can also try to run image cc8f942d63e94020bbc9d2b49d596d1b.azurecr.io/azureml/azureml_ab7c7ad2e987034a58e11c3005c6abd9 locally. Please refer to https://aka.ms/debugimage#service-launch-fails for more information.\\\"\\n    },\\n    {\\n      \\\"code\\\": \\\"AciDeploymentFailed\\\",\\n      \\\"message\\\": \\\"Your container application crashed. Please follow the steps to debug:\\\\n1. From the AML SDK, you can run print(service.get_logs()) if you have service object to fetch the logs. Please refer to https://aka.ms/debugimage#dockerlog for more information.\\\\n2. If your container application crashed. This may be caused by errors in your scoring file's init() function. You can try debugging locally first. Please refer to https://aka.ms/debugimage#debug-locally for more information.\\\\n3. View the diagnostic events to check status of container, it may help you to debug the issue. {\\\\\\\"restartCount\\\\\\\":4,\\\\\\\"currentState\\\\\\\":{\\\\\\\"state\\\\\\\":\\\\\\\"Waiting\\\\\\\",\\\\\\\"startTime\\\\\\\":null,\\\\\\\"exitCode\\\\\\\":null,\\\\\\\"finishTime\\\\\\\":null,\\\\\\\"detailStatus\\\\\\\":\\\\\\\"CrashLoopBackOff: Back-off restarting failed\\\\\\\"},\\\\\\\"previousState\\\\\\\":{\\\\\\\"state\\\\\\\":\\\\\\\"Terminated\\\\\\\",\\\\\\\"startTime\\\\\\\":\\\\\\\"2020-11-17T16:43:38.274Z\\\\\\\",\\\\\\\"exitCode\\\\\\\":111,\\\\\\\"finishTime\\\\\\\":\\\\\\\"2020-11-17T16:43:51.615Z\\\\\\\",\\\\\\\"detailStatus\\\\\\\":\\\\\\\"Error\\\\\\\"},\\\\\\\"events\\\\\\\":[{\\\\\\\"count\\\\\\\":1,\\\\\\\"firstTimestamp\\\\\\\":\\\\\\\"2020-11-17T16:37:46Z\\\\\\\",\\\\\\\"lastTimestamp\\\\\\\":\\\\\\\"2020-11-17T16:37:46Z\\\\\\\",\\\\\\\"name\\\\\\\":\\\\\\\"Pulling\\\\\\\",\\\\\\\"message\\\\\\\":\\\\\\\"pulling image \\\\\\\\\\\\\\\"cc8f942d63e94020bbc9d2b49d596d1b.azurecr.io/azureml/azureml_ab7c7ad2e987034a58e11c3005c6abd9:latest\\\\\\\\\\\\\\\"\\\\\\\",\\\\\\\"type\\\\\\\":\\\\\\\"Normal\\\\\\\"},{\\\\\\\"count\\\\\\\":1,\\\\\\\"firstTimestamp\\\\\\\":\\\\\\\"2020-11-17T16:39:56Z\\\\\\\",\\\\\\\"lastTimestamp\\\\\\\":\\\\\\\"2020-11-17T16:39:56Z\\\\\\\",\\\\\\\"name\\\\\\\":\\\\\\\"Pulled\\\\\\\",\\\\\\\"message\\\\\\\":\\\\\\\"Successfully pulled image \\\\\\\\\\\\\\\"cc8f942d63e94020bbc9d2b49d596d1b.azurecr.io/azureml/azureml_ab7c7ad2e987034a58e11c3005c6abd9:latest\\\\\\\\\\\\\\\"\\\\\\\",\\\\\\\"type\\\\\\\":\\\\\\\"Normal\\\\\\\"},{\\\\\\\"count\\\\\\\":5,\\\\\\\"firstTimestamp\\\\\\\":\\\\\\\"2020-11-17T16:40:21Z\\\\\\\",\\\\\\\"lastTimestamp\\\\\\\":\\\\\\\"2020-11-17T16:43:38Z\\\\\\\",\\\\\\\"name\\\\\\\":\\\\\\\"Started\\\\\\\",\\\\\\\"message\\\\\\\":\\\\\\\"Started container\\\\\\\",\\\\\\\"type\\\\\\\":\\\\\\\"Normal\\\\\\\"},{\\\\\\\"count\\\\\\\":5,\\\\\\\"firstTimestamp\\\\\\\":\\\\\\\"2020-11-17T16:40:47Z\\\\\\\",\\\\\\\"lastTimestamp\\\\\\\":\\\\\\\"2020-11-17T16:43:51Z\\\\\\\",\\\\\\\"name\\\\\\\":\\\\\\\"Killing\\\\\\\",\\\\\\\"message\\\\\\\":\\\\\\\"Killing container with id ef771daa1f988c5b9c2970ef8ceef700a0cc88bfd08cd67292012b053d772a0b.\\\\\\\",\\\\\\\"type\\\\\\\":\\\\\\\"Normal\\\\\\\"}]}\\\"\\n    }\\n  ]\\n}\"\n    }\n}",
          "traceback": [
            "\u001b[0;31m---------------------------------------------------------------------------\u001b[0m",
            "\u001b[0;31mWebserviceException\u001b[0m                       Traceback (most recent call last)",
            "\u001b[0;32m<ipython-input-61-f912e0edb547>\u001b[0m in \u001b[0;36m<module>\u001b[0;34m\u001b[0m\n\u001b[1;32m      1\u001b[0m \u001b[0mrest_service\u001b[0m \u001b[0;34m=\u001b[0m \u001b[0mModel\u001b[0m\u001b[0;34m.\u001b[0m\u001b[0mdeploy\u001b[0m\u001b[0;34m(\u001b[0m\u001b[0mws\u001b[0m\u001b[0;34m,\u001b[0m \u001b[0;34m\"best-model-service\"\u001b[0m\u001b[0;34m,\u001b[0m \u001b[0;34m[\u001b[0m\u001b[0mmodel\u001b[0m\u001b[0;34m]\u001b[0m\u001b[0;34m,\u001b[0m \u001b[0minference_config\u001b[0m\u001b[0;34m=\u001b[0m\u001b[0minference_config\u001b[0m\u001b[0;34m)\u001b[0m\u001b[0;34m\u001b[0m\u001b[0;34m\u001b[0m\u001b[0m\n\u001b[1;32m      2\u001b[0m \u001b[0;34m\u001b[0m\u001b[0m\n\u001b[0;32m----> 3\u001b[0;31m \u001b[0mrest_service\u001b[0m\u001b[0;34m.\u001b[0m\u001b[0mwait_for_deployment\u001b[0m\u001b[0;34m(\u001b[0m\u001b[0mshow_output\u001b[0m\u001b[0;34m=\u001b[0m\u001b[0;32mTrue\u001b[0m\u001b[0;34m)\u001b[0m\u001b[0;34m\u001b[0m\u001b[0;34m\u001b[0m\u001b[0m\n\u001b[0m\u001b[1;32m      4\u001b[0m \u001b[0mrest_service\u001b[0m\u001b[0;34m.\u001b[0m\u001b[0mupdate\u001b[0m\u001b[0;34m(\u001b[0m\u001b[0menable_app_insights\u001b[0m\u001b[0;34m=\u001b[0m\u001b[0;32mTrue\u001b[0m\u001b[0;34m)\u001b[0m\u001b[0;34m\u001b[0m\u001b[0;34m\u001b[0m\u001b[0m\n",
            "\u001b[0;32m/anaconda/envs/azureml_py36/lib/python3.6/site-packages/azureml/core/webservice/webservice.py\u001b[0m in \u001b[0;36mwait_for_deployment\u001b[0;34m(self, show_output, timeout_sec)\u001b[0m\n\u001b[1;32m    810\u001b[0m                                           \u001b[0;34m'Error:\\n'\u001b[0m\u001b[0;34m\u001b[0m\u001b[0;34m\u001b[0m\u001b[0m\n\u001b[1;32m    811\u001b[0m                                           '{}'.format(self.state, self._operation_endpoint.split('/')[-1],\n\u001b[0;32m--> 812\u001b[0;31m                                                       logs_response, error_response), logger=module_logger)\n\u001b[0m\u001b[1;32m    813\u001b[0m             print('{} service creation operation finished, operation \"{}\"'.format(self._webservice_type,\n\u001b[1;32m    814\u001b[0m                                                                                   operation_state))\n",
            "\u001b[0;31mWebserviceException\u001b[0m: WebserviceException:\n\tMessage: Service deployment polling reached non-successful terminal state, current service state: Failed\nOperation ID: cfeb3213-b2f9-4485-aef9-b259b9e8a824\nMore information can be found using '.get_logs()'\nError:\n{\n  \"code\": \"AciDeploymentFailed\",\n  \"message\": \"Aci Deployment failed with exception: Your container application crashed. This may be caused by errors in your scoring file's init() function.\\nPlease check the logs for your container instance: best-model-service. From the AML SDK, you can run print(service.get_logs()) if you have service object to fetch the logs. \\nYou can also try to run image cc8f942d63e94020bbc9d2b49d596d1b.azurecr.io/azureml/azureml_ab7c7ad2e987034a58e11c3005c6abd9 locally. Please refer to https://aka.ms/debugimage#service-launch-fails for more information.\",\n  \"details\": [\n    {\n      \"code\": \"CrashLoopBackOff\",\n      \"message\": \"Your container application crashed. This may be caused by errors in your scoring file's init() function.\\nPlease check the logs for your container instance: best-model-service. From the AML SDK, you can run print(service.get_logs()) if you have service object to fetch the logs. \\nYou can also try to run image cc8f942d63e94020bbc9d2b49d596d1b.azurecr.io/azureml/azureml_ab7c7ad2e987034a58e11c3005c6abd9 locally. Please refer to https://aka.ms/debugimage#service-launch-fails for more information.\"\n    },\n    {\n      \"code\": \"AciDeploymentFailed\",\n      \"message\": \"Your container application crashed. Please follow the steps to debug:\\n1. From the AML SDK, you can run print(service.get_logs()) if you have service object to fetch the logs. Please refer to https://aka.ms/debugimage#dockerlog for more information.\\n2. If your container application crashed. This may be caused by errors in your scoring file's init() function. You can try debugging locally first. Please refer to https://aka.ms/debugimage#debug-locally for more information.\\n3. View the diagnostic events to check status of container, it may help you to debug the issue. {\\\"restartCount\\\":4,\\\"currentState\\\":{\\\"state\\\":\\\"Waiting\\\",\\\"startTime\\\":null,\\\"exitCode\\\":null,\\\"finishTime\\\":null,\\\"detailStatus\\\":\\\"CrashLoopBackOff: Back-off restarting failed\\\"},\\\"previousState\\\":{\\\"state\\\":\\\"Terminated\\\",\\\"startTime\\\":\\\"2020-11-17T16:43:38.274Z\\\",\\\"exitCode\\\":111,\\\"finishTime\\\":\\\"2020-11-17T16:43:51.615Z\\\",\\\"detailStatus\\\":\\\"Error\\\"},\\\"events\\\":[{\\\"count\\\":1,\\\"firstTimestamp\\\":\\\"2020-11-17T16:37:46Z\\\",\\\"lastTimestamp\\\":\\\"2020-11-17T16:37:46Z\\\",\\\"name\\\":\\\"Pulling\\\",\\\"message\\\":\\\"pulling image \\\\\\\"cc8f942d63e94020bbc9d2b49d596d1b.azurecr.io/azureml/azureml_ab7c7ad2e987034a58e11c3005c6abd9:latest\\\\\\\"\\\",\\\"type\\\":\\\"Normal\\\"},{\\\"count\\\":1,\\\"firstTimestamp\\\":\\\"2020-11-17T16:39:56Z\\\",\\\"lastTimestamp\\\":\\\"2020-11-17T16:39:56Z\\\",\\\"name\\\":\\\"Pulled\\\",\\\"message\\\":\\\"Successfully pulled image \\\\\\\"cc8f942d63e94020bbc9d2b49d596d1b.azurecr.io/azureml/azureml_ab7c7ad2e987034a58e11c3005c6abd9:latest\\\\\\\"\\\",\\\"type\\\":\\\"Normal\\\"},{\\\"count\\\":5,\\\"firstTimestamp\\\":\\\"2020-11-17T16:40:21Z\\\",\\\"lastTimestamp\\\":\\\"2020-11-17T16:43:38Z\\\",\\\"name\\\":\\\"Started\\\",\\\"message\\\":\\\"Started container\\\",\\\"type\\\":\\\"Normal\\\"},{\\\"count\\\":5,\\\"firstTimestamp\\\":\\\"2020-11-17T16:40:47Z\\\",\\\"lastTimestamp\\\":\\\"2020-11-17T16:43:51Z\\\",\\\"name\\\":\\\"Killing\\\",\\\"message\\\":\\\"Killing container with id ef771daa1f988c5b9c2970ef8ceef700a0cc88bfd08cd67292012b053d772a0b.\\\",\\\"type\\\":\\\"Normal\\\"}]}\"\n    }\n  ]\n}\n\tInnerException None\n\tErrorResponse \n{\n    \"error\": {\n        \"message\": \"Service deployment polling reached non-successful terminal state, current service state: Failed\\nOperation ID: cfeb3213-b2f9-4485-aef9-b259b9e8a824\\nMore information can be found using '.get_logs()'\\nError:\\n{\\n  \\\"code\\\": \\\"AciDeploymentFailed\\\",\\n  \\\"message\\\": \\\"Aci Deployment failed with exception: Your container application crashed. This may be caused by errors in your scoring file's init() function.\\\\nPlease check the logs for your container instance: best-model-service. From the AML SDK, you can run print(service.get_logs()) if you have service object to fetch the logs. \\\\nYou can also try to run image cc8f942d63e94020bbc9d2b49d596d1b.azurecr.io/azureml/azureml_ab7c7ad2e987034a58e11c3005c6abd9 locally. Please refer to https://aka.ms/debugimage#service-launch-fails for more information.\\\",\\n  \\\"details\\\": [\\n    {\\n      \\\"code\\\": \\\"CrashLoopBackOff\\\",\\n      \\\"message\\\": \\\"Your container application crashed. This may be caused by errors in your scoring file's init() function.\\\\nPlease check the logs for your container instance: best-model-service. From the AML SDK, you can run print(service.get_logs()) if you have service object to fetch the logs. \\\\nYou can also try to run image cc8f942d63e94020bbc9d2b49d596d1b.azurecr.io/azureml/azureml_ab7c7ad2e987034a58e11c3005c6abd9 locally. Please refer to https://aka.ms/debugimage#service-launch-fails for more information.\\\"\\n    },\\n    {\\n      \\\"code\\\": \\\"AciDeploymentFailed\\\",\\n      \\\"message\\\": \\\"Your container application crashed. Please follow the steps to debug:\\\\n1. From the AML SDK, you can run print(service.get_logs()) if you have service object to fetch the logs. Please refer to https://aka.ms/debugimage#dockerlog for more information.\\\\n2. If your container application crashed. This may be caused by errors in your scoring file's init() function. You can try debugging locally first. Please refer to https://aka.ms/debugimage#debug-locally for more information.\\\\n3. View the diagnostic events to check status of container, it may help you to debug the issue. {\\\\\\\"restartCount\\\\\\\":4,\\\\\\\"currentState\\\\\\\":{\\\\\\\"state\\\\\\\":\\\\\\\"Waiting\\\\\\\",\\\\\\\"startTime\\\\\\\":null,\\\\\\\"exitCode\\\\\\\":null,\\\\\\\"finishTime\\\\\\\":null,\\\\\\\"detailStatus\\\\\\\":\\\\\\\"CrashLoopBackOff: Back-off restarting failed\\\\\\\"},\\\\\\\"previousState\\\\\\\":{\\\\\\\"state\\\\\\\":\\\\\\\"Terminated\\\\\\\",\\\\\\\"startTime\\\\\\\":\\\\\\\"2020-11-17T16:43:38.274Z\\\\\\\",\\\\\\\"exitCode\\\\\\\":111,\\\\\\\"finishTime\\\\\\\":\\\\\\\"2020-11-17T16:43:51.615Z\\\\\\\",\\\\\\\"detailStatus\\\\\\\":\\\\\\\"Error\\\\\\\"},\\\\\\\"events\\\\\\\":[{\\\\\\\"count\\\\\\\":1,\\\\\\\"firstTimestamp\\\\\\\":\\\\\\\"2020-11-17T16:37:46Z\\\\\\\",\\\\\\\"lastTimestamp\\\\\\\":\\\\\\\"2020-11-17T16:37:46Z\\\\\\\",\\\\\\\"name\\\\\\\":\\\\\\\"Pulling\\\\\\\",\\\\\\\"message\\\\\\\":\\\\\\\"pulling image \\\\\\\\\\\\\\\"cc8f942d63e94020bbc9d2b49d596d1b.azurecr.io/azureml/azureml_ab7c7ad2e987034a58e11c3005c6abd9:latest\\\\\\\\\\\\\\\"\\\\\\\",\\\\\\\"type\\\\\\\":\\\\\\\"Normal\\\\\\\"},{\\\\\\\"count\\\\\\\":1,\\\\\\\"firstTimestamp\\\\\\\":\\\\\\\"2020-11-17T16:39:56Z\\\\\\\",\\\\\\\"lastTimestamp\\\\\\\":\\\\\\\"2020-11-17T16:39:56Z\\\\\\\",\\\\\\\"name\\\\\\\":\\\\\\\"Pulled\\\\\\\",\\\\\\\"message\\\\\\\":\\\\\\\"Successfully pulled image \\\\\\\\\\\\\\\"cc8f942d63e94020bbc9d2b49d596d1b.azurecr.io/azureml/azureml_ab7c7ad2e987034a58e11c3005c6abd9:latest\\\\\\\\\\\\\\\"\\\\\\\",\\\\\\\"type\\\\\\\":\\\\\\\"Normal\\\\\\\"},{\\\\\\\"count\\\\\\\":5,\\\\\\\"firstTimestamp\\\\\\\":\\\\\\\"2020-11-17T16:40:21Z\\\\\\\",\\\\\\\"lastTimestamp\\\\\\\":\\\\\\\"2020-11-17T16:43:38Z\\\\\\\",\\\\\\\"name\\\\\\\":\\\\\\\"Started\\\\\\\",\\\\\\\"message\\\\\\\":\\\\\\\"Started container\\\\\\\",\\\\\\\"type\\\\\\\":\\\\\\\"Normal\\\\\\\"},{\\\\\\\"count\\\\\\\":5,\\\\\\\"firstTimestamp\\\\\\\":\\\\\\\"2020-11-17T16:40:47Z\\\\\\\",\\\\\\\"lastTimestamp\\\\\\\":\\\\\\\"2020-11-17T16:43:51Z\\\\\\\",\\\\\\\"name\\\\\\\":\\\\\\\"Killing\\\\\\\",\\\\\\\"message\\\\\\\":\\\\\\\"Killing container with id ef771daa1f988c5b9c2970ef8ceef700a0cc88bfd08cd67292012b053d772a0b.\\\\\\\",\\\\\\\"type\\\\\\\":\\\\\\\"Normal\\\\\\\"}]}\\\"\\n    }\\n  ]\\n}\"\n    }\n}"
          ]
        }
      ],
      "execution_count": 61,
      "metadata": {
        "collapsed": false,
        "gather": {
          "logged": 1598431435189
        },
        "jupyter": {
          "outputs_hidden": false,
          "source_hidden": false
        },
        "nteract": {
          "transient": {
            "deleting": false
          }
        }
      }
    },
    {
      "cell_type": "code",
      "source": [
        "from azureml.core.authentication import InteractiveLoginAuthentication\n",
        "\n",
        "interactive_auth = InteractiveLoginAuthentication()\n",
        "auth_header = interactive_auth.get_authentication_header()"
      ],
      "outputs": [],
      "execution_count": null,
      "metadata": {}
    },
    {
      "cell_type": "code",
      "source": [
        "import json\n",
        "\n",
        "data = {\"data\": \n",
        "          [ \n",
        "            { \n",
        "              \"Name\": \"memtest.exe\", \n",
        "              \"md5\": \"631ea355665f28d4707448e442fbf5b8\", \n",
        "              \"Machine\": 332, \n",
        "              \"SizeOfOptionalHeader\": 224, \n",
        "              \"Characteristics\": 258, \n",
        "              \"MajorLinkerVersion\": 9, \n",
        "              \"MinorLinkerVersion\": 0, \n",
        "              \"SizeOfCode\": 361984, \n",
        "              \"SizeOfInitializedData\": 115712, \n",
        "              \"SizeOfUninitializedData\": 0, \n",
        "              \"AddressOfEntryPoint\": 6135, \n",
        "              \"BaseOfCode\": 4096, \n",
        "              \"BaseOfData\": 372736, \n",
        "              \"ImageBase\": 4194304, \n",
        "              \"SectionAlignment\": 4096, \n",
        "              \"FileAlignment\": 512, \n",
        "              \"MajorOperatingSystemVersion\": 0, \n",
        "              \"MinorOperatingSystemVersion\": 0, \n",
        "              \"MajorImageVersion\": 0, \n",
        "              \"MinorImageVersion\": 0, \n",
        "              \"MajorSubsystemVersion\": 1, \n",
        "              \"MinorSubsystemVersion\": 0, \n",
        "              \"SizeOfImage\": 1036288, \n",
        "              \"SizeOfHeaders\": 1024, \n",
        "              \"CheckSum\": 485887, \n",
        "              \"Subsystem\": 16, \n",
        "              \"DllCharacteristics\": 1024, \n",
        "              \"SizeOfStackReserve\": 1048576, \n",
        "              \"SizeOfStackCommit\": 4096, \n",
        "              \"SizeOfHeapReserve\": 1048576, \n",
        "              \"SizeOfHeapCommit\": 4096, \n",
        "              \"LoaderFlags\": 0, \n",
        "              \"NumberOfRvaAndSizes\": 16, \n",
        "              \"SectionsNb\": 8, \n",
        "              \"SectionsMeanEntropy\": 5.7668065537, \n",
        "              \"SectionsMinEntropy\": 3.6074295755, \n",
        "              \"SectionsMaxEntropy\": 7.2210507289, \n",
        "              \"SectionsMeanRawsize\": 59712, \n",
        "              \"SectionsMinRawsize\": 1024, \n",
        "              \"SectionMaxRawsize\": 325120, \n",
        "              \"SectionsMeanVirtualsize\": 126875.875, \n",
        "              \"SectionsMinVirtualsize\": 896, \n",
        "              \"SectionMaxVirtualsize\": 551848, \n",
        "              \"ImportsNbDLL\": 0, \n",
        "              \"ImportsNb\": 0, \n",
        "              \"ImportsNbOrdinal\": 0, \n",
        "              \"ExportNb\": 0, \n",
        "              \"ResourcesNb\": 4, \n",
        "              \"ResourcesMeanEntropy\": 3.262822711, \n",
        "              \"ResourcesMinEntropy\": 2.5688438236, \n",
        "              \"ResourcesMaxEntropy\": 3.5379393642, \n",
        "              \"ResourcesMeanSize\": 8797, \n",
        "              \"ResourcesMinSize\": 216, \n",
        "              \"ResourcesMaxSize\": 18032, \n",
        "              \"LoadConfigurationSize\": 0, \n",
        "              \"VersionInformationSize\": 16 \n",
        "            } \n",
        "          ]\n",
        "        }\n",
        "\n",
        "# Convert to JSON string\n",
        "input_data = json.dumps(data)"
      ],
      "outputs": [],
      "execution_count": null,
      "metadata": {}
    },
    {
      "cell_type": "code",
      "source": [
        "import requests\n",
        "\n",
        "\n",
        "response = requests.post(rest_service, \n",
        "                         headers=auth_header, \n",
        "                         json=input_data\n",
        "                        )\n",
        "\n",
        "print(response.json())"
      ],
      "outputs": [],
      "execution_count": null,
      "metadata": {
        "collapsed": false,
        "gather": {
          "logged": 1598432707604
        },
        "jupyter": {
          "outputs_hidden": false,
          "source_hidden": false
        },
        "nteract": {
          "transient": {
            "deleting": false
          }
        }
      }
    },
    {
      "cell_type": "markdown",
      "source": [
        "TODO: In the cell below, print the logs of the web service and delete the service"
      ],
      "metadata": {
        "gather": {
          "logged": 1598432765711
        },
        "jupyter": {
          "outputs_hidden": false,
          "source_hidden": false
        },
        "nteract": {
          "transient": {
            "deleting": false
          }
        }
      }
    },
    {
      "cell_type": "code",
      "source": [
        "logs = rest_service.get_logs()\n",
        "\n",
        "for line in logs.split('\\n'):\n",
        "    print(line)"
      ],
      "outputs": [
        {
          "output_type": "stream",
          "name": "stdout",
          "text": [
            "2020-11-17T16:45:09.9174302Z stderr F /bin/bash: /azureml-envs/azureml_75f566fe4b3478240add6787b2264ded/lib/libtinfo.so.5: no version information available (required by /bin/bash)\n",
            "2020-11-17T16:45:09.9254401Z stderr F /bin/bash: /azureml-envs/azureml_75f566fe4b3478240add6787b2264ded/lib/libtinfo.so.5: no version information available (required by /bin/bash)\n",
            "2020-11-17T16:45:09.9264246Z stderr F /bin/bash: /azureml-envs/azureml_75f566fe4b3478240add6787b2264ded/lib/libtinfo.so.5: no version information available (required by /bin/bash)\n",
            "2020-11-17T16:45:09.9374282Z stdout F 2020-11-17T16:45:09,069629800+00:00 - gunicorn/run \n",
            "2020-11-17T16:45:09.9384289Z stderr F /bin/bash: /azureml-envs/azureml_75f566fe4b3478240add6787b2264ded/lib/libtinfo.so.5: no version information available (required by /bin/bash)\n",
            "2020-11-17T16:45:10.0178721Z stdout F 2020-11-17T16:45:09,149049200+00:00 - iot-server/run \n",
            "2020-11-17T16:45:10.0564269Z stdout F 2020-11-17T16:45:09,181474200+00:00 - nginx/run \n",
            "2020-11-17T16:45:10.1174418Z stdout F 2020-11-17T16:45:09,179706900+00:00 - rsyslog/run \n",
            "2020-11-17T16:45:10.1174418Z stderr F bash: /azureml-envs/azureml_75f566fe4b3478240add6787b2264ded/lib/libtinfo.so.5: no version information available (required by bash)\n",
            "2020-11-17T16:45:10.2177272Z stderr F /usr/sbin/nginx: /azureml-envs/azureml_75f566fe4b3478240add6787b2264ded/lib/libcrypto.so.1.0.0: no version information available (required by /usr/sbin/nginx)\n",
            "2020-11-17T16:45:10.2177272Z stderr F /usr/sbin/nginx: /azureml-envs/azureml_75f566fe4b3478240add6787b2264ded/lib/libcrypto.so.1.0.0: no version information available (required by /usr/sbin/nginx)\n",
            "2020-11-17T16:45:10.2177272Z stderr F /usr/sbin/nginx: /azureml-envs/azureml_75f566fe4b3478240add6787b2264ded/lib/libssl.so.1.0.0: no version information available (required by /usr/sbin/nginx)\n",
            "2020-11-17T16:45:10.2177272Z stderr F /usr/sbin/nginx: /azureml-envs/azureml_75f566fe4b3478240add6787b2264ded/lib/libssl.so.1.0.0: no version information available (required by /usr/sbin/nginx)\n",
            "2020-11-17T16:45:10.2177272Z stderr F /usr/sbin/nginx: /azureml-envs/azureml_75f566fe4b3478240add6787b2264ded/lib/libssl.so.1.0.0: no version information available (required by /usr/sbin/nginx)\n",
            "2020-11-17T16:45:12.2175012Z stdout F EdgeHubConnectionString and IOTEDGE_IOTHUBHOSTNAME are not set. Exiting...\n",
            "2020-11-17T16:45:12.2529862Z stderr F /bin/bash: /azureml-envs/azureml_75f566fe4b3478240add6787b2264ded/lib/libtinfo.so.5: no version information available (required by /bin/bash)\n",
            "2020-11-17T16:45:12.3345121Z stdout F 2020-11-17T16:45:11,467726400+00:00 - iot-server/finish 1 0\n",
            "2020-11-17T16:45:12.3370409Z stdout F 2020-11-17T16:45:11,469010000+00:00 - Exit code 1 is normal. Not restarting iot-server.\n",
            "2020-11-17T16:45:14.0380048Z stdout F Starting gunicorn 19.9.0\n",
            "2020-11-17T16:45:14.0450174Z stdout F Listening at: http://127.0.0.1:31311 (330)\n",
            "2020-11-17T16:45:14.1176788Z stdout F Using worker: sync\n",
            "2020-11-17T16:45:14.1176788Z stdout F worker timeout is set to 300\n",
            "2020-11-17T16:45:14.1256962Z stdout F Booting worker with pid: 355\n",
            "\n"
          ]
        }
      ],
      "execution_count": 62,
      "metadata": {
        "collapsed": false,
        "jupyter": {
          "outputs_hidden": false,
          "source_hidden": false
        },
        "nteract": {
          "transient": {
            "deleting": false
          }
        },
        "gather": {
          "logged": 1605631519702
        }
      }
    }
  ],
  "metadata": {
    "kernel_info": {
      "name": "python3"
    },
    "kernelspec": {
      "name": "python3",
      "language": "python",
      "display_name": "Python 3"
    },
    "language_info": {
      "name": "python",
      "version": "3.6.9",
      "mimetype": "text/x-python",
      "codemirror_mode": {
        "name": "ipython",
        "version": 3
      },
      "pygments_lexer": "ipython3",
      "nbconvert_exporter": "python",
      "file_extension": ".py"
    },
    "nteract": {
      "version": "nteract-front-end@1.0.0"
    }
  },
  "nbformat": 4,
  "nbformat_minor": 4
}
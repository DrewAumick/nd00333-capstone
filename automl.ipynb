{
  "cells": [
    {
      "cell_type": "markdown",
      "source": [
        "# Automated ML"
      ],
      "metadata": {}
    },
    {
      "cell_type": "markdown",
      "source": [
        "Install and import dependencies"
      ],
      "metadata": {
        "nteract": {
          "transient": {
            "deleting": false
          }
        }
      }
    },
    {
      "cell_type": "code",
      "source": [
        "!pip install kaggle"
      ],
      "outputs": [
        {
          "output_type": "stream",
          "name": "stdout",
          "text": [
            "Collecting kaggle\n",
            "  Downloading kaggle-1.5.9.tar.gz (58 kB)\n",
            "\u001b[K     |████████████████████████████████| 58 kB 3.1 MB/s eta 0:00:011\n",
            "\u001b[?25hRequirement already satisfied: six>=1.10 in /anaconda/envs/azureml_py36/lib/python3.6/site-packages (from kaggle) (1.15.0)\n",
            "Requirement already satisfied: certifi in /anaconda/envs/azureml_py36/lib/python3.6/site-packages (from kaggle) (2020.6.20)\n",
            "Requirement already satisfied: python-dateutil in /anaconda/envs/azureml_py36/lib/python3.6/site-packages (from kaggle) (2.8.1)\n",
            "Requirement already satisfied: requests in /anaconda/envs/azureml_py36/lib/python3.6/site-packages (from kaggle) (2.24.0)\n",
            "Requirement already satisfied: tqdm in /anaconda/envs/azureml_py36/lib/python3.6/site-packages (from kaggle) (4.51.0)\n",
            "Collecting python-slugify\n",
            "  Downloading python-slugify-4.0.1.tar.gz (11 kB)\n",
            "Collecting slugify\n",
            "  Downloading slugify-0.0.1.tar.gz (1.2 kB)\n",
            "Requirement already satisfied: urllib3 in /anaconda/envs/azureml_py36/lib/python3.6/site-packages (from kaggle) (1.25.11)\n",
            "Requirement already satisfied: chardet<4,>=3.0.2 in /anaconda/envs/azureml_py36/lib/python3.6/site-packages (from requests->kaggle) (3.0.4)\n",
            "Requirement already satisfied: idna<3,>=2.5 in /anaconda/envs/azureml_py36/lib/python3.6/site-packages (from requests->kaggle) (2.10)\n",
            "Collecting text-unidecode>=1.3\n",
            "  Downloading text_unidecode-1.3-py2.py3-none-any.whl (78 kB)\n",
            "\u001b[K     |████████████████████████████████| 78 kB 3.4 MB/s eta 0:00:011\n",
            "\u001b[?25hBuilding wheels for collected packages: kaggle, python-slugify, slugify\n",
            "  Building wheel for kaggle (setup.py) ... \u001b[?25l-\b \b\\\b \b|\b \bdone\n",
            "\u001b[?25h  Created wheel for kaggle: filename=kaggle-1.5.9-py3-none-any.whl size=73265 sha256=92bdfd135e21394b41b0f85d3ae6ad8f3a4bb9db3007d9689ec372dcb623851f\n",
            "  Stored in directory: /home/azureuser/.cache/pip/wheels/9d/50/3d/2644504bb1e8c782f3fef5984f03d76fc4a74698fdec128b29\n",
            "  Building wheel for python-slugify (setup.py) ... \u001b[?25l-\b \bdone\n",
            "\u001b[?25h  Created wheel for python-slugify: filename=python_slugify-4.0.1-py2.py3-none-any.whl size=6769 sha256=93743739153741db017d23cb0a7add5f60428e582a2163b98ac74fb2b275ac44\n",
            "  Stored in directory: /home/azureuser/.cache/pip/wheels/72/e6/db/122611605e60148f54ee2abaca98b2bbeafc6e22486a867bad\n",
            "  Building wheel for slugify (setup.py) ... \u001b[?25l-\b \bdone\n",
            "\u001b[?25h  Created wheel for slugify: filename=slugify-0.0.1-py3-none-any.whl size=1909 sha256=704139593be52d24c0bbad275df123e6060a6e50f28dc408310640b0ff82e19d\n",
            "  Stored in directory: /home/azureuser/.cache/pip/wheels/7d/51/b0/c584cbdd0a8fc685d68677e58cde93814cbbc7fd9867fb5fe6\n",
            "Successfully built kaggle python-slugify slugify\n",
            "Installing collected packages: text-unidecode, python-slugify, slugify, kaggle\n",
            "Successfully installed kaggle-1.5.9 python-slugify-4.0.1 slugify-0.0.1 text-unidecode-1.3\n"
          ]
        }
      ],
      "execution_count": 1,
      "metadata": {
        "collapsed": true,
        "jupyter": {
          "source_hidden": false,
          "outputs_hidden": false
        },
        "nteract": {
          "transient": {
            "deleting": false
          }
        }
      }
    },
    {
      "cell_type": "markdown",
      "source": [
        "If the import of data_prep fails, see the README on how to download and copy the kaggle.json"
      ],
      "metadata": {
        "nteract": {
          "transient": {
            "deleting": false
          }
        }
      }
    },
    {
      "cell_type": "code",
      "source": [
        "from azureml.core.workspace import Workspace\n",
        "from azureml.core import Experiment, Model, Webservice\n",
        "from azureml.widgets import RunDetails\n",
        "from azureml.train.automl import AutoMLConfig\n",
        "from azureml.core.compute import ComputeTarget, AmlCompute\n",
        "from azureml.core.compute_target import ComputeTargetException\n",
        "\n",
        "import data_prep"
      ],
      "outputs": [],
      "execution_count": 3,
      "metadata": {
        "collapsed": false,
        "gather": {
          "logged": 1605707119827
        },
        "jupyter": {
          "outputs_hidden": false,
          "source_hidden": false
        },
        "nteract": {
          "transient": {
            "deleting": false
          }
        }
      }
    },
    {
      "cell_type": "markdown",
      "source": [
        "## Dataset\n",
        "\n",
        "### Overview\n",
        "The Portable Executable (PE) format is a file format for executables, object code, DLLs and others used in 32-bit and 64-bit versions of Windows operating systems. The header of PE files contains a number for things like the size of the file, imported libraries, and more. This dataset from [Kaggle](https://www.kaggle.com/divg07/malware-analysis-dataset) contains data extracted from PE headers from both known malware samples and benign software samples.\n",
        "\n",
        "### Task\n",
        "The task for this project is to train models to classify whether an executable is malware or benign using features extracted from their PE Header. The 'legitimate' column in the dataset is 1 when the executible file is from a legitimate source (aka benign software or goodware), and 0 when it is malware.  \n"
      ],
      "metadata": {}
    },
    {
      "cell_type": "code",
      "source": [
        "ws = Workspace.from_config()\n",
        "experiment_name = 'automl_experiment'\n",
        "\n",
        "experiment=Experiment(ws, experiment_name)\n",
        "\n",
        "dataset = data_prep.get_dataset(ws)"
      ],
      "outputs": [
        {
          "output_type": "stream",
          "name": "stdout",
          "text": [
            "Performing interactive authentication. Please follow the instructions on the terminal.\n",
            "To sign in, use a web browser to open the page https://microsoft.com/devicelogin and enter the code RNBVNFGUW to authenticate.\n",
            "You have logged in. Now let us find all the subscriptions to which you have access...\n",
            "Interactive authentication successfully completed.\n",
            "Validating arguments.\n",
            "Arguments validated.\n",
            "Successfully obtained datastore reference and path.\n",
            "Uploading file to managed-dataset/b601c0b5-a16e-4b95-996f-5150c0a8d98f/\n",
            "Successfully uploaded file to datastore.\n",
            "Creating and registering a new dataset.\n",
            "Successfully created and registered a new dataset.\n"
          ]
        },
        {
          "output_type": "stream",
          "name": "stderr",
          "text": [
            "WARNING - Method register_pandas_dataframe: This is an experimental method, and may change at any time.<br/>For more information, see https://aka.ms/azuremlexperimental.\n"
          ]
        }
      ],
      "execution_count": 4,
      "metadata": {
        "collapsed": false,
        "gather": {
          "logged": 1605707166279
        },
        "jupyter": {
          "outputs_hidden": false,
          "source_hidden": false
        },
        "nteract": {
          "transient": {
            "deleting": false
          }
        }
      }
    },
    {
      "cell_type": "markdown",
      "source": [
        "## Find or Create Compute Cluster"
      ],
      "metadata": {}
    },
    {
      "cell_type": "code",
      "source": [
        "cpu_cluster_name = \"cpu-cluster\"\n",
        "\n",
        "# Check if the cluster exists. If there is an error, create the cluster\n",
        "try:\n",
        "    cpu_cluster = ComputeTarget(workspace=ws, name=cpu_cluster_name)\n",
        "    print('Found existing cluster, use it.')\n",
        "except ComputeTargetException:\n",
        "    compute_config = AmlCompute.provisioning_configuration(vm_size='STANDARD_DS11_V2',\n",
        "                                                            max_nodes=10)\n",
        "    cpu_cluster = ComputeTarget.create(ws, cpu_cluster_name, compute_config)\n",
        "    \n",
        "\n",
        "cpu_cluster.wait_for_completion(show_output=True)"
      ],
      "outputs": [
        {
          "output_type": "stream",
          "name": "stdout",
          "text": [
            "Creating\n",
            "Succeeded\n",
            "AmlCompute wait for completion finished\n",
            "\n",
            "Minimum number of nodes requested have been provisioned\n"
          ]
        }
      ],
      "execution_count": 5,
      "metadata": {
        "collapsed": false,
        "gather": {
          "logged": 1605707210221
        },
        "jupyter": {
          "outputs_hidden": false,
          "source_hidden": false
        },
        "nteract": {
          "transient": {
            "deleting": false
          }
        }
      }
    },
    {
      "cell_type": "markdown",
      "source": [
        "## AutoML Configuration\n",
        "\n",
        "Below, we set the AutoML settings and configuration. Since I am using the Azure lab provided by Udacity, I only have a limited amount of time to wait for a run and limited resources, so we set the max_concurrent_iterations to 5 and the timeout to 30 minutes. On a different instance with more resources these could be increased\n",
        "\n",
        "We also define a 'classification' task, auto featurization from AutoML, our primary metric as 'accuracy', and specify the dataset and the 'legitimate' column from the dataset as the label column."
      ],
      "metadata": {}
    },
    {
      "cell_type": "code",
      "source": [
        "automl_settings =  {\n",
        "    \"experiment_timeout_minutes\": 30,\n",
        "    \"max_concurrent_iterations\": 5,\n",
        "    \"primary_metric\" : 'accuracy',\n",
        "    \"n_cross_validations\": 3,\n",
        "    \"enable_early_stopping\": True,\n",
        "    \"featurization\": 'auto'\n",
        "}\n",
        "\n",
        "automl_config = AutoMLConfig(\n",
        "                    task=\"classification\",\n",
        "                    training_data=dataset,\n",
        "                    label_column_name=\"legitimate\",\n",
        "                    compute_target=cpu_cluster,\n",
        "                    **automl_settings)"
      ],
      "outputs": [],
      "execution_count": 7,
      "metadata": {
        "collapsed": false,
        "gather": {
          "logged": 1605707221784
        },
        "jupyter": {
          "outputs_hidden": false,
          "source_hidden": false
        },
        "nteract": {
          "transient": {
            "deleting": false
          }
        }
      }
    },
    {
      "cell_type": "code",
      "source": [
        "automl_run = experiment.submit(automl_config)"
      ],
      "outputs": [
        {
          "output_type": "stream",
          "name": "stdout",
          "text": [
            "Running on remote.\n"
          ]
        }
      ],
      "execution_count": 8,
      "metadata": {
        "collapsed": false,
        "gather": {
          "logged": 1605707227850
        },
        "jupyter": {
          "outputs_hidden": false,
          "source_hidden": false
        },
        "nteract": {
          "transient": {
            "deleting": false
          }
        }
      }
    },
    {
      "cell_type": "markdown",
      "source": [
        "## Run Details\n",
        "\n",
        "In the cell below, the `RunDetails` widget shows the different experiments."
      ],
      "metadata": {}
    },
    {
      "cell_type": "code",
      "source": [
        "RunDetails(automl_run).show()"
      ],
      "outputs": [
        {
          "output_type": "display_data",
          "data": {
            "text/plain": "_AutoMLWidget(widget_settings={'childWidgetDisplay': 'popup', 'send_telemetry': False, 'log_level': 'INFO', 's…",
            "application/vnd.jupyter.widget-view+json": {
              "version_major": 2,
              "version_minor": 0,
              "model_id": "c4e030f6daeb4af7a73d1b4ff68c1191"
            }
          },
          "metadata": {}
        },
        {
          "output_type": "display_data",
          "data": {
            "application/aml.mini.widget.v1": "{\"status\": \"Completed\", \"workbench_run_details_uri\": \"https://ml.azure.com/experiments/automl_experiment/runs/AutoML_0ecfca36-e82f-497d-b214-dae4e4aade01?wsid=/subscriptions/4910dccd-0348-46c4-a51f-d8c85e078b14/resourcegroups/aml-quickstarts-126765/workspaces/quick-starts-ws-126765\", \"run_id\": \"AutoML_0ecfca36-e82f-497d-b214-dae4e4aade01\", \"run_properties\": {\"run_id\": \"AutoML_0ecfca36-e82f-497d-b214-dae4e4aade01\", \"created_utc\": \"2020-11-18T13:47:06.523845Z\", \"properties\": {\"num_iterations\": \"1000\", \"training_type\": \"TrainFull\", \"acquisition_function\": \"EI\", \"primary_metric\": \"accuracy\", \"train_split\": \"0\", \"acquisition_parameter\": \"0\", \"num_cross_validation\": \"3\", \"target\": \"cpu-cluster\", \"AMLSettingsJsonString\": \"{\\\"path\\\":null,\\\"name\\\":\\\"automl_experiment\\\",\\\"subscription_id\\\":\\\"4910dccd-0348-46c4-a51f-d8c85e078b14\\\",\\\"resource_group\\\":\\\"aml-quickstarts-126765\\\",\\\"workspace_name\\\":\\\"quick-starts-ws-126765\\\",\\\"region\\\":\\\"southcentralus\\\",\\\"compute_target\\\":\\\"cpu-cluster\\\",\\\"spark_service\\\":null,\\\"azure_service\\\":\\\"remote\\\",\\\"_local_managed_run_id\\\":null,\\\"many_models\\\":false,\\\"pipeline_fetch_max_batch_size\\\":1,\\\"iterations\\\":1000,\\\"primary_metric\\\":\\\"accuracy\\\",\\\"task_type\\\":\\\"classification\\\",\\\"data_script\\\":null,\\\"validation_size\\\":0.0,\\\"n_cross_validations\\\":3,\\\"y_min\\\":null,\\\"y_max\\\":null,\\\"num_classes\\\":null,\\\"featurization\\\":\\\"auto\\\",\\\"_ignore_package_version_incompatibilities\\\":false,\\\"is_timeseries\\\":false,\\\"max_cores_per_iteration\\\":1,\\\"max_concurrent_iterations\\\":5,\\\"iteration_timeout_minutes\\\":null,\\\"mem_in_mb\\\":null,\\\"enforce_time_on_windows\\\":false,\\\"experiment_timeout_minutes\\\":30,\\\"experiment_exit_score\\\":null,\\\"whitelist_models\\\":null,\\\"blacklist_algos\\\":[\\\"TensorFlowLinearClassifier\\\",\\\"TensorFlowDNN\\\"],\\\"supported_models\\\":[\\\"BernoulliNaiveBayes\\\",\\\"LightGBM\\\",\\\"LogisticRegression\\\",\\\"TensorFlowDNN\\\",\\\"MultinomialNaiveBayes\\\",\\\"LinearSVM\\\",\\\"SVM\\\",\\\"GradientBoosting\\\",\\\"DecisionTree\\\",\\\"XGBoostClassifier\\\",\\\"TensorFlowLinearClassifier\\\",\\\"AveragedPerceptronClassifier\\\",\\\"SGD\\\",\\\"RandomForest\\\",\\\"ExtremeRandomTrees\\\",\\\"KNN\\\"],\\\"auto_blacklist\\\":true,\\\"blacklist_samples_reached\\\":false,\\\"exclude_nan_labels\\\":true,\\\"verbosity\\\":20,\\\"_debug_log\\\":\\\"azureml_automl.log\\\",\\\"show_warnings\\\":false,\\\"model_explainability\\\":true,\\\"service_url\\\":null,\\\"sdk_url\\\":null,\\\"sdk_packages\\\":null,\\\"enable_onnx_compatible_models\\\":false,\\\"enable_split_onnx_featurizer_estimator_models\\\":false,\\\"vm_type\\\":\\\"STANDARD_DS11_V2\\\",\\\"telemetry_verbosity\\\":20,\\\"send_telemetry\\\":true,\\\"enable_dnn\\\":false,\\\"scenario\\\":\\\"SDK-1.13.0\\\",\\\"environment_label\\\":null,\\\"force_text_dnn\\\":false,\\\"enable_feature_sweeping\\\":true,\\\"enable_early_stopping\\\":true,\\\"early_stopping_n_iters\\\":10,\\\"metrics\\\":null,\\\"enable_ensembling\\\":true,\\\"enable_stack_ensembling\\\":true,\\\"ensemble_iterations\\\":15,\\\"enable_tf\\\":false,\\\"enable_subsampling\\\":null,\\\"subsample_seed\\\":null,\\\"enable_nimbusml\\\":false,\\\"enable_streaming\\\":false,\\\"force_streaming\\\":false,\\\"track_child_runs\\\":true,\\\"allowed_private_models\\\":[],\\\"label_column_name\\\":\\\"legitimate\\\",\\\"weight_column_name\\\":null,\\\"cv_split_column_names\\\":null,\\\"enable_local_managed\\\":false,\\\"cost_mode\\\":1,\\\"lag_length\\\":0,\\\"metric_operation\\\":\\\"maximize\\\",\\\"preprocess\\\":true}\", \"DataPrepJsonString\": \"{\\\\\\\"training_data\\\\\\\": \\\\\\\"{\\\\\\\\\\\\\\\"blocks\\\\\\\\\\\\\\\": [{\\\\\\\\\\\\\\\"id\\\\\\\\\\\\\\\": \\\\\\\\\\\\\\\"93a82dda-9816-44fd-b192-486e7fdf066b\\\\\\\\\\\\\\\", \\\\\\\\\\\\\\\"type\\\\\\\\\\\\\\\": \\\\\\\\\\\\\\\"Microsoft.DPrep.GetDatastoreFilesBlock\\\\\\\\\\\\\\\", \\\\\\\\\\\\\\\"arguments\\\\\\\\\\\\\\\": {\\\\\\\\\\\\\\\"datastores\\\\\\\\\\\\\\\": [{\\\\\\\\\\\\\\\"datastoreName\\\\\\\\\\\\\\\": \\\\\\\\\\\\\\\"workspaceblobstore\\\\\\\\\\\\\\\", \\\\\\\\\\\\\\\"path\\\\\\\\\\\\\\\": \\\\\\\\\\\\\\\"managed-dataset/b601c0b5-a16e-4b95-996f-5150c0a8d98f/\\\\\\\\\\\\\\\", \\\\\\\\\\\\\\\"resourceGroup\\\\\\\\\\\\\\\": \\\\\\\\\\\\\\\"aml-quickstarts-126765\\\\\\\\\\\\\\\", \\\\\\\\\\\\\\\"subscription\\\\\\\\\\\\\\\": \\\\\\\\\\\\\\\"4910dccd-0348-46c4-a51f-d8c85e078b14\\\\\\\\\\\\\\\", \\\\\\\\\\\\\\\"workspaceName\\\\\\\\\\\\\\\": \\\\\\\\\\\\\\\"quick-starts-ws-126765\\\\\\\\\\\\\\\"}]}, \\\\\\\\\\\\\\\"localData\\\\\\\\\\\\\\\": {}, \\\\\\\\\\\\\\\"isEnabled\\\\\\\\\\\\\\\": true, \\\\\\\\\\\\\\\"name\\\\\\\\\\\\\\\": null, \\\\\\\\\\\\\\\"annotation\\\\\\\\\\\\\\\": null}, {\\\\\\\\\\\\\\\"id\\\\\\\\\\\\\\\": \\\\\\\\\\\\\\\"c9710de5-d486-4d4b-b5e8-e34fae6b5cff\\\\\\\\\\\\\\\", \\\\\\\\\\\\\\\"type\\\\\\\\\\\\\\\": \\\\\\\\\\\\\\\"Microsoft.DPrep.ReadParquetFileBlock\\\\\\\\\\\\\\\", \\\\\\\\\\\\\\\"arguments\\\\\\\\\\\\\\\": {\\\\\\\\\\\\\\\"preview\\\\\\\\\\\\\\\": false}, \\\\\\\\\\\\\\\"localData\\\\\\\\\\\\\\\": {}, \\\\\\\\\\\\\\\"isEnabled\\\\\\\\\\\\\\\": true, \\\\\\\\\\\\\\\"name\\\\\\\\\\\\\\\": null, \\\\\\\\\\\\\\\"annotation\\\\\\\\\\\\\\\": null}, {\\\\\\\\\\\\\\\"id\\\\\\\\\\\\\\\": \\\\\\\\\\\\\\\"cdaa0520-3455-46db-9ba8-27326813bd95\\\\\\\\\\\\\\\", \\\\\\\\\\\\\\\"type\\\\\\\\\\\\\\\": \\\\\\\\\\\\\\\"Microsoft.DPrep.DropColumnsBlock\\\\\\\\\\\\\\\", \\\\\\\\\\\\\\\"arguments\\\\\\\\\\\\\\\": {\\\\\\\\\\\\\\\"columns\\\\\\\\\\\\\\\": {\\\\\\\\\\\\\\\"type\\\\\\\\\\\\\\\": 0, \\\\\\\\\\\\\\\"details\\\\\\\\\\\\\\\": {\\\\\\\\\\\\\\\"selectedColumns\\\\\\\\\\\\\\\": [\\\\\\\\\\\\\\\"Path\\\\\\\\\\\\\\\"]}}}, \\\\\\\\\\\\\\\"localData\\\\\\\\\\\\\\\": {}, \\\\\\\\\\\\\\\"isEnabled\\\\\\\\\\\\\\\": true, \\\\\\\\\\\\\\\"name\\\\\\\\\\\\\\\": null, \\\\\\\\\\\\\\\"annotation\\\\\\\\\\\\\\\": null}], \\\\\\\\\\\\\\\"inspectors\\\\\\\\\\\\\\\": [], \\\\\\\\\\\\\\\"meta\\\\\\\\\\\\\\\": {\\\\\\\\\\\\\\\"steps_added\\\\\\\\\\\\\\\": \\\\\\\\\\\\\\\"3\\\\\\\\\\\\\\\"}}\\\\\\\", \\\\\\\"activities\\\\\\\": 0}\", \"EnableSubsampling\": null, \"runTemplate\": \"AutoML\", \"azureml.runsource\": \"automl\", \"display_task_type\": \"classification\", \"dependencies_versions\": \"{\\\"azureml-widgets\\\": \\\"1.18.0\\\", \\\"azureml-train\\\": \\\"1.18.0\\\", \\\"azureml-train-restclients-hyperdrive\\\": \\\"1.18.0\\\", \\\"azureml-train-core\\\": \\\"1.18.0\\\", \\\"azureml-train-automl\\\": \\\"1.18.0\\\", \\\"azureml-train-automl-runtime\\\": \\\"1.18.0\\\", \\\"azureml-train-automl-client\\\": \\\"1.18.0\\\", \\\"azureml-tensorboard\\\": \\\"1.18.0\\\", \\\"azureml-telemetry\\\": \\\"1.18.0\\\", \\\"azureml-sdk\\\": \\\"1.18.0\\\", \\\"azureml-samples\\\": \\\"0+unknown\\\", \\\"azureml-pipeline\\\": \\\"1.18.0\\\", \\\"azureml-pipeline-steps\\\": \\\"1.18.0\\\", \\\"azureml-pipeline-core\\\": \\\"1.18.0\\\", \\\"azureml-opendatasets\\\": \\\"1.18.0\\\", \\\"azureml-model-management-sdk\\\": \\\"1.0.1b6.post1\\\", \\\"azureml-mlflow\\\": \\\"1.18.0\\\", \\\"azureml-interpret\\\": \\\"1.18.0\\\", \\\"azureml-explain-model\\\": \\\"1.18.0\\\", \\\"azureml-defaults\\\": \\\"1.18.0\\\", \\\"azureml-dataset-runtime\\\": \\\"1.18.0\\\", \\\"azureml-dataprep\\\": \\\"2.4.2\\\", \\\"azureml-dataprep-rslex\\\": \\\"1.2.2\\\", \\\"azureml-dataprep-native\\\": \\\"24.0.0\\\", \\\"azureml-datadrift\\\": \\\"1.18.0\\\", \\\"azureml-core\\\": \\\"1.18.0\\\", \\\"azureml-contrib-services\\\": \\\"1.18.0\\\", \\\"azureml-contrib-server\\\": \\\"1.18.0\\\", \\\"azureml-contrib-reinforcementlearning\\\": \\\"1.18.0\\\", \\\"azureml-contrib-pipeline-steps\\\": \\\"1.18.0\\\", \\\"azureml-contrib-notebook\\\": \\\"1.18.0\\\", \\\"azureml-contrib-interpret\\\": \\\"1.18.0\\\", \\\"azureml-contrib-gbdt\\\": \\\"1.18.0\\\", \\\"azureml-contrib-fairness\\\": \\\"1.18.0\\\", \\\"azureml-contrib-dataset\\\": \\\"1.18.0\\\", \\\"azureml-cli-common\\\": \\\"1.18.0\\\", \\\"azureml-automl-runtime\\\": \\\"1.18.0\\\", \\\"azureml-automl-core\\\": \\\"1.18.0\\\", \\\"azureml-accel-models\\\": \\\"1.18.0\\\"}\", \"_aml_system_scenario_identification\": \"Remote.Parent\", \"ClientType\": \"SDK\", \"environment_cpu_name\": \"AzureML-AutoML\", \"environment_cpu_version\": \"44\", \"environment_gpu_name\": \"AzureML-AutoML-GPU\", \"environment_gpu_version\": \"32\", \"root_attribution\": \"automl\", \"attribution\": \"AutoML\", \"Orchestrator\": \"AutoML\", \"CancelUri\": \"https://southcentralus.experiments.azureml.net/jasmine/v1.0/subscriptions/4910dccd-0348-46c4-a51f-d8c85e078b14/resourceGroups/aml-quickstarts-126765/providers/Microsoft.MachineLearningServices/workspaces/quick-starts-ws-126765/experimentids/38f11cf2-1e58-42bc-8c46-1d1e229b3865/cancel/AutoML_0ecfca36-e82f-497d-b214-dae4e4aade01\", \"ClientSdkVersion\": \"1.17.0\", \"snapshotId\": \"00000000-0000-0000-0000-000000000000\", \"SetupRunId\": \"AutoML_0ecfca36-e82f-497d-b214-dae4e4aade01_setup\", \"SetupRunContainerId\": \"dcid.AutoML_0ecfca36-e82f-497d-b214-dae4e4aade01_setup\", \"FeaturizationRunJsonPath\": \"featurizer_container.json\", \"FeaturizationRunId\": \"AutoML_0ecfca36-e82f-497d-b214-dae4e4aade01_featurize\", \"ProblemInfoJsonString\": \"{\\\"dataset_num_categorical\\\": 0, \\\"is_sparse\\\": false, \\\"subsampling\\\": false, \\\"dataset_classes\\\": 2, \\\"dataset_features\\\": 56, \\\"dataset_samples\\\": 138047, \\\"single_frequency_class_detected\\\": false}\", \"ModelExplainRunId\": \"AutoML_0ecfca36-e82f-497d-b214-dae4e4aade01_ModelExplain\"}, \"tags\": {\"model_explain_run\": \"best_run\", \"_aml_system_azureml.automlComponent\": \"AutoML\", \"pipeline_id\": \"<f873311e8cfb2bcdbeb6c20367cf912f4ee6733e>;<cf1dc9b7ea4a50d759bce352343ec6737501695a>;<47dd667bb7c34b68c9fffa6fd580565b1f85400f>;<713f188a27b176644f73e8664c667c674a2d3d62>;<b19eeb61727e9c4fbb5aa45fb6e9fe3fab5b1f04>;<5dfac790c5c209f98a1da2dc1c7fb76f0397324f>;<62c0e30b2e9113b3ecd95bcf5b31423c72074070>;<9e3f4780268658ad403e896559a8d3406152018c>;<59e4a1b86a57dfaeac5f3a051de6155ffc74f55b>;<c7af0367625be6ac5c2fecbfc72ed444cb7a2111>;<e81d621ed176e5fac9def492d4ac54f304146b7c>;<a2983da01504b121cc4056d933a1191b51be87bc>;<52ac74da744a165756acc49238b34b81115532fd>;<a91f8b94ae9bf0dfc66e93d29d1ef41b7e2687f2>;<8de8c085d2a4b23d3f4cc392a2f2660d23d38c14>;<4d4be808b8b6dd0f67e8354c79eddd3d712440a5>;<d8d1a28b70a271fc16185d8e06b7faeee4bdd817>;<80d7fafc6227885ab86e843212a0c5ea47a69004>;<19bb9b610818186383462e6b1f9b568bc04b93e9>;<9845a0ba1345a7474c237d10111bcf5bccbb1f0e>;<9fd7f177a78effac65f3f97ae40ca91e296c3f10>;<ce2643edf3d450b10c86c7d034a9bc952dc282d3>;<f86e0c37319548491774cfe027df9161ae6eecd2>;<a072e5a60b811d67a8bb1bea4b562d0dad1b336e>;<51ae05309834b29f71340af1008fc94fbd8213f4>;<7e6d29ac12f87df549568aa4d87b909e180e45bc>;<159bc77eee25e2b315ed79d180b93364945bdb2e>;<2ef180061d59b2a4307dca922d836ff60c3ad7a0>;<9e156486f0953d08c66ff845388c7f9387a8fd7b>;<c97b3fbbb3a9906a67294dc582d3b4ea08e83349>;<7a353298a80ee6610c548e836b3c134f9d3f819e>;<aa6ef3260d3642b5ce5187d399a90cfedb8f24b1>;<be1ef63576c9bf239084ecda182b48071c3c26e3>;<e852e80acadf236b694a3151658028bab6a04445>;<fad1ed99b47682d5aef7e7b6650397815bdbf68f>;<c7429113d717a6044b165823048687f69481b4cc>;<e3e65f4238b99bbc332ec9972d418960bcf7d5ae>;<75e6d9bc473bd44ac457bc2782f2d6201ac8e02e>;<__AutoML_Ensemble__>;<__AutoML_Stack_Ensemble__>;\", \"score\": \"<0.9794707652563456>;<0.9847877784871505>;<0.9798691748840641>;<0.9890109717981644>;<0.9828028976977886>;<0.9999420488274797>;<0.8476969304016938>;<0.9825132219639129>;<0.9426352416098015>;<0.9999637807139545>;<0.9801154721687024>;<0.9706911471919796>;<0.9595861311639675>;<0.9725455784156777>;<0.9791882856802606>;<0.9791955038773864>;<0.9741247668364276>;<0.9795504571310749>;<0.9763341550919856>;<0.9667504743872448>;<0.9857802017226347>;<0.986540811924575>;<0.9749722606630208>;<0.9648090984584505>;<0.9771527334682192>;<0.9754503923908427>;<0.9955377571971527>;<0.9994494648055997>;<0.7006599442790193>;<0.9771527090675266>;<0.9993770251315421>;<0.9786666796320928>;<0.9927705733604837>;<NaN>;<NaN>;<0.9838243405982036>;<NaN>;<NaN>;<0.9999637807139545>;<0.9999565366993216>;\", \"predicted_cost\": \"<0.5>;<0.5>;<0.5201226666666666>;<1.0824866141866927>;<0.5>;<0>;<1.0483552628298876>;<1.139611836145756>;<0.6264336554024501>;<0>;<0.5511067151270824>;<0.4645398874242911>;<1.3329873447964893>;<0.6186955396965537>;<1.0744607673021842>;<0.9660857457130045>;<1.0949214456619296>;<0.9562851374640269>;<0.49108432357663045>;<1.0473137019558565>;<1.0436188093378873>;<1.1852934700438171>;<1.1179595985241284>;<1.0956420134427503>;<1.2690738154759045>;<0.48494939384454383>;<1.1608786441269492>;<0.950431623208586>;<1.2727551216898185>;<1.0128865398549114>;<1.285524627861337>;<2.0534909537221924>;<1.6635452965476287>;<3.192823126884478>;<2.481149001857967>;<1.6716343431516187>;<2.400378819476543>;<1.434645774369229>;<0>;<0>;\", \"fit_time\": \"<0.5201226666666666>;<1.6395536666666668>;<0.34016700000000005>;<1.6815763333333333>;<0.9941356666666668>;<4.212725333333332>;<1.0646796666666667>;<1.29436>;<0.7967629999999999>;<16.64988633333333>;<0.323762>;<0.4197343333333334>;<1.2478529999999999>;<1.0799766666666668>;<1.147476>;<1.4920673333333332>;<1.120705>;<1.55682>;<0.5520183333333334>;<1.527259>;<2.4019153333333336>;<0.9832706666666665>;<0.666564>;<1.4399483333333334>;<1.593866>;<2.6603006666666666>;<3.022010333333333>;<7.585544>;<0.9106886666666667>;<7.452857000000001>;<4.178693666666667>;<20.150234333333334>;<9.981656666666666>;<NaN>;<NaN>;<20.385717333333332>;<NaN>;<NaN>;<73>;<101>;\", \"training_percent\": \"<100>;<100>;<100>;<100>;<100>;<100>;<100>;<100>;<100>;<100>;<100>;<100>;<100>;<100>;<100>;<100>;<100>;<100>;<100>;<100>;<100>;<100>;<100>;<100>;<100>;<100>;<100>;<100>;<100>;<100>;<100>;<100>;<100>;<100>;<100>;<100>;<100>;<100>;<100>;<100>;\", \"iteration\": \"<3>;<2>;<5>;<6>;<4>;<0>;<7>;<8>;<10>;<1>;<9>;<11>;<12>;<13>;<14>;<15>;<16>;<17>;<18>;<21>;<19>;<22>;<20>;<24>;<25>;<23>;<26>;<27>;<29>;<30>;<31>;<32>;<34>;<36>;<37>;<33>;<35>;<28>;<38>;<39>;\", \"run_preprocessor\": \"<StandardScalerWrapper>;<MinMaxScaler>;<StandardScalerWrapper>;<StandardScalerWrapper>;<MinMaxScaler>;<MaxAbsScaler>;<RobustScaler>;<StandardScalerWrapper>;<StandardScalerWrapper>;<MaxAbsScaler>;<StandardScalerWrapper>;<MinMaxScaler>;<RobustScaler>;<MinMaxScaler>;<MinMaxScaler>;<MinMaxScaler>;<MinMaxScaler>;<StandardScalerWrapper>;<StandardScalerWrapper>;<MinMaxScaler>;<RobustScaler>;<MaxAbsScaler>;<StandardScalerWrapper>;<TruncatedSVDWrapper>;<MaxAbsScaler>;<MinMaxScaler>;<StandardScalerWrapper>;<StandardScalerWrapper>;<TruncatedSVDWrapper>;<MinMaxScaler>;<StandardScalerWrapper>;<MinMaxScaler>;<MinMaxScaler>;<>;<>;<MaxAbsScaler>;<TruncatedSVDWrapper>;<SparseNormalizer>;<>;<>;\", \"run_algorithm\": \"<SGD>;<RandomForest>;<SGD>;<RandomForest>;<RandomForest>;<LightGBM>;<ExtremeRandomTrees>;<ExtremeRandomTrees>;<SGD>;<XGBoostClassifier>;<SGD>;<SGD>;<ExtremeRandomTrees>;<SGD>;<ExtremeRandomTrees>;<ExtremeRandomTrees>;<ExtremeRandomTrees>;<RandomForest>;<SGD>;<ExtremeRandomTrees>;<ExtremeRandomTrees>;<RandomForest>;<RandomForest>;<XGBoostClassifier>;<ExtremeRandomTrees>;<SGD>;<XGBoostClassifier>;<XGBoostClassifier>;<LogisticRegression>;<LogisticRegression>;<LightGBM>;<RandomForest>;<RandomForest>;<>;<>;<RandomForest>;<XGBoostClassifier>;<XGBoostClassifier>;<VotingEnsemble>;<StackEnsemble>;\", \"dynamic_whitelisting_iterations\": \"<24>;<28>;<35>;\", \"automl_best_child_run_id\": \"AutoML_0ecfca36-e82f-497d-b214-dae4e4aade01_38\", \"model_explain_best_run_child_id\": \"AutoML_0ecfca36-e82f-497d-b214-dae4e4aade01_38\"}, \"end_time_utc\": \"2020-11-18T14:16:51.920709Z\", \"status\": \"Completed\", \"log_files\": {}, \"log_groups\": [], \"run_duration\": \"0:29:45\"}, \"child_runs\": [{\"run_id\": \"AutoML_0ecfca36-e82f-497d-b214-dae4e4aade01_0\", \"run_number\": 5, \"metric\": null, \"status\": \"Completed\", \"run_type\": \"azureml.scriptrun\", \"training_percent\": \"100\", \"start_time\": \"2020-11-18T14:02:33.51639Z\", \"end_time\": \"2020-11-18T14:05:19.207236Z\", \"created_time\": \"2020-11-18T14:02:19.027558Z\", \"created_time_dt\": \"2020-11-18T14:02:19.027558Z\", \"duration\": \"0:03:00\", \"iteration\": \"0\", \"goal\": \"accuracy_max\", \"run_name\": \"MaxAbsScaler, LightGBM\", \"run_properties\": \"copy=True\", \"primary_metric\": 0.99994205, \"best_metric\": 0.99994205}, {\"run_id\": \"AutoML_0ecfca36-e82f-497d-b214-dae4e4aade01_2\", \"run_number\": 6, \"metric\": null, \"status\": \"Completed\", \"run_type\": \"azureml.scriptrun\", \"training_percent\": \"100\", \"start_time\": \"2020-11-18T14:02:31.894331Z\", \"end_time\": \"2020-11-18T14:03:20.807414Z\", \"created_time\": \"2020-11-18T14:02:19.069452Z\", \"created_time_dt\": \"2020-11-18T14:02:19.069452Z\", \"duration\": \"0:01:01\", \"iteration\": \"2\", \"goal\": \"accuracy_max\", \"run_name\": \"MinMaxScaler, RandomForest\", \"run_properties\": \"copy=True, feature_range=(0, 1\", \"primary_metric\": 0.98478778, \"best_metric\": 0.99996378}, {\"run_id\": \"AutoML_0ecfca36-e82f-497d-b214-dae4e4aade01_3\", \"run_number\": 7, \"metric\": null, \"status\": \"Completed\", \"run_type\": \"azureml.scriptrun\", \"training_percent\": \"100\", \"start_time\": \"2020-11-18T14:02:32.340943Z\", \"end_time\": \"2020-11-18T14:03:11.977428Z\", \"created_time\": \"2020-11-18T14:02:19.074274Z\", \"created_time_dt\": \"2020-11-18T14:02:19.074274Z\", \"duration\": \"0:00:52\", \"iteration\": \"3\", \"goal\": \"accuracy_max\", \"run_name\": \"StandardScalerWrapper, SGD\", \"run_properties\": \"<azureml.automl.runtime.shared.model_wrappers.StandardScalerWrapper object at 0x7f825bd5fa20\", \"primary_metric\": 0.97947077, \"best_metric\": 0.99996378}, {\"run_id\": \"AutoML_0ecfca36-e82f-497d-b214-dae4e4aade01_4\", \"run_number\": 8, \"metric\": null, \"status\": \"Completed\", \"run_type\": \"azureml.scriptrun\", \"training_percent\": \"100\", \"start_time\": \"2020-11-18T14:02:32.18356Z\", \"end_time\": \"2020-11-18T14:05:12.992634Z\", \"created_time\": \"2020-11-18T14:02:19.398885Z\", \"created_time_dt\": \"2020-11-18T14:02:19.398885Z\", \"duration\": \"0:02:53\", \"iteration\": \"4\", \"goal\": \"accuracy_max\", \"run_name\": \"MinMaxScaler, RandomForest\", \"run_properties\": \"copy=True, feature_range=(0, 1\", \"primary_metric\": 0.9828029, \"best_metric\": 0.99996378}, {\"run_id\": \"AutoML_0ecfca36-e82f-497d-b214-dae4e4aade01_1\", \"run_number\": 9, \"metric\": null, \"status\": \"Completed\", \"run_type\": \"azureml.scriptrun\", \"training_percent\": \"100\", \"start_time\": \"2020-11-18T14:02:33.438255Z\", \"end_time\": \"2020-11-18T14:06:24.10932Z\", \"created_time\": \"2020-11-18T14:02:19.445629Z\", \"created_time_dt\": \"2020-11-18T14:02:19.445629Z\", \"duration\": \"0:04:04\", \"iteration\": \"1\", \"goal\": \"accuracy_max\", \"run_name\": \"MaxAbsScaler, XGBoostClassifier\", \"run_properties\": \"copy=True\", \"primary_metric\": 0.99996378, \"best_metric\": 0.99996378}, {\"run_id\": \"AutoML_0ecfca36-e82f-497d-b214-dae4e4aade01_5\", \"run_number\": 10, \"metric\": null, \"status\": \"Completed\", \"run_type\": \"azureml.scriptrun\", \"training_percent\": \"100\", \"start_time\": \"2020-11-18T14:03:35.566374Z\", \"end_time\": \"2020-11-18T14:04:22.44961Z\", \"created_time\": \"2020-11-18T14:03:20.531185Z\", \"created_time_dt\": \"2020-11-18T14:03:20.531185Z\", \"duration\": \"0:01:01\", \"iteration\": \"5\", \"goal\": \"accuracy_max\", \"run_name\": \"StandardScalerWrapper, SGD\", \"run_properties\": \"<azureml.automl.runtime.shared.model_wrappers.StandardScalerWrapper object at 0x7f59b13ad748\", \"primary_metric\": 0.97986917, \"best_metric\": 0.99996378}, {\"run_id\": \"AutoML_0ecfca36-e82f-497d-b214-dae4e4aade01_6\", \"run_number\": 11, \"metric\": null, \"status\": \"Completed\", \"run_type\": \"azureml.scriptrun\", \"training_percent\": \"100\", \"start_time\": \"2020-11-18T14:03:47.921739Z\", \"end_time\": \"2020-11-18T14:04:33.585961Z\", \"created_time\": \"2020-11-18T14:03:35.942593Z\", \"created_time_dt\": \"2020-11-18T14:03:35.942593Z\", \"duration\": \"0:00:57\", \"iteration\": \"6\", \"goal\": \"accuracy_max\", \"run_name\": \"StandardScalerWrapper, RandomForest\", \"run_properties\": \"<azureml.automl.runtime.shared.model_wrappers.StandardScalerWrapper object at 0x7fc8b3c0ee10\", \"primary_metric\": 0.98901097, \"best_metric\": 0.99996378}, {\"run_id\": \"AutoML_0ecfca36-e82f-497d-b214-dae4e4aade01_7\", \"run_number\": 12, \"metric\": null, \"status\": \"Completed\", \"run_type\": \"azureml.scriptrun\", \"training_percent\": \"100\", \"start_time\": \"2020-11-18T14:04:44.365439Z\", \"end_time\": \"2020-11-18T14:05:27.274929Z\", \"created_time\": \"2020-11-18T14:04:34.72116Z\", \"created_time_dt\": \"2020-11-18T14:04:34.72116Z\", \"duration\": \"0:00:52\", \"iteration\": \"7\", \"goal\": \"accuracy_max\", \"run_name\": \"RobustScaler, ExtremeRandomTrees\", \"run_properties\": \"copy=True, quantile_range=[10, 90], with_centering=False,\\n             with_scaling=False\", \"primary_metric\": 0.84769693, \"best_metric\": 0.99996378}, {\"run_id\": \"AutoML_0ecfca36-e82f-497d-b214-dae4e4aade01_8\", \"run_number\": 13, \"metric\": null, \"status\": \"Completed\", \"run_type\": \"azureml.scriptrun\", \"training_percent\": \"100\", \"start_time\": \"2020-11-18T14:05:01.302767Z\", \"end_time\": \"2020-11-18T14:05:47.569796Z\", \"created_time\": \"2020-11-18T14:04:49.085884Z\", \"created_time_dt\": \"2020-11-18T14:04:49.085884Z\", \"duration\": \"0:00:58\", \"iteration\": \"8\", \"goal\": \"accuracy_max\", \"run_name\": \"StandardScalerWrapper, ExtremeRandomTrees\", \"run_properties\": \"<azureml.automl.runtime.shared.model_wrappers.StandardScalerWrapper object at 0x7f995b78b128\", \"primary_metric\": 0.98251322, \"best_metric\": 0.99996378}, {\"run_id\": \"AutoML_0ecfca36-e82f-497d-b214-dae4e4aade01_10\", \"run_number\": 14, \"metric\": null, \"status\": \"Completed\", \"run_type\": \"azureml.scriptrun\", \"training_percent\": \"100\", \"start_time\": \"2020-11-18T14:05:37.616918Z\", \"end_time\": \"2020-11-18T14:06:22.225596Z\", \"created_time\": \"2020-11-18T14:05:25.889943Z\", \"created_time_dt\": \"2020-11-18T14:05:25.889943Z\", \"duration\": \"0:00:56\", \"iteration\": \"10\", \"goal\": \"accuracy_max\", \"run_name\": \"StandardScalerWrapper, SGD\", \"run_properties\": \"<azureml.automl.runtime.shared.model_wrappers.StandardScalerWrapper object at 0x7f087dbc3080\", \"primary_metric\": 0.94263524, \"best_metric\": 0.99996378}, {\"run_id\": \"AutoML_0ecfca36-e82f-497d-b214-dae4e4aade01_9\", \"run_number\": 15, \"metric\": null, \"status\": \"Completed\", \"run_type\": \"azureml.scriptrun\", \"training_percent\": \"100\", \"start_time\": \"2020-11-18T14:05:39.729533Z\", \"end_time\": \"2020-11-18T14:06:28.633386Z\", \"created_time\": \"2020-11-18T14:05:25.898371Z\", \"created_time_dt\": \"2020-11-18T14:05:25.898371Z\", \"duration\": \"0:01:02\", \"iteration\": \"9\", \"goal\": \"accuracy_max\", \"run_name\": \"StandardScalerWrapper, SGD\", \"run_properties\": \"<azureml.automl.runtime.shared.model_wrappers.StandardScalerWrapper object at 0x7fdada9e4470\", \"primary_metric\": 0.98011547, \"best_metric\": 0.99996378}, {\"run_id\": \"AutoML_0ecfca36-e82f-497d-b214-dae4e4aade01_11\", \"run_number\": 16, \"metric\": null, \"status\": \"Completed\", \"run_type\": \"azureml.scriptrun\", \"training_percent\": \"100\", \"start_time\": \"2020-11-18T14:05:54.457776Z\", \"end_time\": \"2020-11-18T14:06:34.767741Z\", \"created_time\": \"2020-11-18T14:05:42.905594Z\", \"created_time_dt\": \"2020-11-18T14:05:42.905594Z\", \"duration\": \"0:00:51\", \"iteration\": \"11\", \"goal\": \"accuracy_max\", \"run_name\": \"MinMaxScaler, SGD\", \"run_properties\": \"copy=True, feature_range=(0, 1\", \"primary_metric\": 0.97069115, \"best_metric\": 0.99996378}, {\"run_id\": \"AutoML_0ecfca36-e82f-497d-b214-dae4e4aade01_12\", \"run_number\": 17, \"metric\": null, \"status\": \"Completed\", \"run_type\": \"azureml.scriptrun\", \"training_percent\": \"100\", \"start_time\": \"2020-11-18T14:06:10.968446Z\", \"end_time\": \"2020-11-18T14:06:55.389153Z\", \"created_time\": \"2020-11-18T14:06:00.439874Z\", \"created_time_dt\": \"2020-11-18T14:06:00.439874Z\", \"duration\": \"0:00:54\", \"iteration\": \"12\", \"goal\": \"accuracy_max\", \"run_name\": \"RobustScaler, ExtremeRandomTrees\", \"run_properties\": \"copy=True, quantile_range=[10, 90], with_centering=False,\\n             with_scaling=False\", \"primary_metric\": 0.95958613, \"best_metric\": 0.99996378}, {\"run_id\": \"AutoML_0ecfca36-e82f-497d-b214-dae4e4aade01_14\", \"run_number\": 18, \"metric\": null, \"status\": \"Completed\", \"run_type\": \"azureml.scriptrun\", \"training_percent\": \"100\", \"start_time\": \"2020-11-18T14:06:44.251841Z\", \"end_time\": \"2020-11-18T14:07:31.467129Z\", \"created_time\": \"2020-11-18T14:06:27.992175Z\", \"created_time_dt\": \"2020-11-18T14:06:27.992175Z\", \"duration\": \"0:01:03\", \"iteration\": \"14\", \"goal\": \"accuracy_max\", \"run_name\": \"MinMaxScaler, ExtremeRandomTrees\", \"run_properties\": \"copy=True, feature_range=(0, 1\", \"primary_metric\": 0.97918829, \"best_metric\": 0.99996378}, {\"run_id\": \"AutoML_0ecfca36-e82f-497d-b214-dae4e4aade01_13\", \"run_number\": 19, \"metric\": null, \"status\": \"Completed\", \"run_type\": \"azureml.scriptrun\", \"training_percent\": \"100\", \"start_time\": \"2020-11-18T14:06:44.202072Z\", \"end_time\": \"2020-11-18T14:07:34.63564Z\", \"created_time\": \"2020-11-18T14:06:28.039933Z\", \"created_time_dt\": \"2020-11-18T14:06:28.039933Z\", \"duration\": \"0:01:06\", \"iteration\": \"13\", \"goal\": \"accuracy_max\", \"run_name\": \"MinMaxScaler, SGD\", \"run_properties\": \"copy=True, feature_range=(0, 1\", \"primary_metric\": 0.97254558, \"best_metric\": 0.99996378}, {\"run_id\": \"AutoML_0ecfca36-e82f-497d-b214-dae4e4aade01_15\", \"run_number\": 20, \"metric\": null, \"status\": \"Completed\", \"run_type\": \"azureml.scriptrun\", \"training_percent\": \"100\", \"start_time\": \"2020-11-18T14:06:55.700242Z\", \"end_time\": \"2020-11-18T14:07:48.328367Z\", \"created_time\": \"2020-11-18T14:06:44.996345Z\", \"created_time_dt\": \"2020-11-18T14:06:44.996345Z\", \"duration\": \"0:01:03\", \"iteration\": \"15\", \"goal\": \"accuracy_max\", \"run_name\": \"MinMaxScaler, ExtremeRandomTrees\", \"run_properties\": \"copy=True, feature_range=(0, 1\", \"primary_metric\": 0.9791955, \"best_metric\": 0.99996378}, {\"run_id\": \"AutoML_0ecfca36-e82f-497d-b214-dae4e4aade01_16\", \"run_number\": 21, \"metric\": null, \"status\": \"Completed\", \"run_type\": \"azureml.scriptrun\", \"training_percent\": \"100\", \"start_time\": \"2020-11-18T14:06:58.788831Z\", \"end_time\": \"2020-11-18T14:07:46.297223Z\", \"created_time\": \"2020-11-18T14:06:45.178206Z\", \"created_time_dt\": \"2020-11-18T14:06:45.178206Z\", \"duration\": \"0:01:01\", \"iteration\": \"16\", \"goal\": \"accuracy_max\", \"run_name\": \"MinMaxScaler, ExtremeRandomTrees\", \"run_properties\": \"copy=True, feature_range=(0, 1\", \"primary_metric\": 0.97412477, \"best_metric\": 0.99996378}, {\"run_id\": \"AutoML_0ecfca36-e82f-497d-b214-dae4e4aade01_17\", \"run_number\": 22, \"metric\": null, \"status\": \"Completed\", \"run_type\": \"azureml.scriptrun\", \"training_percent\": \"100\", \"start_time\": \"2020-11-18T14:07:18.283072Z\", \"end_time\": \"2020-11-18T14:08:08.780928Z\", \"created_time\": \"2020-11-18T14:07:03.488224Z\", \"created_time_dt\": \"2020-11-18T14:07:03.488224Z\", \"duration\": \"0:01:05\", \"iteration\": \"17\", \"goal\": \"accuracy_max\", \"run_name\": \"StandardScalerWrapper, RandomForest\", \"run_properties\": \"<azureml.automl.runtime.shared.model_wrappers.StandardScalerWrapper object at 0x7f6a6f4e1278\", \"primary_metric\": 0.97955046, \"best_metric\": 0.99996378}, {\"run_id\": \"AutoML_0ecfca36-e82f-497d-b214-dae4e4aade01_18\", \"run_number\": 23, \"metric\": null, \"status\": \"Completed\", \"run_type\": \"azureml.scriptrun\", \"training_percent\": \"100\", \"start_time\": \"2020-11-18T14:07:51.157479Z\", \"end_time\": \"2020-11-18T14:08:40.775939Z\", \"created_time\": \"2020-11-18T14:07:40.416325Z\", \"created_time_dt\": \"2020-11-18T14:07:40.416325Z\", \"duration\": \"0:01:00\", \"iteration\": \"18\", \"goal\": \"accuracy_max\", \"run_name\": \"StandardScalerWrapper, SGD\", \"run_properties\": \"<azureml.automl.runtime.shared.model_wrappers.StandardScalerWrapper object at 0x7fe13daabf60\", \"primary_metric\": 0.97633416, \"best_metric\": 0.99996378}, {\"run_id\": \"AutoML_0ecfca36-e82f-497d-b214-dae4e4aade01_19\", \"run_number\": 24, \"metric\": null, \"status\": \"Completed\", \"run_type\": \"azureml.scriptrun\", \"training_percent\": \"100\", \"start_time\": \"2020-11-18T14:07:55.793107Z\", \"end_time\": \"2020-11-18T14:08:53.332924Z\", \"created_time\": \"2020-11-18T14:07:40.605797Z\", \"created_time_dt\": \"2020-11-18T14:07:40.605797Z\", \"duration\": \"0:01:12\", \"iteration\": \"19\", \"goal\": \"accuracy_max\", \"run_name\": \"RobustScaler, ExtremeRandomTrees\", \"run_properties\": \"copy=True, quantile_range=[25, 75], with_centering=True,\\n             with_scaling=False\", \"primary_metric\": 0.9857802, \"best_metric\": 0.99996378}, {\"run_id\": \"AutoML_0ecfca36-e82f-497d-b214-dae4e4aade01_20\", \"run_number\": 25, \"metric\": null, \"status\": \"Completed\", \"run_type\": \"azureml.scriptrun\", \"training_percent\": \"100\", \"start_time\": \"2020-11-18T14:08:12.937998Z\", \"end_time\": \"2020-11-18T14:08:57.880039Z\", \"created_time\": \"2020-11-18T14:08:01.834309Z\", \"created_time_dt\": \"2020-11-18T14:08:01.834309Z\", \"duration\": \"0:00:56\", \"iteration\": \"20\", \"goal\": \"accuracy_max\", \"run_name\": \"StandardScalerWrapper, RandomForest\", \"run_properties\": \"<azureml.automl.runtime.shared.model_wrappers.StandardScalerWrapper object at 0x7f7274d57198\", \"primary_metric\": 0.97497226, \"best_metric\": 0.99996378}, {\"run_id\": \"AutoML_0ecfca36-e82f-497d-b214-dae4e4aade01_21\", \"run_number\": 26, \"metric\": null, \"status\": \"Completed\", \"run_type\": \"azureml.scriptrun\", \"training_percent\": \"100\", \"start_time\": \"2020-11-18T14:08:11.540205Z\", \"end_time\": \"2020-11-18T14:08:56.035835Z\", \"created_time\": \"2020-11-18T14:08:01.845412Z\", \"created_time_dt\": \"2020-11-18T14:08:01.845412Z\", \"duration\": \"0:00:54\", \"iteration\": \"21\", \"goal\": \"accuracy_max\", \"run_name\": \"MinMaxScaler, ExtremeRandomTrees\", \"run_properties\": \"copy=True, feature_range=(0, 1\", \"primary_metric\": 0.96675047, \"best_metric\": 0.99996378}, {\"run_id\": \"AutoML_0ecfca36-e82f-497d-b214-dae4e4aade01_22\", \"run_number\": 27, \"metric\": null, \"status\": \"Completed\", \"run_type\": \"azureml.scriptrun\", \"training_percent\": \"100\", \"start_time\": \"2020-11-18T14:08:28.257024Z\", \"end_time\": \"2020-11-18T14:09:12.282395Z\", \"created_time\": \"2020-11-18T14:08:17.767365Z\", \"created_time_dt\": \"2020-11-18T14:08:17.767365Z\", \"duration\": \"0:00:54\", \"iteration\": \"22\", \"goal\": \"accuracy_max\", \"run_name\": \"MaxAbsScaler, RandomForest\", \"run_properties\": \"copy=True\", \"primary_metric\": 0.98654081, \"best_metric\": 0.99996378}, {\"run_id\": \"AutoML_0ecfca36-e82f-497d-b214-dae4e4aade01_23\", \"run_number\": 28, \"metric\": null, \"status\": \"Completed\", \"run_type\": \"azureml.scriptrun\", \"training_percent\": \"100\", \"start_time\": \"2020-11-18T14:09:01.040967Z\", \"end_time\": \"2020-11-18T14:10:01.211194Z\", \"created_time\": \"2020-11-18T14:08:44.501Z\", \"created_time_dt\": \"2020-11-18T14:08:44.501Z\", \"duration\": \"0:01:16\", \"iteration\": \"23\", \"goal\": \"accuracy_max\", \"run_name\": \"MinMaxScaler, SGD\", \"run_properties\": \"copy=True, feature_range=(0, 1\", \"primary_metric\": 0.97545039, \"best_metric\": 0.99996378}, {\"run_id\": \"AutoML_0ecfca36-e82f-497d-b214-dae4e4aade01_25\", \"run_number\": 29, \"metric\": null, \"status\": \"Completed\", \"run_type\": \"azureml.scriptrun\", \"training_percent\": \"100\", \"start_time\": \"2020-11-18T14:09:12.552358Z\", \"end_time\": \"2020-11-18T14:09:59.108592Z\", \"created_time\": \"2020-11-18T14:09:02.451859Z\", \"created_time_dt\": \"2020-11-18T14:09:02.451859Z\", \"duration\": \"0:00:56\", \"iteration\": \"25\", \"goal\": \"accuracy_max\", \"run_name\": \"MaxAbsScaler, ExtremeRandomTrees\", \"run_properties\": \"copy=True\", \"primary_metric\": 0.97715273, \"best_metric\": 0.99996378}, {\"run_id\": \"AutoML_0ecfca36-e82f-497d-b214-dae4e4aade01_24\", \"run_number\": 30, \"metric\": null, \"status\": \"Completed\", \"run_type\": \"azureml.scriptrun\", \"training_percent\": \"100\", \"start_time\": \"2020-11-18T14:09:16.034667Z\", \"end_time\": \"2020-11-18T14:10:02.687731Z\", \"created_time\": \"2020-11-18T14:09:02.500952Z\", \"created_time_dt\": \"2020-11-18T14:09:02.500952Z\", \"duration\": \"0:01:00\", \"iteration\": \"24\", \"goal\": \"accuracy_max\", \"run_name\": \"TruncatedSVDWrapper, XGBoostClassifier\", \"run_properties\": \"n_components=0.5542105263157895, random_state=None\", \"primary_metric\": 0.9648091, \"best_metric\": 0.99996378}, {\"run_id\": \"AutoML_0ecfca36-e82f-497d-b214-dae4e4aade01_27\", \"run_number\": 31, \"metric\": null, \"status\": \"Completed\", \"run_type\": \"azureml.scriptrun\", \"training_percent\": \"100\", \"start_time\": \"2020-11-18T14:09:29.371891Z\", \"end_time\": \"2020-11-18T14:10:51.150193Z\", \"created_time\": \"2020-11-18T14:09:18.132712Z\", \"created_time_dt\": \"2020-11-18T14:09:18.132712Z\", \"duration\": \"0:01:33\", \"iteration\": \"27\", \"goal\": \"accuracy_max\", \"run_name\": \"StandardScalerWrapper, XGBoostClassifier\", \"run_properties\": \"<azureml.automl.runtime.shared.model_wrappers.StandardScalerWrapper object at 0x7ff1de7bf978\", \"primary_metric\": 0.99944946, \"best_metric\": 0.99996378}, {\"run_id\": \"AutoML_0ecfca36-e82f-497d-b214-dae4e4aade01_26\", \"run_number\": 32, \"metric\": null, \"status\": \"Completed\", \"run_type\": \"azureml.scriptrun\", \"training_percent\": \"100\", \"start_time\": \"2020-11-18T14:09:34.531358Z\", \"end_time\": \"2020-11-18T14:10:33.215094Z\", \"created_time\": \"2020-11-18T14:09:18.141654Z\", \"created_time_dt\": \"2020-11-18T14:09:18.141654Z\", \"duration\": \"0:01:15\", \"iteration\": \"26\", \"goal\": \"accuracy_max\", \"run_name\": \"StandardScalerWrapper, XGBoostClassifier\", \"run_properties\": \"<azureml.automl.runtime.shared.model_wrappers.StandardScalerWrapper object at 0x7fb748096a90\", \"primary_metric\": 0.99553776, \"best_metric\": 0.99996378}, {\"run_id\": \"AutoML_0ecfca36-e82f-497d-b214-dae4e4aade01_28\", \"run_number\": 33, \"metric\": null, \"status\": \"Canceled\", \"run_type\": \"azureml.scriptrun\", \"training_percent\": \"100\", \"start_time\": \"2020-11-18T14:10:19.443169Z\", \"end_time\": \"2020-11-18T14:14:04.193446Z\", \"created_time\": \"2020-11-18T14:10:07.032783Z\", \"created_time_dt\": \"2020-11-18T14:10:07.032783Z\", \"duration\": \"0:03:57\", \"iteration\": \"28\", \"goal\": null, \"run_name\": \"SparseNormalizer, XGBoostClassifier\", \"run_properties\": null}, {\"run_id\": \"AutoML_0ecfca36-e82f-497d-b214-dae4e4aade01_29\", \"run_number\": 34, \"metric\": null, \"status\": \"Completed\", \"run_type\": \"azureml.scriptrun\", \"training_percent\": \"100\", \"start_time\": \"2020-11-18T14:10:22.331545Z\", \"end_time\": \"2020-11-18T14:11:11.655369Z\", \"created_time\": \"2020-11-18T14:10:07.168199Z\", \"created_time_dt\": \"2020-11-18T14:10:07.168199Z\", \"duration\": \"0:01:04\", \"iteration\": \"29\", \"goal\": \"accuracy_max\", \"run_name\": \"TruncatedSVDWrapper, LogisticRegression\", \"run_properties\": \"n_components=0.5542105263157895, random_state=None\", \"primary_metric\": 0.70065994, \"best_metric\": 0.99996378}, {\"run_id\": \"AutoML_0ecfca36-e82f-497d-b214-dae4e4aade01_30\", \"run_number\": 35, \"metric\": null, \"status\": \"Completed\", \"run_type\": \"azureml.scriptrun\", \"training_percent\": \"100\", \"start_time\": \"2020-11-18T14:10:18.751861Z\", \"end_time\": \"2020-11-18T14:11:33.081638Z\", \"created_time\": \"2020-11-18T14:10:07.309666Z\", \"created_time_dt\": \"2020-11-18T14:10:07.309666Z\", \"duration\": \"0:01:25\", \"iteration\": \"30\", \"goal\": \"accuracy_max\", \"run_name\": \"MinMaxScaler, LogisticRegression\", \"run_properties\": \"copy=True, feature_range=(0, 1\", \"primary_metric\": 0.97715271, \"best_metric\": 0.99996378}, {\"run_id\": \"AutoML_0ecfca36-e82f-497d-b214-dae4e4aade01_31\", \"run_number\": 36, \"metric\": null, \"status\": \"Completed\", \"run_type\": \"azureml.scriptrun\", \"training_percent\": \"100\", \"start_time\": \"2020-11-18T14:10:57.2404Z\", \"end_time\": \"2020-11-18T14:11:58.390191Z\", \"created_time\": \"2020-11-18T14:10:45.044124Z\", \"created_time_dt\": \"2020-11-18T14:10:45.044124Z\", \"duration\": \"0:01:13\", \"iteration\": \"31\", \"goal\": \"accuracy_max\", \"run_name\": \"StandardScalerWrapper, LightGBM\", \"run_properties\": \"<azureml.automl.runtime.shared.model_wrappers.StandardScalerWrapper object at 0x7fafe0175898\", \"primary_metric\": 0.99937703, \"best_metric\": 0.99996378}, {\"run_id\": \"AutoML_0ecfca36-e82f-497d-b214-dae4e4aade01_32\", \"run_number\": 37, \"metric\": null, \"status\": \"Completed\", \"run_type\": \"azureml.scriptrun\", \"training_percent\": \"100\", \"start_time\": \"2020-11-18T14:11:10.041483Z\", \"end_time\": \"2020-11-18T14:13:26.949538Z\", \"created_time\": \"2020-11-18T14:10:59.210445Z\", \"created_time_dt\": \"2020-11-18T14:10:59.210445Z\", \"duration\": \"0:02:27\", \"iteration\": \"32\", \"goal\": \"accuracy_max\", \"run_name\": \"MinMaxScaler, RandomForest\", \"run_properties\": \"copy=True, feature_range=(0, 1\", \"primary_metric\": 0.97866668, \"best_metric\": 0.99996378}, {\"run_id\": \"AutoML_0ecfca36-e82f-497d-b214-dae4e4aade01_33\", \"run_number\": 38, \"metric\": null, \"status\": \"Completed\", \"run_type\": \"azureml.scriptrun\", \"training_percent\": \"100\", \"start_time\": \"2020-11-18T14:11:32.337522Z\", \"end_time\": \"2020-11-18T14:13:47.403368Z\", \"created_time\": \"2020-11-18T14:11:14.547621Z\", \"created_time_dt\": \"2020-11-18T14:11:14.547621Z\", \"duration\": \"0:02:32\", \"iteration\": \"33\", \"goal\": \"accuracy_max\", \"run_name\": \"MaxAbsScaler, RandomForest\", \"run_properties\": \"copy=True\", \"primary_metric\": 0.98382434, \"best_metric\": 0.99996378}, {\"run_id\": \"AutoML_0ecfca36-e82f-497d-b214-dae4e4aade01_34\", \"run_number\": 39, \"metric\": null, \"status\": \"Completed\", \"run_type\": \"azureml.scriptrun\", \"training_percent\": \"100\", \"start_time\": \"2020-11-18T14:11:51.738685Z\", \"end_time\": \"2020-11-18T14:13:21.913781Z\", \"created_time\": \"2020-11-18T14:11:41.435081Z\", \"created_time_dt\": \"2020-11-18T14:11:41.435081Z\", \"duration\": \"0:01:40\", \"iteration\": \"34\", \"goal\": \"accuracy_max\", \"run_name\": \"MinMaxScaler, RandomForest\", \"run_properties\": \"copy=True, feature_range=(0, 1\", \"primary_metric\": 0.99277057, \"best_metric\": 0.99996378}, {\"run_id\": \"AutoML_0ecfca36-e82f-497d-b214-dae4e4aade01_35\", \"run_number\": 40, \"metric\": null, \"status\": \"Canceled\", \"run_type\": \"azureml.scriptrun\", \"training_percent\": \"100\", \"start_time\": \"2020-11-18T14:12:20.868551Z\", \"end_time\": \"2020-11-18T14:14:02.371022Z\", \"created_time\": \"2020-11-18T14:12:07.068519Z\", \"created_time_dt\": \"2020-11-18T14:12:07.068519Z\", \"duration\": \"0:01:55\", \"iteration\": \"35\", \"goal\": null, \"run_name\": \"TruncatedSVDWrapper, XGBoostClassifier\", \"run_properties\": null}, {\"run_id\": \"AutoML_0ecfca36-e82f-497d-b214-dae4e4aade01_36\", \"run_number\": 41, \"metric\": null, \"status\": \"Canceled\", \"run_type\": \"azureml.scriptrun\", \"training_percent\": \"100\", \"start_time\": \"2020-11-18T14:13:45.50514Z\", \"end_time\": \"2020-11-18T14:14:03.092518Z\", \"created_time\": \"2020-11-18T14:13:28.975697Z\", \"created_time_dt\": \"2020-11-18T14:13:28.975697Z\", \"duration\": \"0:00:34\", \"iteration\": \"36\", \"goal\": null, \"run_name\": \"Canceled\", \"run_properties\": null}, {\"run_id\": \"AutoML_0ecfca36-e82f-497d-b214-dae4e4aade01_37\", \"run_number\": 42, \"metric\": null, \"status\": \"Canceled\", \"run_type\": \"azureml.scriptrun\", \"training_percent\": \"100\", \"start_time\": \"2020-11-18T14:13:40.704277Z\", \"end_time\": \"2020-11-18T14:14:01.668425Z\", \"created_time\": \"2020-11-18T14:13:29.013034Z\", \"created_time_dt\": \"2020-11-18T14:13:29.013034Z\", \"duration\": \"0:00:32\", \"iteration\": \"37\", \"goal\": null, \"run_name\": \"Canceled\", \"run_properties\": null}, {\"run_id\": \"AutoML_0ecfca36-e82f-497d-b214-dae4e4aade01_38\", \"run_number\": 43, \"metric\": null, \"status\": \"Completed\", \"run_type\": \"azureml.scriptrun\", \"training_percent\": \"100\", \"start_time\": \"2020-11-18T14:14:22.293634Z\", \"end_time\": \"2020-11-18T14:16:09.576485Z\", \"created_time\": \"2020-11-18T14:14:07.90872Z\", \"created_time_dt\": \"2020-11-18T14:14:07.90872Z\", \"duration\": \"0:02:01\", \"iteration\": \"38\", \"goal\": \"accuracy_max\", \"run_name\": \"VotingEnsemble\", \"run_properties\": \"classification_labels=None,\\n                              estimators=[('1',\\n                                           Pipeline(memory=None,\\n                                                    steps=[('maxabsscaler',\\n                                                            MaxAbsScaler(copy=True\", \"primary_metric\": 0.99996378, \"best_metric\": 0.99996378}, {\"run_id\": \"AutoML_0ecfca36-e82f-497d-b214-dae4e4aade01_39\", \"run_number\": 44, \"metric\": null, \"status\": \"Completed\", \"run_type\": \"azureml.scriptrun\", \"training_percent\": \"100\", \"start_time\": \"2020-11-18T14:14:21.076598Z\", \"end_time\": \"2020-11-18T14:16:41.052546Z\", \"created_time\": \"2020-11-18T14:14:08.024882Z\", \"created_time_dt\": \"2020-11-18T14:14:08.024882Z\", \"duration\": \"0:02:33\", \"iteration\": \"39\", \"goal\": \"accuracy_max\", \"run_name\": \"StackEnsemble\", \"run_properties\": \"base_learners=[('1',\\n                                        Pipeline(memory=None,\\n                                                 steps=[('maxabsscaler',\\n                                                         MaxAbsScaler(copy=True\", \"primary_metric\": 0.99995654, \"best_metric\": 0.99996378}], \"children_metrics\": {\"categories\": [0], \"series\": {\"AUC_micro\": [{\"categories\": [\"0\", \"1\", \"2\", \"3\", \"4\", \"5\", \"6\", \"7\", \"8\", \"9\", \"10\", \"11\", \"12\", \"13\", \"14\", \"15\", \"16\", \"17\", \"18\", \"19\", \"20\", \"21\", \"22\", \"23\", \"24\", \"25\", \"26\", \"27\", \"29\", \"30\", \"31\", \"32\", \"33\", \"34\", \"38\", \"39\"], \"mode\": \"markers\", \"name\": \"AUC_micro\", \"stepped\": false, \"type\": \"scatter\", \"data\": [0.999997067571989, 0.9999998921670247, 0.9991125421372754, 0.9958923661543376, 0.9987047355408669, 0.9946465285059745, 0.9994418105032293, 0.955948408900469, 0.9979452755737768, 0.9948772182005982, 0.9886240009002484, 0.9918413733547041, 0.9935055351225662, 0.9944506939690272, 0.9979462557349219, 0.997952652944268, 0.9964015120073046, 0.9979551982691444, 0.9946450806036929, 0.9987238707412477, 0.9969758086426932, 0.9948142482667551, 0.9991377657582007, 0.9938363104607525, 0.9856650383514708, 0.997054857587791, 0.9999635432370276, 0.9999982271253521, 0.5, 0.9957209617948185, 0.9999958613932374, 0.9977076657990174, 0.9984005063267632, 0.9998093146568231, 0.9999995729184499, 0.9999997478125094]}, {\"categories\": [\"0\", \"1\", \"2\", \"3\", \"4\", \"5\", \"6\", \"7\", \"8\", \"9\", \"10\", \"11\", \"12\", \"13\", \"14\", \"15\", \"16\", \"17\", \"18\", \"19\", \"20\", \"21\", \"22\", \"23\", \"24\", \"25\", \"26\", \"27\", \"29\", \"30\", \"31\", \"32\", \"33\", \"34\", \"38\", \"39\"], \"mode\": \"lines\", \"name\": \"AUC_micro_max\", \"stepped\": true, \"type\": \"scatter\", \"data\": [0.999997067571989, 0.9999998921670247, 0.9999998921670247, 0.9999998921670247, 0.9999998921670247, 0.9999998921670247, 0.9999998921670247, 0.9999998921670247, 0.9999998921670247, 0.9999998921670247, 0.9999998921670247, 0.9999998921670247, 0.9999998921670247, 0.9999998921670247, 0.9999998921670247, 0.9999998921670247, 0.9999998921670247, 0.9999998921670247, 0.9999998921670247, 0.9999998921670247, 0.9999998921670247, 0.9999998921670247, 0.9999998921670247, 0.9999998921670247, 0.9999998921670247, 0.9999998921670247, 0.9999998921670247, 0.9999998921670247, 0.9999998921670247, 0.9999998921670247, 0.9999998921670247, 0.9999998921670247, 0.9999998921670247, 0.9999998921670247, 0.9999998921670247, 0.9999998921670247]}], \"matthews_correlation\": [{\"categories\": [\"0\", \"1\", \"2\", \"3\", \"4\", \"5\", \"6\", \"7\", \"8\", \"9\", \"10\", \"11\", \"12\", \"13\", \"14\", \"15\", \"16\", \"17\", \"18\", \"19\", \"20\", \"21\", \"22\", \"23\", \"24\", \"25\", \"26\", \"27\", \"29\", \"30\", \"31\", \"32\", \"33\", \"34\", \"38\", \"39\"], \"mode\": \"markers\", \"name\": \"matthews_correlation\", \"stepped\": false, \"type\": \"scatter\", \"data\": [0.9998620765058025, 0.9999142249564672, 0.9640445147776325, 0.9509380752869134, 0.958849107881481, 0.9523135722459678, 0.973849583723624, 0.6346714506278271, 0.9584349636501935, 0.9525002472367134, 0.8632213144604388, 0.9312276843785003, 0.9044300572636449, 0.9342473492181465, 0.9503173954516476, 0.9502429587697602, 0.9383683133510864, 0.9522822706928782, 0.9439263692177126, 0.9663384655430346, 0.9419494305663978, 0.9207659674245185, 0.9680084255734767, 0.9418995618916961, 0.9155483335686813, 0.9452583800180573, 0.9893611449410294, 0.9986893175761681, 0.0, 0.9453367776163241, 0.9985156769270933, 0.9489377938309923, 0.9613016488490841, 0.9827737594676549, 0.9999142249564672, 0.9998968440460346]}, {\"categories\": [\"0\", \"1\", \"2\", \"3\", \"4\", \"5\", \"6\", \"7\", \"8\", \"9\", \"10\", \"11\", \"12\", \"13\", \"14\", \"15\", \"16\", \"17\", \"18\", \"19\", \"20\", \"21\", \"22\", \"23\", \"24\", \"25\", \"26\", \"27\", \"29\", \"30\", \"31\", \"32\", \"33\", \"34\", \"38\", \"39\"], \"mode\": \"lines\", \"name\": \"matthews_correlation_max\", \"stepped\": true, \"type\": \"scatter\", \"data\": [0.9998620765058025, 0.9999142249564672, 0.9999142249564672, 0.9999142249564672, 0.9999142249564672, 0.9999142249564672, 0.9999142249564672, 0.9999142249564672, 0.9999142249564672, 0.9999142249564672, 0.9999142249564672, 0.9999142249564672, 0.9999142249564672, 0.9999142249564672, 0.9999142249564672, 0.9999142249564672, 0.9999142249564672, 0.9999142249564672, 0.9999142249564672, 0.9999142249564672, 0.9999142249564672, 0.9999142249564672, 0.9999142249564672, 0.9999142249564672, 0.9999142249564672, 0.9999142249564672, 0.9999142249564672, 0.9999142249564672, 0.9999142249564672, 0.9999142249564672, 0.9999142249564672, 0.9999142249564672, 0.9999142249564672, 0.9999142249564672, 0.9999142249564672, 0.9999142249564672]}], \"precision_score_macro\": [{\"categories\": [\"0\", \"1\", \"2\", \"3\", \"4\", \"5\", \"6\", \"7\", \"8\", \"9\", \"10\", \"11\", \"12\", \"13\", \"14\", \"15\", \"16\", \"17\", \"18\", \"19\", \"20\", \"21\", \"22\", \"23\", \"24\", \"25\", \"26\", \"27\", \"29\", \"30\", \"31\", \"32\", \"33\", \"34\", \"38\", \"39\"], \"mode\": \"markers\", \"name\": \"precision_score_macro\", \"stepped\": false, \"type\": \"scatter\", \"data\": [0.9999105742215201, 0.9999401985408444, 0.9793529087491631, 0.9770565768889597, 0.9806196382849518, 0.9738551933566311, 0.9859498913288162, 0.9100426586937697, 0.9783668495920056, 0.9774060092290854, 0.9585540566119825, 0.9607795165691374, 0.9506024639404004, 0.9702524182215676, 0.9764122510601688, 0.9796715456091963, 0.9800371971568508, 0.9706443883938621, 0.9697233317905858, 0.9809420553353311, 0.9642889159551652, 0.960671622087831, 0.9829890695271731, 0.9683523999289104, 0.9633413312819882, 0.9767053413474853, 0.9949184635902256, 0.9993574881421637, 0.35032997213950967, 0.9750105065020408, 0.9993001189987535, 0.9799224348093802, 0.9844759196372314, 0.9911493219880722, 0.9999401985408444, 0.9999350537139678]}, {\"categories\": [\"0\", \"1\", \"2\", \"3\", \"4\", \"5\", \"6\", \"7\", \"8\", \"9\", \"10\", \"11\", \"12\", \"13\", \"14\", \"15\", \"16\", \"17\", \"18\", \"19\", \"20\", \"21\", \"22\", \"23\", \"24\", \"25\", \"26\", \"27\", \"29\", \"30\", \"31\", \"32\", \"33\", \"34\", \"38\", \"39\"], \"mode\": \"lines\", \"name\": \"precision_score_macro_max\", \"stepped\": true, \"type\": \"scatter\", \"data\": [0.9999105742215201, 0.9999401985408444, 0.9999401985408444, 0.9999401985408444, 0.9999401985408444, 0.9999401985408444, 0.9999401985408444, 0.9999401985408444, 0.9999401985408444, 0.9999401985408444, 0.9999401985408444, 0.9999401985408444, 0.9999401985408444, 0.9999401985408444, 0.9999401985408444, 0.9999401985408444, 0.9999401985408444, 0.9999401985408444, 0.9999401985408444, 0.9999401985408444, 0.9999401985408444, 0.9999401985408444, 0.9999401985408444, 0.9999401985408444, 0.9999401985408444, 0.9999401985408444, 0.9999401985408444, 0.9999401985408444, 0.9999401985408444, 0.9999401985408444, 0.9999401985408444, 0.9999401985408444, 0.9999401985408444, 0.9999401985408444, 0.9999401985408444, 0.9999401985408444]}], \"recall_score_micro\": [{\"categories\": [\"0\", \"1\", \"2\", \"3\", \"4\", \"5\", \"6\", \"7\", \"8\", \"9\", \"10\", \"11\", \"12\", \"13\", \"14\", \"15\", \"16\", \"17\", \"18\", \"19\", \"20\", \"21\", \"22\", \"23\", \"24\", \"25\", \"26\", \"27\", \"29\", \"30\", \"31\", \"32\", \"33\", \"34\", \"38\", \"39\"], \"mode\": \"markers\", \"name\": \"recall_score_micro\", \"stepped\": false, \"type\": \"scatter\", \"data\": [0.9999420488274797, 0.9999637807139545, 0.9847877784871505, 0.9794707652563456, 0.9828028976977886, 0.9798691748840641, 0.9890109717981644, 0.8476969304016938, 0.9825132219639129, 0.9801154721687024, 0.9426352416098015, 0.9706911471919796, 0.9595861311639675, 0.9725455784156777, 0.9791882856802606, 0.9791955038773864, 0.9741247668364276, 0.9795504571310749, 0.9763341550919856, 0.9857802017226347, 0.9749722606630208, 0.9667504743872448, 0.986540811924575, 0.9754503923908427, 0.9648090984584505, 0.9771527334682192, 0.9955377571971527, 0.9994494648055997, 0.7006599442790193, 0.9771527090675266, 0.9993770251315421, 0.9786666796320928, 0.9838243405982036, 0.9927705733604837, 0.9999637807139545, 0.9999565366993216]}, {\"categories\": [\"0\", \"1\", \"2\", \"3\", \"4\", \"5\", \"6\", \"7\", \"8\", \"9\", \"10\", \"11\", \"12\", \"13\", \"14\", \"15\", \"16\", \"17\", \"18\", \"19\", \"20\", \"21\", \"22\", \"23\", \"24\", \"25\", \"26\", \"27\", \"29\", \"30\", \"31\", \"32\", \"33\", \"34\", \"38\", \"39\"], \"mode\": \"lines\", \"name\": \"recall_score_micro_max\", \"stepped\": true, \"type\": \"scatter\", \"data\": [0.9999420488274797, 0.9999637807139545, 0.9999637807139545, 0.9999637807139545, 0.9999637807139545, 0.9999637807139545, 0.9999637807139545, 0.9999637807139545, 0.9999637807139545, 0.9999637807139545, 0.9999637807139545, 0.9999637807139545, 0.9999637807139545, 0.9999637807139545, 0.9999637807139545, 0.9999637807139545, 0.9999637807139545, 0.9999637807139545, 0.9999637807139545, 0.9999637807139545, 0.9999637807139545, 0.9999637807139545, 0.9999637807139545, 0.9999637807139545, 0.9999637807139545, 0.9999637807139545, 0.9999637807139545, 0.9999637807139545, 0.9999637807139545, 0.9999637807139545, 0.9999637807139545, 0.9999637807139545, 0.9999637807139545, 0.9999637807139545, 0.9999637807139545, 0.9999637807139545]}], \"average_precision_score_micro\": [{\"categories\": [\"0\", \"1\", \"2\", \"3\", \"4\", \"5\", \"6\", \"7\", \"8\", \"9\", \"10\", \"11\", \"12\", \"13\", \"14\", \"15\", \"16\", \"17\", \"18\", \"19\", \"20\", \"21\", \"22\", \"23\", \"24\", \"25\", \"26\", \"27\", \"29\", \"30\", \"31\", \"32\", \"33\", \"34\", \"38\", \"39\"], \"mode\": \"markers\", \"name\": \"average_precision_score_micro\", \"stepped\": false, \"type\": \"scatter\", \"data\": [0.9999955178076129, 0.9999998922511656, 0.9991256885215374, 0.9948609569758546, 0.9987265898452614, 0.9928847684500596, 0.9994485818438582, 0.9589676342745062, 0.9979171678223567, 0.9930231624316278, 0.9871463487874297, 0.9910163330283699, 0.9935853303324736, 0.9939908230084397, 0.9979777704200354, 0.9979823816067005, 0.9964870334056816, 0.9979868080925295, 0.9938057860976292, 0.9987164744950308, 0.9969968868364268, 0.994916180619227, 0.9991510673264807, 0.9921011978762714, 0.9815546090578136, 0.9971047128972871, 0.9999636521448424, 0.9999982348897746, 0.5, 0.9951624513668285, 0.9999958818827817, 0.9977547344882073, 0.9984293842819177, 0.9998108392567486, 0.9999995753666712, 0.9999997487179161]}, {\"categories\": [\"0\", \"1\", \"2\", \"3\", \"4\", \"5\", \"6\", \"7\", \"8\", \"9\", \"10\", \"11\", \"12\", \"13\", \"14\", \"15\", \"16\", \"17\", \"18\", \"19\", \"20\", \"21\", \"22\", \"23\", \"24\", \"25\", \"26\", \"27\", \"29\", \"30\", \"31\", \"32\", \"33\", \"34\", \"38\", \"39\"], \"mode\": \"lines\", \"name\": \"average_precision_score_micro_max\", \"stepped\": true, \"type\": \"scatter\", \"data\": [0.9999955178076129, 0.9999998922511656, 0.9999998922511656, 0.9999998922511656, 0.9999998922511656, 0.9999998922511656, 0.9999998922511656, 0.9999998922511656, 0.9999998922511656, 0.9999998922511656, 0.9999998922511656, 0.9999998922511656, 0.9999998922511656, 0.9999998922511656, 0.9999998922511656, 0.9999998922511656, 0.9999998922511656, 0.9999998922511656, 0.9999998922511656, 0.9999998922511656, 0.9999998922511656, 0.9999998922511656, 0.9999998922511656, 0.9999998922511656, 0.9999998922511656, 0.9999998922511656, 0.9999998922511656, 0.9999998922511656, 0.9999998922511656, 0.9999998922511656, 0.9999998922511656, 0.9999998922511656, 0.9999998922511656, 0.9999998922511656, 0.9999998922511656, 0.9999998922511656]}], \"recall_score_macro\": [{\"categories\": [\"0\", \"1\", \"2\", \"3\", \"4\", \"5\", \"6\", \"7\", \"8\", \"9\", \"10\", \"11\", \"12\", \"13\", \"14\", \"15\", \"16\", \"17\", \"18\", \"19\", \"20\", \"21\", \"22\", \"23\", \"24\", \"25\", \"26\", \"27\", \"29\", \"30\", \"31\", \"32\", \"33\", \"34\", \"38\", \"39\"], \"mode\": \"markers\", \"name\": \"recall_score_macro\", \"stepped\": false, \"type\": \"scatter\", \"data\": [0.9999515036717278, 0.9999740281327266, 0.9847097977891814, 0.9738873221480366, 0.97823382716253, 0.9784696829918218, 0.9879018508209935, 0.7461019754278057, 0.9800707145196949, 0.9750976022426491, 0.906874292689329, 0.9705002568593301, 0.953864851865629, 0.9640188328411069, 0.9739121344328422, 0.9706208213974538, 0.9585785535717622, 0.9817045870631039, 0.9742140213421954, 0.9854094098086187, 0.9777671195866972, 0.960108666078126, 0.9850226550684299, 0.9735618843396591, 0.9522764827135225, 0.9685978791576634, 0.9944428433426852, 0.9993318424678774, 0.5, 0.9703380233396398, 0.9992155646251791, 0.9690775649537421, 0.9768561694511969, 0.9916252030609597, 0.9999740281327266, 0.9999617921246019]}, {\"categories\": [\"0\", \"1\", \"2\", \"3\", \"4\", \"5\", \"6\", \"7\", \"8\", \"9\", \"10\", \"11\", \"12\", \"13\", \"14\", \"15\", \"16\", \"17\", \"18\", \"19\", \"20\", \"21\", \"22\", \"23\", \"24\", \"25\", \"26\", \"27\", \"29\", \"30\", \"31\", \"32\", \"33\", \"34\", \"38\", \"39\"], \"mode\": \"lines\", \"name\": \"recall_score_macro_max\", \"stepped\": true, \"type\": \"scatter\", \"data\": [0.9999515036717278, 0.9999740281327266, 0.9999740281327266, 0.9999740281327266, 0.9999740281327266, 0.9999740281327266, 0.9999740281327266, 0.9999740281327266, 0.9999740281327266, 0.9999740281327266, 0.9999740281327266, 0.9999740281327266, 0.9999740281327266, 0.9999740281327266, 0.9999740281327266, 0.9999740281327266, 0.9999740281327266, 0.9999740281327266, 0.9999740281327266, 0.9999740281327266, 0.9999740281327266, 0.9999740281327266, 0.9999740281327266, 0.9999740281327266, 0.9999740281327266, 0.9999740281327266, 0.9999740281327266, 0.9999740281327266, 0.9999740281327266, 0.9999740281327266, 0.9999740281327266, 0.9999740281327266, 0.9999740281327266, 0.9999740281327266, 0.9999740281327266, 0.9999740281327266]}], \"f1_score_macro\": [{\"categories\": [\"0\", \"1\", \"2\", \"3\", \"4\", \"5\", \"6\", \"7\", \"8\", \"9\", \"10\", \"11\", \"12\", \"13\", \"14\", \"15\", \"16\", \"17\", \"18\", \"19\", \"20\", \"21\", \"22\", \"23\", \"24\", \"25\", \"26\", \"27\", \"29\", \"30\", \"31\", \"32\", \"33\", \"34\", \"38\", \"39\"], \"mode\": \"markers\", \"name\": \"f1_score_macro\", \"stepped\": false, \"type\": \"scatter\", \"data\": [0.999931033826027, 0.9999571069596156, 0.9819634222763671, 0.975451014472181, 0.9794109688796713, 0.9761201173018489, 0.9869178308061679, 0.7799130548429685, 0.9792089859387235, 0.9762394279139469, 0.9265428984546223, 0.9654356735822119, 0.9520864096845488, 0.9670513941750883, 0.9751366222922639, 0.9749719294517353, 0.968474700647656, 0.975916762457585, 0.9719275442455081, 0.9831277748550801, 0.9706061346890319, 0.9603370402154338, 0.9839939097808825, 0.9709010832118444, 0.9575657623479463, 0.9724948866661806, 0.9946800601466351, 0.99934461881, 0.41199144635368773, 0.9726317695855782, 0.9992578181583839, 0.9742823181452414, 0.9805583568272954, 0.9913844833781894, 0.9999571069596156, 0.9999484162778224]}, {\"categories\": [\"0\", \"1\", \"2\", \"3\", \"4\", \"5\", \"6\", \"7\", \"8\", \"9\", \"10\", \"11\", \"12\", \"13\", \"14\", \"15\", \"16\", \"17\", \"18\", \"19\", \"20\", \"21\", \"22\", \"23\", \"24\", \"25\", \"26\", \"27\", \"29\", \"30\", \"31\", \"32\", \"33\", \"34\", \"38\", \"39\"], \"mode\": \"lines\", \"name\": \"f1_score_macro_max\", \"stepped\": true, \"type\": \"scatter\", \"data\": [0.999931033826027, 0.9999571069596156, 0.9999571069596156, 0.9999571069596156, 0.9999571069596156, 0.9999571069596156, 0.9999571069596156, 0.9999571069596156, 0.9999571069596156, 0.9999571069596156, 0.9999571069596156, 0.9999571069596156, 0.9999571069596156, 0.9999571069596156, 0.9999571069596156, 0.9999571069596156, 0.9999571069596156, 0.9999571069596156, 0.9999571069596156, 0.9999571069596156, 0.9999571069596156, 0.9999571069596156, 0.9999571069596156, 0.9999571069596156, 0.9999571069596156, 0.9999571069596156, 0.9999571069596156, 0.9999571069596156, 0.9999571069596156, 0.9999571069596156, 0.9999571069596156, 0.9999571069596156, 0.9999571069596156, 0.9999571069596156, 0.9999571069596156, 0.9999571069596156]}], \"weighted_accuracy\": [{\"categories\": [\"0\", \"1\", \"2\", \"3\", \"4\", \"5\", \"6\", \"7\", \"8\", \"9\", \"10\", \"11\", \"12\", \"13\", \"14\", \"15\", \"16\", \"17\", \"18\", \"19\", \"20\", \"21\", \"22\", \"23\", \"24\", \"25\", \"26\", \"27\", \"29\", \"30\", \"31\", \"32\", \"33\", \"34\", \"38\", \"39\"], \"mode\": \"markers\", \"name\": \"weighted_accuracy\", \"stepped\": false, \"type\": \"scatter\", \"data\": [0.9999351288202326, 0.9999562940693113, 0.9848485912361674, 0.9835041023223542, 0.9860971001995343, 0.980880723766825, 0.9898082709383709, 0.9211644892075642, 0.9842758018104473, 0.983743811157316, 0.9683951694993279, 0.9708247274436496, 0.9637348501850389, 0.9786972295508942, 0.9830086708680047, 0.9853984753798728, 0.9853638507237478, 0.978001898921427, 0.977868111956492, 0.9860551929326801, 0.9729648760833624, 0.9715708469837775, 0.9876434093059107, 0.9768121370611665, 0.9738584736161312, 0.9833307128048462, 0.9963300053855081, 0.9995349794039008, 0.845628424226673, 0.9820773893924414, 0.9994935103355161, 0.985594329697507, 0.988857774652956, 0.9936007104984995, 0.9999562940693113, 0.9999526173969042]}, {\"categories\": [\"0\", \"1\", \"2\", \"3\", \"4\", \"5\", \"6\", \"7\", \"8\", \"9\", \"10\", \"11\", \"12\", \"13\", \"14\", \"15\", \"16\", \"17\", \"18\", \"19\", \"20\", \"21\", \"22\", \"23\", \"24\", \"25\", \"26\", \"27\", \"29\", \"30\", \"31\", \"32\", \"33\", \"34\", \"38\", \"39\"], \"mode\": \"lines\", \"name\": \"weighted_accuracy_max\", \"stepped\": true, \"type\": \"scatter\", \"data\": [0.9999351288202326, 0.9999562940693113, 0.9999562940693113, 0.9999562940693113, 0.9999562940693113, 0.9999562940693113, 0.9999562940693113, 0.9999562940693113, 0.9999562940693113, 0.9999562940693113, 0.9999562940693113, 0.9999562940693113, 0.9999562940693113, 0.9999562940693113, 0.9999562940693113, 0.9999562940693113, 0.9999562940693113, 0.9999562940693113, 0.9999562940693113, 0.9999562940693113, 0.9999562940693113, 0.9999562940693113, 0.9999562940693113, 0.9999562940693113, 0.9999562940693113, 0.9999562940693113, 0.9999562940693113, 0.9999562940693113, 0.9999562940693113, 0.9999562940693113, 0.9999562940693113, 0.9999562940693113, 0.9999562940693113, 0.9999562940693113, 0.9999562940693113, 0.9999562940693113]}], \"f1_score_micro\": [{\"categories\": [\"0\", \"1\", \"2\", \"3\", \"4\", \"5\", \"6\", \"7\", \"8\", \"9\", \"10\", \"11\", \"12\", \"13\", \"14\", \"15\", \"16\", \"17\", \"18\", \"19\", \"20\", \"21\", \"22\", \"23\", \"24\", \"25\", \"26\", \"27\", \"29\", \"30\", \"31\", \"32\", \"33\", \"34\", \"38\", \"39\"], \"mode\": \"markers\", \"name\": \"f1_score_micro\", \"stepped\": false, \"type\": \"scatter\", \"data\": [0.9999420488274797, 0.9999637807139545, 0.9847877784871505, 0.9794707652563456, 0.9828028976977886, 0.9798691748840643, 0.9890109717981644, 0.8476969304016938, 0.9825132219639129, 0.9801154721687024, 0.9426352416098015, 0.9706911471919796, 0.9595861311639675, 0.9725455784156777, 0.9791882856802606, 0.9791955038773864, 0.9741247668364276, 0.9795504571310749, 0.9763341550919856, 0.9857802017226347, 0.9749722606630208, 0.9667504743872448, 0.986540811924575, 0.9754503923908427, 0.9648090984584505, 0.9771527334682192, 0.9955377571971527, 0.9994494648055997, 0.7006599442790193, 0.9771527090675266, 0.9993770251315421, 0.9786666796320928, 0.9838243405982036, 0.9927705733604837, 0.9999637807139545, 0.9999565366993216]}, {\"categories\": [\"0\", \"1\", \"2\", \"3\", \"4\", \"5\", \"6\", \"7\", \"8\", \"9\", \"10\", \"11\", \"12\", \"13\", \"14\", \"15\", \"16\", \"17\", \"18\", \"19\", \"20\", \"21\", \"22\", \"23\", \"24\", \"25\", \"26\", \"27\", \"29\", \"30\", \"31\", \"32\", \"33\", \"34\", \"38\", \"39\"], \"mode\": \"lines\", \"name\": \"f1_score_micro_max\", \"stepped\": true, \"type\": \"scatter\", \"data\": [0.9999420488274797, 0.9999637807139545, 0.9999637807139545, 0.9999637807139545, 0.9999637807139545, 0.9999637807139545, 0.9999637807139545, 0.9999637807139545, 0.9999637807139545, 0.9999637807139545, 0.9999637807139545, 0.9999637807139545, 0.9999637807139545, 0.9999637807139545, 0.9999637807139545, 0.9999637807139545, 0.9999637807139545, 0.9999637807139545, 0.9999637807139545, 0.9999637807139545, 0.9999637807139545, 0.9999637807139545, 0.9999637807139545, 0.9999637807139545, 0.9999637807139545, 0.9999637807139545, 0.9999637807139545, 0.9999637807139545, 0.9999637807139545, 0.9999637807139545, 0.9999637807139545, 0.9999637807139545, 0.9999637807139545, 0.9999637807139545, 0.9999637807139545, 0.9999637807139545]}], \"AUC_macro\": [{\"categories\": [\"0\", \"1\", \"2\", \"3\", \"4\", \"5\", \"6\", \"7\", \"8\", \"9\", \"10\", \"11\", \"12\", \"13\", \"14\", \"15\", \"16\", \"17\", \"18\", \"19\", \"20\", \"21\", \"22\", \"23\", \"24\", \"25\", \"26\", \"27\", \"29\", \"30\", \"31\", \"32\", \"33\", \"34\", \"38\", \"39\"], \"mode\": \"markers\", \"name\": \"AUC_macro\", \"stepped\": false, \"type\": \"scatter\", \"data\": [0.9999933993723276, 0.9999999246759916, 0.9989106137267879, 0.9956028380792422, 0.9985228371112979, 0.9950156192805281, 0.9993213532535385, 0.9955159369699537, 0.9980269201853217, 0.9941072691229499, 0.994565799010148, 0.9926013724450616, 0.9923508124484406, 0.9931879462150052, 0.9975553969279306, 0.9979406500559795, 0.9983631264776447, 0.998288553932051, 0.9953254599448478, 0.9987945781841701, 0.9976211998498791, 0.9938938403156046, 0.9990017172677493, 0.9936731275226025, 0.9797805316390518, 0.9967524774152503, 0.9999559683038802, 0.9999979624790871, 0.5, 0.9950627591670435, 0.9999951024538948, 0.9981052842678656, 0.9984588103541361, 0.9997692032939066, 0.9999994749692874, 0.9999994548331665]}, {\"categories\": [\"0\", \"1\", \"2\", \"3\", \"4\", \"5\", \"6\", \"7\", \"8\", \"9\", \"10\", \"11\", \"12\", \"13\", \"14\", \"15\", \"16\", \"17\", \"18\", \"19\", \"20\", \"21\", \"22\", \"23\", \"24\", \"25\", \"26\", \"27\", \"29\", \"30\", \"31\", \"32\", \"33\", \"34\", \"38\", \"39\"], \"mode\": \"lines\", \"name\": \"AUC_macro_max\", \"stepped\": true, \"type\": \"scatter\", \"data\": [0.9999933993723276, 0.9999999246759916, 0.9999999246759916, 0.9999999246759916, 0.9999999246759916, 0.9999999246759916, 0.9999999246759916, 0.9999999246759916, 0.9999999246759916, 0.9999999246759916, 0.9999999246759916, 0.9999999246759916, 0.9999999246759916, 0.9999999246759916, 0.9999999246759916, 0.9999999246759916, 0.9999999246759916, 0.9999999246759916, 0.9999999246759916, 0.9999999246759916, 0.9999999246759916, 0.9999999246759916, 0.9999999246759916, 0.9999999246759916, 0.9999999246759916, 0.9999999246759916, 0.9999999246759916, 0.9999999246759916, 0.9999999246759916, 0.9999999246759916, 0.9999999246759916, 0.9999999246759916, 0.9999999246759916, 0.9999999246759916, 0.9999999246759916, 0.9999999246759916]}], \"AUC_weighted\": [{\"categories\": [\"0\", \"1\", \"2\", \"3\", \"4\", \"5\", \"6\", \"7\", \"8\", \"9\", \"10\", \"11\", \"12\", \"13\", \"14\", \"15\", \"16\", \"17\", \"18\", \"19\", \"20\", \"21\", \"22\", \"23\", \"24\", \"25\", \"26\", \"27\", \"29\", \"30\", \"31\", \"32\", \"33\", \"34\", \"38\", \"39\"], \"mode\": \"markers\", \"name\": \"AUC_weighted\", \"stepped\": false, \"type\": \"scatter\", \"data\": [0.9999933993723276, 0.9999999246759916, 0.9989106137267879, 0.9956028377779154, 0.9985228371112979, 0.9950156192805281, 0.9993213532535385, 0.9955159369699537, 0.9980269201853217, 0.9941072691229498, 0.994565799010148, 0.9926013724450616, 0.9923508124484407, 0.9931879462150052, 0.9975553969279306, 0.9979406500559795, 0.9983631264776448, 0.9982885539320508, 0.9953254599448478, 0.9987945781841701, 0.9976211998498791, 0.9938938403156046, 0.9990017172677491, 0.9936731275226025, 0.9797805316390518, 0.9967524774152503, 0.9999559683038802, 0.9999979624790871, 0.5, 0.9950627591670433, 0.9999951024538946, 0.9981052842678656, 0.9984588103541361, 0.9997692032939066, 0.9999994749692876, 0.9999994548331665]}, {\"categories\": [\"0\", \"1\", \"2\", \"3\", \"4\", \"5\", \"6\", \"7\", \"8\", \"9\", \"10\", \"11\", \"12\", \"13\", \"14\", \"15\", \"16\", \"17\", \"18\", \"19\", \"20\", \"21\", \"22\", \"23\", \"24\", \"25\", \"26\", \"27\", \"29\", \"30\", \"31\", \"32\", \"33\", \"34\", \"38\", \"39\"], \"mode\": \"lines\", \"name\": \"AUC_weighted_max\", \"stepped\": true, \"type\": \"scatter\", \"data\": [0.9999933993723276, 0.9999999246759916, 0.9999999246759916, 0.9999999246759916, 0.9999999246759916, 0.9999999246759916, 0.9999999246759916, 0.9999999246759916, 0.9999999246759916, 0.9999999246759916, 0.9999999246759916, 0.9999999246759916, 0.9999999246759916, 0.9999999246759916, 0.9999999246759916, 0.9999999246759916, 0.9999999246759916, 0.9999999246759916, 0.9999999246759916, 0.9999999246759916, 0.9999999246759916, 0.9999999246759916, 0.9999999246759916, 0.9999999246759916, 0.9999999246759916, 0.9999999246759916, 0.9999999246759916, 0.9999999246759916, 0.9999999246759916, 0.9999999246759916, 0.9999999246759916, 0.9999999246759916, 0.9999999246759916, 0.9999999246759916, 0.9999999246759916, 0.9999999246759916]}], \"average_precision_score_weighted\": [{\"categories\": [\"0\", \"1\", \"2\", \"3\", \"4\", \"5\", \"6\", \"7\", \"8\", \"9\", \"10\", \"11\", \"12\", \"13\", \"14\", \"15\", \"16\", \"17\", \"18\", \"19\", \"20\", \"21\", \"22\", \"23\", \"24\", \"25\", \"26\", \"27\", \"29\", \"30\", \"31\", \"32\", \"33\", \"34\", \"38\", \"39\"], \"mode\": \"markers\", \"name\": \"average_precision_score_weighted\", \"stepped\": false, \"type\": \"scatter\", \"data\": [0.9999891904022901, 0.9999999246646603, 0.9988901307372434, 0.9951424855524601, 0.9985671332507285, 0.993571640739941, 0.9993203761564726, 0.9956985702716473, 0.9980150649665639, 0.9929398825808636, 0.9933715551844037, 0.9928354974717887, 0.9928823124813038, 0.9935976724053589, 0.997698947913992, 0.9979631335221725, 0.9983653063293497, 0.9983002152336974, 0.9950140142077704, 0.9987964605919218, 0.99758932837974, 0.9943736789084107, 0.9990120546514221, 0.9923758877239686, 0.9768216685581738, 0.9969102402618876, 0.9999561439185577, 0.999997945082825, 0.5805438311427695, 0.9950702773887544, 0.9999950734114066, 0.9981022290216418, 0.9985295134676861, 0.9997691278189992, 0.9999994700164406, 0.9999994490824123]}, {\"categories\": [\"0\", \"1\", \"2\", \"3\", \"4\", \"5\", \"6\", \"7\", \"8\", \"9\", \"10\", \"11\", \"12\", \"13\", \"14\", \"15\", \"16\", \"17\", \"18\", \"19\", \"20\", \"21\", \"22\", \"23\", \"24\", \"25\", \"26\", \"27\", \"29\", \"30\", \"31\", \"32\", \"33\", \"34\", \"38\", \"39\"], \"mode\": \"lines\", \"name\": \"average_precision_score_weighted_max\", \"stepped\": true, \"type\": \"scatter\", \"data\": [0.9999891904022901, 0.9999999246646603, 0.9999999246646603, 0.9999999246646603, 0.9999999246646603, 0.9999999246646603, 0.9999999246646603, 0.9999999246646603, 0.9999999246646603, 0.9999999246646603, 0.9999999246646603, 0.9999999246646603, 0.9999999246646603, 0.9999999246646603, 0.9999999246646603, 0.9999999246646603, 0.9999999246646603, 0.9999999246646603, 0.9999999246646603, 0.9999999246646603, 0.9999999246646603, 0.9999999246646603, 0.9999999246646603, 0.9999999246646603, 0.9999999246646603, 0.9999999246646603, 0.9999999246646603, 0.9999999246646603, 0.9999999246646603, 0.9999999246646603, 0.9999999246646603, 0.9999999246646603, 0.9999999246646603, 0.9999999246646603, 0.9999999246646603, 0.9999999246646603]}], \"precision_score_weighted\": [{\"categories\": [\"0\", \"1\", \"2\", \"3\", \"4\", \"5\", \"6\", \"7\", \"8\", \"9\", \"10\", \"11\", \"12\", \"13\", \"14\", \"15\", \"16\", \"17\", \"18\", \"19\", \"20\", \"21\", \"22\", \"23\", \"24\", \"25\", \"26\", \"27\", \"29\", \"30\", \"31\", \"32\", \"33\", \"34\", \"38\", \"39\"], \"mode\": \"markers\", \"name\": \"precision_score_weighted\", \"stepped\": false, \"type\": \"scatter\", \"data\": [0.9999420592490188, 0.9999637937097514, 0.9849770522063187, 0.9794326858124611, 0.9827798689763334, 0.9800281935889278, 0.9890437107823354, 0.8747380085188379, 0.9825616429609535, 0.9800852086683852, 0.9466482112253584, 0.9712975344875115, 0.9600393020011809, 0.9724819220215646, 0.9791766726595371, 0.9792436149779511, 0.9747227229364787, 0.9801614104433916, 0.9765063289401059, 0.9859157518775521, 0.9759614521886387, 0.9667811199749449, 0.9865849704024233, 0.9756681457733575, 0.9647372284590431, 0.9771522130473217, 0.9955363072842521, 0.999449487301642, 0.490931859850404, 0.9771011588705809, 0.9993770107586134, 0.9787366952047697, 0.9838514421549179, 0.992778211108165, 0.9999637937097514, 0.9999565499187337]}, {\"categories\": [\"0\", \"1\", \"2\", \"3\", \"4\", \"5\", \"6\", \"7\", \"8\", \"9\", \"10\", \"11\", \"12\", \"13\", \"14\", \"15\", \"16\", \"17\", \"18\", \"19\", \"20\", \"21\", \"22\", \"23\", \"24\", \"25\", \"26\", \"27\", \"29\", \"30\", \"31\", \"32\", \"33\", \"34\", \"38\", \"39\"], \"mode\": \"lines\", \"name\": \"precision_score_weighted_max\", \"stepped\": true, \"type\": \"scatter\", \"data\": [0.9999420592490188, 0.9999637937097514, 0.9999637937097514, 0.9999637937097514, 0.9999637937097514, 0.9999637937097514, 0.9999637937097514, 0.9999637937097514, 0.9999637937097514, 0.9999637937097514, 0.9999637937097514, 0.9999637937097514, 0.9999637937097514, 0.9999637937097514, 0.9999637937097514, 0.9999637937097514, 0.9999637937097514, 0.9999637937097514, 0.9999637937097514, 0.9999637937097514, 0.9999637937097514, 0.9999637937097514, 0.9999637937097514, 0.9999637937097514, 0.9999637937097514, 0.9999637937097514, 0.9999637937097514, 0.9999637937097514, 0.9999637937097514, 0.9999637937097514, 0.9999637937097514, 0.9999637937097514, 0.9999637937097514, 0.9999637937097514, 0.9999637937097514, 0.9999637937097514]}], \"norm_macro_recall\": [{\"categories\": [\"0\", \"1\", \"2\", \"3\", \"4\", \"5\", \"6\", \"7\", \"8\", \"9\", \"10\", \"11\", \"12\", \"13\", \"14\", \"15\", \"16\", \"17\", \"18\", \"19\", \"20\", \"21\", \"22\", \"23\", \"24\", \"25\", \"26\", \"27\", \"29\", \"30\", \"31\", \"32\", \"33\", \"34\", \"38\", \"39\"], \"mode\": \"markers\", \"name\": \"norm_macro_recall\", \"stepped\": false, \"type\": \"scatter\", \"data\": [0.9999030073434557, 0.9999480562654531, 0.9694195955783629, 0.9477746442960734, 0.9564676543250602, 0.9569393659836435, 0.9758037016419872, 0.49220395085561125, 0.9601414290393898, 0.9501952044852983, 0.8137485853786578, 0.94100051371866, 0.9077297037312578, 0.9280376656822139, 0.9478242688656845, 0.9412416427949074, 0.9171571071435244, 0.9634091741262076, 0.9484280426843906, 0.9708188196172373, 0.9555342391733944, 0.9202173321562518, 0.9700453101368599, 0.9471237686793184, 0.9045529654270451, 0.9371957583153266, 0.9888856866853701, 0.9986636849357549, 0.0, 0.9406760466792795, 0.9984311292503584, 0.9381551299074843, 0.9537123389023939, 0.9832504061219195, 0.9999480562654531, 0.9999235842492039]}, {\"categories\": [\"0\", \"1\", \"2\", \"3\", \"4\", \"5\", \"6\", \"7\", \"8\", \"9\", \"10\", \"11\", \"12\", \"13\", \"14\", \"15\", \"16\", \"17\", \"18\", \"19\", \"20\", \"21\", \"22\", \"23\", \"24\", \"25\", \"26\", \"27\", \"29\", \"30\", \"31\", \"32\", \"33\", \"34\", \"38\", \"39\"], \"mode\": \"lines\", \"name\": \"norm_macro_recall_max\", \"stepped\": true, \"type\": \"scatter\", \"data\": [0.9999030073434557, 0.9999480562654531, 0.9999480562654531, 0.9999480562654531, 0.9999480562654531, 0.9999480562654531, 0.9999480562654531, 0.9999480562654531, 0.9999480562654531, 0.9999480562654531, 0.9999480562654531, 0.9999480562654531, 0.9999480562654531, 0.9999480562654531, 0.9999480562654531, 0.9999480562654531, 0.9999480562654531, 0.9999480562654531, 0.9999480562654531, 0.9999480562654531, 0.9999480562654531, 0.9999480562654531, 0.9999480562654531, 0.9999480562654531, 0.9999480562654531, 0.9999480562654531, 0.9999480562654531, 0.9999480562654531, 0.9999480562654531, 0.9999480562654531, 0.9999480562654531, 0.9999480562654531, 0.9999480562654531, 0.9999480562654531, 0.9999480562654531, 0.9999480562654531]}], \"average_precision_score_macro\": [{\"categories\": [\"0\", \"1\", \"2\", \"3\", \"4\", \"5\", \"6\", \"7\", \"8\", \"9\", \"10\", \"11\", \"12\", \"13\", \"14\", \"15\", \"16\", \"17\", \"18\", \"19\", \"20\", \"21\", \"22\", \"23\", \"24\", \"25\", \"26\", \"27\", \"29\", \"30\", \"31\", \"32\", \"33\", \"34\", \"38\", \"39\"], \"mode\": \"markers\", \"name\": \"average_precision_score_macro\", \"stepped\": false, \"type\": \"scatter\", \"data\": [0.999984774926148, 0.999999896863649, 0.998444560297235, 0.993845988735952, 0.9980189739487847, 0.9913571096980002, 0.999053637670651, 0.9941116077994344, 0.9972412677386563, 0.9909027123684746, 0.9913598778374323, 0.9906357193357133, 0.990361677069962, 0.9918014836789365, 0.9968755956621228, 0.997184524522897, 0.9977295665726745, 0.9976471125106195, 0.9935764924690336, 0.9983318813386219, 0.9966366794551873, 0.9924082129252797, 0.9986320637038277, 0.9898330864209824, 0.9715094482405439, 0.9957815273915348, 0.9999393582086462, 0.9999971608577031, 0.5, 0.9935546554995404, 0.999993191114053, 0.9973609532610084, 0.9979891624363085, 0.9996791004216189, 0.9999992705646932, 0.9999992412873877]}, {\"categories\": [\"0\", \"1\", \"2\", \"3\", \"4\", \"5\", \"6\", \"7\", \"8\", \"9\", \"10\", \"11\", \"12\", \"13\", \"14\", \"15\", \"16\", \"17\", \"18\", \"19\", \"20\", \"21\", \"22\", \"23\", \"24\", \"25\", \"26\", \"27\", \"29\", \"30\", \"31\", \"32\", \"33\", \"34\", \"38\", \"39\"], \"mode\": \"lines\", \"name\": \"average_precision_score_macro_max\", \"stepped\": true, \"type\": \"scatter\", \"data\": [0.999984774926148, 0.999999896863649, 0.999999896863649, 0.999999896863649, 0.999999896863649, 0.999999896863649, 0.999999896863649, 0.999999896863649, 0.999999896863649, 0.999999896863649, 0.999999896863649, 0.999999896863649, 0.999999896863649, 0.999999896863649, 0.999999896863649, 0.999999896863649, 0.999999896863649, 0.999999896863649, 0.999999896863649, 0.999999896863649, 0.999999896863649, 0.999999896863649, 0.999999896863649, 0.999999896863649, 0.999999896863649, 0.999999896863649, 0.999999896863649, 0.999999896863649, 0.999999896863649, 0.999999896863649, 0.999999896863649, 0.999999896863649, 0.999999896863649, 0.999999896863649, 0.999999896863649, 0.999999896863649]}], \"recall_score_weighted\": [{\"categories\": [\"0\", \"1\", \"2\", \"3\", \"4\", \"5\", \"6\", \"7\", \"8\", \"9\", \"10\", \"11\", \"12\", \"13\", \"14\", \"15\", \"16\", \"17\", \"18\", \"19\", \"20\", \"21\", \"22\", \"23\", \"24\", \"25\", \"26\", \"27\", \"29\", \"30\", \"31\", \"32\", \"33\", \"34\", \"38\", \"39\"], \"mode\": \"markers\", \"name\": \"recall_score_weighted\", \"stepped\": false, \"type\": \"scatter\", \"data\": [0.9999420488274797, 0.9999637807139545, 0.9847877784871505, 0.9794707652563456, 0.9828028976977886, 0.9798691748840641, 0.9890109717981644, 0.8476969304016938, 0.9825132219639129, 0.9801154721687024, 0.9426352416098015, 0.9706911471919796, 0.9595861311639675, 0.9725455784156777, 0.9791882856802606, 0.9791955038773864, 0.9741247668364276, 0.9795504571310749, 0.9763341550919856, 0.9857802017226347, 0.9749722606630208, 0.9667504743872448, 0.986540811924575, 0.9754503923908427, 0.9648090984584505, 0.9771527334682192, 0.9955377571971527, 0.9994494648055997, 0.7006599442790193, 0.9771527090675266, 0.9993770251315421, 0.9786666796320928, 0.9838243405982036, 0.9927705733604837, 0.9999637807139545, 0.9999565366993216]}, {\"categories\": [\"0\", \"1\", \"2\", \"3\", \"4\", \"5\", \"6\", \"7\", \"8\", \"9\", \"10\", \"11\", \"12\", \"13\", \"14\", \"15\", \"16\", \"17\", \"18\", \"19\", \"20\", \"21\", \"22\", \"23\", \"24\", \"25\", \"26\", \"27\", \"29\", \"30\", \"31\", \"32\", \"33\", \"34\", \"38\", \"39\"], \"mode\": \"lines\", \"name\": \"recall_score_weighted_max\", \"stepped\": true, \"type\": \"scatter\", \"data\": [0.9999420488274797, 0.9999637807139545, 0.9999637807139545, 0.9999637807139545, 0.9999637807139545, 0.9999637807139545, 0.9999637807139545, 0.9999637807139545, 0.9999637807139545, 0.9999637807139545, 0.9999637807139545, 0.9999637807139545, 0.9999637807139545, 0.9999637807139545, 0.9999637807139545, 0.9999637807139545, 0.9999637807139545, 0.9999637807139545, 0.9999637807139545, 0.9999637807139545, 0.9999637807139545, 0.9999637807139545, 0.9999637807139545, 0.9999637807139545, 0.9999637807139545, 0.9999637807139545, 0.9999637807139545, 0.9999637807139545, 0.9999637807139545, 0.9999637807139545, 0.9999637807139545, 0.9999637807139545, 0.9999637807139545, 0.9999637807139545, 0.9999637807139545, 0.9999637807139545]}], \"balanced_accuracy\": [{\"categories\": [\"0\", \"1\", \"2\", \"3\", \"4\", \"5\", \"6\", \"7\", \"8\", \"9\", \"10\", \"11\", \"12\", \"13\", \"14\", \"15\", \"16\", \"17\", \"18\", \"19\", \"20\", \"21\", \"22\", \"23\", \"24\", \"25\", \"26\", \"27\", \"29\", \"30\", \"31\", \"32\", \"33\", \"34\", \"38\", \"39\"], \"mode\": \"markers\", \"name\": \"balanced_accuracy\", \"stepped\": false, \"type\": \"scatter\", \"data\": [0.9999515036717278, 0.9999740281327266, 0.9847097977891814, 0.9738873221480366, 0.97823382716253, 0.9784696829918218, 0.9879018508209935, 0.7461019754278057, 0.9800707145196949, 0.9750976022426491, 0.906874292689329, 0.9705002568593301, 0.953864851865629, 0.9640188328411069, 0.9739121344328422, 0.9706208213974538, 0.9585785535717622, 0.9817045870631039, 0.9742140213421954, 0.9854094098086187, 0.9777671195866972, 0.960108666078126, 0.9850226550684299, 0.9735618843396591, 0.9522764827135225, 0.9685978791576634, 0.9944428433426852, 0.9993318424678774, 0.5, 0.9703380233396398, 0.9992155646251791, 0.9690775649537421, 0.9768561694511969, 0.9916252030609597, 0.9999740281327266, 0.9999617921246019]}, {\"categories\": [\"0\", \"1\", \"2\", \"3\", \"4\", \"5\", \"6\", \"7\", \"8\", \"9\", \"10\", \"11\", \"12\", \"13\", \"14\", \"15\", \"16\", \"17\", \"18\", \"19\", \"20\", \"21\", \"22\", \"23\", \"24\", \"25\", \"26\", \"27\", \"29\", \"30\", \"31\", \"32\", \"33\", \"34\", \"38\", \"39\"], \"mode\": \"lines\", \"name\": \"balanced_accuracy_max\", \"stepped\": true, \"type\": \"scatter\", \"data\": [0.9999515036717278, 0.9999740281327266, 0.9999740281327266, 0.9999740281327266, 0.9999740281327266, 0.9999740281327266, 0.9999740281327266, 0.9999740281327266, 0.9999740281327266, 0.9999740281327266, 0.9999740281327266, 0.9999740281327266, 0.9999740281327266, 0.9999740281327266, 0.9999740281327266, 0.9999740281327266, 0.9999740281327266, 0.9999740281327266, 0.9999740281327266, 0.9999740281327266, 0.9999740281327266, 0.9999740281327266, 0.9999740281327266, 0.9999740281327266, 0.9999740281327266, 0.9999740281327266, 0.9999740281327266, 0.9999740281327266, 0.9999740281327266, 0.9999740281327266, 0.9999740281327266, 0.9999740281327266, 0.9999740281327266, 0.9999740281327266, 0.9999740281327266, 0.9999740281327266]}], \"accuracy\": [{\"categories\": [\"0\", \"1\", \"2\", \"3\", \"4\", \"5\", \"6\", \"7\", \"8\", \"9\", \"10\", \"11\", \"12\", \"13\", \"14\", \"15\", \"16\", \"17\", \"18\", \"19\", \"20\", \"21\", \"22\", \"23\", \"24\", \"25\", \"26\", \"27\", \"29\", \"30\", \"31\", \"32\", \"33\", \"34\", \"38\", \"39\"], \"mode\": \"markers\", \"name\": \"accuracy\", \"stepped\": false, \"type\": \"scatter\", \"data\": [0.9999420488274797, 0.9999637807139545, 0.9847877784871505, 0.9794707652563456, 0.9828028976977886, 0.9798691748840641, 0.9890109717981644, 0.8476969304016938, 0.9825132219639129, 0.9801154721687024, 0.9426352416098015, 0.9706911471919796, 0.9595861311639675, 0.9725455784156777, 0.9791882856802606, 0.9791955038773864, 0.9741247668364276, 0.9795504571310749, 0.9763341550919856, 0.9857802017226347, 0.9749722606630208, 0.9667504743872448, 0.986540811924575, 0.9754503923908427, 0.9648090984584505, 0.9771527334682192, 0.9955377571971527, 0.9994494648055997, 0.7006599442790193, 0.9771527090675266, 0.9993770251315421, 0.9786666796320928, 0.9838243405982036, 0.9927705733604837, 0.9999637807139545, 0.9999565366993216]}, {\"categories\": [\"0\", \"1\", \"2\", \"3\", \"4\", \"5\", \"6\", \"7\", \"8\", \"9\", \"10\", \"11\", \"12\", \"13\", \"14\", \"15\", \"16\", \"17\", \"18\", \"19\", \"20\", \"21\", \"22\", \"23\", \"24\", \"25\", \"26\", \"27\", \"29\", \"30\", \"31\", \"32\", \"33\", \"34\", \"38\", \"39\"], \"mode\": \"lines\", \"name\": \"accuracy_max\", \"stepped\": true, \"type\": \"scatter\", \"data\": [0.9999420488274797, 0.9999637807139545, 0.9999637807139545, 0.9999637807139545, 0.9999637807139545, 0.9999637807139545, 0.9999637807139545, 0.9999637807139545, 0.9999637807139545, 0.9999637807139545, 0.9999637807139545, 0.9999637807139545, 0.9999637807139545, 0.9999637807139545, 0.9999637807139545, 0.9999637807139545, 0.9999637807139545, 0.9999637807139545, 0.9999637807139545, 0.9999637807139545, 0.9999637807139545, 0.9999637807139545, 0.9999637807139545, 0.9999637807139545, 0.9999637807139545, 0.9999637807139545, 0.9999637807139545, 0.9999637807139545, 0.9999637807139545, 0.9999637807139545, 0.9999637807139545, 0.9999637807139545, 0.9999637807139545, 0.9999637807139545, 0.9999637807139545, 0.9999637807139545]}], \"f1_score_weighted\": [{\"categories\": [\"0\", \"1\", \"2\", \"3\", \"4\", \"5\", \"6\", \"7\", \"8\", \"9\", \"10\", \"11\", \"12\", \"13\", \"14\", \"15\", \"16\", \"17\", \"18\", \"19\", \"20\", \"21\", \"22\", \"23\", \"24\", \"25\", \"26\", \"27\", \"29\", \"30\", \"31\", \"32\", \"33\", \"34\", \"38\", \"39\"], \"mode\": \"markers\", \"name\": \"f1_score_weighted\", \"stepped\": false, \"type\": \"scatter\", \"data\": [0.9999420503054252, 0.9999637825523532, 0.9848331876547164, 0.97943661861381, 0.9827799762412237, 0.9799179372054384, 0.9890214845087272, 0.8288127954587159, 0.9825302824265468, 0.9800913331617603, 0.94037871818903, 0.9708446617675689, 0.9597053863207923, 0.972453289349716, 0.9791638439311666, 0.9790937826155207, 0.9738277224356371, 0.9796679184689338, 0.9763903781108535, 0.9858133404416645, 0.9751583628773545, 0.9667271655912875, 0.9865542909436966, 0.9755183578653494, 0.9645986014199348, 0.9770398275653549, 0.9955366010075384, 0.9994494425956285, 0.5773369958506632, 0.9770961769999115, 0.9993770009875909, 0.9785451214105302, 0.9837602790656014, 0.9927723826760327, 0.9999637825523532, 0.9999565384606632]}, {\"categories\": [\"0\", \"1\", \"2\", \"3\", \"4\", \"5\", \"6\", \"7\", \"8\", \"9\", \"10\", \"11\", \"12\", \"13\", \"14\", \"15\", \"16\", \"17\", \"18\", \"19\", \"20\", \"21\", \"22\", \"23\", \"24\", \"25\", \"26\", \"27\", \"29\", \"30\", \"31\", \"32\", \"33\", \"34\", \"38\", \"39\"], \"mode\": \"lines\", \"name\": \"f1_score_weighted_max\", \"stepped\": true, \"type\": \"scatter\", \"data\": [0.9999420503054252, 0.9999637825523532, 0.9999637825523532, 0.9999637825523532, 0.9999637825523532, 0.9999637825523532, 0.9999637825523532, 0.9999637825523532, 0.9999637825523532, 0.9999637825523532, 0.9999637825523532, 0.9999637825523532, 0.9999637825523532, 0.9999637825523532, 0.9999637825523532, 0.9999637825523532, 0.9999637825523532, 0.9999637825523532, 0.9999637825523532, 0.9999637825523532, 0.9999637825523532, 0.9999637825523532, 0.9999637825523532, 0.9999637825523532, 0.9999637825523532, 0.9999637825523532, 0.9999637825523532, 0.9999637825523532, 0.9999637825523532, 0.9999637825523532, 0.9999637825523532, 0.9999637825523532, 0.9999637825523532, 0.9999637825523532, 0.9999637825523532, 0.9999637825523532]}], \"log_loss\": [{\"categories\": [\"0\", \"1\", \"2\", \"3\", \"4\", \"5\", \"6\", \"7\", \"8\", \"9\", \"10\", \"11\", \"12\", \"13\", \"14\", \"15\", \"16\", \"17\", \"18\", \"19\", \"20\", \"21\", \"22\", \"23\", \"24\", \"25\", \"26\", \"27\", \"29\", \"30\", \"31\", \"32\", \"33\", \"34\", \"38\", \"39\"], \"mode\": \"markers\", \"name\": \"log_loss\", \"stepped\": false, \"type\": \"scatter\", \"data\": [0.00041227356095178887, 0.00030402111539484046, 0.0695782681433358, 0.06897846078364929, 0.10164705489322214, 0.1637195816174459, 0.05178399994264196, 0.38163134119557424, 0.14834014379879776, 0.1679778711070052, 0.178110905979874, 0.10412262344054042, 0.474570764792072, 0.08423090232261814, 0.11046742279407501, 0.1327087166759917, 0.20508364009032565, 0.10894281303867193, 0.09199551265338185, 0.10912138559942154, 0.1479294711126176, 0.21212532648615248, 0.0683090435183805, 0.17830855995110148, 0.2743767817839331, 0.10712141367736479, 0.2069455392701739, 0.04760690921709162, 0.6931471805599454, 0.07277527598637319, 0.0033638747604503097, 0.19001353932450704, 0.1415935213599396, 0.04891679349993325, 0.040080750438550326, 0.014203869801804233]}, {\"categories\": [\"0\", \"1\", \"2\", \"3\", \"4\", \"5\", \"6\", \"7\", \"8\", \"9\", \"10\", \"11\", \"12\", \"13\", \"14\", \"15\", \"16\", \"17\", \"18\", \"19\", \"20\", \"21\", \"22\", \"23\", \"24\", \"25\", \"26\", \"27\", \"29\", \"30\", \"31\", \"32\", \"33\", \"34\", \"38\", \"39\"], \"mode\": \"lines\", \"name\": \"log_loss_min\", \"stepped\": true, \"type\": \"scatter\", \"data\": [0.00041227356095178887, 0.00030402111539484046, 0.00030402111539484046, 0.00030402111539484046, 0.00030402111539484046, 0.00030402111539484046, 0.00030402111539484046, 0.00030402111539484046, 0.00030402111539484046, 0.00030402111539484046, 0.00030402111539484046, 0.00030402111539484046, 0.00030402111539484046, 0.00030402111539484046, 0.00030402111539484046, 0.00030402111539484046, 0.00030402111539484046, 0.00030402111539484046, 0.00030402111539484046, 0.00030402111539484046, 0.00030402111539484046, 0.00030402111539484046, 0.00030402111539484046, 0.00030402111539484046, 0.00030402111539484046, 0.00030402111539484046, 0.00030402111539484046, 0.00030402111539484046, 0.00030402111539484046, 0.00030402111539484046, 0.00030402111539484046, 0.00030402111539484046, 0.00030402111539484046, 0.00030402111539484046, 0.00030402111539484046, 0.00030402111539484046]}], \"precision_score_micro\": [{\"categories\": [\"0\", \"1\", \"2\", \"3\", \"4\", \"5\", \"6\", \"7\", \"8\", \"9\", \"10\", \"11\", \"12\", \"13\", \"14\", \"15\", \"16\", \"17\", \"18\", \"19\", \"20\", \"21\", \"22\", \"23\", \"24\", \"25\", \"26\", \"27\", \"29\", \"30\", \"31\", \"32\", \"33\", \"34\", \"38\", \"39\"], \"mode\": \"markers\", \"name\": \"precision_score_micro\", \"stepped\": false, \"type\": \"scatter\", \"data\": [0.9999420488274797, 0.9999637807139545, 0.9847877784871505, 0.9794707652563456, 0.9828028976977886, 0.9798691748840641, 0.9890109717981644, 0.8476969304016938, 0.9825132219639129, 0.9801154721687024, 0.9426352416098015, 0.9706911471919796, 0.9595861311639675, 0.9725455784156777, 0.9791882856802606, 0.9791955038773864, 0.9741247668364276, 0.9795504571310749, 0.9763341550919856, 0.9857802017226347, 0.9749722606630208, 0.9667504743872448, 0.986540811924575, 0.9754503923908427, 0.9648090984584505, 0.9771527334682192, 0.9955377571971527, 0.9994494648055997, 0.7006599442790193, 0.9771527090675266, 0.9993770251315421, 0.9786666796320928, 0.9838243405982036, 0.9927705733604837, 0.9999637807139545, 0.9999565366993216]}, {\"categories\": [\"0\", \"1\", \"2\", \"3\", \"4\", \"5\", \"6\", \"7\", \"8\", \"9\", \"10\", \"11\", \"12\", \"13\", \"14\", \"15\", \"16\", \"17\", \"18\", \"19\", \"20\", \"21\", \"22\", \"23\", \"24\", \"25\", \"26\", \"27\", \"29\", \"30\", \"31\", \"32\", \"33\", \"34\", \"38\", \"39\"], \"mode\": \"lines\", \"name\": \"precision_score_micro_max\", \"stepped\": true, \"type\": \"scatter\", \"data\": [0.9999420488274797, 0.9999637807139545, 0.9999637807139545, 0.9999637807139545, 0.9999637807139545, 0.9999637807139545, 0.9999637807139545, 0.9999637807139545, 0.9999637807139545, 0.9999637807139545, 0.9999637807139545, 0.9999637807139545, 0.9999637807139545, 0.9999637807139545, 0.9999637807139545, 0.9999637807139545, 0.9999637807139545, 0.9999637807139545, 0.9999637807139545, 0.9999637807139545, 0.9999637807139545, 0.9999637807139545, 0.9999637807139545, 0.9999637807139545, 0.9999637807139545, 0.9999637807139545, 0.9999637807139545, 0.9999637807139545, 0.9999637807139545, 0.9999637807139545, 0.9999637807139545, 0.9999637807139545, 0.9999637807139545, 0.9999637807139545, 0.9999637807139545, 0.9999637807139545]}]}, \"metricName\": null, \"primaryMetricName\": \"accuracy\", \"showLegend\": false}, \"run_metrics\": [{\"name\": \"experiment_status\", \"run_id\": \"AutoML_0ecfca36-e82f-497d-b214-dae4e4aade01\", \"categories\": [0, 1, 2, 3, 4, 5, 6, 7, 8, 9, 10, 11, 12, 13], \"series\": [{\"data\": [\"DatasetEvaluation\", \"FeaturesGeneration\", \"DatasetFeaturization\", \"DatasetFeaturizationCompleted\", \"DatasetCrossValidationSplit\", \"ModelSelection\", \"BestRunExplainModel\", \"ModelExplanationDataSetSetup\", \"PickSurrogateModel\", \"EngineeredFeatureExplanations\", \"EngineeredFeatureExplanations\", \"RawFeaturesExplanations\", \"RawFeaturesExplanations\", \"BestRunExplainModel\"]}]}, {\"name\": \"experiment_status_description\", \"run_id\": \"AutoML_0ecfca36-e82f-497d-b214-dae4e4aade01\", \"categories\": [0, 1, 2, 3, 4, 5, 6, 7, 8, 9, 10, 11, 12, 13], \"series\": [{\"data\": [\"Gathering dataset statistics.\", \"Generating features for the dataset.\", \"Beginning to fit featurizers and featurize the dataset.\", \"Completed fit featurizers and featurizing the dataset.\", \"Generating individually featurized CV splits.\", \"Beginning model selection.\", \"Best run model explanations started\", \"Model explanations data setup completed\", \"Choosing LightGBM as the surrogate model for explanations\", \"Computation of engineered features started\", \"Computation of engineered features completed\", \"Computation of raw features started\", \"Computation of raw features completed\", \"Best run model explanations completed\"]}]}, {\"name\": \"AUC_micro\", \"run_id\": \"AutoML_0ecfca36-e82f-497d-b214-dae4e4aade01\", \"categories\": [0], \"series\": [{\"data\": [0.9999995729184499]}]}, {\"name\": \"accuracy\", \"run_id\": \"AutoML_0ecfca36-e82f-497d-b214-dae4e4aade01\", \"categories\": [0], \"series\": [{\"data\": [0.9999637807139545]}]}, {\"name\": \"AUC_macro\", \"run_id\": \"AutoML_0ecfca36-e82f-497d-b214-dae4e4aade01\", \"categories\": [0], \"series\": [{\"data\": [0.9999994749692874]}]}, {\"name\": \"f1_score_macro\", \"run_id\": \"AutoML_0ecfca36-e82f-497d-b214-dae4e4aade01\", \"categories\": [0], \"series\": [{\"data\": [0.9999571069596156]}]}, {\"name\": \"f1_score_micro\", \"run_id\": \"AutoML_0ecfca36-e82f-497d-b214-dae4e4aade01\", \"categories\": [0], \"series\": [{\"data\": [0.9999637807139545]}]}, {\"name\": \"log_loss\", \"run_id\": \"AutoML_0ecfca36-e82f-497d-b214-dae4e4aade01\", \"categories\": [0], \"series\": [{\"data\": [0.040080750438550326]}]}, {\"name\": \"norm_macro_recall\", \"run_id\": \"AutoML_0ecfca36-e82f-497d-b214-dae4e4aade01\", \"categories\": [0], \"series\": [{\"data\": [0.9999480562654531]}]}, {\"name\": \"recall_score_weighted\", \"run_id\": \"AutoML_0ecfca36-e82f-497d-b214-dae4e4aade01\", \"categories\": [0], \"series\": [{\"data\": [0.9999637807139545]}]}, {\"name\": \"precision_score_macro\", \"run_id\": \"AutoML_0ecfca36-e82f-497d-b214-dae4e4aade01\", \"categories\": [0], \"series\": [{\"data\": [0.9999401985408444]}]}, {\"name\": \"average_precision_score_weighted\", \"run_id\": \"AutoML_0ecfca36-e82f-497d-b214-dae4e4aade01\", \"categories\": [0], \"series\": [{\"data\": [0.9999994700164406]}]}, {\"name\": \"average_precision_score_micro\", \"run_id\": \"AutoML_0ecfca36-e82f-497d-b214-dae4e4aade01\", \"categories\": [0], \"series\": [{\"data\": [0.9999995753666712]}]}, {\"name\": \"AUC_weighted\", \"run_id\": \"AutoML_0ecfca36-e82f-497d-b214-dae4e4aade01\", \"categories\": [0], \"series\": [{\"data\": [0.9999994749692876]}]}, {\"name\": \"average_precision_score_macro\", \"run_id\": \"AutoML_0ecfca36-e82f-497d-b214-dae4e4aade01\", \"categories\": [0], \"series\": [{\"data\": [0.9999992705646932]}]}, {\"name\": \"precision_score_weighted\", \"run_id\": \"AutoML_0ecfca36-e82f-497d-b214-dae4e4aade01\", \"categories\": [0], \"series\": [{\"data\": [0.9999637937097514]}]}, {\"name\": \"recall_score_macro\", \"run_id\": \"AutoML_0ecfca36-e82f-497d-b214-dae4e4aade01\", \"categories\": [0], \"series\": [{\"data\": [0.9999740281327266]}]}, {\"name\": \"weighted_accuracy\", \"run_id\": \"AutoML_0ecfca36-e82f-497d-b214-dae4e4aade01\", \"categories\": [0], \"series\": [{\"data\": [0.9999562940693113]}]}, {\"name\": \"recall_score_micro\", \"run_id\": \"AutoML_0ecfca36-e82f-497d-b214-dae4e4aade01\", \"categories\": [0], \"series\": [{\"data\": [0.9999637807139545]}]}, {\"name\": \"balanced_accuracy\", \"run_id\": \"AutoML_0ecfca36-e82f-497d-b214-dae4e4aade01\", \"categories\": [0], \"series\": [{\"data\": [0.9999740281327266]}]}, {\"name\": \"matthews_correlation\", \"run_id\": \"AutoML_0ecfca36-e82f-497d-b214-dae4e4aade01\", \"categories\": [0], \"series\": [{\"data\": [0.9999142249564672]}]}, {\"name\": \"precision_score_micro\", \"run_id\": \"AutoML_0ecfca36-e82f-497d-b214-dae4e4aade01\", \"categories\": [0], \"series\": [{\"data\": [0.9999637807139545]}]}, {\"name\": \"f1_score_weighted\", \"run_id\": \"AutoML_0ecfca36-e82f-497d-b214-dae4e4aade01\", \"categories\": [0], \"series\": [{\"data\": [0.9999637825523532]}]}], \"run_logs\": \"\\nRun is completed.\", \"graph\": {}, \"widget_settings\": {\"childWidgetDisplay\": \"popup\", \"send_telemetry\": false, \"log_level\": \"INFO\", \"sdk_version\": \"1.18.0\"}, \"loading\": false}"
          },
          "metadata": {}
        }
      ],
      "execution_count": 9,
      "metadata": {
        "collapsed": false,
        "gather": {
          "logged": 1605707229203
        },
        "jupyter": {
          "outputs_hidden": false,
          "source_hidden": false
        },
        "nteract": {
          "transient": {
            "deleting": false
          }
        }
      }
    },
    {
      "cell_type": "markdown",
      "source": [
        "## Best Model\n",
        "\n",
        "In the cell below, we get the best model from the automl experiments and display the properties of the model.\n",
        "\n"
      ],
      "metadata": {}
    },
    {
      "cell_type": "code",
      "source": [
        "best_automl_run, best_automl_model = automl_run.get_output()\n",
        "best_run_metrics = best_automl_run.get_metrics()\n",
        "\n",
        "print('Best Run Id: ', best_automl_run.id)\n",
        "print('\\n Accuracy:', best_run_metrics['accuracy'])\n",
        "print(best_automl_model._final_estimator)\n",
        "print(best_automl_run.get_tags())"
      ],
      "outputs": [
        {
          "output_type": "stream",
          "name": "stdout",
          "text": [
            "Best Run Id:  AutoML_0ecfca36-e82f-497d-b214-dae4e4aade01_38\n",
            "\n",
            " Accuracy: 0.9999637807139545\n",
            "PreFittedSoftVotingClassifier(classification_labels=None,\n",
            "                              estimators=[('1',\n",
            "                                           Pipeline(memory=None,\n",
            "                                                    steps=[('maxabsscaler',\n",
            "                                                            MaxAbsScaler(copy=True)),\n",
            "                                                           ('xgboostclassifier',\n",
            "                                                            XGBoostClassifier(base_score=0.5,\n",
            "                                                                              booster='gbtree',\n",
            "                                                                              colsample_bylevel=1,\n",
            "                                                                              colsample_bynode=1,\n",
            "                                                                              colsample_bytree=1,\n",
            "                                                                              gamma=0,\n",
            "                                                                              learning_rate=0.1,\n",
            "                                                                              max_delta_step=0,\n",
            "                                                                              max_depth=3,\n",
            "                                                                              min_child_weight=1,\n",
            "                                                                              miss...\n",
            "                                                                              n_jobs=1,\n",
            "                                                                              nthread=None,\n",
            "                                                                              objective='reg:logistic',\n",
            "                                                                              random_state=0,\n",
            "                                                                              reg_alpha=1.5625,\n",
            "                                                                              reg_lambda=0.7291666666666667,\n",
            "                                                                              scale_pos_weight=1,\n",
            "                                                                              seed=None,\n",
            "                                                                              silent=None,\n",
            "                                                                              subsample=1,\n",
            "                                                                              tree_method='auto',\n",
            "                                                                              verbose=-10,\n",
            "                                                                              verbosity=0))],\n",
            "                                                    verbose=False))],\n",
            "                              flatten_transform=None,\n",
            "                              weights=[0.3333333333333333, 0.16666666666666666,\n",
            "                                       0.16666666666666666, 0.16666666666666666,\n",
            "                                       0.16666666666666666])\n",
            "{'_aml_system_azureml.automlComponent': 'AutoML', '_aml_system_ComputeTargetStatus': '{\"AllocationState\":\"steady\",\"PreparingNodeCount\":0,\"RunningNodeCount\":5,\"CurrentNodeCount\":5}', 'ensembled_iterations': '[1, 0, 27, 31, 26]', 'ensembled_algorithms': \"['XGBoostClassifier', 'LightGBM', 'XGBoostClassifier', 'LightGBM', 'XGBoostClassifier']\", 'ensemble_weights': '[0.3333333333333333, 0.16666666666666666, 0.16666666666666666, 0.16666666666666666, 0.16666666666666666]', 'best_individual_pipeline_score': '0.9999637807139545', 'best_individual_iteration': '1', '_aml_system_automl_is_child_run_end_telemetry_event_logged': 'True'}\n"
          ]
        }
      ],
      "execution_count": 10,
      "metadata": {
        "collapsed": false,
        "gather": {
          "logged": 1605709103868
        },
        "jupyter": {
          "outputs_hidden": false,
          "source_hidden": false
        },
        "nteract": {
          "transient": {
            "deleting": false
          }
        }
      }
    },
    {
      "cell_type": "code",
      "source": [
        "model = best_automl_run.register_model(model_name = 'best_automl_model', model_path = 'outputs/model.pkl', model_framework=Model.Framework.SCIKITLEARN)"
      ],
      "outputs": [],
      "execution_count": 11,
      "metadata": {
        "collapsed": false,
        "gather": {
          "logged": 1605709113900
        },
        "jupyter": {
          "outputs_hidden": false,
          "source_hidden": false
        },
        "nteract": {
          "transient": {
            "deleting": false
          }
        }
      }
    },
    {
      "cell_type": "markdown",
      "source": [
        "## Model Deployment\n",
        "\n",
        "Remember you have to deploy only one of the two models you trained.. Perform the steps in the rest of this notebook only if you wish to deploy this model."
      ],
      "metadata": {}
    },
    {
      "cell_type": "code",
      "source": [
        "from azureml.core import Environment\r\n",
        "from azureml.core.model import InferenceConfig\r\n",
        "\r\n",
        "env = best_automl_run.get_environment()\r\n",
        "\r\n",
        "script_name = 'score.py'\r\n",
        "\r\n",
        "best_automl_run.download_file('outputs/scoring_file_v_1_0_0.py', script_name)\r\n",
        "\r\n",
        "inference_config = InferenceConfig(entry_script= script_name,\r\n",
        "                                    environment=env)"
      ],
      "outputs": [],
      "execution_count": 13,
      "metadata": {
        "collapsed": true,
        "jupyter": {
          "source_hidden": false,
          "outputs_hidden": false
        },
        "nteract": {
          "transient": {
            "deleting": false
          }
        },
        "gather": {
          "logged": 1605709160446
        }
      }
    },
    {
      "cell_type": "code",
      "source": [
        "rest_service = Model.deploy(ws, \"best-model-service\", [model], inference_config=inference_config, overwrite=True)\n",
        "\n",
        "rest_service.wait_for_deployment(show_output=True)\n",
        "rest_service.update(enable_app_insights=True)"
      ],
      "outputs": [
        {
          "output_type": "stream",
          "name": "stdout",
          "text": [
            "Tips: You can try get_logs(): https://aka.ms/debugimage#dockerlog or local deployment: https://aka.ms/debugimage#debug-locally to debug if deployment takes longer than 10 minutes.\n",
            "Running......................................."
          ]
        }
      ],
      "execution_count": 35,
      "metadata": {
        "collapsed": false,
        "gather": {
          "logged": 1605709344205
        },
        "jupyter": {
          "outputs_hidden": false,
          "source_hidden": false
        },
        "nteract": {
          "transient": {
            "deleting": false
          }
        }
      }
    },
    {
      "cell_type": "code",
      "source": [
        "from azureml.core.authentication import InteractiveLoginAuthentication\n",
        "\n",
        "interactive_auth = InteractiveLoginAuthentication()\n",
        "auth_header = interactive_auth.get_authentication_header()"
      ],
      "outputs": [],
      "execution_count": 15,
      "metadata": {
        "gather": {
          "logged": 1605709350825
        }
      }
    },
    {
      "cell_type": "markdown",
      "source": [
        "Grab a random sample of 3 rows from the dataset to test the endpoint"
      ],
      "metadata": {
        "nteract": {
          "transient": {
            "deleting": false
          }
        }
      }
    },
    {
      "cell_type": "code",
      "source": [
        "data_sample = dataset.to_pandas_dataframe().sample(3)\r\n",
        "y_true = data_sample.pop('legitimate')\r\n",
        "sample_json = json.dumps({'data':data_sample.to_dict(orient='records')})\r\n",
        "print(sample_json)"
      ],
      "outputs": [
        {
          "output_type": "stream",
          "name": "stdout",
          "text": [
            "{\"data\": [{\"Name\": 45980, \"md5\": 64759, \"Machine\": 332, \"SizeOfOptionalHeader\": 224, \"Characteristics\": 258, \"MajorLinkerVersion\": 11, \"MinorLinkerVersion\": 0, \"SizeOfCode\": 71168, \"SizeOfInitializedData\": 80384, \"SizeOfUninitializedData\": 0, \"AddressOfEntryPoint\": 16077, \"BaseOfCode\": 4096, \"BaseOfData\": 77824, \"ImageBase\": 4194304.0, \"SectionAlignment\": 4096, \"FileAlignment\": 512, \"MajorOperatingSystemVersion\": 5, \"MinorOperatingSystemVersion\": 1, \"MajorImageVersion\": 0, \"MinorImageVersion\": 0, \"MajorSubsystemVersion\": 5, \"MinorSubsystemVersion\": 1, \"SizeOfImage\": 163840, \"SizeOfHeaders\": 1024, \"CheckSum\": 148039, \"Subsystem\": 2, \"DllCharacteristics\": 33088, \"SizeOfStackReserve\": 1048576, \"SizeOfStackCommit\": 4096, \"SizeOfHeapReserve\": 1048576, \"SizeOfHeapCommit\": 4096, \"LoaderFlags\": 0, \"NumberOfRvaAndSizes\": 16, \"SectionsNb\": 5, \"SectionsMeanEntropy\": 4.46048566183, \"SectionsMinEntropy\": 2.74553733754, \"SectionsMaxEntropy\": 6.660474843459999, \"SectionsMeanRawsize\": 28467.2, \"SectionsMinRawsize\": 5120, \"SectionMaxRawsize\": 71168, \"SectionsMeanVirtualsize\": 29975.2, \"SectionsMinVirtualsize\": 14104, \"SectionMaxVirtualsize\": 71032, \"ImportsNbDLL\": 7, \"ImportsNb\": 110, \"ImportsNbOrdinal\": 1, \"ExportNb\": 0, \"ResourcesNb\": 10, \"ResourcesMeanEntropy\": 3.62974225389, \"ResourcesMinEntropy\": 1.37587964515, \"ResourcesMaxEntropy\": 5.522783372130001, \"ResourcesMeanSize\": 1877.7, \"ResourcesMinSize\": 16, \"ResourcesMaxSize\": 9640, \"LoadConfigurationSize\": 72, \"VersionInformationSize\": 10}, {\"Name\": 103528, \"md5\": 55162, \"Machine\": 332, \"SizeOfOptionalHeader\": 224, \"Characteristics\": 8450, \"MajorLinkerVersion\": 9, \"MinorLinkerVersion\": 0, \"SizeOfCode\": 206848, \"SizeOfInitializedData\": 12288, \"SizeOfUninitializedData\": 0, \"AddressOfEntryPoint\": 10166, \"BaseOfCode\": 4096, \"BaseOfData\": 212992, \"ImageBase\": 197918720.0, \"SectionAlignment\": 4096, \"FileAlignment\": 512, \"MajorOperatingSystemVersion\": 6, \"MinorOperatingSystemVersion\": 1, \"MajorImageVersion\": 6, \"MinorImageVersion\": 1, \"MajorSubsystemVersion\": 6, \"MinorSubsystemVersion\": 1, \"SizeOfImage\": 229376, \"SizeOfHeaders\": 1024, \"CheckSum\": 270904, \"Subsystem\": 3, \"DllCharacteristics\": 320, \"SizeOfStackReserve\": 262144, \"SizeOfStackCommit\": 4096, \"SizeOfHeapReserve\": 8192, \"SizeOfHeapCommit\": 4096, \"LoaderFlags\": 0, \"NumberOfRvaAndSizes\": 16, \"SectionsNb\": 4, \"SectionsMeanEntropy\": 5.52213446217, \"SectionsMinEntropy\": 3.5055295776, \"SectionsMaxEntropy\": 7.559666856439999, \"SectionsMeanRawsize\": 53504.0, \"SectionsMinRawsize\": 2048, \"SectionMaxRawsize\": 206848, \"SectionsMeanVirtualsize\": 54400.75, \"SectionsMinVirtualsize\": 1668, \"SectionMaxVirtualsize\": 206487, \"ImportsNbDLL\": 4, \"ImportsNb\": 45, \"ImportsNbOrdinal\": 0, \"ExportNb\": 21, \"ResourcesNb\": 5, \"ResourcesMeanEntropy\": 3.08885673546, \"ResourcesMinEntropy\": 2.37085907723, \"ResourcesMaxEntropy\": 3.6330888646199995, \"ResourcesMeanSize\": 448.4, \"ResourcesMinSize\": 34, \"ResourcesMaxSize\": 952, \"LoadConfigurationSize\": 72, \"VersionInformationSize\": 16}, {\"Name\": 2380, \"md5\": 82357, \"Machine\": 34404, \"SizeOfOptionalHeader\": 240, \"Characteristics\": 8226, \"MajorLinkerVersion\": 8, \"MinorLinkerVersion\": 0, \"SizeOfCode\": 0, \"SizeOfInitializedData\": 0, \"SizeOfUninitializedData\": 0, \"AddressOfEntryPoint\": 0, \"BaseOfCode\": 0, \"BaseOfData\": 0, \"ImageBase\": 6881061371904.0, \"SectionAlignment\": 4096, \"FileAlignment\": 512, \"MajorOperatingSystemVersion\": 5, \"MinorOperatingSystemVersion\": 2, \"MajorImageVersion\": 0, \"MinorImageVersion\": 0, \"MajorSubsystemVersion\": 5, \"MinorSubsystemVersion\": 2, \"SizeOfImage\": 5066752, \"SizeOfHeaders\": 1024, \"CheckSum\": 0, \"Subsystem\": 3, \"DllCharacteristics\": 33088, \"SizeOfStackReserve\": 0, \"SizeOfStackCommit\": 0, \"SizeOfHeapReserve\": 0, \"SizeOfHeapCommit\": 0, \"LoaderFlags\": 0, \"NumberOfRvaAndSizes\": 16, \"SectionsNb\": 6, \"SectionsMeanEntropy\": 4.5283775015300005, \"SectionsMinEntropy\": 2.4092322586700003, \"SectionsMaxEntropy\": 6.33634996702, \"SectionsMeanRawsize\": 842325.333333, \"SectionsMinRawsize\": 512, \"SectionMaxRawsize\": 4085248, \"SectionsMeanVirtualsize\": 842105.166667, \"SectionsMinVirtualsize\": 219, \"SectionMaxVirtualsize\": 4085184, \"ImportsNbDLL\": 0, \"ImportsNb\": 0, \"ImportsNbOrdinal\": 0, \"ExportNb\": 0, \"ResourcesNb\": 1, \"ResourcesMeanEntropy\": 3.5228986271800005, \"ResourcesMinEntropy\": 3.5228986271800005, \"ResourcesMaxEntropy\": 3.5228986271800005, \"ResourcesMeanSize\": 1064.0, \"ResourcesMinSize\": 1064, \"ResourcesMaxSize\": 1064, \"LoadConfigurationSize\": 0, \"VersionInformationSize\": 16}]}\n"
          ]
        }
      ],
      "execution_count": 31,
      "metadata": {
        "collapsed": true,
        "jupyter": {
          "source_hidden": false,
          "outputs_hidden": false
        },
        "nteract": {
          "transient": {
            "deleting": false
          }
        },
        "gather": {
          "logged": 1605715727867
        }
      }
    },
    {
      "cell_type": "code",
      "source": [
        "output = rest_service.run(sample_json)\n",
        "print('Prediction: ', output)\n",
        "print('True: ', y_true)"
      ],
      "outputs": [
        {
          "output_type": "stream",
          "name": "stdout",
          "text": [
            "{\"result\": [0, 1, 1]}\n"
          ]
        }
      ],
      "execution_count": 32,
      "metadata": {
        "collapsed": false,
        "gather": {
          "logged": 1605715755801
        },
        "jupyter": {
          "outputs_hidden": false,
          "source_hidden": false
        },
        "nteract": {
          "transient": {
            "deleting": false
          }
        }
      }
    },
    {
      "cell_type": "markdown",
      "source": [
        "Run the cell below to see the logs from the web service"
      ],
      "metadata": {
        "gather": {
          "logged": 1598432765711
        },
        "jupyter": {
          "outputs_hidden": false,
          "source_hidden": false
        },
        "nteract": {
          "transient": {
            "deleting": false
          }
        }
      }
    },
    {
      "cell_type": "code",
      "source": [
        "logs = rest_service.get_logs()\n",
        "\n",
        "for line in logs.split('\\n'):\n",
        "    print(line)"
      ],
      "outputs": [
        {
          "output_type": "stream",
          "name": "stdout",
          "text": [
            "2020-11-18T14:27:30.8728945Z stdout F 2020-11-18T14:27:30,866083300+00:00 - gunicorn/run \n",
            "2020-11-18T14:27:30.8876924Z stdout F 2020-11-18T14:27:30,882383300+00:00 - iot-server/run \n",
            "2020-11-18T14:27:30.9726689Z stdout F 2020-11-18T14:27:30,966470800+00:00 - nginx/run \n",
            "2020-11-18T14:27:30.9806922Z stderr F /usr/sbin/nginx: /azureml-envs/azureml_0e3a8a6dba181476a2523c12c58dfc97/lib/libcrypto.so.1.0.0: no version information available (required by /usr/sbin/nginx)\n",
            "2020-11-18T14:27:31.0008346Z stderr F /usr/sbin/nginx: /azureml-envs/azureml_0e3a8a6dba181476a2523c12c58dfc97/lib/libcrypto.so.1.0.0: no version information available (required by /usr/sbin/nginx)\n",
            "2020-11-18T14:27:31.0008346Z stderr F /usr/sbin/nginx: /azureml-envs/azureml_0e3a8a6dba181476a2523c12c58dfc97/lib/libssl.so.1.0.0: no version information available (required by /usr/sbin/nginx)\n",
            "2020-11-18T14:27:31.0083562Z stderr F /usr/sbin/nginx: /azureml-envs/azureml_0e3a8a6dba181476a2523c12c58dfc97/lib/libssl.so.1.0.0: no version information available (required by /usr/sbin/nginx)\n",
            "2020-11-18T14:27:31.008423Z stderr F /usr/sbin/nginx: /azureml-envs/azureml_0e3a8a6dba181476a2523c12c58dfc97/lib/libssl.so.1.0.0: no version information available (required by /usr/sbin/nginx)\n",
            "2020-11-18T14:27:31.1733974Z stdout F 2020-11-18T14:27:30,993808800+00:00 - rsyslog/run \n",
            "2020-11-18T14:27:31.3896816Z stderr F rsyslogd: /azureml-envs/azureml_0e3a8a6dba181476a2523c12c58dfc97/lib/libuuid.so.1: no version information available (required by rsyslogd)\n",
            "2020-11-18T14:27:39.1855295Z stdout F EdgeHubConnectionString and IOTEDGE_IOTHUBHOSTNAME are not set. Exiting...\n",
            "2020-11-18T14:27:39.2737705Z stdout F 2020-11-18T14:27:39,267665400+00:00 - iot-server/finish 1 0\n",
            "2020-11-18T14:27:39.3071353Z stdout F 2020-11-18T14:27:39,293808500+00:00 - Exit code 1 is normal. Not restarting iot-server.\n",
            "2020-11-18T14:27:39.98801Z stdout F Starting gunicorn 19.9.0\n",
            "2020-11-18T14:27:39.98801Z stdout F Listening at: http://127.0.0.1:31311 (64)\n",
            "2020-11-18T14:27:39.9890077Z stdout F Using worker: sync\n",
            "2020-11-18T14:27:39.9890077Z stdout F worker timeout is set to 300\n",
            "2020-11-18T14:27:39.9920069Z stdout F Booting worker with pid: 97\n",
            "2020-11-18T14:27:56.3889793Z stdout F SPARK_HOME not set. Skipping PySpark Initialization.\n",
            "2020-11-18T14:27:56.3889793Z stdout F Generating new fontManager, this may take some time...\n",
            "2020-11-18T14:28:14.6832006Z stdout F Initializing logger\n",
            "2020-11-18T14:28:14.6832006Z stdout F 2020-11-18 14:28:14,676 | root | INFO | Starting up app insights client\n",
            "2020-11-18T14:28:14.6832006Z stdout F Starting up app insights client\n",
            "2020-11-18T14:28:14.6842068Z stdout F 2020-11-18 14:28:14,677 | root | INFO | Starting up request id generator\n",
            "2020-11-18T14:28:14.6842068Z stdout F Starting up request id generator\n",
            "2020-11-18T14:28:14.6842068Z stdout F 2020-11-18 14:28:14,678 | root | INFO | Starting up app insight hooks\n",
            "2020-11-18T14:28:14.6842068Z stdout F Starting up app insight hooks\n",
            "2020-11-18T14:28:14.6872061Z stdout F 2020-11-18 14:28:14,681 | root | INFO | Invoking user's init function\n",
            "2020-11-18T14:28:14.6872061Z stdout F Invoking user's init function\n",
            "2020-11-18T14:28:46.6010705Z stdout F 2020-11-18 14:28:46,592 | root | INFO | Users's init has completed successfully\n",
            "2020-11-18T14:28:46.6750729Z stdout F Users's init has completed successfully\n",
            "2020-11-18T14:28:46.6750729Z stderr F /azureml-envs/azureml_0e3a8a6dba181476a2523c12c58dfc97/lib/python3.6/site-packages/sklearn/externals/joblib/__init__.py:15: FutureWarning: sklearn.externals.joblib is deprecated in 0.21 and will be removed in 0.23. Please import this functionality directly from joblib, which can be installed with: pip install joblib. If this warning is raised when loading pickled models, you may need to re-serialize those models with scikit-learn 0.21+.\n",
            "2020-11-18T14:28:46.6750729Z stderr F   warnings.warn(msg, category=FutureWarning)\n",
            "2020-11-18T14:28:46.6750729Z stdout F 2020-11-18 14:28:46,667 | root | INFO | Skipping middleware: dbg_model_info as it's not enabled.\n",
            "2020-11-18T14:28:46.6750729Z stdout F Skipping middleware: dbg_model_info as it's not enabled.\n",
            "2020-11-18T14:28:46.6850665Z stdout F 2020-11-18 14:28:46,667 | root | INFO | Skipping middleware: dbg_resource_usage as it's not enabled.\n",
            "2020-11-18T14:28:46.6850665Z stdout F Skipping middleware: dbg_resource_usage as it's not enabled.\n",
            "2020-11-18T14:28:46.6850665Z stdout F 2020-11-18 14:28:46,677 | root | INFO | Scoring timeout is found from os.environ: 60000 ms\n",
            "2020-11-18T14:28:46.6850665Z stdout F Scoring timeout is found from os.environ: 60000 ms\n",
            "2020-11-18T14:35:09.1068182Z stdout F 127.0.0.1 - - [18/Nov/2020:14:35:09 +0000] \"GET /vendor/phpunit/phpunit/src/Util/PHP/eval-stdin.php HTTP/1.0\" 404 232 \"-\" \"Mozilla/5.0 (Windows NT 10.0; Win64; x64) AppleWebKit/537.36 (KHTML, like Gecko) Chrome/78.0.3904.108 Safari/537.36\"\n",
            "2020-11-18T14:35:09.1824661Z stdout F 127.0.0.1 - - [18/Nov/2020:14:35:09 +0000] \"POST /api/jsonws/invoke HTTP/1.0\" 404 232 \"-\" \"Mozilla/5.0 (Windows NT 10.0; Win64; x64) AppleWebKit/537.36 (KHTML, like Gecko) Chrome/78.0.3904.108 Safari/537.36\"\n",
            "2020-11-18T14:35:09.6562749Z stdout F 127.0.0.1 - - [18/Nov/2020:14:35:09 +0000] \"GET /solr/admin/info/system?wt=json HTTP/1.0\" 404 232 \"-\" \"Mozilla/5.0 (Windows NT 10.0; Win64; x64) AppleWebKit/537.36 (KHTML, like Gecko) Chrome/78.0.3904.108 Safari/537.36\"\n",
            "2020-11-18T14:35:09.985415Z stdout F 127.0.0.1 - - [18/Nov/2020:14:35:09 +0000] \"GET /index.php?function=call_user_func_array&s=%2FIndex%2F%5Cthink%5Capp%2Finvokefunction&vars%5B0%5D=md5&vars%5B1%5D%5B%5D=HelloThinkPHP21 HTTP/1.0\" 404 232 \"-\" \"Mozilla/5.0 (Windows NT 10.0; Win64; x64) AppleWebKit/537.36 (KHTML, like Gecko) Chrome/78.0.3904.108 Safari/537.36\"\n",
            "2020-11-18T14:35:12.984206Z stdout F 127.0.0.1 - - [18/Nov/2020:14:35:12 +0000] \"POST /vendor/phpunit/phpunit/src/Util/PHP/eval-stdin.php HTTP/1.0\" 404 232 \"-\" \"Mozilla/5.0 (Windows NT 10.0; Win64; x64) AppleWebKit/537.36 (KHTML, like Gecko) Chrome/78.0.3904.108 Safari/537.36\"\n",
            "2020-11-18T14:35:13.6154957Z stdout F 127.0.0.1 - - [18/Nov/2020:14:35:13 +0000] \"GET /wp-content/plugins/wp-file-manager/readme.txt HTTP/1.0\" 404 232 \"-\" \"Mozilla/5.0 (Windows NT 10.0; Win64; x64) AppleWebKit/537.36 (KHTML, like Gecko) Chrome/78.0.3904.108 Safari/537.36\"\n",
            "2020-11-18T14:35:13.7266894Z stdout F 127.0.0.1 - - [18/Nov/2020:14:35:13 +0000] \"GET /?a=fetch&content=%3Cphp%3Edie%28%40md5%28HelloThinkCMF%29%29%3C%2Fphp%3E HTTP/1.0\" 200 7 \"-\" \"Mozilla/5.0 (Windows NT 10.0; Win64; x64) AppleWebKit/537.36 (KHTML, like Gecko) Chrome/78.0.3904.108 Safari/537.36\"\n",
            "2020-11-18T14:35:14.1518243Z stdout F 127.0.0.1 - - [18/Nov/2020:14:35:14 +0000] \"GET /console/ HTTP/1.0\" 404 232 \"-\" \"Mozilla/5.0 (Windows NT 10.0; Win64; x64) AppleWebKit/537.36 (KHTML, like Gecko) Chrome/78.0.3904.108 Safari/537.36\"\n",
            "2020-11-18T14:35:14.2575137Z stdout F 127.0.0.1 - - [18/Nov/2020:14:35:14 +0000] \"GET /?XDEBUG_SESSION_START=phpstorm HTTP/1.0\" 200 7 \"-\" \"Mozilla/5.0 (Windows NT 10.0; Win64; x64) AppleWebKit/537.36 (KHTML, like Gecko) Chrome/78.0.3904.108 Safari/537.36\"\n",
            "2020-11-18T14:37:39.3909865Z stdout F 2020-11-18 14:37:39,376 | root | INFO | 200\n",
            "2020-11-18T14:37:39.3909865Z stdout F 200\n",
            "2020-11-18T14:37:39.4088853Z stdout F 127.0.0.1 - - [18/Nov/2020:14:37:39 +0000] \"GET /swagger.json HTTP/1.0\" 200 6901 \"-\" \"Go-http-client/1.1\"\n",
            "2020-11-18T14:39:14.092764Z stdout F 2020-11-18 14:39:14,078 | root | INFO | 200\n",
            "2020-11-18T14:39:14.0937506Z stdout F 200\n",
            "2020-11-18T14:39:14.0977758Z stdout F 127.0.0.1 - - [18/Nov/2020:14:39:14 +0000] \"GET /swagger.json HTTP/1.0\" 200 6901 \"-\" \"Go-http-client/1.1\"\n",
            "2020-11-18T14:39:14.5373052Z stdout F 2020-11-18 14:39:14,522 | root | INFO | 200\n",
            "2020-11-18T14:39:14.539296Z stdout F 200\n",
            "2020-11-18T14:39:14.5453088Z stdout F 127.0.0.1 - - [18/Nov/2020:14:39:14 +0000] \"GET /swagger.json HTTP/1.0\" 200 6901 \"-\" \"Go-http-client/1.1\"\n",
            "2020-11-18T14:39:53.0931811Z stdout F 2020-11-18 14:39:53,078 | root | INFO | 200\n",
            "2020-11-18T14:39:53.0931811Z stdout F 200\n",
            "2020-11-18T14:39:53.1001688Z stdout F 127.0.0.1 - - [18/Nov/2020:14:39:53 +0000] \"GET /swagger.json HTTP/1.0\" 200 6901 \"-\" \"Go-http-client/1.1\"\n",
            "2020-11-18T14:39:53.371956Z stdout F 2020-11-18 14:39:53,358 | root | INFO | 200\n",
            "2020-11-18T14:39:53.371956Z stdout F 200\n",
            "2020-11-18T14:39:53.3789555Z stdout F 127.0.0.1 - - [18/Nov/2020:14:39:53 +0000] \"GET /swagger.json HTTP/1.0\" 200 6901 \"-\" \"Go-http-client/1.1\"\n",
            "2020-11-18T14:42:04.0864071Z stdout F 2020-11-18 14:42:04,069 | root | INFO | Validation Request Content-Type\n",
            "2020-11-18T14:42:04.0864071Z stdout F Validation Request Content-Type\n",
            "2020-11-18T14:42:04.0894127Z stdout F 2020-11-18 14:42:04,070 | root | INFO | \tHost: localhost:5001\n",
            "2020-11-18T14:42:04.0894127Z stdout F \tHost: localhost:5001\n",
            "2020-11-18T14:42:04.0914181Z stdout F 2020-11-18 14:42:04,070 | root | INFO | \tX-Real-Ip: 127.0.0.1\n",
            "2020-11-18T14:42:04.0914181Z stdout F \tX-Real-Ip: 127.0.0.1\n",
            "2020-11-18T14:42:04.0914181Z stdout F 2020-11-18 14:42:04,070 | root | INFO | \tX-Forwarded-For: 127.0.0.1\n",
            "2020-11-18T14:42:04.0914181Z stdout F \tX-Forwarded-For: 127.0.0.1\n",
            "2020-11-18T14:42:04.094418Z stdout F 2020-11-18 14:42:04,070 | root | INFO | \tX-Forwarded-Proto: http\n",
            "2020-11-18T14:42:04.094418Z stdout F \tX-Forwarded-Proto: http\n",
            "2020-11-18T14:42:04.095413Z stdout F 2020-11-18 14:42:04,078 | root | INFO | \tConnection: close\n",
            "2020-11-18T14:42:04.095413Z stdout F \tConnection: close\n",
            "2020-11-18T14:42:04.0964087Z stdout F 2020-11-18 14:42:04,078 | root | INFO | \tContent-Length: 1521\n",
            "2020-11-18T14:42:04.0974181Z stdout F \tContent-Length: 1521\n",
            "2020-11-18T14:42:04.0974181Z stdout F 2020-11-18 14:42:04,078 | root | INFO | \tUser-Agent: python-requests/2.24.0\n",
            "2020-11-18T14:42:04.0974181Z stdout F \tUser-Agent: python-requests/2.24.0\n",
            "2020-11-18T14:42:04.0974181Z stdout F 2020-11-18 14:42:04,078 | root | INFO | \tAccept: application/json\n",
            "2020-11-18T14:42:04.0974181Z stdout F \tAccept: application/json\n",
            "2020-11-18T14:42:04.0974181Z stdout F 2020-11-18 14:42:04,078 | root | INFO | \tAccept-Encoding: gzip, deflate\n",
            "2020-11-18T14:42:04.0974181Z stdout F \tAccept-Encoding: gzip, deflate\n",
            "2020-11-18T14:42:04.0974181Z stdout F 2020-11-18 14:42:04,078 | root | INFO | \tContent-Type: application/json\n",
            "2020-11-18T14:42:04.0974181Z stdout F \tContent-Type: application/json\n",
            "2020-11-18T14:42:04.0974181Z stdout F 2020-11-18 14:42:04,079 | root | INFO | \tX-Ms-Request-Id: 7a870827-a8df-4cdb-930b-63b6f6050474\n",
            "2020-11-18T14:42:04.0974181Z stdout F \tX-Ms-Request-Id: 7a870827-a8df-4cdb-930b-63b6f6050474\n",
            "2020-11-18T14:42:04.0974181Z stdout F 2020-11-18 14:42:04,079 | root | INFO | Scoring Timer is set to 60.0 seconds\n",
            "2020-11-18T14:42:04.0974181Z stdout F Scoring Timer is set to 60.0 seconds\n",
            "2020-11-18T14:42:04.2111847Z stdout F 2020-11-18 14:42:04,187 | root | ERROR | Encountered Exception: Traceback (most recent call last):\n",
            "2020-11-18T14:42:04.2111847Z stdout F   File \"/var/azureml-server/app.py\", line 239, in run_scoring\n",
            "2020-11-18T14:42:04.2111847Z stdout F     response = invoke_user_with_timer(service_input, request_headers)\n",
            "2020-11-18T14:42:04.2111847Z stdout F   File \"/var/azureml-server/app.py\", line 309, in invoke_user_with_timer\n",
            "2020-11-18T14:42:04.2111847Z stdout F     result = user_main.run(**params)\n",
            "2020-11-18T14:42:04.2111847Z stdout F   File \"/azureml-envs/azureml_0e3a8a6dba181476a2523c12c58dfc97/lib/python3.6/site-packages/wrapt/wrappers.py\", line 564, in __call__\n",
            "2020-11-18T14:42:04.2111847Z stdout F     args, kwargs)\n",
            "2020-11-18T14:42:04.2111847Z stdout F   File \"/azureml-envs/azureml_0e3a8a6dba181476a2523c12c58dfc97/lib/python3.6/site-packages/inference_schema/schema_decorators.py\", line 57, in decorator_input\n",
            "2020-11-18T14:42:04.2111847Z stdout F     kwargs[param_name] = _deserialize_input_argument(kwargs[param_name], param_type, param_name)\n",
            "2020-11-18T14:42:04.2111847Z stdout F   File \"/azureml-envs/azureml_0e3a8a6dba181476a2523c12c58dfc97/lib/python3.6/site-packages/inference_schema/schema_decorators.py\", line 285, in _deserialize_input_argument\n",
            "2020-11-18T14:42:04.2111847Z stdout F     input_data = param_type.deserialize_input(input_data)\n",
            "2020-11-18T14:42:04.2111847Z stdout F   File \"/azureml-envs/azureml_0e3a8a6dba181476a2523c12c58dfc97/lib/python3.6/site-packages/inference_schema/parameter_types/pandas_parameter_type.py\", line 63, in deserialize_input\n",
            "2020-11-18T14:42:04.2111847Z stdout F     data_frame = data_frame.astype(dtype=converted_types, copy=False)\n",
            "2020-11-18T14:42:04.2111847Z stdout F   File \"/azureml-envs/azureml_0e3a8a6dba181476a2523c12c58dfc97/lib/python3.6/site-packages/pandas/core/generic.py\", line 5865, in astype\n",
            "2020-11-18T14:42:04.2111847Z stdout F     dtype=dtype[col_name], copy=copy, errors=errors, **kwargs\n",
            "2020-11-18T14:42:04.2111847Z stdout F   File \"/azureml-envs/azureml_0e3a8a6dba181476a2523c12c58dfc97/lib/python3.6/site-packages/pandas/core/generic.py\", line 5882, in astype\n",
            "2020-11-18T14:42:04.2111847Z stdout F     dtype=dtype, copy=copy, errors=errors, **kwargs\n",
            "2020-11-18T14:42:04.2111847Z stdout F   File \"/azureml-envs/azureml_0e3a8a6dba181476a2523c12c58dfc97/lib/python3.6/site-packages/pandas/core/internals/managers.py\", line 581, in astype\n",
            "2020-11-18T14:42:04.2111847Z stdout F     return self.apply(\"astype\", dtype=dtype, **kwargs)\n",
            "2020-11-18T14:42:04.2111847Z stdout F   File \"/azureml-envs/azureml_0e3a8a6dba181476a2523c12c58dfc97/lib/python3.6/site-packages/pandas/core/internals/managers.py\", line 438, in apply\n",
            "2020-11-18T14:42:04.2111847Z stdout F     applied = getattr(b, f)(**kwargs)\n",
            "2020-11-18T14:42:04.2111847Z stdout F   File \"/azureml-envs/azureml_0e3a8a6dba181476a2523c12c58dfc97/lib/python3.6/site-packages/pandas/core/internals/blocks.py\", line 559, in astype\n",
            "2020-11-18T14:42:04.2111847Z stdout F     return self._astype(dtype, copy=copy, errors=errors, values=values, **kwargs)\n",
            "2020-11-18T14:42:04.2111847Z stdout F   File \"/azureml-envs/azureml_0e3a8a6dba181476a2523c12c58dfc97/lib/python3.6/site-packages/pandas/core/internals/blocks.py\", line 643, in _astype\n",
            "2020-11-18T14:42:04.2111847Z stdout F     values = astype_nansafe(vals1d, dtype, copy=True, **kwargs)\n",
            "2020-11-18T14:42:04.2111847Z stdout F   File \"/azureml-envs/azureml_0e3a8a6dba181476a2523c12c58dfc97/lib/python3.6/site-packages/pandas/core/dtypes/cast.py\", line 729, in astype_nansafe\n",
            "2020-11-18T14:42:04.2111847Z stdout F     return arr.astype(dtype, copy=True)\n",
            "2020-11-18T14:42:04.2111847Z stdout F ValueError: could not convert string to float: 'memtest.exe'\n",
            "2020-11-18T14:42:04.2111847Z stdout F \n",
            "2020-11-18T14:42:04.2111847Z stdout F During handling of the above exception, another exception occurred:\n",
            "2020-11-18T14:42:04.2111847Z stdout F \n",
            "2020-11-18T14:42:04.2111847Z stdout F Traceback (most recent call last):\n",
            "2020-11-18T14:42:04.2111847Z stdout F   File \"/azureml-envs/azureml_0e3a8a6dba181476a2523c12c58dfc97/lib/python3.6/site-packages/flask/app.py\", line 1832, in full_dispatch_request\n",
            "2020-11-18T14:42:04.2111847Z stdout F     rv = self.dispatch_request()\n",
            "2020-11-18T14:42:04.2111847Z stdout F   File \"/azureml-envs/azureml_0e3a8a6dba181476a2523c12c58dfc97/lib/python3.6/site-packages/flask/app.py\", line 1818, in dispatch_request\n",
            "2020-11-18T14:42:04.2111847Z stdout F     return self.view_functions[rule.endpoint](**req.view_args)\n",
            "2020-11-18T14:42:04.2111847Z stdout F   File \"/var/azureml-server/app.py\", line 142, in score_realtime\n",
            "2020-11-18T14:42:04.2111847Z stdout F     return run_scoring(service_input, request.headers, request.environ.get('REQUEST_ID', '00000000-0000-0000-0000-000000000000'))\n",
            "2020-11-18T14:42:04.2111847Z stdout F   File \"/var/azureml-server/app.py\", line 252, in run_scoring\n",
            "2020-11-18T14:42:04.2111847Z stdout F     raise RunFunctionException(str(exc))\n",
            "2020-11-18T14:42:04.2111847Z stdout F run_function_exception.RunFunctionException\n",
            "2020-11-18T14:42:04.2111847Z stdout F \n",
            "2020-11-18T14:42:04.2861128Z stdout F Encountered Exception: Traceback (most recent call last):\n",
            "2020-11-18T14:42:04.2861128Z stdout F   File \"/var/azureml-server/app.py\", line 239, in run_scoring\n",
            "2020-11-18T14:42:04.2861128Z stdout F     response = invoke_user_with_timer(service_input, request_headers)\n",
            "2020-11-18T14:42:04.2861128Z stdout F   File \"/var/azureml-server/app.py\", line 309, in invoke_user_with_timer\n",
            "2020-11-18T14:42:04.2861128Z stdout F     result = user_main.run(**params)\n",
            "2020-11-18T14:42:04.2861128Z stdout F   File \"/azureml-envs/azureml_0e3a8a6dba181476a2523c12c58dfc97/lib/python3.6/site-packages/wrapt/wrappers.py\", line 564, in __call__\n",
            "2020-11-18T14:42:04.2861128Z stdout F     args, kwargs)\n",
            "2020-11-18T14:42:04.2861128Z stdout F   File \"/azureml-envs/azureml_0e3a8a6dba181476a2523c12c58dfc97/lib/python3.6/site-packages/inference_schema/schema_decorators.py\", line 57, in decorator_input\n",
            "2020-11-18T14:42:04.2861128Z stdout F     kwargs[param_name] = _deserialize_input_argument(kwargs[param_name], param_type, param_name)\n",
            "2020-11-18T14:42:04.2861128Z stdout F   File \"/azureml-envs/azureml_0e3a8a6dba181476a2523c12c58dfc97/lib/python3.6/site-packages/inference_schema/schema_decorators.py\", line 285, in _deserialize_input_argument\n",
            "2020-11-18T14:42:04.2861128Z stdout F     input_data = param_type.deserialize_input(input_data)\n",
            "2020-11-18T14:42:04.2861128Z stdout F   File \"/azureml-envs/azureml_0e3a8a6dba181476a2523c12c58dfc97/lib/python3.6/site-packages/inference_schema/parameter_types/pandas_parameter_type.py\", line 63, in deserialize_input\n",
            "2020-11-18T14:42:04.2861128Z stdout F     data_frame = data_frame.astype(dtype=converted_types, copy=False)\n",
            "2020-11-18T14:42:04.2861128Z stdout F   File \"/azureml-envs/azureml_0e3a8a6dba181476a2523c12c58dfc97/lib/python3.6/site-packages/pandas/core/generic.py\", line 5865, in astype\n",
            "2020-11-18T14:42:04.2861128Z stdout F     dtype=dtype[col_name], copy=copy, errors=errors, **kwargs\n",
            "2020-11-18T14:42:04.2861128Z stdout F   File \"/azureml-envs/azureml_0e3a8a6dba181476a2523c12c58dfc97/lib/python3.6/site-packages/pandas/core/generic.py\", line 5882, in astype\n",
            "2020-11-18T14:42:04.2861128Z stdout F     dtype=dtype, copy=copy, errors=errors, **kwargs\n",
            "2020-11-18T14:42:04.2861128Z stdout F   File \"/azureml-envs/azureml_0e3a8a6dba181476a2523c12c58dfc97/lib/python3.6/site-packages/pandas/core/internals/managers.py\", line 581, in astype\n",
            "2020-11-18T14:42:04.2861128Z stdout F     return self.apply(\"astype\", dtype=dtype, **kwargs)\n",
            "2020-11-18T14:42:04.2861128Z stdout F   File \"/azureml-envs/azureml_0e3a8a6dba181476a2523c12c58dfc97/lib/python3.6/site-packages/pandas/core/internals/managers.py\", line 438, in apply\n",
            "2020-11-18T14:42:04.2861128Z stdout F     applied = getattr(b, f)(**kwargs)\n",
            "2020-11-18T14:42:04.2861128Z stdout F   File \"/azureml-envs/azureml_0e3a8a6dba181476a2523c12c58dfc97/lib/python3.6/site-packages/pandas/core/internals/blocks.py\", line 559, in astype\n",
            "2020-11-18T14:42:04.2861128Z stdout F     return self._astype(dtype, copy=copy, errors=errors, values=values, **kwargs)\n",
            "2020-11-18T14:42:04.2861128Z stdout F   File \"/azureml-envs/azureml_0e3a8a6dba181476a2523c12c58dfc97/lib/python3.6/site-packages/pandas/core/internals/blocks.py\", line 643, in _astype\n",
            "2020-11-18T14:42:04.2861128Z stdout F     values = astype_nansafe(vals1d, dtype, copy=True, **kwargs)\n",
            "2020-11-18T14:42:04.2861128Z stdout F   File \"/azureml-envs/azureml_0e3a8a6dba181476a2523c12c58dfc97/lib/python3.6/site-packages/pandas/core/dtypes/cast.py\", line 729, in astype_nansafe\n",
            "2020-11-18T14:42:04.2861128Z stdout F     return arr.astype(dtype, copy=True)\n",
            "2020-11-18T14:42:04.2861128Z stdout F ValueError: could not convert string to float: 'memtest.exe'\n",
            "2020-11-18T14:42:04.2861128Z stdout F \n",
            "2020-11-18T14:42:04.2861128Z stdout F During handling of the above exception, another exception occurred:\n",
            "2020-11-18T14:42:04.2861128Z stdout F \n",
            "2020-11-18T14:42:04.2861128Z stdout F Traceback (most recent call last):\n",
            "2020-11-18T14:42:04.2861128Z stdout F   File \"/azureml-envs/azureml_0e3a8a6dba181476a2523c12c58dfc97/lib/python3.6/site-packages/flask/app.py\", line 1832, in full_dispatch_request\n",
            "2020-11-18T14:42:04.2861128Z stdout F     rv = self.dispatch_request()\n",
            "2020-11-18T14:42:04.2861128Z stdout F   File \"/azureml-envs/azureml_0e3a8a6dba181476a2523c12c58dfc97/lib/python3.6/site-packages/flask/app.py\", line 1818, in dispatch_request\n",
            "2020-11-18T14:42:04.2861128Z stdout F     return self.view_functions[rule.endpoint](**req.view_args)\n",
            "2020-11-18T14:42:04.2861128Z stdout F   File \"/var/azureml-server/app.py\", line 142, in score_realtime\n",
            "2020-11-18T14:42:04.2861128Z stdout F     return run_scoring(service_input, request.headers, request.environ.get('REQUEST_ID', '00000000-0000-0000-0000-000000000000'))\n",
            "2020-11-18T14:42:04.2861128Z stdout F   File \"/var/azureml-server/app.py\", line 252, in run_scoring\n",
            "2020-11-18T14:42:04.2861128Z stdout F     raise RunFunctionException(str(exc))\n",
            "2020-11-18T14:42:04.2861128Z stdout F run_function_exception.RunFunctionException\n",
            "2020-11-18T14:42:04.2861128Z stdout F \n",
            "2020-11-18T14:42:04.2861128Z stdout F 2020-11-18 14:42:04,276 | root | INFO | 500\n",
            "2020-11-18T14:42:04.2861128Z stdout F 500\n",
            "2020-11-18T14:42:04.302838Z stdout F 127.0.0.1 - - [18/Nov/2020:14:42:04 +0000] \"POST /score HTTP/1.0\" 500 48 \"-\" \"python-requests/2.24.0\"\n",
            "2020-11-18T14:43:04.0832116Z stdout F Exception in worker process\n",
            "2020-11-18T14:43:04.0832116Z stdout F Traceback (most recent call last):\n",
            "2020-11-18T14:43:04.0832116Z stdout F   File \"/azureml-envs/azureml_0e3a8a6dba181476a2523c12c58dfc97/lib/python3.6/site-packages/gunicorn/arbiter.py\", line 583, in spawn_worker\n",
            "2020-11-18T14:43:04.0832116Z stdout F     worker.init_process()\n",
            "2020-11-18T14:43:04.0832116Z stdout F   File \"/azureml-envs/azureml_0e3a8a6dba181476a2523c12c58dfc97/lib/python3.6/site-packages/gunicorn/workers/base.py\", line 134, in init_process\n",
            "2020-11-18T14:43:04.0832116Z stdout F     self.run()\n",
            "2020-11-18T14:43:04.0832116Z stdout F   File \"/azureml-envs/azureml_0e3a8a6dba181476a2523c12c58dfc97/lib/python3.6/site-packages/gunicorn/workers/sync.py\", line 124, in run\n",
            "2020-11-18T14:43:04.0832116Z stdout F     self.run_for_one(timeout)\n",
            "2020-11-18T14:43:04.0832116Z stdout F   File \"/azureml-envs/azureml_0e3a8a6dba181476a2523c12c58dfc97/lib/python3.6/site-packages/gunicorn/workers/sync.py\", line 83, in run_for_one\n",
            "2020-11-18T14:43:04.0832116Z stdout F     self.wait(timeout)\n",
            "2020-11-18T14:43:04.0832116Z stdout F   File \"/azureml-envs/azureml_0e3a8a6dba181476a2523c12c58dfc97/lib/python3.6/site-packages/gunicorn/workers/sync.py\", line 35, in wait\n",
            "2020-11-18T14:43:04.0832116Z stdout F     ret = select.select(self.wait_fds, [], [], timeout)\n",
            "2020-11-18T14:43:04.0832116Z stdout F   File \"/var/azureml-server/app.py\", line 279, in alarm_handler\n",
            "2020-11-18T14:43:04.0832116Z stdout F     raise TimeoutException(error_message)\n",
            "2020-11-18T14:43:04.0832116Z stdout F timeout_exception.TimeoutException\n",
            "2020-11-18T14:43:04.0991699Z stdout F Worker exiting (pid: 97)\n",
            "2020-11-18T14:43:08.6050228Z stdout F worker timeout is set to 300\n",
            "2020-11-18T14:43:08.6716878Z stdout F Booting worker with pid: 215\n",
            "2020-11-18T14:43:18.0126255Z stdout F SPARK_HOME not set. Skipping PySpark Initialization.\n",
            "2020-11-18T14:43:18.0126255Z stdout F Initializing logger\n",
            "2020-11-18T14:43:18.0126255Z stdout F 2020-11-18 14:43:17,987 | root | INFO | Starting up app insights client\n",
            "2020-11-18T14:43:18.0829502Z stdout F Starting up app insights client\n",
            "2020-11-18T14:43:18.0859684Z stdout F 2020-11-18 14:43:18,065 | root | INFO | Starting up request id generator\n",
            "2020-11-18T14:43:18.0859684Z stdout F Starting up request id generator\n",
            "2020-11-18T14:43:18.0889428Z stdout F 2020-11-18 14:43:18,065 | root | INFO | Starting up app insight hooks\n",
            "2020-11-18T14:43:18.0889428Z stdout F Starting up app insight hooks\n",
            "2020-11-18T14:43:18.0889428Z stdout F 2020-11-18 14:43:18,065 | root | INFO | Invoking user's init function\n",
            "2020-11-18T14:43:18.0889428Z stdout F Invoking user's init function\n",
            "2020-11-18T14:43:29.2093775Z stdout F 2020-11-18 14:43:29,191 | root | INFO | Users's init has completed successfully\n",
            "2020-11-18T14:43:29.2093775Z stdout F Users's init has completed successfully\n",
            "2020-11-18T14:43:29.2093775Z stderr F /azureml-envs/azureml_0e3a8a6dba181476a2523c12c58dfc97/lib/python3.6/site-packages/sklearn/externals/joblib/__init__.py:15: FutureWarning: sklearn.externals.joblib is deprecated in 0.21 and will be removed in 0.23. Please import this functionality directly from joblib, which can be installed with: pip install joblib. If this warning is raised when loading pickled models, you may need to re-serialize those models with scikit-learn 0.21+.\n",
            "2020-11-18T14:43:29.2093775Z stderr F   warnings.warn(msg, category=FutureWarning)\n",
            "2020-11-18T14:43:29.2113804Z stdout F 2020-11-18 14:43:29,193 | root | INFO | Skipping middleware: dbg_model_info as it's not enabled.\n",
            "2020-11-18T14:43:29.2830441Z stdout F Skipping middleware: dbg_model_info as it's not enabled.\n",
            "2020-11-18T14:43:29.2880659Z stdout F 2020-11-18 14:43:29,265 | root | INFO | Skipping middleware: dbg_resource_usage as it's not enabled.\n",
            "2020-11-18T14:43:29.2880659Z stdout F Skipping middleware: dbg_resource_usage as it's not enabled.\n",
            "2020-11-18T14:43:29.2890371Z stdout F 2020-11-18 14:43:29,267 | root | INFO | Scoring timeout is found from os.environ: 60000 ms\n",
            "2020-11-18T14:43:29.2890371Z stdout F Scoring timeout is found from os.environ: 60000 ms\n",
            "2020-11-18T14:46:59.9241248Z stdout F 2020-11-18 14:46:59,894 | root | INFO | Validation Request Content-Type\n",
            "2020-11-18T14:46:59.9241248Z stdout F Validation Request Content-Type\n",
            "2020-11-18T14:46:59.9241248Z stdout F 2020-11-18 14:46:59,895 | root | INFO | \tHost: localhost:5001\n",
            "2020-11-18T14:46:59.9241248Z stdout F \tHost: localhost:5001\n",
            "2020-11-18T14:46:59.9241248Z stdout F 2020-11-18 14:46:59,895 | root | INFO | \tX-Real-Ip: 127.0.0.1\n",
            "2020-11-18T14:46:59.9241248Z stdout F \tX-Real-Ip: 127.0.0.1\n",
            "2020-11-18T14:46:59.9241248Z stdout F 2020-11-18 14:46:59,895 | root | INFO | \tX-Forwarded-For: 127.0.0.1\n",
            "2020-11-18T14:46:59.9241248Z stdout F \tX-Forwarded-For: 127.0.0.1\n",
            "2020-11-18T14:46:59.9241248Z stdout F 2020-11-18 14:46:59,895 | root | INFO | \tX-Forwarded-Proto: http\n",
            "2020-11-18T14:46:59.9241248Z stdout F \tX-Forwarded-Proto: http\n",
            "2020-11-18T14:46:59.9241248Z stdout F 2020-11-18 14:46:59,895 | root | INFO | \tConnection: close\n",
            "2020-11-18T14:46:59.9241248Z stdout F \tConnection: close\n",
            "2020-11-18T14:46:59.9241248Z stdout F 2020-11-18 14:46:59,895 | root | INFO | \tContent-Length: 4578\n",
            "2020-11-18T14:46:59.9241248Z stdout F \tContent-Length: 4578\n",
            "2020-11-18T14:46:59.9241248Z stdout F 2020-11-18 14:46:59,895 | root | INFO | \tUser-Agent: python-requests/2.24.0\n",
            "2020-11-18T14:46:59.9241248Z stdout F \tUser-Agent: python-requests/2.24.0\n",
            "2020-11-18T14:46:59.9241248Z stdout F 2020-11-18 14:46:59,895 | root | INFO | \tAccept: application/json\n",
            "2020-11-18T14:46:59.9241248Z stdout F \tAccept: application/json\n",
            "2020-11-18T14:46:59.9241248Z stdout F 2020-11-18 14:46:59,895 | root | INFO | \tAccept-Encoding: gzip, deflate\n",
            "2020-11-18T14:46:59.9241248Z stdout F \tAccept-Encoding: gzip, deflate\n",
            "2020-11-18T14:46:59.9241248Z stdout F 2020-11-18 14:46:59,895 | root | INFO | \tContent-Type: application/json\n",
            "2020-11-18T14:46:59.9241248Z stdout F \tContent-Type: application/json\n",
            "2020-11-18T14:46:59.9241248Z stdout F 2020-11-18 14:46:59,895 | root | INFO | \tX-Ms-Request-Id: ddbca3c2-b53b-45b1-8acc-dea3ad9d282f\n",
            "2020-11-18T14:46:59.9241248Z stdout F \tX-Ms-Request-Id: ddbca3c2-b53b-45b1-8acc-dea3ad9d282f\n",
            "2020-11-18T14:46:59.9241248Z stdout F 2020-11-18 14:46:59,895 | root | INFO | Scoring Timer is set to 60.0 seconds\n",
            "2020-11-18T14:46:59.9241248Z stdout F Scoring Timer is set to 60.0 seconds\n",
            "2020-11-18T14:47:00.0951153Z stdout F 2020-11-18 14:47:00,074 | root | ERROR | Encountered Exception: Traceback (most recent call last):\n",
            "2020-11-18T14:47:00.0951153Z stdout F   File \"/var/azureml-server/app.py\", line 239, in run_scoring\n",
            "2020-11-18T14:47:00.0951153Z stdout F     response = invoke_user_with_timer(service_input, request_headers)\n",
            "2020-11-18T14:47:00.0951153Z stdout F   File \"/var/azureml-server/app.py\", line 309, in invoke_user_with_timer\n",
            "2020-11-18T14:47:00.0951153Z stdout F     result = user_main.run(**params)\n",
            "2020-11-18T14:47:00.0951153Z stdout F   File \"/azureml-envs/azureml_0e3a8a6dba181476a2523c12c58dfc97/lib/python3.6/site-packages/wrapt/wrappers.py\", line 564, in __call__\n",
            "2020-11-18T14:47:00.0951153Z stdout F     args, kwargs)\n",
            "2020-11-18T14:47:00.0951153Z stdout F   File \"/azureml-envs/azureml_0e3a8a6dba181476a2523c12c58dfc97/lib/python3.6/site-packages/inference_schema/schema_decorators.py\", line 57, in decorator_input\n",
            "2020-11-18T14:47:00.0951153Z stdout F     kwargs[param_name] = _deserialize_input_argument(kwargs[param_name], param_type, param_name)\n",
            "2020-11-18T14:47:00.0951153Z stdout F   File \"/azureml-envs/azureml_0e3a8a6dba181476a2523c12c58dfc97/lib/python3.6/site-packages/inference_schema/schema_decorators.py\", line 285, in _deserialize_input_argument\n",
            "2020-11-18T14:47:00.0951153Z stdout F     input_data = param_type.deserialize_input(input_data)\n",
            "2020-11-18T14:47:00.0951153Z stdout F   File \"/azureml-envs/azureml_0e3a8a6dba181476a2523c12c58dfc97/lib/python3.6/site-packages/inference_schema/parameter_types/pandas_parameter_type.py\", line 79, in deserialize_input\n",
            "2020-11-18T14:47:00.0951153Z stdout F     data_frame.shape[dim], dim, expected_shape[dim]))\n",
            "2020-11-18T14:47:00.0951153Z stdout F ValueError: Invalid input data frame: data frame has size 57 on dimension #1, while expected value is 56\n",
            "2020-11-18T14:47:00.0951153Z stdout F \n",
            "2020-11-18T14:47:00.0951153Z stdout F During handling of the above exception, another exception occurred:\n",
            "2020-11-18T14:47:00.0951153Z stdout F \n",
            "2020-11-18T14:47:00.0951153Z stdout F Traceback (most recent call last):\n",
            "2020-11-18T14:47:00.0951153Z stdout F   File \"/azureml-envs/azureml_0e3a8a6dba181476a2523c12c58dfc97/lib/python3.6/site-packages/flask/app.py\", line 1832, in full_dispatch_request\n",
            "2020-11-18T14:47:00.0951153Z stdout F     rv = self.dispatch_request()\n",
            "2020-11-18T14:47:00.0951153Z stdout F   File \"/azureml-envs/azureml_0e3a8a6dba181476a2523c12c58dfc97/lib/python3.6/site-packages/flask/app.py\", line 1818, in dispatch_request\n",
            "2020-11-18T14:47:00.0951153Z stdout F     return self.view_functions[rule.endpoint](**req.view_args)\n",
            "2020-11-18T14:47:00.0951153Z stdout F   File \"/var/azureml-server/app.py\", line 142, in score_realtime\n",
            "2020-11-18T14:47:00.0951153Z stdout F     return run_scoring(service_input, request.headers, request.environ.get('REQUEST_ID', '00000000-0000-0000-0000-000000000000'))\n",
            "2020-11-18T14:47:00.0951153Z stdout F   File \"/var/azureml-server/app.py\", line 252, in run_scoring\n",
            "2020-11-18T14:47:00.0951153Z stdout F     raise RunFunctionException(str(exc))\n",
            "2020-11-18T14:47:00.0951153Z stdout F run_function_exception.RunFunctionException\n",
            "2020-11-18T14:47:00.0951153Z stdout F \n",
            "2020-11-18T14:47:00.1181163Z stdout F Encountered Exception: Traceback (most recent call last):\n",
            "2020-11-18T14:47:00.1181163Z stdout F   File \"/var/azureml-server/app.py\", line 239, in run_scoring\n",
            "2020-11-18T14:47:00.1181163Z stdout F     response = invoke_user_with_timer(service_input, request_headers)\n",
            "2020-11-18T14:47:00.1181163Z stdout F   File \"/var/azureml-server/app.py\", line 309, in invoke_user_with_timer\n",
            "2020-11-18T14:47:00.1181163Z stdout F     result = user_main.run(**params)\n",
            "2020-11-18T14:47:00.1181163Z stdout F   File \"/azureml-envs/azureml_0e3a8a6dba181476a2523c12c58dfc97/lib/python3.6/site-packages/wrapt/wrappers.py\", line 564, in __call__\n",
            "2020-11-18T14:47:00.1181163Z stdout F     args, kwargs)\n",
            "2020-11-18T14:47:00.1181163Z stdout F   File \"/azureml-envs/azureml_0e3a8a6dba181476a2523c12c58dfc97/lib/python3.6/site-packages/inference_schema/schema_decorators.py\", line 57, in decorator_input\n",
            "2020-11-18T14:47:00.1181163Z stdout F     kwargs[param_name] = _deserialize_input_argument(kwargs[param_name], param_type, param_name)\n",
            "2020-11-18T14:47:00.1181163Z stdout F   File \"/azureml-envs/azureml_0e3a8a6dba181476a2523c12c58dfc97/lib/python3.6/site-packages/inference_schema/schema_decorators.py\", line 285, in _deserialize_input_argument\n",
            "2020-11-18T14:47:00.1181163Z stdout F     input_data = param_type.deserialize_input(input_data)\n",
            "2020-11-18T14:47:00.1181163Z stdout F   File \"/azureml-envs/azureml_0e3a8a6dba181476a2523c12c58dfc97/lib/python3.6/site-packages/inference_schema/parameter_types/pandas_parameter_type.py\", line 79, in deserialize_input\n",
            "2020-11-18T14:47:00.1181163Z stdout F     data_frame.shape[dim], dim, expected_shape[dim]))\n",
            "2020-11-18T14:47:00.1181163Z stdout F ValueError: Invalid input data frame: data frame has size 57 on dimension #1, while expected value is 56\n",
            "2020-11-18T14:47:00.1181163Z stdout F \n",
            "2020-11-18T14:47:00.1181163Z stdout F During handling of the above exception, another exception occurred:\n",
            "2020-11-18T14:47:00.1181163Z stdout F \n",
            "2020-11-18T14:47:00.1181163Z stdout F Traceback (most recent call last):\n",
            "2020-11-18T14:47:00.1181163Z stdout F   File \"/azureml-envs/azureml_0e3a8a6dba181476a2523c12c58dfc97/lib/python3.6/site-packages/flask/app.py\", line 1832, in full_dispatch_request\n",
            "2020-11-18T14:47:00.1181163Z stdout F     rv = self.dispatch_request()\n",
            "2020-11-18T14:47:00.1181163Z stdout F   File \"/azureml-envs/azureml_0e3a8a6dba181476a2523c12c58dfc97/lib/python3.6/site-packages/flask/app.py\", line 1818, in dispatch_request\n",
            "2020-11-18T14:47:00.1181163Z stdout F     return self.view_functions[rule.endpoint](**req.view_args)\n",
            "2020-11-18T14:47:00.1181163Z stdout F   File \"/var/azureml-server/app.py\", line 142, in score_realtime\n",
            "2020-11-18T14:47:00.1181163Z stdout F     return run_scoring(service_input, request.headers, request.environ.get('REQUEST_ID', '00000000-0000-0000-0000-000000000000'))\n",
            "2020-11-18T14:47:00.1181163Z stdout F   File \"/var/azureml-server/app.py\", line 252, in run_scoring\n",
            "2020-11-18T14:47:00.1181163Z stdout F     raise RunFunctionException(str(exc))\n",
            "2020-11-18T14:47:00.1181163Z stdout F run_function_exception.RunFunctionException\n",
            "2020-11-18T14:47:00.1181163Z stdout F \n",
            "2020-11-18T14:47:00.1181163Z stdout F 2020-11-18 14:47:00,094 | root | INFO | 500\n",
            "2020-11-18T14:47:00.1181163Z stdout F 500\n",
            "2020-11-18T14:47:00.1951207Z stdout F 127.0.0.1 - - [18/Nov/2020:14:47:00 +0000] \"POST /score HTTP/1.0\" 500 92 \"-\" \"python-requests/2.24.0\"\n",
            "2020-11-18T14:47:59.9275544Z stdout F Exception in worker process\n",
            "2020-11-18T14:47:59.9275544Z stdout F Traceback (most recent call last):\n",
            "2020-11-18T14:47:59.9275544Z stdout F   File \"/azureml-envs/azureml_0e3a8a6dba181476a2523c12c58dfc97/lib/python3.6/site-packages/gunicorn/arbiter.py\", line 583, in spawn_worker\n",
            "2020-11-18T14:47:59.9275544Z stdout F     worker.init_process()\n",
            "2020-11-18T14:47:59.9275544Z stdout F   File \"/azureml-envs/azureml_0e3a8a6dba181476a2523c12c58dfc97/lib/python3.6/site-packages/gunicorn/workers/base.py\", line 134, in init_process\n",
            "2020-11-18T14:47:59.9275544Z stdout F     self.run()\n",
            "2020-11-18T14:47:59.9275544Z stdout F   File \"/azureml-envs/azureml_0e3a8a6dba181476a2523c12c58dfc97/lib/python3.6/site-packages/gunicorn/workers/sync.py\", line 124, in run\n",
            "2020-11-18T14:47:59.9275544Z stdout F     self.run_for_one(timeout)\n",
            "2020-11-18T14:47:59.9275544Z stdout F   File \"/azureml-envs/azureml_0e3a8a6dba181476a2523c12c58dfc97/lib/python3.6/site-packages/gunicorn/workers/sync.py\", line 83, in run_for_one\n",
            "2020-11-18T14:47:59.9275544Z stdout F     self.wait(timeout)\n",
            "2020-11-18T14:47:59.9275544Z stdout F   File \"/azureml-envs/azureml_0e3a8a6dba181476a2523c12c58dfc97/lib/python3.6/site-packages/gunicorn/workers/sync.py\", line 35, in wait\n",
            "2020-11-18T14:47:59.9275544Z stdout F     ret = select.select(self.wait_fds, [], [], timeout)\n",
            "2020-11-18T14:47:59.9275544Z stdout F   File \"/var/azureml-server/app.py\", line 279, in alarm_handler\n",
            "2020-11-18T14:47:59.9275544Z stdout F     raise TimeoutException(error_message)\n",
            "2020-11-18T14:47:59.9275544Z stdout F timeout_exception.TimeoutException\n",
            "2020-11-18T14:47:59.9285942Z stdout F Worker exiting (pid: 215)\n",
            "2020-11-18T14:48:04.5964988Z stdout F worker timeout is set to 300\n",
            "2020-11-18T14:48:04.5985074Z stdout F Booting worker with pid: 267\n",
            "2020-11-18T14:48:13.7074653Z stdout F SPARK_HOME not set. Skipping PySpark Initialization.\n",
            "2020-11-18T14:48:13.7074653Z stdout F Initializing logger\n",
            "2020-11-18T14:48:13.7074653Z stdout F 2020-11-18 14:48:13,686 | root | INFO | Starting up app insights client\n",
            "2020-11-18T14:48:13.708474Z stdout F Starting up app insights client\n",
            "2020-11-18T14:48:13.708474Z stdout F 2020-11-18 14:48:13,687 | root | INFO | Starting up request id generator\n",
            "2020-11-18T14:48:13.708474Z stdout F Starting up request id generator\n",
            "2020-11-18T14:48:13.708474Z stdout F 2020-11-18 14:48:13,687 | root | INFO | Starting up app insight hooks\n",
            "2020-11-18T14:48:13.708474Z stdout F Starting up app insight hooks\n",
            "2020-11-18T14:48:13.708474Z stdout F 2020-11-18 14:48:13,687 | root | INFO | Invoking user's init function\n",
            "2020-11-18T14:48:13.708474Z stdout F Invoking user's init function\n",
            "2020-11-18T14:48:24.6983217Z stdout F 2020-11-18 14:48:24,676 | root | INFO | Users's init has completed successfully\n",
            "2020-11-18T14:48:24.6983217Z stdout F Users's init has completed successfully\n",
            "2020-11-18T14:48:24.6983217Z stderr F /azureml-envs/azureml_0e3a8a6dba181476a2523c12c58dfc97/lib/python3.6/site-packages/sklearn/externals/joblib/__init__.py:15: FutureWarning: sklearn.externals.joblib is deprecated in 0.21 and will be removed in 0.23. Please import this functionality directly from joblib, which can be installed with: pip install joblib. If this warning is raised when loading pickled models, you may need to re-serialize those models with scikit-learn 0.21+.\n",
            "2020-11-18T14:48:24.6983217Z stderr F   warnings.warn(msg, category=FutureWarning)\n",
            "2020-11-18T14:48:24.7065255Z stdout F 2020-11-18 14:48:24,685 | root | INFO | Skipping middleware: dbg_model_info as it's not enabled.\n",
            "2020-11-18T14:48:24.7065255Z stdout F Skipping middleware: dbg_model_info as it's not enabled.\n",
            "2020-11-18T14:48:24.7065255Z stdout F 2020-11-18 14:48:24,685 | root | INFO | Skipping middleware: dbg_resource_usage as it's not enabled.\n",
            "2020-11-18T14:48:24.7065255Z stdout F Skipping middleware: dbg_resource_usage as it's not enabled.\n",
            "2020-11-18T14:48:24.7115242Z stdout F 2020-11-18 14:48:24,687 | root | INFO | Scoring timeout is found from os.environ: 60000 ms\n",
            "2020-11-18T14:48:24.7115242Z stdout F Scoring timeout is found from os.environ: 60000 ms\n",
            "2020-11-18T14:48:36.7276678Z stdout F 2020-11-18 14:48:36,706 | root | INFO | Validation Request Content-Type\n",
            "2020-11-18T14:48:36.7276678Z stdout F Validation Request Content-Type\n",
            "2020-11-18T14:48:36.7349788Z stdout F 2020-11-18 14:48:36,706 | root | INFO | \tHost: localhost:5001\n",
            "2020-11-18T14:48:36.7349788Z stdout F \tHost: localhost:5001\n",
            "2020-11-18T14:48:36.7356571Z stdout F 2020-11-18 14:48:36,714 | root | INFO | \tX-Real-Ip: 127.0.0.1\n",
            "2020-11-18T14:48:36.7366697Z stdout F \tX-Real-Ip: 127.0.0.1\n",
            "2020-11-18T14:48:36.7366697Z stdout F 2020-11-18 14:48:36,714 | root | INFO | \tX-Forwarded-For: 127.0.0.1\n",
            "2020-11-18T14:48:36.7366697Z stdout F \tX-Forwarded-For: 127.0.0.1\n",
            "2020-11-18T14:48:36.7366697Z stdout F 2020-11-18 14:48:36,714 | root | INFO | \tX-Forwarded-Proto: http\n",
            "2020-11-18T14:48:36.7366697Z stdout F \tX-Forwarded-Proto: http\n",
            "2020-11-18T14:48:36.7366697Z stdout F 2020-11-18 14:48:36,714 | root | INFO | \tConnection: close\n",
            "2020-11-18T14:48:36.7366697Z stdout F \tConnection: close\n",
            "2020-11-18T14:48:36.7366697Z stdout F 2020-11-18 14:48:36,714 | root | INFO | \tContent-Length: 4494\n",
            "2020-11-18T14:48:36.7366697Z stdout F \tContent-Length: 4494\n",
            "2020-11-18T14:48:36.7366697Z stdout F 2020-11-18 14:48:36,715 | root | INFO | \tUser-Agent: python-requests/2.24.0\n",
            "2020-11-18T14:48:36.7366697Z stdout F \tUser-Agent: python-requests/2.24.0\n",
            "2020-11-18T14:48:36.7366697Z stdout F 2020-11-18 14:48:36,715 | root | INFO | \tAccept: application/json\n",
            "2020-11-18T14:48:36.7366697Z stdout F \tAccept: application/json\n",
            "2020-11-18T14:48:36.7366697Z stdout F 2020-11-18 14:48:36,715 | root | INFO | \tAccept-Encoding: gzip, deflate\n",
            "2020-11-18T14:48:36.7366697Z stdout F \tAccept-Encoding: gzip, deflate\n",
            "2020-11-18T14:48:36.7453657Z stdout F 2020-11-18 14:48:36,716 | root | INFO | \tContent-Type: application/json\n",
            "2020-11-18T14:48:36.7454352Z stdout F \tContent-Type: application/json\n",
            "2020-11-18T14:48:36.7455016Z stdout F 2020-11-18 14:48:36,716 | root | INFO | \tX-Ms-Request-Id: 41d4e647-1ad9-4366-8cbb-c01477dcd405\n",
            "2020-11-18T14:48:36.7455016Z stdout F \tX-Ms-Request-Id: 41d4e647-1ad9-4366-8cbb-c01477dcd405\n",
            "2020-11-18T14:48:36.7455016Z stdout F 2020-11-18 14:48:36,716 | root | INFO | Scoring Timer is set to 60.0 seconds\n",
            "2020-11-18T14:48:36.7455016Z stdout F Scoring Timer is set to 60.0 seconds\n",
            "2020-11-18T14:48:39.2203242Z stdout F 2020-11-18 14:48:39,195 | root | INFO | 200\n",
            "2020-11-18T14:48:39.2859741Z stdout F 200\n",
            "2020-11-18T14:48:39.2889617Z stdout F 127.0.0.1 - - [18/Nov/2020:14:48:39 +0000] \"POST /score HTTP/1.0\" 200 25 \"-\" \"python-requests/2.24.0\"\n",
            "2020-11-18T14:48:46.4864122Z stdout F 2020-11-18 14:48:46,465 | root | INFO | Validation Request Content-Type\n",
            "2020-11-18T14:48:46.4949619Z stdout F Validation Request Content-Type\n",
            "2020-11-18T14:48:46.4949619Z stdout F 2020-11-18 14:48:46,467 | root | INFO | \tHost: localhost:5001\n",
            "2020-11-18T14:48:46.4949619Z stdout F \tHost: localhost:5001\n",
            "2020-11-18T14:48:46.4949619Z stdout F 2020-11-18 14:48:46,467 | root | INFO | \tX-Real-Ip: 127.0.0.1\n",
            "2020-11-18T14:48:46.4949619Z stdout F \tX-Real-Ip: 127.0.0.1\n",
            "2020-11-18T14:48:46.4949619Z stdout F 2020-11-18 14:48:46,467 | root | INFO | \tX-Forwarded-For: 127.0.0.1\n",
            "2020-11-18T14:48:46.4949619Z stdout F \tX-Forwarded-For: 127.0.0.1\n",
            "2020-11-18T14:48:46.4949619Z stdout F 2020-11-18 14:48:46,467 | root | INFO | \tX-Forwarded-Proto: http\n",
            "2020-11-18T14:48:46.4949619Z stdout F \tX-Forwarded-Proto: http\n",
            "2020-11-18T14:48:46.5058766Z stdout F 2020-11-18 14:48:46,467 | root | INFO | \tConnection: close\n",
            "2020-11-18T14:48:46.5058766Z stdout F \tConnection: close\n",
            "2020-11-18T14:48:46.5058766Z stdout F 2020-11-18 14:48:46,474 | root | INFO | \tContent-Length: 4494\n",
            "2020-11-18T14:48:46.5058766Z stdout F \tContent-Length: 4494\n",
            "2020-11-18T14:48:46.5058766Z stdout F 2020-11-18 14:48:46,474 | root | INFO | \tUser-Agent: python-requests/2.24.0\n",
            "2020-11-18T14:48:46.5058766Z stdout F \tUser-Agent: python-requests/2.24.0\n",
            "2020-11-18T14:48:46.5058766Z stdout F 2020-11-18 14:48:46,474 | root | INFO | \tAccept: application/json\n",
            "2020-11-18T14:48:46.5058766Z stdout F \tAccept: application/json\n",
            "2020-11-18T14:48:46.5058766Z stdout F 2020-11-18 14:48:46,475 | root | INFO | \tAccept-Encoding: gzip, deflate\n",
            "2020-11-18T14:48:46.5058766Z stdout F \tAccept-Encoding: gzip, deflate\n",
            "2020-11-18T14:48:46.5058766Z stdout F 2020-11-18 14:48:46,475 | root | INFO | \tContent-Type: application/json\n",
            "2020-11-18T14:48:46.5058766Z stdout F \tContent-Type: application/json\n",
            "2020-11-18T14:48:46.5058766Z stdout F 2020-11-18 14:48:46,475 | root | INFO | \tX-Ms-Request-Id: 90235a28-becc-4b3a-82f7-2cb9293deea6\n",
            "2020-11-18T14:48:46.5058766Z stdout F \tX-Ms-Request-Id: 90235a28-becc-4b3a-82f7-2cb9293deea6\n",
            "2020-11-18T14:48:46.5058766Z stdout F 2020-11-18 14:48:46,475 | root | INFO | Scoring Timer is set to 60.0 seconds\n",
            "2020-11-18T14:48:46.5058766Z stdout F Scoring Timer is set to 60.0 seconds\n",
            "2020-11-18T14:48:48.9965999Z stdout F 2020-11-18 14:48:48,974 | root | INFO | 200\n",
            "2020-11-18T14:48:48.9983141Z stdout F 200\n",
            "2020-11-18T14:48:49.0083174Z stdout F 127.0.0.1 - - [18/Nov/2020:14:48:48 +0000] \"POST /score HTTP/1.0\" 200 25 \"-\" \"python-requests/2.24.0\"\n",
            "2020-11-18T16:09:13.5787177Z stdout F 2020-11-18 16:09:13,494 | root | INFO | Validation Request Content-Type\n",
            "2020-11-18T16:09:13.5787177Z stdout F Validation Request Content-Type\n",
            "2020-11-18T16:09:13.5787177Z stdout F 2020-11-18 16:09:13,495 | root | INFO | \tHost: localhost:5001\n",
            "2020-11-18T16:09:13.5787177Z stdout F \tHost: localhost:5001\n",
            "2020-11-18T16:09:13.5787177Z stdout F 2020-11-18 16:09:13,495 | root | INFO | \tX-Real-Ip: 127.0.0.1\n",
            "2020-11-18T16:09:13.5787177Z stdout F \tX-Real-Ip: 127.0.0.1\n",
            "2020-11-18T16:09:13.5787177Z stdout F 2020-11-18 16:09:13,496 | root | INFO | \tX-Forwarded-For: 127.0.0.1\n",
            "2020-11-18T16:09:13.5787177Z stdout F \tX-Forwarded-For: 127.0.0.1\n",
            "2020-11-18T16:09:13.5787177Z stdout F 2020-11-18 16:09:13,496 | root | INFO | \tX-Forwarded-Proto: http\n",
            "2020-11-18T16:09:13.5787177Z stdout F \tX-Forwarded-Proto: http\n",
            "2020-11-18T16:09:13.5787177Z stdout F 2020-11-18 16:09:13,496 | root | INFO | \tConnection: close\n",
            "2020-11-18T16:09:13.5787177Z stdout F \tConnection: close\n",
            "2020-11-18T16:09:13.5787177Z stdout F 2020-11-18 16:09:13,496 | root | INFO | \tContent-Length: 4478\n",
            "2020-11-18T16:09:13.5787177Z stdout F \tContent-Length: 4478\n",
            "2020-11-18T16:09:13.5787177Z stdout F 2020-11-18 16:09:13,496 | root | INFO | \tUser-Agent: python-requests/2.24.0\n",
            "2020-11-18T16:09:13.5787177Z stdout F \tUser-Agent: python-requests/2.24.0\n",
            "2020-11-18T16:09:13.5787177Z stdout F 2020-11-18 16:09:13,496 | root | INFO | \tAccept: application/json\n",
            "2020-11-18T16:09:13.5787177Z stdout F \tAccept: application/json\n",
            "2020-11-18T16:09:13.5787177Z stdout F 2020-11-18 16:09:13,496 | root | INFO | \tAccept-Encoding: gzip, deflate\n",
            "2020-11-18T16:09:13.5787177Z stdout F \tAccept-Encoding: gzip, deflate\n",
            "2020-11-18T16:09:13.5787177Z stdout F 2020-11-18 16:09:13,496 | root | INFO | \tContent-Type: application/json\n",
            "2020-11-18T16:09:13.5787177Z stdout F \tContent-Type: application/json\n",
            "2020-11-18T16:09:13.5787177Z stdout F 2020-11-18 16:09:13,496 | root | INFO | \tX-Ms-Request-Id: 36fa2189-5751-4702-99f4-15d4e130ea7b\n",
            "2020-11-18T16:09:13.5787177Z stdout F \tX-Ms-Request-Id: 36fa2189-5751-4702-99f4-15d4e130ea7b\n",
            "2020-11-18T16:09:13.587382Z stdout F 2020-11-18 16:09:13,503 | root | INFO | Scoring Timer is set to 60.0 seconds\n",
            "2020-11-18T16:09:13.587382Z stdout F Scoring Timer is set to 60.0 seconds\n",
            "2020-11-18T16:09:15.7687952Z stdout F 2020-11-18 16:09:15,686 | root | INFO | 200\n",
            "2020-11-18T16:09:15.7687952Z stdout F 200\n",
            "2020-11-18T16:09:15.7816021Z stdout F 127.0.0.1 - - [18/Nov/2020:16:09:15 +0000] \"POST /score HTTP/1.0\" 200 25 \"-\" \"python-requests/2.24.0\"\n",
            "\n"
          ]
        }
      ],
      "execution_count": 33,
      "metadata": {
        "collapsed": false,
        "jupyter": {
          "outputs_hidden": false,
          "source_hidden": false
        },
        "nteract": {
          "transient": {
            "deleting": false
          }
        },
        "gather": {
          "logged": 1605715772598
        }
      }
    },
    {
      "cell_type": "markdown",
      "source": [
        "Run the cell below to delete the web service and the compute cluster to clean up the lab when finished"
      ],
      "metadata": {
        "nteract": {
          "transient": {
            "deleting": false
          }
        }
      }
    },
    {
      "cell_type": "code",
      "source": [
        "rest_service.delete()\r\n",
        "cpu_cluster.delete()"
      ],
      "outputs": [],
      "execution_count": 34,
      "metadata": {
        "collapsed": true,
        "jupyter": {
          "source_hidden": false,
          "outputs_hidden": false
        },
        "nteract": {
          "transient": {
            "deleting": false
          }
        },
        "gather": {
          "logged": 1605715781322
        }
      }
    }
  ],
  "metadata": {
    "kernel_info": {
      "name": "python3"
    },
    "kernelspec": {
      "name": "python3",
      "language": "python",
      "display_name": "Python 3"
    },
    "language_info": {
      "name": "python",
      "version": "3.6.9",
      "mimetype": "text/x-python",
      "codemirror_mode": {
        "name": "ipython",
        "version": 3
      },
      "pygments_lexer": "ipython3",
      "nbconvert_exporter": "python",
      "file_extension": ".py"
    },
    "nteract": {
      "version": "nteract-front-end@1.0.0"
    }
  },
  "nbformat": 4,
  "nbformat_minor": 4
}
